{
 "cells": [
  {
   "cell_type": "markdown",
   "metadata": {},
   "source": [
    "# Определение перспективного тарифа для телеком-компании\n",
    "\n",
    "В нашем распоряжении данные 500 пользователей «Мегалайна»: кто они, откуда, каким тарифом пользуются, сколько звонков и сообщений каждый отправил за 2018 год. \n",
    "Нужно проанализировать поведение клиентов и сделать вывод — какой тариф лучше. Требуется понять , какой тариф приносит больше денег.\n",
    "\n",
    "\n",
    "**Описание тарифов**\n",
    "*Тариф «Смарт»*\n",
    "- Ежемесячная плата: 550 рублей\n",
    "- Включено 500 минут разговора, 50 сообщений и 15 Гб интернет-трафика\n",
    "- Стоимость услуг сверх тарифного пакета:\n",
    "   - минута разговора: 3 рубля\n",
    "   - сообщение: 3 рубля\n",
    "   - 1 Гб интернет-трафика: 200 рублей\n",
    "*Тариф «Ультра»*\n",
    "- Ежемесячная плата: 1950 рублей\n",
    "- Включено 3000 минут разговора, 1000 сообщений и 30 Гб интернет-трафика\n",
    "- Стоимость услуг сверх тарифного пакета:\n",
    "   - минута разговора: 1 рубль\n",
    "   - сообщение: 1 рубль\n",
    "   - 1 Гб интернет-трафика: 150 рублей\n",
    "\n",
    "\n",
    "**Примечание:**\n",
    "*«Мегалайн» всегда округляет секунды до минут, а мегабайты — до гигабайт. Каждый звонок округляется отдельно: даже если он длился всего 1 секунду, будет засчитан как 1 минута.\n",
    "Для веб-трафика отдельные сессии не считаются. Вместо этого общая сумма за месяц округляется в бо́льшую сторону. Если абонент использует 1025 мегабайт в этом месяце, с него возьмут плату за 2 гигабайта.*\n",
    "\n",
    "\n",
    "**Ход исследования**\n",
    "\n",
    "Путь к файлам:\n",
    "- /datasets/calls.csv\n",
    "- /datasets/internet.csv \n",
    "- /datasets/messages.csv \n",
    "- /datasets/tariffs.csv\n",
    "- /datasets/users.csv \n",
    "О качестве данных ничего не известно. Поэтому перед проверкой гипотез проведем обзор данных. \n",
    "\n",
    "Проверим данные на ошибки и оценим их влияние на исследование. На этапе предобработки исправим самые критичные ошибки данных.\n",
    " \n",
    "Таким образом, исследование содержит три этапа:\n",
    " 1. Обзор данных.\n",
    " 2. Предобработка данных.\n",
    " 3. Проверка гипотез."
   ]
  },
  {
   "cell_type": "markdown",
   "metadata": {},
   "source": [
    "## Обзор и подготовка данных из файла"
   ]
  },
  {
   "cell_type": "code",
   "execution_count": 1,
   "metadata": {},
   "outputs": [],
   "source": [
    "from IPython.display import display\n",
    "import pandas as pd\n",
    "pd.set_option('display.max_columns', None) \n",
    "import datetime\n",
    "import matplotlib.pyplot as plt\n",
    "from scipy import stats as st\n",
    "import numpy as np"
   ]
  },
  {
   "cell_type": "markdown",
   "metadata": {},
   "source": [
    "### В первую очередь посмотрим на данные пользователей:"
   ]
  },
  {
   "cell_type": "code",
   "execution_count": 570,
   "metadata": {
    "scrolled": true
   },
   "outputs": [
    {
     "name": "stdout",
     "output_type": "stream",
     "text": [
      "<class 'pandas.core.frame.DataFrame'>\n",
      "RangeIndex: 500 entries, 0 to 499\n",
      "Data columns (total 8 columns):\n",
      " #   Column      Non-Null Count  Dtype \n",
      "---  ------      --------------  ----- \n",
      " 0   user_id     500 non-null    int64 \n",
      " 1   age         500 non-null    int64 \n",
      " 2   churn_date  38 non-null     object\n",
      " 3   city        500 non-null    object\n",
      " 4   first_name  500 non-null    object\n",
      " 5   last_name   500 non-null    object\n",
      " 6   reg_date    500 non-null    object\n",
      " 7   tariff      500 non-null    object\n",
      "dtypes: int64(2), object(6)\n",
      "memory usage: 31.4+ KB\n"
     ]
    }
   ],
   "source": [
    "df_users = pd.read_csv('/datasets/users.csv')\n",
    "df_users.info()"
   ]
  },
  {
   "cell_type": "code",
   "execution_count": 571,
   "metadata": {
    "scrolled": true
   },
   "outputs": [
    {
     "data": {
      "text/plain": [
       "array([nan, '2018-10-05', '2018-12-18', '2018-11-21', '2018-10-03',\n",
       "       '2018-10-14', '2018-12-09', '2018-12-11', '2018-12-26',\n",
       "       '2018-08-31', '2018-12-03', '2018-12-23', '2018-11-07',\n",
       "       '2018-12-16', '2018-12-20', '2018-11-30', '2018-12-21',\n",
       "       '2018-08-17', '2018-09-02', '2018-10-04', '2018-11-13',\n",
       "       '2018-11-22', '2018-10-28', '2018-11-26', '2018-11-27',\n",
       "       '2018-11-16', '2018-10-27', '2018-12-30', '2018-09-27',\n",
       "       '2018-12-25', '2018-12-14', '2018-12-24', '2018-09-26',\n",
       "       '2018-10-25'], dtype=object)"
      ]
     },
     "metadata": {},
     "output_type": "display_data"
    },
    {
     "data": {
      "text/plain": [
       "array(['ultra', 'smart'], dtype=object)"
      ]
     },
     "metadata": {},
     "output_type": "display_data"
    },
    {
     "data": {
      "text/plain": [
       "['Архангельск',\n",
       " 'Астрахань',\n",
       " 'Балашиха',\n",
       " 'Барнаул',\n",
       " 'Белгород',\n",
       " 'Брянск',\n",
       " 'Владивосток',\n",
       " 'Владикавказ',\n",
       " 'Владимир',\n",
       " 'Волгоград',\n",
       " 'Волжский',\n",
       " 'Вологда',\n",
       " 'Воронеж',\n",
       " 'Грозный',\n",
       " 'Екатеринбург',\n",
       " 'Иваново',\n",
       " 'Ижевск',\n",
       " 'Иркутск',\n",
       " 'Казань',\n",
       " 'Калининград',\n",
       " 'Калуга',\n",
       " 'Кемерово',\n",
       " 'Киров',\n",
       " 'Кострома',\n",
       " 'Краснодар',\n",
       " 'Красноярск',\n",
       " 'Курган',\n",
       " 'Курск',\n",
       " 'Липецк',\n",
       " 'Магнитогорск',\n",
       " 'Махачкала',\n",
       " 'Москва',\n",
       " 'Мурманск',\n",
       " 'Набережные Челны',\n",
       " 'Нижневартовск',\n",
       " 'Нижний Новгород',\n",
       " 'Нижний Тагил',\n",
       " 'Новокузнецк',\n",
       " 'Новороссийск',\n",
       " 'Новосибирск',\n",
       " 'Омск',\n",
       " 'Оренбург',\n",
       " 'Орёл',\n",
       " 'Пенза',\n",
       " 'Пермь',\n",
       " 'Петрозаводск',\n",
       " 'Подольск',\n",
       " 'Ростов-на-Дону',\n",
       " 'Рязань',\n",
       " 'Самара',\n",
       " 'Санкт-Петербург',\n",
       " 'Саранск',\n",
       " 'Саратов',\n",
       " 'Севастополь',\n",
       " 'Смоленск',\n",
       " 'Сочи',\n",
       " 'Ставрополь',\n",
       " 'Стерлитамак',\n",
       " 'Сургут',\n",
       " 'Тамбов',\n",
       " 'Тверь',\n",
       " 'Тольятти',\n",
       " 'Томск',\n",
       " 'Тула',\n",
       " 'Тюмень',\n",
       " 'Улан-Удэ',\n",
       " 'Ульяновск',\n",
       " 'Уфа',\n",
       " 'Хабаровск',\n",
       " 'Химки',\n",
       " 'Чебоксары',\n",
       " 'Челябинск',\n",
       " 'Череповец',\n",
       " 'Чита',\n",
       " 'Якутск',\n",
       " 'Ярославль']"
      ]
     },
     "metadata": {},
     "output_type": "display_data"
    },
    {
     "data": {
      "text/plain": [
       "0"
      ]
     },
     "execution_count": 571,
     "metadata": {},
     "output_type": "execute_result"
    }
   ],
   "source": [
    "display(df_users['churn_date'].unique())#из информационной таблицы видим пропуски в столбце,проверим его уникальные значения\n",
    "display(df_users['tariff'].unique())#на всякий случай проверим, что представлены данные действительно по двум тарифам\n",
    "display(sorted(df_users['city'].unique()))#на всякий случай посмотрим перечень городов, чтоб не было неявных дубликатов\n",
    "df_users.duplicated().sum()#и проверим строки-дубликаты"
   ]
  },
  {
   "cell_type": "markdown",
   "metadata": {},
   "source": [
    "Из сводки видно, что нет пропусков. Однако формат данных по столбцам *'churn_date', 'reg_date'* необходимо изменить на формат даты (вместо указанного в общей информации - object):"
   ]
  },
  {
   "cell_type": "code",
   "execution_count": 572,
   "metadata": {},
   "outputs": [],
   "source": [
    "df_users['churn_date'] = pd.to_datetime(df_users['churn_date'],format='%Y-%m-%d')\n",
    "df_users['reg_date'] = pd.to_datetime(df_users['reg_date'],format='%Y-%m-%d')"
   ]
  },
  {
   "cell_type": "code",
   "execution_count": 573,
   "metadata": {},
   "outputs": [
    {
     "name": "stdout",
     "output_type": "stream",
     "text": [
      "<class 'pandas.core.frame.DataFrame'>\n",
      "RangeIndex: 500 entries, 0 to 499\n",
      "Data columns (total 8 columns):\n",
      " #   Column      Non-Null Count  Dtype         \n",
      "---  ------      --------------  -----         \n",
      " 0   user_id     500 non-null    int64         \n",
      " 1   age         500 non-null    int64         \n",
      " 2   churn_date  38 non-null     datetime64[ns]\n",
      " 3   city        500 non-null    object        \n",
      " 4   first_name  500 non-null    object        \n",
      " 5   last_name   500 non-null    object        \n",
      " 6   reg_date    500 non-null    datetime64[ns]\n",
      " 7   tariff      500 non-null    object        \n",
      "dtypes: datetime64[ns](2), int64(2), object(4)\n",
      "memory usage: 31.4+ KB\n"
     ]
    }
   ],
   "source": [
    "df_users.info()#проверим"
   ]
  },
  {
   "cell_type": "markdown",
   "metadata": {},
   "source": [
    "**Выводы:**\n",
    "- Пропуски в столбце *'churn_date'* связаны с действием тарифа на сегдоняшний день. Поэтому их заполнение не требуется.\n",
    "- В данных действительно представлено два тарифа - Ультра и Смарт. \n",
    "- В названиях городо нет дубликатов. \n",
    "- Строки-дубликаты также отсутствуют."
   ]
  },
  {
   "cell_type": "code",
   "execution_count": 574,
   "metadata": {},
   "outputs": [
    {
     "data": {
      "text/html": [
       "<div>\n",
       "<style scoped>\n",
       "    .dataframe tbody tr th:only-of-type {\n",
       "        vertical-align: middle;\n",
       "    }\n",
       "\n",
       "    .dataframe tbody tr th {\n",
       "        vertical-align: top;\n",
       "    }\n",
       "\n",
       "    .dataframe thead th {\n",
       "        text-align: right;\n",
       "    }\n",
       "</style>\n",
       "<table border=\"1\" class=\"dataframe\">\n",
       "  <thead>\n",
       "    <tr style=\"text-align: right;\">\n",
       "      <th></th>\n",
       "      <th>user_id</th>\n",
       "      <th>age</th>\n",
       "      <th>churn_date</th>\n",
       "      <th>city</th>\n",
       "      <th>first_name</th>\n",
       "      <th>last_name</th>\n",
       "      <th>reg_date</th>\n",
       "      <th>tariff</th>\n",
       "    </tr>\n",
       "  </thead>\n",
       "  <tbody>\n",
       "    <tr>\n",
       "      <th>0</th>\n",
       "      <td>1000</td>\n",
       "      <td>52</td>\n",
       "      <td>NaT</td>\n",
       "      <td>Краснодар</td>\n",
       "      <td>Рафаил</td>\n",
       "      <td>Верещагин</td>\n",
       "      <td>2018-05-25</td>\n",
       "      <td>ultra</td>\n",
       "    </tr>\n",
       "    <tr>\n",
       "      <th>1</th>\n",
       "      <td>1001</td>\n",
       "      <td>41</td>\n",
       "      <td>NaT</td>\n",
       "      <td>Москва</td>\n",
       "      <td>Иван</td>\n",
       "      <td>Ежов</td>\n",
       "      <td>2018-11-01</td>\n",
       "      <td>smart</td>\n",
       "    </tr>\n",
       "    <tr>\n",
       "      <th>2</th>\n",
       "      <td>1002</td>\n",
       "      <td>59</td>\n",
       "      <td>NaT</td>\n",
       "      <td>Стерлитамак</td>\n",
       "      <td>Евгений</td>\n",
       "      <td>Абрамович</td>\n",
       "      <td>2018-06-17</td>\n",
       "      <td>smart</td>\n",
       "    </tr>\n",
       "    <tr>\n",
       "      <th>3</th>\n",
       "      <td>1003</td>\n",
       "      <td>23</td>\n",
       "      <td>NaT</td>\n",
       "      <td>Москва</td>\n",
       "      <td>Белла</td>\n",
       "      <td>Белякова</td>\n",
       "      <td>2018-08-17</td>\n",
       "      <td>ultra</td>\n",
       "    </tr>\n",
       "    <tr>\n",
       "      <th>4</th>\n",
       "      <td>1004</td>\n",
       "      <td>68</td>\n",
       "      <td>NaT</td>\n",
       "      <td>Новокузнецк</td>\n",
       "      <td>Татьяна</td>\n",
       "      <td>Авдеенко</td>\n",
       "      <td>2018-05-14</td>\n",
       "      <td>ultra</td>\n",
       "    </tr>\n",
       "    <tr>\n",
       "      <th>5</th>\n",
       "      <td>1005</td>\n",
       "      <td>67</td>\n",
       "      <td>NaT</td>\n",
       "      <td>Набережные Челны</td>\n",
       "      <td>Афанасий</td>\n",
       "      <td>Горлов</td>\n",
       "      <td>2018-01-25</td>\n",
       "      <td>smart</td>\n",
       "    </tr>\n",
       "    <tr>\n",
       "      <th>6</th>\n",
       "      <td>1006</td>\n",
       "      <td>21</td>\n",
       "      <td>NaT</td>\n",
       "      <td>Ульяновск</td>\n",
       "      <td>Леонид</td>\n",
       "      <td>Ермолаев</td>\n",
       "      <td>2018-02-26</td>\n",
       "      <td>smart</td>\n",
       "    </tr>\n",
       "  </tbody>\n",
       "</table>\n",
       "</div>"
      ],
      "text/plain": [
       "   user_id  age churn_date              city first_name  last_name   reg_date  \\\n",
       "0     1000   52        NaT         Краснодар     Рафаил  Верещагин 2018-05-25   \n",
       "1     1001   41        NaT            Москва       Иван       Ежов 2018-11-01   \n",
       "2     1002   59        NaT       Стерлитамак    Евгений  Абрамович 2018-06-17   \n",
       "3     1003   23        NaT            Москва      Белла   Белякова 2018-08-17   \n",
       "4     1004   68        NaT       Новокузнецк    Татьяна   Авдеенко 2018-05-14   \n",
       "5     1005   67        NaT  Набережные Челны   Афанасий     Горлов 2018-01-25   \n",
       "6     1006   21        NaT         Ульяновск     Леонид   Ермолаев 2018-02-26   \n",
       "\n",
       "  tariff  \n",
       "0  ultra  \n",
       "1  smart  \n",
       "2  smart  \n",
       "3  ultra  \n",
       "4  ultra  \n",
       "5  smart  \n",
       "6  smart  "
      ]
     },
     "execution_count": 574,
     "metadata": {},
     "output_type": "execute_result"
    }
   ],
   "source": [
    "df_users.head(7) #печать первых 7 строк данных о пользователях"
   ]
  },
  {
   "cell_type": "markdown",
   "metadata": {},
   "source": [
    "### Теперь посмотрим на данные звонков пользователей:"
   ]
  },
  {
   "cell_type": "code",
   "execution_count": 575,
   "metadata": {},
   "outputs": [
    {
     "name": "stdout",
     "output_type": "stream",
     "text": [
      "<class 'pandas.core.frame.DataFrame'>\n",
      "RangeIndex: 202607 entries, 0 to 202606\n",
      "Data columns (total 4 columns):\n",
      " #   Column     Non-Null Count   Dtype  \n",
      "---  ------     --------------   -----  \n",
      " 0   id         202607 non-null  object \n",
      " 1   call_date  202607 non-null  object \n",
      " 2   duration   202607 non-null  float64\n",
      " 3   user_id    202607 non-null  int64  \n",
      "dtypes: float64(1), int64(1), object(2)\n",
      "memory usage: 6.2+ MB\n"
     ]
    }
   ],
   "source": [
    "df_calls = pd.read_csv('/datasets/calls.csv')\n",
    "df_calls.info()"
   ]
  },
  {
   "cell_type": "markdown",
   "metadata": {},
   "source": [
    "Из сводки видно, что нет пропусков. Однако формат данных по столбцу *'call_date'* необходимо изменить на формат даты (вместо указанного в общей информации - object):"
   ]
  },
  {
   "cell_type": "code",
   "execution_count": 576,
   "metadata": {},
   "outputs": [],
   "source": [
    "df_calls['call_date'] = pd.to_datetime(df_calls['call_date'],format='%Y-%m-%d')      "
   ]
  },
  {
   "cell_type": "markdown",
   "metadata": {},
   "source": [
    "Добавим в таблицу данных столбцы с данными о месяце звонков:"
   ]
  },
  {
   "cell_type": "code",
   "execution_count": 577,
   "metadata": {},
   "outputs": [
    {
     "name": "stdout",
     "output_type": "stream",
     "text": [
      "<class 'pandas.core.frame.DataFrame'>\n",
      "RangeIndex: 202607 entries, 0 to 202606\n",
      "Data columns (total 5 columns):\n",
      " #   Column      Non-Null Count   Dtype         \n",
      "---  ------      --------------   -----         \n",
      " 0   id          202607 non-null  object        \n",
      " 1   call_date   202607 non-null  datetime64[ns]\n",
      " 2   duration    202607 non-null  float64       \n",
      " 3   user_id     202607 non-null  int64         \n",
      " 4   month_call  202607 non-null  int64         \n",
      "dtypes: datetime64[ns](1), float64(1), int64(2), object(1)\n",
      "memory usage: 7.7+ MB\n"
     ]
    }
   ],
   "source": [
    "df_calls['month_call'] = pd.DatetimeIndex(df_calls['call_date']).month \n",
    "df_calls.info()#проверим"
   ]
  },
  {
   "cell_type": "markdown",
   "metadata": {},
   "source": [
    "**Выводы:**\n",
    "- Таблица с данными звонков не имеет пропусков\n",
    "- Все данные в таблице имеют верный формат"
   ]
  },
  {
   "cell_type": "markdown",
   "metadata": {},
   "source": [
    "Согласно изначальным данным тарификация звонков идет по минутам. Поэтому необходимо перевести параметры в целочисленные значения. При этом учтем, что при переходе за кратное минуте значение итоговая длительность звонка округляется в большую сторону (значения \"0\" мы оставляем как есть):"
   ]
  },
  {
   "cell_type": "code",
   "execution_count": 578,
   "metadata": {},
   "outputs": [
    {
     "data": {
      "text/html": [
       "<div>\n",
       "<style scoped>\n",
       "    .dataframe tbody tr th:only-of-type {\n",
       "        vertical-align: middle;\n",
       "    }\n",
       "\n",
       "    .dataframe tbody tr th {\n",
       "        vertical-align: top;\n",
       "    }\n",
       "\n",
       "    .dataframe thead th {\n",
       "        text-align: right;\n",
       "    }\n",
       "</style>\n",
       "<table border=\"1\" class=\"dataframe\">\n",
       "  <thead>\n",
       "    <tr style=\"text-align: right;\">\n",
       "      <th></th>\n",
       "      <th>id</th>\n",
       "      <th>call_date</th>\n",
       "      <th>user_id</th>\n",
       "      <th>month_call</th>\n",
       "      <th>duration_min</th>\n",
       "    </tr>\n",
       "  </thead>\n",
       "  <tbody>\n",
       "    <tr>\n",
       "      <th>0</th>\n",
       "      <td>1000_0</td>\n",
       "      <td>2018-07-25</td>\n",
       "      <td>1000</td>\n",
       "      <td>7</td>\n",
       "      <td>0.0</td>\n",
       "    </tr>\n",
       "    <tr>\n",
       "      <th>1</th>\n",
       "      <td>1000_1</td>\n",
       "      <td>2018-08-17</td>\n",
       "      <td>1000</td>\n",
       "      <td>8</td>\n",
       "      <td>0.0</td>\n",
       "    </tr>\n",
       "    <tr>\n",
       "      <th>2</th>\n",
       "      <td>1000_2</td>\n",
       "      <td>2018-06-11</td>\n",
       "      <td>1000</td>\n",
       "      <td>6</td>\n",
       "      <td>3.0</td>\n",
       "    </tr>\n",
       "    <tr>\n",
       "      <th>3</th>\n",
       "      <td>1000_3</td>\n",
       "      <td>2018-09-21</td>\n",
       "      <td>1000</td>\n",
       "      <td>9</td>\n",
       "      <td>14.0</td>\n",
       "    </tr>\n",
       "    <tr>\n",
       "      <th>4</th>\n",
       "      <td>1000_4</td>\n",
       "      <td>2018-12-15</td>\n",
       "      <td>1000</td>\n",
       "      <td>12</td>\n",
       "      <td>6.0</td>\n",
       "    </tr>\n",
       "    <tr>\n",
       "      <th>5</th>\n",
       "      <td>1000_5</td>\n",
       "      <td>2018-11-02</td>\n",
       "      <td>1000</td>\n",
       "      <td>11</td>\n",
       "      <td>0.0</td>\n",
       "    </tr>\n",
       "    <tr>\n",
       "      <th>6</th>\n",
       "      <td>1000_6</td>\n",
       "      <td>2018-10-18</td>\n",
       "      <td>1000</td>\n",
       "      <td>10</td>\n",
       "      <td>0.0</td>\n",
       "    </tr>\n",
       "  </tbody>\n",
       "</table>\n",
       "</div>"
      ],
      "text/plain": [
       "       id  call_date  user_id  month_call  duration_min\n",
       "0  1000_0 2018-07-25     1000           7           0.0\n",
       "1  1000_1 2018-08-17     1000           8           0.0\n",
       "2  1000_2 2018-06-11     1000           6           3.0\n",
       "3  1000_3 2018-09-21     1000           9          14.0\n",
       "4  1000_4 2018-12-15     1000          12           6.0\n",
       "5  1000_5 2018-11-02     1000          11           0.0\n",
       "6  1000_6 2018-10-18     1000          10           0.0"
      ]
     },
     "execution_count": 578,
     "metadata": {},
     "output_type": "execute_result"
    }
   ],
   "source": [
    "df_calls.loc[df_calls['duration'] == 0, 'duration_min'] = 0\n",
    "df_calls.loc[df_calls['duration'] != 0, 'duration_min'] =np.ceil(df_calls['duration'])\n",
    "df_calls = df_calls.drop('duration', axis = 1)\n",
    "df_calls.head(7)#проверим"
   ]
  },
  {
   "cell_type": "code",
   "execution_count": 579,
   "metadata": {},
   "outputs": [],
   "source": [
    "#df_calls.loc[df_calls['duration'] == 0, 'duration_min'] = 0\n",
    "#df_calls.loc[df_calls['duration'] != 0, 'duration_min'] = df_calls['duration'].astype('int')+1\n",
    "#df_calls = df_calls.drop('duration', axis = 1)\n",
    "#df_calls.head(7)#проверим"
   ]
  },
  {
   "cell_type": "markdown",
   "metadata": {},
   "source": [
    "### Теперь посмотрим на данные о сообщениях пользователей:"
   ]
  },
  {
   "cell_type": "code",
   "execution_count": 580,
   "metadata": {},
   "outputs": [
    {
     "name": "stdout",
     "output_type": "stream",
     "text": [
      "<class 'pandas.core.frame.DataFrame'>\n",
      "RangeIndex: 123036 entries, 0 to 123035\n",
      "Data columns (total 3 columns):\n",
      " #   Column        Non-Null Count   Dtype \n",
      "---  ------        --------------   ----- \n",
      " 0   id            123036 non-null  object\n",
      " 1   message_date  123036 non-null  object\n",
      " 2   user_id       123036 non-null  int64 \n",
      "dtypes: int64(1), object(2)\n",
      "memory usage: 2.8+ MB\n"
     ]
    }
   ],
   "source": [
    "df_messages = pd.read_csv('/datasets/messages.csv')\n",
    "df_messages.info()"
   ]
  },
  {
   "cell_type": "markdown",
   "metadata": {},
   "source": [
    "Из сводки видно, что нет пропусков. Однако формат данных по столбцу *'message_date'* необходимо изменить на формат даты (вместо указанного в общей информации - object):"
   ]
  },
  {
   "cell_type": "code",
   "execution_count": 581,
   "metadata": {},
   "outputs": [
    {
     "name": "stdout",
     "output_type": "stream",
     "text": [
      "<class 'pandas.core.frame.DataFrame'>\n",
      "RangeIndex: 123036 entries, 0 to 123035\n",
      "Data columns (total 3 columns):\n",
      " #   Column        Non-Null Count   Dtype         \n",
      "---  ------        --------------   -----         \n",
      " 0   id            123036 non-null  object        \n",
      " 1   message_date  123036 non-null  datetime64[ns]\n",
      " 2   user_id       123036 non-null  int64         \n",
      "dtypes: datetime64[ns](1), int64(1), object(1)\n",
      "memory usage: 2.8+ MB\n"
     ]
    }
   ],
   "source": [
    "df_messages['message_date'] = pd.to_datetime(df_messages['message_date'],format = '%Y-%m-%d')\n",
    "df_messages.info()#проверим"
   ]
  },
  {
   "cell_type": "markdown",
   "metadata": {},
   "source": [
    "Добавим в таблицу данных столбцы с данными о месяце сообщения:"
   ]
  },
  {
   "cell_type": "code",
   "execution_count": 582,
   "metadata": {},
   "outputs": [
    {
     "name": "stdout",
     "output_type": "stream",
     "text": [
      "<class 'pandas.core.frame.DataFrame'>\n",
      "RangeIndex: 123036 entries, 0 to 123035\n",
      "Data columns (total 4 columns):\n",
      " #   Column        Non-Null Count   Dtype         \n",
      "---  ------        --------------   -----         \n",
      " 0   id            123036 non-null  object        \n",
      " 1   message_date  123036 non-null  datetime64[ns]\n",
      " 2   user_id       123036 non-null  int64         \n",
      " 3   month_sms     123036 non-null  int64         \n",
      "dtypes: datetime64[ns](1), int64(2), object(1)\n",
      "memory usage: 3.8+ MB\n"
     ]
    },
    {
     "data": {
      "text/html": [
       "<div>\n",
       "<style scoped>\n",
       "    .dataframe tbody tr th:only-of-type {\n",
       "        vertical-align: middle;\n",
       "    }\n",
       "\n",
       "    .dataframe tbody tr th {\n",
       "        vertical-align: top;\n",
       "    }\n",
       "\n",
       "    .dataframe thead th {\n",
       "        text-align: right;\n",
       "    }\n",
       "</style>\n",
       "<table border=\"1\" class=\"dataframe\">\n",
       "  <thead>\n",
       "    <tr style=\"text-align: right;\">\n",
       "      <th></th>\n",
       "      <th>id</th>\n",
       "      <th>message_date</th>\n",
       "      <th>user_id</th>\n",
       "      <th>month_sms</th>\n",
       "    </tr>\n",
       "  </thead>\n",
       "  <tbody>\n",
       "    <tr>\n",
       "      <th>0</th>\n",
       "      <td>1000_0</td>\n",
       "      <td>2018-06-27</td>\n",
       "      <td>1000</td>\n",
       "      <td>6</td>\n",
       "    </tr>\n",
       "    <tr>\n",
       "      <th>1</th>\n",
       "      <td>1000_1</td>\n",
       "      <td>2018-10-08</td>\n",
       "      <td>1000</td>\n",
       "      <td>10</td>\n",
       "    </tr>\n",
       "    <tr>\n",
       "      <th>2</th>\n",
       "      <td>1000_2</td>\n",
       "      <td>2018-08-04</td>\n",
       "      <td>1000</td>\n",
       "      <td>8</td>\n",
       "    </tr>\n",
       "    <tr>\n",
       "      <th>3</th>\n",
       "      <td>1000_3</td>\n",
       "      <td>2018-06-16</td>\n",
       "      <td>1000</td>\n",
       "      <td>6</td>\n",
       "    </tr>\n",
       "    <tr>\n",
       "      <th>4</th>\n",
       "      <td>1000_4</td>\n",
       "      <td>2018-12-05</td>\n",
       "      <td>1000</td>\n",
       "      <td>12</td>\n",
       "    </tr>\n",
       "  </tbody>\n",
       "</table>\n",
       "</div>"
      ],
      "text/plain": [
       "       id message_date  user_id  month_sms\n",
       "0  1000_0   2018-06-27     1000          6\n",
       "1  1000_1   2018-10-08     1000         10\n",
       "2  1000_2   2018-08-04     1000          8\n",
       "3  1000_3   2018-06-16     1000          6\n",
       "4  1000_4   2018-12-05     1000         12"
      ]
     },
     "execution_count": 582,
     "metadata": {},
     "output_type": "execute_result"
    }
   ],
   "source": [
    "df_messages['month_sms'] = pd.DatetimeIndex(df_messages['message_date']).month \n",
    "df_messages.info()#проверим\n",
    "df_messages.head()"
   ]
  },
  {
   "cell_type": "markdown",
   "metadata": {},
   "source": [
    "**Выводы:**\n",
    "- Таблица с данными сообщений не имеет пропусков\n",
    "- Все данные в таблице имеют верный формат"
   ]
  },
  {
   "cell_type": "code",
   "execution_count": 583,
   "metadata": {},
   "outputs": [],
   "source": [
    "#df_messages['month_sms'] = df_messages['message_date'].dt.to_period('M')\n",
    "#df_messages.head()"
   ]
  },
  {
   "cell_type": "markdown",
   "metadata": {},
   "source": [
    "### Теперь посмотрим на данные об интернет-сессиях пользователей:"
   ]
  },
  {
   "cell_type": "code",
   "execution_count": 584,
   "metadata": {},
   "outputs": [
    {
     "name": "stdout",
     "output_type": "stream",
     "text": [
      "<class 'pandas.core.frame.DataFrame'>\n",
      "RangeIndex: 149396 entries, 0 to 149395\n",
      "Data columns (total 5 columns):\n",
      " #   Column        Non-Null Count   Dtype  \n",
      "---  ------        --------------   -----  \n",
      " 0   Unnamed: 0    149396 non-null  int64  \n",
      " 1   id            149396 non-null  object \n",
      " 2   mb_used       149396 non-null  float64\n",
      " 3   session_date  149396 non-null  object \n",
      " 4   user_id       149396 non-null  int64  \n",
      "dtypes: float64(1), int64(2), object(2)\n",
      "memory usage: 5.7+ MB\n"
     ]
    }
   ],
   "source": [
    "df_internet = pd.read_csv('/datasets/internet.csv')\n",
    "df_internet.info()"
   ]
  },
  {
   "cell_type": "markdown",
   "metadata": {},
   "source": [
    "Из сводки видно, что нет пропусков. Однако есть лишний столбец, повторяющий индексацию строк, который удалим, а также формат данных по столбцу *'session_date'* необходимо изменить на формат даты (вместо указанного в общей информации - object):"
   ]
  },
  {
   "cell_type": "code",
   "execution_count": 585,
   "metadata": {},
   "outputs": [],
   "source": [
    "df_internet.drop('Unnamed: 0', axis=1)\n",
    "df_internet['session_date'] = pd.to_datetime(df_internet['session_date'],format='%Y-%m-%d')"
   ]
  },
  {
   "cell_type": "markdown",
   "metadata": {},
   "source": [
    "Добавим в таблицу данных столбцы с данными о месяце интернет-трафика:"
   ]
  },
  {
   "cell_type": "code",
   "execution_count": 586,
   "metadata": {},
   "outputs": [
    {
     "name": "stdout",
     "output_type": "stream",
     "text": [
      "<class 'pandas.core.frame.DataFrame'>\n",
      "RangeIndex: 149396 entries, 0 to 149395\n",
      "Data columns (total 6 columns):\n",
      " #   Column          Non-Null Count   Dtype         \n",
      "---  ------          --------------   -----         \n",
      " 0   Unnamed: 0      149396 non-null  int64         \n",
      " 1   id              149396 non-null  object        \n",
      " 2   mb_used         149396 non-null  float64       \n",
      " 3   session_date    149396 non-null  datetime64[ns]\n",
      " 4   user_id         149396 non-null  int64         \n",
      " 5   month_internet  149396 non-null  int64         \n",
      "dtypes: datetime64[ns](1), float64(1), int64(3), object(1)\n",
      "memory usage: 6.8+ MB\n"
     ]
    },
    {
     "data": {
      "text/html": [
       "<div>\n",
       "<style scoped>\n",
       "    .dataframe tbody tr th:only-of-type {\n",
       "        vertical-align: middle;\n",
       "    }\n",
       "\n",
       "    .dataframe tbody tr th {\n",
       "        vertical-align: top;\n",
       "    }\n",
       "\n",
       "    .dataframe thead th {\n",
       "        text-align: right;\n",
       "    }\n",
       "</style>\n",
       "<table border=\"1\" class=\"dataframe\">\n",
       "  <thead>\n",
       "    <tr style=\"text-align: right;\">\n",
       "      <th></th>\n",
       "      <th>Unnamed: 0</th>\n",
       "      <th>id</th>\n",
       "      <th>mb_used</th>\n",
       "      <th>session_date</th>\n",
       "      <th>user_id</th>\n",
       "      <th>month_internet</th>\n",
       "    </tr>\n",
       "  </thead>\n",
       "  <tbody>\n",
       "    <tr>\n",
       "      <th>0</th>\n",
       "      <td>0</td>\n",
       "      <td>1000_0</td>\n",
       "      <td>112.95</td>\n",
       "      <td>2018-11-25</td>\n",
       "      <td>1000</td>\n",
       "      <td>11</td>\n",
       "    </tr>\n",
       "    <tr>\n",
       "      <th>1</th>\n",
       "      <td>1</td>\n",
       "      <td>1000_1</td>\n",
       "      <td>1052.81</td>\n",
       "      <td>2018-09-07</td>\n",
       "      <td>1000</td>\n",
       "      <td>9</td>\n",
       "    </tr>\n",
       "    <tr>\n",
       "      <th>2</th>\n",
       "      <td>2</td>\n",
       "      <td>1000_2</td>\n",
       "      <td>1197.26</td>\n",
       "      <td>2018-06-25</td>\n",
       "      <td>1000</td>\n",
       "      <td>6</td>\n",
       "    </tr>\n",
       "    <tr>\n",
       "      <th>3</th>\n",
       "      <td>3</td>\n",
       "      <td>1000_3</td>\n",
       "      <td>550.27</td>\n",
       "      <td>2018-08-22</td>\n",
       "      <td>1000</td>\n",
       "      <td>8</td>\n",
       "    </tr>\n",
       "    <tr>\n",
       "      <th>4</th>\n",
       "      <td>4</td>\n",
       "      <td>1000_4</td>\n",
       "      <td>302.56</td>\n",
       "      <td>2018-09-24</td>\n",
       "      <td>1000</td>\n",
       "      <td>9</td>\n",
       "    </tr>\n",
       "  </tbody>\n",
       "</table>\n",
       "</div>"
      ],
      "text/plain": [
       "   Unnamed: 0      id  mb_used session_date  user_id  month_internet\n",
       "0           0  1000_0   112.95   2018-11-25     1000              11\n",
       "1           1  1000_1  1052.81   2018-09-07     1000               9\n",
       "2           2  1000_2  1197.26   2018-06-25     1000               6\n",
       "3           3  1000_3   550.27   2018-08-22     1000               8\n",
       "4           4  1000_4   302.56   2018-09-24     1000               9"
      ]
     },
     "execution_count": 586,
     "metadata": {},
     "output_type": "execute_result"
    }
   ],
   "source": [
    "df_internet['month_internet'] = pd.DatetimeIndex(df_internet['session_date']).month \n",
    "df_internet.info()\n",
    "df_internet.head()"
   ]
  },
  {
   "cell_type": "markdown",
   "metadata": {},
   "source": [
    "**Выводы:**\n",
    "- Таблица с данными интернет-трафика не имеет пропусков\n",
    "- Все данные в таблице имеют верный формат"
   ]
  },
  {
   "cell_type": "markdown",
   "metadata": {},
   "source": [
    "### Проверим данные о тарифах"
   ]
  },
  {
   "cell_type": "code",
   "execution_count": 587,
   "metadata": {},
   "outputs": [
    {
     "name": "stdout",
     "output_type": "stream",
     "text": [
      "<class 'pandas.core.frame.DataFrame'>\n",
      "RangeIndex: 2 entries, 0 to 1\n",
      "Data columns (total 8 columns):\n",
      " #   Column                 Non-Null Count  Dtype \n",
      "---  ------                 --------------  ----- \n",
      " 0   messages_included      2 non-null      int64 \n",
      " 1   mb_per_month_included  2 non-null      int64 \n",
      " 2   minutes_included       2 non-null      int64 \n",
      " 3   rub_monthly_fee        2 non-null      int64 \n",
      " 4   rub_per_gb             2 non-null      int64 \n",
      " 5   rub_per_message        2 non-null      int64 \n",
      " 6   rub_per_minute         2 non-null      int64 \n",
      " 7   tariff_name            2 non-null      object\n",
      "dtypes: int64(7), object(1)\n",
      "memory usage: 256.0+ bytes\n"
     ]
    },
    {
     "data": {
      "text/html": [
       "<div>\n",
       "<style scoped>\n",
       "    .dataframe tbody tr th:only-of-type {\n",
       "        vertical-align: middle;\n",
       "    }\n",
       "\n",
       "    .dataframe tbody tr th {\n",
       "        vertical-align: top;\n",
       "    }\n",
       "\n",
       "    .dataframe thead th {\n",
       "        text-align: right;\n",
       "    }\n",
       "</style>\n",
       "<table border=\"1\" class=\"dataframe\">\n",
       "  <thead>\n",
       "    <tr style=\"text-align: right;\">\n",
       "      <th></th>\n",
       "      <th>messages_included</th>\n",
       "      <th>mb_per_month_included</th>\n",
       "      <th>minutes_included</th>\n",
       "      <th>rub_monthly_fee</th>\n",
       "      <th>rub_per_gb</th>\n",
       "      <th>rub_per_message</th>\n",
       "      <th>rub_per_minute</th>\n",
       "      <th>tariff_name</th>\n",
       "    </tr>\n",
       "  </thead>\n",
       "  <tbody>\n",
       "    <tr>\n",
       "      <th>0</th>\n",
       "      <td>50</td>\n",
       "      <td>15360</td>\n",
       "      <td>500</td>\n",
       "      <td>550</td>\n",
       "      <td>200</td>\n",
       "      <td>3</td>\n",
       "      <td>3</td>\n",
       "      <td>smart</td>\n",
       "    </tr>\n",
       "    <tr>\n",
       "      <th>1</th>\n",
       "      <td>1000</td>\n",
       "      <td>30720</td>\n",
       "      <td>3000</td>\n",
       "      <td>1950</td>\n",
       "      <td>150</td>\n",
       "      <td>1</td>\n",
       "      <td>1</td>\n",
       "      <td>ultra</td>\n",
       "    </tr>\n",
       "  </tbody>\n",
       "</table>\n",
       "</div>"
      ],
      "text/plain": [
       "   messages_included  mb_per_month_included  minutes_included  \\\n",
       "0                 50                  15360               500   \n",
       "1               1000                  30720              3000   \n",
       "\n",
       "   rub_monthly_fee  rub_per_gb  rub_per_message  rub_per_minute tariff_name  \n",
       "0              550         200                3               3       smart  \n",
       "1             1950         150                1               1       ultra  "
      ]
     },
     "metadata": {},
     "output_type": "display_data"
    }
   ],
   "source": [
    "df_tariffs = pd.read_csv('/datasets/tariffs.csv')\n",
    "df_tariffs.info()\n",
    "display(df_tariffs)"
   ]
  },
  {
   "cell_type": "markdown",
   "metadata": {},
   "source": [
    "**Выводы:**\n",
    "- Таблица сводного характера из двух строк о детализациях тарифного плана. Все данные имеют верный формат. "
   ]
  },
  {
   "cell_type": "markdown",
   "metadata": {},
   "source": [
    "### ВЫВОДЫ"
   ]
  },
  {
   "cell_type": "markdown",
   "metadata": {},
   "source": [
    "Проведен агализ предоставленных данных от Заказчика. Мы получили 4 таблица касаемо пользователей и их трат мобильных трафиков в течение года и 1 сводную таблицу, в которой представлена инфорация по условиям тарифов. Пропусков в данных не наблюдалось, дубликаты отсутствовали. Проведены изменения форматов данных (для столбцов дат) в каждой из 4х пользовательских таблиц и дополнительно созданы новые столбцы данных касаемо месяца использования тго или иного мобильного трафика. "
   ]
  },
  {
   "cell_type": "markdown",
   "metadata": {},
   "source": [
    "## Подготовка данных"
   ]
  },
  {
   "cell_type": "markdown",
   "metadata": {},
   "source": [
    "Теперь требуется объединить нужные нам таблицы в одну, для упрощения дальнейшей работы.\n",
    "\n",
    "Очевидно, что все таблицы объединяются по параметру *'user_id'*. Однако в виду нескольких операций от каждого пользователя по каждой мобильной трате данных в таблицах звонков, смс и интернет-трафика больше чем в таблице *'df_users'*. \n",
    "\n",
    "Попробуем сначала проанализировать траты каждого пользователя по каждой мобильной статье ПОМЕСЯЧНО:"
   ]
  },
  {
   "cell_type": "markdown",
   "metadata": {},
   "source": [
    "Создадим таблицу по звонкам каждого пользователя за каждый месяц:"
   ]
  },
  {
   "cell_type": "code",
   "execution_count": 588,
   "metadata": {},
   "outputs": [
    {
     "data": {
      "text/html": [
       "<div>\n",
       "<style scoped>\n",
       "    .dataframe tbody tr th:only-of-type {\n",
       "        vertical-align: middle;\n",
       "    }\n",
       "\n",
       "    .dataframe tbody tr th {\n",
       "        vertical-align: top;\n",
       "    }\n",
       "\n",
       "    .dataframe thead th {\n",
       "        text-align: right;\n",
       "    }\n",
       "</style>\n",
       "<table border=\"1\" class=\"dataframe\">\n",
       "  <thead>\n",
       "    <tr style=\"text-align: right;\">\n",
       "      <th></th>\n",
       "      <th>id</th>\n",
       "      <th>call_date</th>\n",
       "      <th>user_id</th>\n",
       "      <th>month_call</th>\n",
       "      <th>duration_min</th>\n",
       "    </tr>\n",
       "  </thead>\n",
       "  <tbody>\n",
       "    <tr>\n",
       "      <th>0</th>\n",
       "      <td>1000_0</td>\n",
       "      <td>2018-07-25</td>\n",
       "      <td>1000</td>\n",
       "      <td>7</td>\n",
       "      <td>0.0</td>\n",
       "    </tr>\n",
       "    <tr>\n",
       "      <th>1</th>\n",
       "      <td>1000_1</td>\n",
       "      <td>2018-08-17</td>\n",
       "      <td>1000</td>\n",
       "      <td>8</td>\n",
       "      <td>0.0</td>\n",
       "    </tr>\n",
       "    <tr>\n",
       "      <th>2</th>\n",
       "      <td>1000_2</td>\n",
       "      <td>2018-06-11</td>\n",
       "      <td>1000</td>\n",
       "      <td>6</td>\n",
       "      <td>3.0</td>\n",
       "    </tr>\n",
       "    <tr>\n",
       "      <th>3</th>\n",
       "      <td>1000_3</td>\n",
       "      <td>2018-09-21</td>\n",
       "      <td>1000</td>\n",
       "      <td>9</td>\n",
       "      <td>14.0</td>\n",
       "    </tr>\n",
       "    <tr>\n",
       "      <th>4</th>\n",
       "      <td>1000_4</td>\n",
       "      <td>2018-12-15</td>\n",
       "      <td>1000</td>\n",
       "      <td>12</td>\n",
       "      <td>6.0</td>\n",
       "    </tr>\n",
       "  </tbody>\n",
       "</table>\n",
       "</div>"
      ],
      "text/plain": [
       "       id  call_date  user_id  month_call  duration_min\n",
       "0  1000_0 2018-07-25     1000           7           0.0\n",
       "1  1000_1 2018-08-17     1000           8           0.0\n",
       "2  1000_2 2018-06-11     1000           6           3.0\n",
       "3  1000_3 2018-09-21     1000           9          14.0\n",
       "4  1000_4 2018-12-15     1000          12           6.0"
      ]
     },
     "execution_count": 588,
     "metadata": {},
     "output_type": "execute_result"
    }
   ],
   "source": [
    "df_calls.head()"
   ]
  },
  {
   "cell_type": "code",
   "execution_count": 589,
   "metadata": {},
   "outputs": [
    {
     "data": {
      "text/html": [
       "<div>\n",
       "<style scoped>\n",
       "    .dataframe tbody tr th:only-of-type {\n",
       "        vertical-align: middle;\n",
       "    }\n",
       "\n",
       "    .dataframe tbody tr th {\n",
       "        vertical-align: top;\n",
       "    }\n",
       "\n",
       "    .dataframe thead th {\n",
       "        text-align: right;\n",
       "    }\n",
       "</style>\n",
       "<table border=\"1\" class=\"dataframe\">\n",
       "  <thead>\n",
       "    <tr style=\"text-align: right;\">\n",
       "      <th></th>\n",
       "      <th>user_id</th>\n",
       "      <th>month</th>\n",
       "      <th>call</th>\n",
       "    </tr>\n",
       "  </thead>\n",
       "  <tbody>\n",
       "    <tr>\n",
       "      <th>0</th>\n",
       "      <td>1000</td>\n",
       "      <td>5</td>\n",
       "      <td>159.0</td>\n",
       "    </tr>\n",
       "    <tr>\n",
       "      <th>1</th>\n",
       "      <td>1000</td>\n",
       "      <td>6</td>\n",
       "      <td>172.0</td>\n",
       "    </tr>\n",
       "    <tr>\n",
       "      <th>2</th>\n",
       "      <td>1000</td>\n",
       "      <td>7</td>\n",
       "      <td>340.0</td>\n",
       "    </tr>\n",
       "    <tr>\n",
       "      <th>3</th>\n",
       "      <td>1000</td>\n",
       "      <td>8</td>\n",
       "      <td>408.0</td>\n",
       "    </tr>\n",
       "    <tr>\n",
       "      <th>4</th>\n",
       "      <td>1000</td>\n",
       "      <td>9</td>\n",
       "      <td>466.0</td>\n",
       "    </tr>\n",
       "    <tr>\n",
       "      <th>...</th>\n",
       "      <td>...</td>\n",
       "      <td>...</td>\n",
       "      <td>...</td>\n",
       "    </tr>\n",
       "    <tr>\n",
       "      <th>3169</th>\n",
       "      <td>1498</td>\n",
       "      <td>10</td>\n",
       "      <td>247.0</td>\n",
       "    </tr>\n",
       "    <tr>\n",
       "      <th>3170</th>\n",
       "      <td>1499</td>\n",
       "      <td>9</td>\n",
       "      <td>70.0</td>\n",
       "    </tr>\n",
       "    <tr>\n",
       "      <th>3171</th>\n",
       "      <td>1499</td>\n",
       "      <td>10</td>\n",
       "      <td>449.0</td>\n",
       "    </tr>\n",
       "    <tr>\n",
       "      <th>3172</th>\n",
       "      <td>1499</td>\n",
       "      <td>11</td>\n",
       "      <td>612.0</td>\n",
       "    </tr>\n",
       "    <tr>\n",
       "      <th>3173</th>\n",
       "      <td>1499</td>\n",
       "      <td>12</td>\n",
       "      <td>492.0</td>\n",
       "    </tr>\n",
       "  </tbody>\n",
       "</table>\n",
       "<p>3174 rows × 3 columns</p>\n",
       "</div>"
      ],
      "text/plain": [
       "      user_id  month   call\n",
       "0        1000      5  159.0\n",
       "1        1000      6  172.0\n",
       "2        1000      7  340.0\n",
       "3        1000      8  408.0\n",
       "4        1000      9  466.0\n",
       "...       ...    ...    ...\n",
       "3169     1498     10  247.0\n",
       "3170     1499      9   70.0\n",
       "3171     1499     10  449.0\n",
       "3172     1499     11  612.0\n",
       "3173     1499     12  492.0\n",
       "\n",
       "[3174 rows x 3 columns]"
      ]
     },
     "metadata": {},
     "output_type": "display_data"
    }
   ],
   "source": [
    "df_calls_month = df_calls.pivot_table(index=['user_id','month_call'], values='duration_min',aggfunc=['sum'])\n",
    "df_calls_month = pd.DataFrame(df_calls_month.to_records()) \n",
    "df_calls_month.columns = ['user_id', 'month', 'call']\n",
    "\n",
    "display(df_calls_month.sort_values(by=['user_id', 'month']))"
   ]
  },
  {
   "cell_type": "markdown",
   "metadata": {},
   "source": [
    "Мы получили таблицу звонков пользователей по месяцам."
   ]
  },
  {
   "cell_type": "markdown",
   "metadata": {},
   "source": [
    "Создадим аналогично таблицу по сообщениям каждого пользователя за каждый месяц:"
   ]
  },
  {
   "cell_type": "code",
   "execution_count": 590,
   "metadata": {},
   "outputs": [
    {
     "data": {
      "text/html": [
       "<div>\n",
       "<style scoped>\n",
       "    .dataframe tbody tr th:only-of-type {\n",
       "        vertical-align: middle;\n",
       "    }\n",
       "\n",
       "    .dataframe tbody tr th {\n",
       "        vertical-align: top;\n",
       "    }\n",
       "\n",
       "    .dataframe thead th {\n",
       "        text-align: right;\n",
       "    }\n",
       "</style>\n",
       "<table border=\"1\" class=\"dataframe\">\n",
       "  <thead>\n",
       "    <tr style=\"text-align: right;\">\n",
       "      <th></th>\n",
       "      <th>user_id</th>\n",
       "      <th>month</th>\n",
       "      <th>sms</th>\n",
       "    </tr>\n",
       "  </thead>\n",
       "  <tbody>\n",
       "    <tr>\n",
       "      <th>0</th>\n",
       "      <td>1000</td>\n",
       "      <td>5</td>\n",
       "      <td>22</td>\n",
       "    </tr>\n",
       "    <tr>\n",
       "      <th>1</th>\n",
       "      <td>1000</td>\n",
       "      <td>6</td>\n",
       "      <td>60</td>\n",
       "    </tr>\n",
       "    <tr>\n",
       "      <th>2</th>\n",
       "      <td>1000</td>\n",
       "      <td>7</td>\n",
       "      <td>75</td>\n",
       "    </tr>\n",
       "    <tr>\n",
       "      <th>3</th>\n",
       "      <td>1000</td>\n",
       "      <td>8</td>\n",
       "      <td>81</td>\n",
       "    </tr>\n",
       "    <tr>\n",
       "      <th>4</th>\n",
       "      <td>1000</td>\n",
       "      <td>9</td>\n",
       "      <td>57</td>\n",
       "    </tr>\n",
       "    <tr>\n",
       "      <th>...</th>\n",
       "      <td>...</td>\n",
       "      <td>...</td>\n",
       "      <td>...</td>\n",
       "    </tr>\n",
       "    <tr>\n",
       "      <th>2712</th>\n",
       "      <td>1498</td>\n",
       "      <td>10</td>\n",
       "      <td>42</td>\n",
       "    </tr>\n",
       "    <tr>\n",
       "      <th>2713</th>\n",
       "      <td>1499</td>\n",
       "      <td>9</td>\n",
       "      <td>11</td>\n",
       "    </tr>\n",
       "    <tr>\n",
       "      <th>2714</th>\n",
       "      <td>1499</td>\n",
       "      <td>10</td>\n",
       "      <td>48</td>\n",
       "    </tr>\n",
       "    <tr>\n",
       "      <th>2715</th>\n",
       "      <td>1499</td>\n",
       "      <td>11</td>\n",
       "      <td>59</td>\n",
       "    </tr>\n",
       "    <tr>\n",
       "      <th>2716</th>\n",
       "      <td>1499</td>\n",
       "      <td>12</td>\n",
       "      <td>66</td>\n",
       "    </tr>\n",
       "  </tbody>\n",
       "</table>\n",
       "<p>2717 rows × 3 columns</p>\n",
       "</div>"
      ],
      "text/plain": [
       "      user_id  month  sms\n",
       "0        1000      5   22\n",
       "1        1000      6   60\n",
       "2        1000      7   75\n",
       "3        1000      8   81\n",
       "4        1000      9   57\n",
       "...       ...    ...  ...\n",
       "2712     1498     10   42\n",
       "2713     1499      9   11\n",
       "2714     1499     10   48\n",
       "2715     1499     11   59\n",
       "2716     1499     12   66\n",
       "\n",
       "[2717 rows x 3 columns]"
      ]
     },
     "metadata": {},
     "output_type": "display_data"
    }
   ],
   "source": [
    "df_messages_month = df_messages.pivot_table(index=['user_id','month_sms'], values='id',aggfunc=['count'])\n",
    "df_messages_month = pd.DataFrame(df_messages_month.to_records()) \n",
    "df_messages_month.columns = ['user_id', 'month', 'sms']\n",
    "\n",
    "display(df_messages_month.sort_values(by=['user_id', 'month']))"
   ]
  },
  {
   "cell_type": "markdown",
   "metadata": {},
   "source": [
    "Мы получили таблицу сообщений пользователей по месяцам."
   ]
  },
  {
   "cell_type": "markdown",
   "metadata": {},
   "source": [
    "Создадим аналогично таблицу по интернет-трафику каждого пользователя за каждый месяц. \n",
    "\n",
    "Согласно изначальным данным тарификация интернета идет по Гб. Поэтому параллельно необходимо перевести параметры трафика в целочисленные значения. При этом учтем, что при переходе за кратное Гб значение итоговая длительность трафика округляется в большую сторону (значения \"0\" мы оставляем как есть):"
   ]
  },
  {
   "cell_type": "code",
   "execution_count": 591,
   "metadata": {},
   "outputs": [
    {
     "data": {
      "text/html": [
       "<div>\n",
       "<style scoped>\n",
       "    .dataframe tbody tr th:only-of-type {\n",
       "        vertical-align: middle;\n",
       "    }\n",
       "\n",
       "    .dataframe tbody tr th {\n",
       "        vertical-align: top;\n",
       "    }\n",
       "\n",
       "    .dataframe thead th {\n",
       "        text-align: right;\n",
       "    }\n",
       "</style>\n",
       "<table border=\"1\" class=\"dataframe\">\n",
       "  <thead>\n",
       "    <tr style=\"text-align: right;\">\n",
       "      <th></th>\n",
       "      <th>user_id</th>\n",
       "      <th>month</th>\n",
       "      <th>gb_used</th>\n",
       "    </tr>\n",
       "  </thead>\n",
       "  <tbody>\n",
       "    <tr>\n",
       "      <th>0</th>\n",
       "      <td>1000</td>\n",
       "      <td>5</td>\n",
       "      <td>3.0</td>\n",
       "    </tr>\n",
       "    <tr>\n",
       "      <th>1</th>\n",
       "      <td>1000</td>\n",
       "      <td>6</td>\n",
       "      <td>23.0</td>\n",
       "    </tr>\n",
       "    <tr>\n",
       "      <th>2</th>\n",
       "      <td>1000</td>\n",
       "      <td>7</td>\n",
       "      <td>14.0</td>\n",
       "    </tr>\n",
       "    <tr>\n",
       "      <th>3</th>\n",
       "      <td>1000</td>\n",
       "      <td>8</td>\n",
       "      <td>14.0</td>\n",
       "    </tr>\n",
       "    <tr>\n",
       "      <th>4</th>\n",
       "      <td>1000</td>\n",
       "      <td>9</td>\n",
       "      <td>15.0</td>\n",
       "    </tr>\n",
       "    <tr>\n",
       "      <th>...</th>\n",
       "      <td>...</td>\n",
       "      <td>...</td>\n",
       "      <td>...</td>\n",
       "    </tr>\n",
       "    <tr>\n",
       "      <th>3198</th>\n",
       "      <td>1498</td>\n",
       "      <td>10</td>\n",
       "      <td>21.0</td>\n",
       "    </tr>\n",
       "    <tr>\n",
       "      <th>3199</th>\n",
       "      <td>1499</td>\n",
       "      <td>9</td>\n",
       "      <td>2.0</td>\n",
       "    </tr>\n",
       "    <tr>\n",
       "      <th>3200</th>\n",
       "      <td>1499</td>\n",
       "      <td>10</td>\n",
       "      <td>18.0</td>\n",
       "    </tr>\n",
       "    <tr>\n",
       "      <th>3201</th>\n",
       "      <td>1499</td>\n",
       "      <td>11</td>\n",
       "      <td>18.0</td>\n",
       "    </tr>\n",
       "    <tr>\n",
       "      <th>3202</th>\n",
       "      <td>1499</td>\n",
       "      <td>12</td>\n",
       "      <td>13.0</td>\n",
       "    </tr>\n",
       "  </tbody>\n",
       "</table>\n",
       "<p>3203 rows × 3 columns</p>\n",
       "</div>"
      ],
      "text/plain": [
       "      user_id  month  gb_used\n",
       "0        1000      5      3.0\n",
       "1        1000      6     23.0\n",
       "2        1000      7     14.0\n",
       "3        1000      8     14.0\n",
       "4        1000      9     15.0\n",
       "...       ...    ...      ...\n",
       "3198     1498     10     21.0\n",
       "3199     1499      9      2.0\n",
       "3200     1499     10     18.0\n",
       "3201     1499     11     18.0\n",
       "3202     1499     12     13.0\n",
       "\n",
       "[3203 rows x 3 columns]"
      ]
     },
     "metadata": {},
     "output_type": "display_data"
    }
   ],
   "source": [
    "df_internet_month = df_internet.pivot_table(index=['user_id','month_internet'], values='mb_used',aggfunc=['sum'])\n",
    "df_internet_month = pd.DataFrame(data = np.ceil(df_internet_month.values/1024), columns = df_internet_month.columns, index = df_internet_month.index)\n",
    "df_internet_month = pd.DataFrame(df_internet_month.to_records())\n",
    "df_internet_month.columns = ['user_id', 'month', 'gb_used']\n",
    "display(df_internet_month.sort_values(by=['user_id', 'month']))"
   ]
  },
  {
   "cell_type": "markdown",
   "metadata": {},
   "source": [
    "Мы получили таблицу интернет-трафика пользователей."
   ]
  },
  {
   "cell_type": "markdown",
   "metadata": {},
   "source": [
    "По каждому пользователю получили аналитику по месяцам 2018 году по тратам тарифа на связь (в минутах), смс (количество штук) и интернет (Гб). Пропуски в данных за какой-либо месяц по пользователю в каждой таблице связаны с отсуствием абонента на тарифе (отсчет идет от даты подключения к тарифу).\n",
    "\n",
    "Объединим данные пользователей с данными по мобильным тратам в **таблицу всего трафика по месяцам**:"
   ]
  },
  {
   "cell_type": "code",
   "execution_count": 592,
   "metadata": {},
   "outputs": [],
   "source": [
    "df_all_traffic = df_calls_month.merge(df_messages_month,how='left')\n",
    "df_all_traffic = df_all_traffic.merge(df_internet_month,how='left')\n",
    "df_all_traffic = df_all_traffic.merge(df_users, how = 'left')"
   ]
  },
  {
   "cell_type": "code",
   "execution_count": 593,
   "metadata": {},
   "outputs": [
    {
     "name": "stdout",
     "output_type": "stream",
     "text": [
      "<class 'pandas.core.frame.DataFrame'>\n",
      "Int64Index: 3174 entries, 0 to 3173\n",
      "Data columns (total 12 columns):\n",
      " #   Column      Non-Null Count  Dtype         \n",
      "---  ------      --------------  -----         \n",
      " 0   user_id     3174 non-null   int64         \n",
      " 1   month       3174 non-null   int64         \n",
      " 2   call        3174 non-null   float64       \n",
      " 3   sms         2678 non-null   float64       \n",
      " 4   gb_used     3163 non-null   float64       \n",
      " 5   age         3174 non-null   int64         \n",
      " 6   churn_date  187 non-null    datetime64[ns]\n",
      " 7   city        3174 non-null   object        \n",
      " 8   first_name  3174 non-null   object        \n",
      " 9   last_name   3174 non-null   object        \n",
      " 10  reg_date    3174 non-null   datetime64[ns]\n",
      " 11  tariff      3174 non-null   object        \n",
      "dtypes: datetime64[ns](2), float64(3), int64(3), object(4)\n",
      "memory usage: 322.4+ KB\n"
     ]
    }
   ],
   "source": [
    "df_all_traffic.info()"
   ]
  },
  {
   "cell_type": "code",
   "execution_count": 594,
   "metadata": {},
   "outputs": [
    {
     "data": {
      "text/html": [
       "<div>\n",
       "<style scoped>\n",
       "    .dataframe tbody tr th:only-of-type {\n",
       "        vertical-align: middle;\n",
       "    }\n",
       "\n",
       "    .dataframe tbody tr th {\n",
       "        vertical-align: top;\n",
       "    }\n",
       "\n",
       "    .dataframe thead th {\n",
       "        text-align: right;\n",
       "    }\n",
       "</style>\n",
       "<table border=\"1\" class=\"dataframe\">\n",
       "  <thead>\n",
       "    <tr style=\"text-align: right;\">\n",
       "      <th></th>\n",
       "      <th>user_id</th>\n",
       "      <th>month</th>\n",
       "      <th>call</th>\n",
       "      <th>sms</th>\n",
       "      <th>gb_used</th>\n",
       "      <th>age</th>\n",
       "      <th>churn_date</th>\n",
       "      <th>city</th>\n",
       "      <th>first_name</th>\n",
       "      <th>last_name</th>\n",
       "      <th>reg_date</th>\n",
       "      <th>tariff</th>\n",
       "    </tr>\n",
       "  </thead>\n",
       "  <tbody>\n",
       "    <tr>\n",
       "      <th>0</th>\n",
       "      <td>1000</td>\n",
       "      <td>5</td>\n",
       "      <td>159.0</td>\n",
       "      <td>22.0</td>\n",
       "      <td>3.0</td>\n",
       "      <td>52</td>\n",
       "      <td>NaT</td>\n",
       "      <td>Краснодар</td>\n",
       "      <td>Рафаил</td>\n",
       "      <td>Верещагин</td>\n",
       "      <td>2018-05-25</td>\n",
       "      <td>ultra</td>\n",
       "    </tr>\n",
       "    <tr>\n",
       "      <th>1</th>\n",
       "      <td>1000</td>\n",
       "      <td>6</td>\n",
       "      <td>172.0</td>\n",
       "      <td>60.0</td>\n",
       "      <td>23.0</td>\n",
       "      <td>52</td>\n",
       "      <td>NaT</td>\n",
       "      <td>Краснодар</td>\n",
       "      <td>Рафаил</td>\n",
       "      <td>Верещагин</td>\n",
       "      <td>2018-05-25</td>\n",
       "      <td>ultra</td>\n",
       "    </tr>\n",
       "    <tr>\n",
       "      <th>2</th>\n",
       "      <td>1000</td>\n",
       "      <td>7</td>\n",
       "      <td>340.0</td>\n",
       "      <td>75.0</td>\n",
       "      <td>14.0</td>\n",
       "      <td>52</td>\n",
       "      <td>NaT</td>\n",
       "      <td>Краснодар</td>\n",
       "      <td>Рафаил</td>\n",
       "      <td>Верещагин</td>\n",
       "      <td>2018-05-25</td>\n",
       "      <td>ultra</td>\n",
       "    </tr>\n",
       "    <tr>\n",
       "      <th>3</th>\n",
       "      <td>1000</td>\n",
       "      <td>8</td>\n",
       "      <td>408.0</td>\n",
       "      <td>81.0</td>\n",
       "      <td>14.0</td>\n",
       "      <td>52</td>\n",
       "      <td>NaT</td>\n",
       "      <td>Краснодар</td>\n",
       "      <td>Рафаил</td>\n",
       "      <td>Верещагин</td>\n",
       "      <td>2018-05-25</td>\n",
       "      <td>ultra</td>\n",
       "    </tr>\n",
       "    <tr>\n",
       "      <th>4</th>\n",
       "      <td>1000</td>\n",
       "      <td>9</td>\n",
       "      <td>466.0</td>\n",
       "      <td>57.0</td>\n",
       "      <td>15.0</td>\n",
       "      <td>52</td>\n",
       "      <td>NaT</td>\n",
       "      <td>Краснодар</td>\n",
       "      <td>Рафаил</td>\n",
       "      <td>Верещагин</td>\n",
       "      <td>2018-05-25</td>\n",
       "      <td>ultra</td>\n",
       "    </tr>\n",
       "    <tr>\n",
       "      <th>5</th>\n",
       "      <td>1000</td>\n",
       "      <td>10</td>\n",
       "      <td>350.0</td>\n",
       "      <td>73.0</td>\n",
       "      <td>15.0</td>\n",
       "      <td>52</td>\n",
       "      <td>NaT</td>\n",
       "      <td>Краснодар</td>\n",
       "      <td>Рафаил</td>\n",
       "      <td>Верещагин</td>\n",
       "      <td>2018-05-25</td>\n",
       "      <td>ultra</td>\n",
       "    </tr>\n",
       "    <tr>\n",
       "      <th>6</th>\n",
       "      <td>1000</td>\n",
       "      <td>11</td>\n",
       "      <td>338.0</td>\n",
       "      <td>58.0</td>\n",
       "      <td>15.0</td>\n",
       "      <td>52</td>\n",
       "      <td>NaT</td>\n",
       "      <td>Краснодар</td>\n",
       "      <td>Рафаил</td>\n",
       "      <td>Верещагин</td>\n",
       "      <td>2018-05-25</td>\n",
       "      <td>ultra</td>\n",
       "    </tr>\n",
       "    <tr>\n",
       "      <th>7</th>\n",
       "      <td>1000</td>\n",
       "      <td>12</td>\n",
       "      <td>333.0</td>\n",
       "      <td>70.0</td>\n",
       "      <td>10.0</td>\n",
       "      <td>52</td>\n",
       "      <td>NaT</td>\n",
       "      <td>Краснодар</td>\n",
       "      <td>Рафаил</td>\n",
       "      <td>Верещагин</td>\n",
       "      <td>2018-05-25</td>\n",
       "      <td>ultra</td>\n",
       "    </tr>\n",
       "    <tr>\n",
       "      <th>8</th>\n",
       "      <td>1001</td>\n",
       "      <td>11</td>\n",
       "      <td>430.0</td>\n",
       "      <td>NaN</td>\n",
       "      <td>18.0</td>\n",
       "      <td>41</td>\n",
       "      <td>NaT</td>\n",
       "      <td>Москва</td>\n",
       "      <td>Иван</td>\n",
       "      <td>Ежов</td>\n",
       "      <td>2018-11-01</td>\n",
       "      <td>smart</td>\n",
       "    </tr>\n",
       "    <tr>\n",
       "      <th>9</th>\n",
       "      <td>1001</td>\n",
       "      <td>12</td>\n",
       "      <td>414.0</td>\n",
       "      <td>NaN</td>\n",
       "      <td>14.0</td>\n",
       "      <td>41</td>\n",
       "      <td>NaT</td>\n",
       "      <td>Москва</td>\n",
       "      <td>Иван</td>\n",
       "      <td>Ежов</td>\n",
       "      <td>2018-11-01</td>\n",
       "      <td>smart</td>\n",
       "    </tr>\n",
       "  </tbody>\n",
       "</table>\n",
       "</div>"
      ],
      "text/plain": [
       "   user_id  month   call   sms  gb_used  age churn_date       city first_name  \\\n",
       "0     1000      5  159.0  22.0      3.0   52        NaT  Краснодар     Рафаил   \n",
       "1     1000      6  172.0  60.0     23.0   52        NaT  Краснодар     Рафаил   \n",
       "2     1000      7  340.0  75.0     14.0   52        NaT  Краснодар     Рафаил   \n",
       "3     1000      8  408.0  81.0     14.0   52        NaT  Краснодар     Рафаил   \n",
       "4     1000      9  466.0  57.0     15.0   52        NaT  Краснодар     Рафаил   \n",
       "5     1000     10  350.0  73.0     15.0   52        NaT  Краснодар     Рафаил   \n",
       "6     1000     11  338.0  58.0     15.0   52        NaT  Краснодар     Рафаил   \n",
       "7     1000     12  333.0  70.0     10.0   52        NaT  Краснодар     Рафаил   \n",
       "8     1001     11  430.0   NaN     18.0   41        NaT     Москва       Иван   \n",
       "9     1001     12  414.0   NaN     14.0   41        NaT     Москва       Иван   \n",
       "\n",
       "   last_name   reg_date tariff  \n",
       "0  Верещагин 2018-05-25  ultra  \n",
       "1  Верещагин 2018-05-25  ultra  \n",
       "2  Верещагин 2018-05-25  ultra  \n",
       "3  Верещагин 2018-05-25  ultra  \n",
       "4  Верещагин 2018-05-25  ultra  \n",
       "5  Верещагин 2018-05-25  ultra  \n",
       "6  Верещагин 2018-05-25  ultra  \n",
       "7  Верещагин 2018-05-25  ultra  \n",
       "8       Ежов 2018-11-01  smart  \n",
       "9       Ежов 2018-11-01  smart  "
      ]
     },
     "execution_count": 594,
     "metadata": {},
     "output_type": "execute_result"
    }
   ],
   "source": [
    "df_all_traffic.head(10)"
   ]
  },
  {
   "cell_type": "markdown",
   "metadata": {},
   "source": [
    "**Мы получили новую таблицу, по 500 пользователям, в которой по месяцам видим траты каждого пользователя в минутах, штуках смс и Гб интернета. Пропуски NaN связаны с неиспользованием какого-либо траффика.**\n"
   ]
  },
  {
   "cell_type": "markdown",
   "metadata": {},
   "source": [
    "Добавим в эту таблицу данные по тарифам из таблицы *'df_tariffs'*:"
   ]
  },
  {
   "cell_type": "code",
   "execution_count": 595,
   "metadata": {
    "scrolled": true
   },
   "outputs": [
    {
     "data": {
      "text/html": [
       "<div>\n",
       "<style scoped>\n",
       "    .dataframe tbody tr th:only-of-type {\n",
       "        vertical-align: middle;\n",
       "    }\n",
       "\n",
       "    .dataframe tbody tr th {\n",
       "        vertical-align: top;\n",
       "    }\n",
       "\n",
       "    .dataframe thead th {\n",
       "        text-align: right;\n",
       "    }\n",
       "</style>\n",
       "<table border=\"1\" class=\"dataframe\">\n",
       "  <thead>\n",
       "    <tr style=\"text-align: right;\">\n",
       "      <th></th>\n",
       "      <th>user_id</th>\n",
       "      <th>month</th>\n",
       "      <th>call</th>\n",
       "      <th>sms</th>\n",
       "      <th>gb_used</th>\n",
       "      <th>age</th>\n",
       "      <th>churn_date</th>\n",
       "      <th>city</th>\n",
       "      <th>first_name</th>\n",
       "      <th>last_name</th>\n",
       "      <th>reg_date</th>\n",
       "      <th>tariff</th>\n",
       "      <th>messages_included</th>\n",
       "      <th>gb_per_month_included</th>\n",
       "      <th>minutes_included</th>\n",
       "      <th>rub_monthly_fee</th>\n",
       "      <th>rub_per_gb</th>\n",
       "      <th>rub_per_message</th>\n",
       "      <th>rub_per_minute</th>\n",
       "    </tr>\n",
       "  </thead>\n",
       "  <tbody>\n",
       "    <tr>\n",
       "      <th>0</th>\n",
       "      <td>1000</td>\n",
       "      <td>5</td>\n",
       "      <td>159.0</td>\n",
       "      <td>22.0</td>\n",
       "      <td>3.0</td>\n",
       "      <td>52</td>\n",
       "      <td>NaT</td>\n",
       "      <td>Краснодар</td>\n",
       "      <td>Рафаил</td>\n",
       "      <td>Верещагин</td>\n",
       "      <td>2018-05-25</td>\n",
       "      <td>ultra</td>\n",
       "      <td>1000.0</td>\n",
       "      <td>30.0</td>\n",
       "      <td>3000.0</td>\n",
       "      <td>1950.0</td>\n",
       "      <td>150.0</td>\n",
       "      <td>1.0</td>\n",
       "      <td>1.0</td>\n",
       "    </tr>\n",
       "    <tr>\n",
       "      <th>1</th>\n",
       "      <td>1000</td>\n",
       "      <td>6</td>\n",
       "      <td>172.0</td>\n",
       "      <td>60.0</td>\n",
       "      <td>23.0</td>\n",
       "      <td>52</td>\n",
       "      <td>NaT</td>\n",
       "      <td>Краснодар</td>\n",
       "      <td>Рафаил</td>\n",
       "      <td>Верещагин</td>\n",
       "      <td>2018-05-25</td>\n",
       "      <td>ultra</td>\n",
       "      <td>1000.0</td>\n",
       "      <td>30.0</td>\n",
       "      <td>3000.0</td>\n",
       "      <td>1950.0</td>\n",
       "      <td>150.0</td>\n",
       "      <td>1.0</td>\n",
       "      <td>1.0</td>\n",
       "    </tr>\n",
       "    <tr>\n",
       "      <th>2</th>\n",
       "      <td>1000</td>\n",
       "      <td>7</td>\n",
       "      <td>340.0</td>\n",
       "      <td>75.0</td>\n",
       "      <td>14.0</td>\n",
       "      <td>52</td>\n",
       "      <td>NaT</td>\n",
       "      <td>Краснодар</td>\n",
       "      <td>Рафаил</td>\n",
       "      <td>Верещагин</td>\n",
       "      <td>2018-05-25</td>\n",
       "      <td>ultra</td>\n",
       "      <td>1000.0</td>\n",
       "      <td>30.0</td>\n",
       "      <td>3000.0</td>\n",
       "      <td>1950.0</td>\n",
       "      <td>150.0</td>\n",
       "      <td>1.0</td>\n",
       "      <td>1.0</td>\n",
       "    </tr>\n",
       "    <tr>\n",
       "      <th>3</th>\n",
       "      <td>1000</td>\n",
       "      <td>8</td>\n",
       "      <td>408.0</td>\n",
       "      <td>81.0</td>\n",
       "      <td>14.0</td>\n",
       "      <td>52</td>\n",
       "      <td>NaT</td>\n",
       "      <td>Краснодар</td>\n",
       "      <td>Рафаил</td>\n",
       "      <td>Верещагин</td>\n",
       "      <td>2018-05-25</td>\n",
       "      <td>ultra</td>\n",
       "      <td>1000.0</td>\n",
       "      <td>30.0</td>\n",
       "      <td>3000.0</td>\n",
       "      <td>1950.0</td>\n",
       "      <td>150.0</td>\n",
       "      <td>1.0</td>\n",
       "      <td>1.0</td>\n",
       "    </tr>\n",
       "    <tr>\n",
       "      <th>4</th>\n",
       "      <td>1000</td>\n",
       "      <td>9</td>\n",
       "      <td>466.0</td>\n",
       "      <td>57.0</td>\n",
       "      <td>15.0</td>\n",
       "      <td>52</td>\n",
       "      <td>NaT</td>\n",
       "      <td>Краснодар</td>\n",
       "      <td>Рафаил</td>\n",
       "      <td>Верещагин</td>\n",
       "      <td>2018-05-25</td>\n",
       "      <td>ultra</td>\n",
       "      <td>1000.0</td>\n",
       "      <td>30.0</td>\n",
       "      <td>3000.0</td>\n",
       "      <td>1950.0</td>\n",
       "      <td>150.0</td>\n",
       "      <td>1.0</td>\n",
       "      <td>1.0</td>\n",
       "    </tr>\n",
       "  </tbody>\n",
       "</table>\n",
       "</div>"
      ],
      "text/plain": [
       "   user_id  month   call   sms  gb_used  age churn_date       city first_name  \\\n",
       "0     1000      5  159.0  22.0      3.0   52        NaT  Краснодар     Рафаил   \n",
       "1     1000      6  172.0  60.0     23.0   52        NaT  Краснодар     Рафаил   \n",
       "2     1000      7  340.0  75.0     14.0   52        NaT  Краснодар     Рафаил   \n",
       "3     1000      8  408.0  81.0     14.0   52        NaT  Краснодар     Рафаил   \n",
       "4     1000      9  466.0  57.0     15.0   52        NaT  Краснодар     Рафаил   \n",
       "\n",
       "   last_name   reg_date tariff  messages_included  gb_per_month_included  \\\n",
       "0  Верещагин 2018-05-25  ultra             1000.0                   30.0   \n",
       "1  Верещагин 2018-05-25  ultra             1000.0                   30.0   \n",
       "2  Верещагин 2018-05-25  ultra             1000.0                   30.0   \n",
       "3  Верещагин 2018-05-25  ultra             1000.0                   30.0   \n",
       "4  Верещагин 2018-05-25  ultra             1000.0                   30.0   \n",
       "\n",
       "   minutes_included  rub_monthly_fee  rub_per_gb  rub_per_message  \\\n",
       "0            3000.0           1950.0       150.0              1.0   \n",
       "1            3000.0           1950.0       150.0              1.0   \n",
       "2            3000.0           1950.0       150.0              1.0   \n",
       "3            3000.0           1950.0       150.0              1.0   \n",
       "4            3000.0           1950.0       150.0              1.0   \n",
       "\n",
       "   rub_per_minute  \n",
       "0             1.0  \n",
       "1             1.0  \n",
       "2             1.0  \n",
       "3             1.0  \n",
       "4             1.0  "
      ]
     },
     "execution_count": 595,
     "metadata": {},
     "output_type": "execute_result"
    }
   ],
   "source": [
    "df_all_traffic.loc[df_all_traffic['tariff'] =='ultra', 'messages_included'] = df_tariffs['messages_included'].values[1]\n",
    "df_all_traffic.loc[df_all_traffic['tariff'] =='smart', 'messages_included'] = df_tariffs['messages_included'].values[0]\n",
    "\n",
    "df_all_traffic.loc[df_all_traffic['tariff'] =='ultra', 'gb_per_month_included'] = df_tariffs['mb_per_month_included'].values[1]/1024\n",
    "df_all_traffic.loc[df_all_traffic['tariff'] =='smart', 'gb_per_month_included'] = df_tariffs['mb_per_month_included'].values[0]/1024  \n",
    "                                                     \n",
    "df_all_traffic.loc[df_all_traffic['tariff'] =='ultra', 'minutes_included'] = df_tariffs['minutes_included'].values[1]\n",
    "df_all_traffic.loc[df_all_traffic['tariff'] =='smart', 'minutes_included'] = df_tariffs['minutes_included'].values[0]  \n",
    "\n",
    "df_all_traffic.loc[df_all_traffic['tariff'] =='ultra', 'rub_monthly_fee'] = df_tariffs['rub_monthly_fee'].values[1]\n",
    "df_all_traffic.loc[df_all_traffic['tariff'] =='smart', 'rub_monthly_fee'] = df_tariffs['rub_monthly_fee'].values[0]   \n",
    "\n",
    "df_all_traffic.loc[df_all_traffic['tariff'] =='ultra', 'rub_per_gb'] = df_tariffs['rub_per_gb'].values[1]\n",
    "df_all_traffic.loc[df_all_traffic['tariff'] =='smart', 'rub_per_gb'] = df_tariffs['rub_per_gb'].values[0]  \n",
    "\n",
    "df_all_traffic.loc[df_all_traffic['tariff'] =='ultra', 'rub_per_message'] = df_tariffs['rub_per_message'].values[1]\n",
    "df_all_traffic.loc[df_all_traffic['tariff'] =='smart', 'rub_per_message'] = df_tariffs['rub_per_message'].values[0]  \n",
    "\n",
    "df_all_traffic.loc[df_all_traffic['tariff'] =='ultra', 'rub_per_minute'] = df_tariffs['rub_per_minute'].values[1]\n",
    "df_all_traffic.loc[df_all_traffic['tariff'] =='smart', 'rub_per_minute'] = df_tariffs['rub_per_minute'].values[0] \n",
    "\n",
    "df_all_traffic.head()"
   ]
  },
  {
   "cell_type": "markdown",
   "metadata": {},
   "source": [
    "Прежде чем заполнить  пропуски нулевым значением, проверим, есть ли нулевые значения по пользователям в звонках,смс и интернету за весь год:"
   ]
  },
  {
   "cell_type": "code",
   "execution_count": 596,
   "metadata": {},
   "outputs": [
    {
     "data": {
      "text/html": [
       "<div>\n",
       "<style scoped>\n",
       "    .dataframe tbody tr th:only-of-type {\n",
       "        vertical-align: middle;\n",
       "    }\n",
       "\n",
       "    .dataframe tbody tr th {\n",
       "        vertical-align: top;\n",
       "    }\n",
       "\n",
       "    .dataframe thead th {\n",
       "        text-align: right;\n",
       "    }\n",
       "</style>\n",
       "<table border=\"1\" class=\"dataframe\">\n",
       "  <thead>\n",
       "    <tr style=\"text-align: right;\">\n",
       "      <th></th>\n",
       "      <th>user_id</th>\n",
       "      <th>month</th>\n",
       "      <th>call</th>\n",
       "      <th>sms</th>\n",
       "      <th>gb_used</th>\n",
       "      <th>age</th>\n",
       "      <th>churn_date</th>\n",
       "      <th>city</th>\n",
       "      <th>first_name</th>\n",
       "      <th>last_name</th>\n",
       "      <th>reg_date</th>\n",
       "      <th>tariff</th>\n",
       "      <th>messages_included</th>\n",
       "      <th>gb_per_month_included</th>\n",
       "      <th>minutes_included</th>\n",
       "      <th>rub_monthly_fee</th>\n",
       "      <th>rub_per_gb</th>\n",
       "      <th>rub_per_message</th>\n",
       "      <th>rub_per_minute</th>\n",
       "    </tr>\n",
       "  </thead>\n",
       "  <tbody>\n",
       "    <tr>\n",
       "      <th>584</th>\n",
       "      <td>1094</td>\n",
       "      <td>5</td>\n",
       "      <td>107.0</td>\n",
       "      <td>3.0</td>\n",
       "      <td>0.0</td>\n",
       "      <td>37</td>\n",
       "      <td>NaT</td>\n",
       "      <td>Новосибирск</td>\n",
       "      <td>Даниэла</td>\n",
       "      <td>Пугачева</td>\n",
       "      <td>2018-05-28</td>\n",
       "      <td>ultra</td>\n",
       "      <td>1000.0</td>\n",
       "      <td>30.0</td>\n",
       "      <td>3000.0</td>\n",
       "      <td>1950.0</td>\n",
       "      <td>150.0</td>\n",
       "      <td>1.0</td>\n",
       "      <td>1.0</td>\n",
       "    </tr>\n",
       "    <tr>\n",
       "      <th>1493</th>\n",
       "      <td>1240</td>\n",
       "      <td>2</td>\n",
       "      <td>0.0</td>\n",
       "      <td>NaN</td>\n",
       "      <td>1.0</td>\n",
       "      <td>30</td>\n",
       "      <td>NaT</td>\n",
       "      <td>Воронеж</td>\n",
       "      <td>Зинаида</td>\n",
       "      <td>Шарова</td>\n",
       "      <td>2018-02-27</td>\n",
       "      <td>ultra</td>\n",
       "      <td>1000.0</td>\n",
       "      <td>30.0</td>\n",
       "      <td>3000.0</td>\n",
       "      <td>1950.0</td>\n",
       "      <td>150.0</td>\n",
       "      <td>1.0</td>\n",
       "      <td>1.0</td>\n",
       "    </tr>\n",
       "    <tr>\n",
       "      <th>1605</th>\n",
       "      <td>1257</td>\n",
       "      <td>7</td>\n",
       "      <td>0.0</td>\n",
       "      <td>146.0</td>\n",
       "      <td>20.0</td>\n",
       "      <td>21</td>\n",
       "      <td>NaT</td>\n",
       "      <td>Санкт-Петербург</td>\n",
       "      <td>Габриель</td>\n",
       "      <td>Жданов</td>\n",
       "      <td>2018-06-17</td>\n",
       "      <td>ultra</td>\n",
       "      <td>1000.0</td>\n",
       "      <td>30.0</td>\n",
       "      <td>3000.0</td>\n",
       "      <td>1950.0</td>\n",
       "      <td>150.0</td>\n",
       "      <td>1.0</td>\n",
       "      <td>1.0</td>\n",
       "    </tr>\n",
       "    <tr>\n",
       "      <th>1606</th>\n",
       "      <td>1257</td>\n",
       "      <td>8</td>\n",
       "      <td>0.0</td>\n",
       "      <td>157.0</td>\n",
       "      <td>25.0</td>\n",
       "      <td>21</td>\n",
       "      <td>NaT</td>\n",
       "      <td>Санкт-Петербург</td>\n",
       "      <td>Габриель</td>\n",
       "      <td>Жданов</td>\n",
       "      <td>2018-06-17</td>\n",
       "      <td>ultra</td>\n",
       "      <td>1000.0</td>\n",
       "      <td>30.0</td>\n",
       "      <td>3000.0</td>\n",
       "      <td>1950.0</td>\n",
       "      <td>150.0</td>\n",
       "      <td>1.0</td>\n",
       "      <td>1.0</td>\n",
       "    </tr>\n",
       "    <tr>\n",
       "      <th>1607</th>\n",
       "      <td>1257</td>\n",
       "      <td>9</td>\n",
       "      <td>0.0</td>\n",
       "      <td>153.0</td>\n",
       "      <td>23.0</td>\n",
       "      <td>21</td>\n",
       "      <td>NaT</td>\n",
       "      <td>Санкт-Петербург</td>\n",
       "      <td>Габриель</td>\n",
       "      <td>Жданов</td>\n",
       "      <td>2018-06-17</td>\n",
       "      <td>ultra</td>\n",
       "      <td>1000.0</td>\n",
       "      <td>30.0</td>\n",
       "      <td>3000.0</td>\n",
       "      <td>1950.0</td>\n",
       "      <td>150.0</td>\n",
       "      <td>1.0</td>\n",
       "      <td>1.0</td>\n",
       "    </tr>\n",
       "    <tr>\n",
       "      <th>2278</th>\n",
       "      <td>1365</td>\n",
       "      <td>10</td>\n",
       "      <td>43.0</td>\n",
       "      <td>1.0</td>\n",
       "      <td>0.0</td>\n",
       "      <td>38</td>\n",
       "      <td>NaT</td>\n",
       "      <td>Ростов-на-Дону</td>\n",
       "      <td>Георгий</td>\n",
       "      <td>Вишняков</td>\n",
       "      <td>2018-10-31</td>\n",
       "      <td>smart</td>\n",
       "      <td>50.0</td>\n",
       "      <td>15.0</td>\n",
       "      <td>500.0</td>\n",
       "      <td>550.0</td>\n",
       "      <td>200.0</td>\n",
       "      <td>3.0</td>\n",
       "      <td>3.0</td>\n",
       "    </tr>\n",
       "    <tr>\n",
       "      <th>2318</th>\n",
       "      <td>1373</td>\n",
       "      <td>1</td>\n",
       "      <td>0.0</td>\n",
       "      <td>28.0</td>\n",
       "      <td>9.0</td>\n",
       "      <td>34</td>\n",
       "      <td>NaT</td>\n",
       "      <td>Улан-Удэ</td>\n",
       "      <td>Нелли</td>\n",
       "      <td>Афанасенко</td>\n",
       "      <td>2018-01-17</td>\n",
       "      <td>smart</td>\n",
       "      <td>50.0</td>\n",
       "      <td>15.0</td>\n",
       "      <td>500.0</td>\n",
       "      <td>550.0</td>\n",
       "      <td>200.0</td>\n",
       "      <td>3.0</td>\n",
       "      <td>3.0</td>\n",
       "    </tr>\n",
       "    <tr>\n",
       "      <th>2321</th>\n",
       "      <td>1373</td>\n",
       "      <td>4</td>\n",
       "      <td>0.0</td>\n",
       "      <td>48.0</td>\n",
       "      <td>20.0</td>\n",
       "      <td>34</td>\n",
       "      <td>NaT</td>\n",
       "      <td>Улан-Удэ</td>\n",
       "      <td>Нелли</td>\n",
       "      <td>Афанасенко</td>\n",
       "      <td>2018-01-17</td>\n",
       "      <td>smart</td>\n",
       "      <td>50.0</td>\n",
       "      <td>15.0</td>\n",
       "      <td>500.0</td>\n",
       "      <td>550.0</td>\n",
       "      <td>200.0</td>\n",
       "      <td>3.0</td>\n",
       "      <td>3.0</td>\n",
       "    </tr>\n",
       "  </tbody>\n",
       "</table>\n",
       "</div>"
      ],
      "text/plain": [
       "      user_id  month   call    sms  gb_used  age churn_date             city  \\\n",
       "584      1094      5  107.0    3.0      0.0   37        NaT      Новосибирск   \n",
       "1493     1240      2    0.0    NaN      1.0   30        NaT          Воронеж   \n",
       "1605     1257      7    0.0  146.0     20.0   21        NaT  Санкт-Петербург   \n",
       "1606     1257      8    0.0  157.0     25.0   21        NaT  Санкт-Петербург   \n",
       "1607     1257      9    0.0  153.0     23.0   21        NaT  Санкт-Петербург   \n",
       "2278     1365     10   43.0    1.0      0.0   38        NaT   Ростов-на-Дону   \n",
       "2318     1373      1    0.0   28.0      9.0   34        NaT         Улан-Удэ   \n",
       "2321     1373      4    0.0   48.0     20.0   34        NaT         Улан-Удэ   \n",
       "\n",
       "     first_name   last_name   reg_date tariff  messages_included  \\\n",
       "584     Даниэла    Пугачева 2018-05-28  ultra             1000.0   \n",
       "1493    Зинаида      Шарова 2018-02-27  ultra             1000.0   \n",
       "1605   Габриель      Жданов 2018-06-17  ultra             1000.0   \n",
       "1606   Габриель      Жданов 2018-06-17  ultra             1000.0   \n",
       "1607   Габриель      Жданов 2018-06-17  ultra             1000.0   \n",
       "2278    Георгий    Вишняков 2018-10-31  smart               50.0   \n",
       "2318      Нелли  Афанасенко 2018-01-17  smart               50.0   \n",
       "2321      Нелли  Афанасенко 2018-01-17  smart               50.0   \n",
       "\n",
       "      gb_per_month_included  minutes_included  rub_monthly_fee  rub_per_gb  \\\n",
       "584                    30.0            3000.0           1950.0       150.0   \n",
       "1493                   30.0            3000.0           1950.0       150.0   \n",
       "1605                   30.0            3000.0           1950.0       150.0   \n",
       "1606                   30.0            3000.0           1950.0       150.0   \n",
       "1607                   30.0            3000.0           1950.0       150.0   \n",
       "2278                   15.0             500.0            550.0       200.0   \n",
       "2318                   15.0             500.0            550.0       200.0   \n",
       "2321                   15.0             500.0            550.0       200.0   \n",
       "\n",
       "      rub_per_message  rub_per_minute  \n",
       "584               1.0             1.0  \n",
       "1493              1.0             1.0  \n",
       "1605              1.0             1.0  \n",
       "1606              1.0             1.0  \n",
       "1607              1.0             1.0  \n",
       "2278              3.0             3.0  \n",
       "2318              3.0             3.0  \n",
       "2321              3.0             3.0  "
      ]
     },
     "metadata": {},
     "output_type": "display_data"
    }
   ],
   "source": [
    "display(df_all_traffic.query('call == 0 | sms == 0 | gb_used == 0'))"
   ]
  },
  {
   "cell_type": "markdown",
   "metadata": {},
   "source": [
    "Видим, что у 5 пользователей есть нулевые траты по трафикам, что вполне может быть, когда пользователь не использует какие-то опции в тот или иной месяц. Заменим все пропуски на 0."
   ]
  },
  {
   "cell_type": "code",
   "execution_count": 597,
   "metadata": {},
   "outputs": [],
   "source": [
    "df_all_traffic = df_all_traffic.fillna(0)"
   ]
  },
  {
   "cell_type": "markdown",
   "metadata": {},
   "source": [
    "Напишем функцию, которая считает трафик. потраченный сверхтарифа в месяц:"
   ]
  },
  {
   "cell_type": "code",
   "execution_count": 598,
   "metadata": {},
   "outputs": [],
   "source": [
    "#функция считает трафик (минуты,смс или инет потраченные сверхтарифа)\n",
    "def limit(data,traffic,over_traffic,included): \n",
    "    data.loc[data[traffic] ==0, over_traffic] = 0\n",
    "    data.loc[data[traffic] !=0, over_traffic] = data[included]-data[traffic]#считаем разность по тарифу"
   ]
  },
  {
   "cell_type": "markdown",
   "metadata": {},
   "source": [
    "Применим функцию к 12 месяцам по звонкам, смс и интернету:"
   ]
  },
  {
   "cell_type": "code",
   "execution_count": 599,
   "metadata": {},
   "outputs": [
    {
     "data": {
      "text/html": [
       "<div>\n",
       "<style scoped>\n",
       "    .dataframe tbody tr th:only-of-type {\n",
       "        vertical-align: middle;\n",
       "    }\n",
       "\n",
       "    .dataframe tbody tr th {\n",
       "        vertical-align: top;\n",
       "    }\n",
       "\n",
       "    .dataframe thead th {\n",
       "        text-align: right;\n",
       "    }\n",
       "</style>\n",
       "<table border=\"1\" class=\"dataframe\">\n",
       "  <thead>\n",
       "    <tr style=\"text-align: right;\">\n",
       "      <th></th>\n",
       "      <th>user_id</th>\n",
       "      <th>month</th>\n",
       "      <th>call</th>\n",
       "      <th>sms</th>\n",
       "      <th>gb_used</th>\n",
       "      <th>age</th>\n",
       "      <th>churn_date</th>\n",
       "      <th>city</th>\n",
       "      <th>first_name</th>\n",
       "      <th>last_name</th>\n",
       "      <th>reg_date</th>\n",
       "      <th>tariff</th>\n",
       "      <th>messages_included</th>\n",
       "      <th>gb_per_month_included</th>\n",
       "      <th>minutes_included</th>\n",
       "      <th>rub_monthly_fee</th>\n",
       "      <th>rub_per_gb</th>\n",
       "      <th>rub_per_message</th>\n",
       "      <th>rub_per_minute</th>\n",
       "      <th>over_call</th>\n",
       "      <th>over_sms</th>\n",
       "      <th>over_inet</th>\n",
       "    </tr>\n",
       "  </thead>\n",
       "  <tbody>\n",
       "    <tr>\n",
       "      <th>0</th>\n",
       "      <td>1000</td>\n",
       "      <td>5</td>\n",
       "      <td>159.0</td>\n",
       "      <td>22.0</td>\n",
       "      <td>3.0</td>\n",
       "      <td>52</td>\n",
       "      <td>0</td>\n",
       "      <td>Краснодар</td>\n",
       "      <td>Рафаил</td>\n",
       "      <td>Верещагин</td>\n",
       "      <td>2018-05-25</td>\n",
       "      <td>ultra</td>\n",
       "      <td>1000.0</td>\n",
       "      <td>30.0</td>\n",
       "      <td>3000.0</td>\n",
       "      <td>1950.0</td>\n",
       "      <td>150.0</td>\n",
       "      <td>1.0</td>\n",
       "      <td>1.0</td>\n",
       "      <td>2841.0</td>\n",
       "      <td>978.0</td>\n",
       "      <td>27.0</td>\n",
       "    </tr>\n",
       "    <tr>\n",
       "      <th>1</th>\n",
       "      <td>1000</td>\n",
       "      <td>6</td>\n",
       "      <td>172.0</td>\n",
       "      <td>60.0</td>\n",
       "      <td>23.0</td>\n",
       "      <td>52</td>\n",
       "      <td>0</td>\n",
       "      <td>Краснодар</td>\n",
       "      <td>Рафаил</td>\n",
       "      <td>Верещагин</td>\n",
       "      <td>2018-05-25</td>\n",
       "      <td>ultra</td>\n",
       "      <td>1000.0</td>\n",
       "      <td>30.0</td>\n",
       "      <td>3000.0</td>\n",
       "      <td>1950.0</td>\n",
       "      <td>150.0</td>\n",
       "      <td>1.0</td>\n",
       "      <td>1.0</td>\n",
       "      <td>2828.0</td>\n",
       "      <td>940.0</td>\n",
       "      <td>7.0</td>\n",
       "    </tr>\n",
       "    <tr>\n",
       "      <th>2</th>\n",
       "      <td>1000</td>\n",
       "      <td>7</td>\n",
       "      <td>340.0</td>\n",
       "      <td>75.0</td>\n",
       "      <td>14.0</td>\n",
       "      <td>52</td>\n",
       "      <td>0</td>\n",
       "      <td>Краснодар</td>\n",
       "      <td>Рафаил</td>\n",
       "      <td>Верещагин</td>\n",
       "      <td>2018-05-25</td>\n",
       "      <td>ultra</td>\n",
       "      <td>1000.0</td>\n",
       "      <td>30.0</td>\n",
       "      <td>3000.0</td>\n",
       "      <td>1950.0</td>\n",
       "      <td>150.0</td>\n",
       "      <td>1.0</td>\n",
       "      <td>1.0</td>\n",
       "      <td>2660.0</td>\n",
       "      <td>925.0</td>\n",
       "      <td>16.0</td>\n",
       "    </tr>\n",
       "    <tr>\n",
       "      <th>3</th>\n",
       "      <td>1000</td>\n",
       "      <td>8</td>\n",
       "      <td>408.0</td>\n",
       "      <td>81.0</td>\n",
       "      <td>14.0</td>\n",
       "      <td>52</td>\n",
       "      <td>0</td>\n",
       "      <td>Краснодар</td>\n",
       "      <td>Рафаил</td>\n",
       "      <td>Верещагин</td>\n",
       "      <td>2018-05-25</td>\n",
       "      <td>ultra</td>\n",
       "      <td>1000.0</td>\n",
       "      <td>30.0</td>\n",
       "      <td>3000.0</td>\n",
       "      <td>1950.0</td>\n",
       "      <td>150.0</td>\n",
       "      <td>1.0</td>\n",
       "      <td>1.0</td>\n",
       "      <td>2592.0</td>\n",
       "      <td>919.0</td>\n",
       "      <td>16.0</td>\n",
       "    </tr>\n",
       "    <tr>\n",
       "      <th>4</th>\n",
       "      <td>1000</td>\n",
       "      <td>9</td>\n",
       "      <td>466.0</td>\n",
       "      <td>57.0</td>\n",
       "      <td>15.0</td>\n",
       "      <td>52</td>\n",
       "      <td>0</td>\n",
       "      <td>Краснодар</td>\n",
       "      <td>Рафаил</td>\n",
       "      <td>Верещагин</td>\n",
       "      <td>2018-05-25</td>\n",
       "      <td>ultra</td>\n",
       "      <td>1000.0</td>\n",
       "      <td>30.0</td>\n",
       "      <td>3000.0</td>\n",
       "      <td>1950.0</td>\n",
       "      <td>150.0</td>\n",
       "      <td>1.0</td>\n",
       "      <td>1.0</td>\n",
       "      <td>2534.0</td>\n",
       "      <td>943.0</td>\n",
       "      <td>15.0</td>\n",
       "    </tr>\n",
       "  </tbody>\n",
       "</table>\n",
       "</div>"
      ],
      "text/plain": [
       "   user_id  month   call   sms  gb_used  age churn_date       city first_name  \\\n",
       "0     1000      5  159.0  22.0      3.0   52          0  Краснодар     Рафаил   \n",
       "1     1000      6  172.0  60.0     23.0   52          0  Краснодар     Рафаил   \n",
       "2     1000      7  340.0  75.0     14.0   52          0  Краснодар     Рафаил   \n",
       "3     1000      8  408.0  81.0     14.0   52          0  Краснодар     Рафаил   \n",
       "4     1000      9  466.0  57.0     15.0   52          0  Краснодар     Рафаил   \n",
       "\n",
       "   last_name   reg_date tariff  messages_included  gb_per_month_included  \\\n",
       "0  Верещагин 2018-05-25  ultra             1000.0                   30.0   \n",
       "1  Верещагин 2018-05-25  ultra             1000.0                   30.0   \n",
       "2  Верещагин 2018-05-25  ultra             1000.0                   30.0   \n",
       "3  Верещагин 2018-05-25  ultra             1000.0                   30.0   \n",
       "4  Верещагин 2018-05-25  ultra             1000.0                   30.0   \n",
       "\n",
       "   minutes_included  rub_monthly_fee  rub_per_gb  rub_per_message  \\\n",
       "0            3000.0           1950.0       150.0              1.0   \n",
       "1            3000.0           1950.0       150.0              1.0   \n",
       "2            3000.0           1950.0       150.0              1.0   \n",
       "3            3000.0           1950.0       150.0              1.0   \n",
       "4            3000.0           1950.0       150.0              1.0   \n",
       "\n",
       "   rub_per_minute  over_call  over_sms  over_inet  \n",
       "0             1.0     2841.0     978.0       27.0  \n",
       "1             1.0     2828.0     940.0        7.0  \n",
       "2             1.0     2660.0     925.0       16.0  \n",
       "3             1.0     2592.0     919.0       16.0  \n",
       "4             1.0     2534.0     943.0       15.0  "
      ]
     },
     "execution_count": 599,
     "metadata": {},
     "output_type": "execute_result"
    }
   ],
   "source": [
    "limit(df_all_traffic,'call','over_call', 'minutes_included')    \n",
    "limit(df_all_traffic,'sms','over_sms', 'messages_included')   \n",
    "limit(df_all_traffic,'gb_used','over_inet', 'gb_per_month_included')   \n",
    "df_all_traffic.head()"
   ]
  },
  {
   "cell_type": "markdown",
   "metadata": {},
   "source": [
    "Напишем функцию, которая считает плату за сверхтарифный трафик:"
   ]
  },
  {
   "cell_type": "code",
   "execution_count": 600,
   "metadata": {},
   "outputs": [],
   "source": [
    "#функция считает плату (минуты,смс или инет потраченные сверхтарифа)\n",
    "def values(data,over_traffic,values,rub_per):\n",
    "    data.loc[data[over_traffic] ==0, values] = 0\n",
    "    data.loc[data[over_traffic] <0, values] = abs(data[over_traffic]*data[rub_per])\n",
    "    data.loc[data[over_traffic] >=0, values] = 0"
   ]
  },
  {
   "cell_type": "code",
   "execution_count": 601,
   "metadata": {},
   "outputs": [
    {
     "data": {
      "text/html": [
       "<div>\n",
       "<style scoped>\n",
       "    .dataframe tbody tr th:only-of-type {\n",
       "        vertical-align: middle;\n",
       "    }\n",
       "\n",
       "    .dataframe tbody tr th {\n",
       "        vertical-align: top;\n",
       "    }\n",
       "\n",
       "    .dataframe thead th {\n",
       "        text-align: right;\n",
       "    }\n",
       "</style>\n",
       "<table border=\"1\" class=\"dataframe\">\n",
       "  <thead>\n",
       "    <tr style=\"text-align: right;\">\n",
       "      <th></th>\n",
       "      <th>user_id</th>\n",
       "      <th>month</th>\n",
       "      <th>call</th>\n",
       "      <th>sms</th>\n",
       "      <th>gb_used</th>\n",
       "      <th>age</th>\n",
       "      <th>churn_date</th>\n",
       "      <th>city</th>\n",
       "      <th>first_name</th>\n",
       "      <th>last_name</th>\n",
       "      <th>reg_date</th>\n",
       "      <th>tariff</th>\n",
       "      <th>messages_included</th>\n",
       "      <th>gb_per_month_included</th>\n",
       "      <th>minutes_included</th>\n",
       "      <th>rub_monthly_fee</th>\n",
       "      <th>rub_per_gb</th>\n",
       "      <th>rub_per_message</th>\n",
       "      <th>rub_per_minute</th>\n",
       "      <th>over_call</th>\n",
       "      <th>over_sms</th>\n",
       "      <th>over_inet</th>\n",
       "      <th>values_call</th>\n",
       "      <th>values_sms</th>\n",
       "      <th>values_inet</th>\n",
       "    </tr>\n",
       "  </thead>\n",
       "  <tbody>\n",
       "    <tr>\n",
       "      <th>0</th>\n",
       "      <td>1000</td>\n",
       "      <td>5</td>\n",
       "      <td>159.0</td>\n",
       "      <td>22.0</td>\n",
       "      <td>3.0</td>\n",
       "      <td>52</td>\n",
       "      <td>0</td>\n",
       "      <td>Краснодар</td>\n",
       "      <td>Рафаил</td>\n",
       "      <td>Верещагин</td>\n",
       "      <td>2018-05-25</td>\n",
       "      <td>ultra</td>\n",
       "      <td>1000.0</td>\n",
       "      <td>30.0</td>\n",
       "      <td>3000.0</td>\n",
       "      <td>1950.0</td>\n",
       "      <td>150.0</td>\n",
       "      <td>1.0</td>\n",
       "      <td>1.0</td>\n",
       "      <td>2841.0</td>\n",
       "      <td>978.0</td>\n",
       "      <td>27.0</td>\n",
       "      <td>0.0</td>\n",
       "      <td>0.0</td>\n",
       "      <td>0.0</td>\n",
       "    </tr>\n",
       "    <tr>\n",
       "      <th>1</th>\n",
       "      <td>1000</td>\n",
       "      <td>6</td>\n",
       "      <td>172.0</td>\n",
       "      <td>60.0</td>\n",
       "      <td>23.0</td>\n",
       "      <td>52</td>\n",
       "      <td>0</td>\n",
       "      <td>Краснодар</td>\n",
       "      <td>Рафаил</td>\n",
       "      <td>Верещагин</td>\n",
       "      <td>2018-05-25</td>\n",
       "      <td>ultra</td>\n",
       "      <td>1000.0</td>\n",
       "      <td>30.0</td>\n",
       "      <td>3000.0</td>\n",
       "      <td>1950.0</td>\n",
       "      <td>150.0</td>\n",
       "      <td>1.0</td>\n",
       "      <td>1.0</td>\n",
       "      <td>2828.0</td>\n",
       "      <td>940.0</td>\n",
       "      <td>7.0</td>\n",
       "      <td>0.0</td>\n",
       "      <td>0.0</td>\n",
       "      <td>0.0</td>\n",
       "    </tr>\n",
       "    <tr>\n",
       "      <th>2</th>\n",
       "      <td>1000</td>\n",
       "      <td>7</td>\n",
       "      <td>340.0</td>\n",
       "      <td>75.0</td>\n",
       "      <td>14.0</td>\n",
       "      <td>52</td>\n",
       "      <td>0</td>\n",
       "      <td>Краснодар</td>\n",
       "      <td>Рафаил</td>\n",
       "      <td>Верещагин</td>\n",
       "      <td>2018-05-25</td>\n",
       "      <td>ultra</td>\n",
       "      <td>1000.0</td>\n",
       "      <td>30.0</td>\n",
       "      <td>3000.0</td>\n",
       "      <td>1950.0</td>\n",
       "      <td>150.0</td>\n",
       "      <td>1.0</td>\n",
       "      <td>1.0</td>\n",
       "      <td>2660.0</td>\n",
       "      <td>925.0</td>\n",
       "      <td>16.0</td>\n",
       "      <td>0.0</td>\n",
       "      <td>0.0</td>\n",
       "      <td>0.0</td>\n",
       "    </tr>\n",
       "    <tr>\n",
       "      <th>3</th>\n",
       "      <td>1000</td>\n",
       "      <td>8</td>\n",
       "      <td>408.0</td>\n",
       "      <td>81.0</td>\n",
       "      <td>14.0</td>\n",
       "      <td>52</td>\n",
       "      <td>0</td>\n",
       "      <td>Краснодар</td>\n",
       "      <td>Рафаил</td>\n",
       "      <td>Верещагин</td>\n",
       "      <td>2018-05-25</td>\n",
       "      <td>ultra</td>\n",
       "      <td>1000.0</td>\n",
       "      <td>30.0</td>\n",
       "      <td>3000.0</td>\n",
       "      <td>1950.0</td>\n",
       "      <td>150.0</td>\n",
       "      <td>1.0</td>\n",
       "      <td>1.0</td>\n",
       "      <td>2592.0</td>\n",
       "      <td>919.0</td>\n",
       "      <td>16.0</td>\n",
       "      <td>0.0</td>\n",
       "      <td>0.0</td>\n",
       "      <td>0.0</td>\n",
       "    </tr>\n",
       "    <tr>\n",
       "      <th>4</th>\n",
       "      <td>1000</td>\n",
       "      <td>9</td>\n",
       "      <td>466.0</td>\n",
       "      <td>57.0</td>\n",
       "      <td>15.0</td>\n",
       "      <td>52</td>\n",
       "      <td>0</td>\n",
       "      <td>Краснодар</td>\n",
       "      <td>Рафаил</td>\n",
       "      <td>Верещагин</td>\n",
       "      <td>2018-05-25</td>\n",
       "      <td>ultra</td>\n",
       "      <td>1000.0</td>\n",
       "      <td>30.0</td>\n",
       "      <td>3000.0</td>\n",
       "      <td>1950.0</td>\n",
       "      <td>150.0</td>\n",
       "      <td>1.0</td>\n",
       "      <td>1.0</td>\n",
       "      <td>2534.0</td>\n",
       "      <td>943.0</td>\n",
       "      <td>15.0</td>\n",
       "      <td>0.0</td>\n",
       "      <td>0.0</td>\n",
       "      <td>0.0</td>\n",
       "    </tr>\n",
       "  </tbody>\n",
       "</table>\n",
       "</div>"
      ],
      "text/plain": [
       "   user_id  month   call   sms  gb_used  age churn_date       city first_name  \\\n",
       "0     1000      5  159.0  22.0      3.0   52          0  Краснодар     Рафаил   \n",
       "1     1000      6  172.0  60.0     23.0   52          0  Краснодар     Рафаил   \n",
       "2     1000      7  340.0  75.0     14.0   52          0  Краснодар     Рафаил   \n",
       "3     1000      8  408.0  81.0     14.0   52          0  Краснодар     Рафаил   \n",
       "4     1000      9  466.0  57.0     15.0   52          0  Краснодар     Рафаил   \n",
       "\n",
       "   last_name   reg_date tariff  messages_included  gb_per_month_included  \\\n",
       "0  Верещагин 2018-05-25  ultra             1000.0                   30.0   \n",
       "1  Верещагин 2018-05-25  ultra             1000.0                   30.0   \n",
       "2  Верещагин 2018-05-25  ultra             1000.0                   30.0   \n",
       "3  Верещагин 2018-05-25  ultra             1000.0                   30.0   \n",
       "4  Верещагин 2018-05-25  ultra             1000.0                   30.0   \n",
       "\n",
       "   minutes_included  rub_monthly_fee  rub_per_gb  rub_per_message  \\\n",
       "0            3000.0           1950.0       150.0              1.0   \n",
       "1            3000.0           1950.0       150.0              1.0   \n",
       "2            3000.0           1950.0       150.0              1.0   \n",
       "3            3000.0           1950.0       150.0              1.0   \n",
       "4            3000.0           1950.0       150.0              1.0   \n",
       "\n",
       "   rub_per_minute  over_call  over_sms  over_inet  values_call  values_sms  \\\n",
       "0             1.0     2841.0     978.0       27.0          0.0         0.0   \n",
       "1             1.0     2828.0     940.0        7.0          0.0         0.0   \n",
       "2             1.0     2660.0     925.0       16.0          0.0         0.0   \n",
       "3             1.0     2592.0     919.0       16.0          0.0         0.0   \n",
       "4             1.0     2534.0     943.0       15.0          0.0         0.0   \n",
       "\n",
       "   values_inet  \n",
       "0          0.0  \n",
       "1          0.0  \n",
       "2          0.0  \n",
       "3          0.0  \n",
       "4          0.0  "
      ]
     },
     "execution_count": 601,
     "metadata": {},
     "output_type": "execute_result"
    }
   ],
   "source": [
    "values(df_all_traffic,'over_call','values_call','rub_per_minute')    \n",
    "values(df_all_traffic,'over_sms','values_sms','rub_per_message')    \n",
    "values(df_all_traffic,'over_inet','values_inet','rub_per_gb')    \n",
    "df_all_traffic.head()"
   ]
  },
  {
   "cell_type": "markdown",
   "metadata": {},
   "source": [
    "Напишем функцию, которая посчитает плату абонента за месяц:"
   ]
  },
  {
   "cell_type": "code",
   "execution_count": 602,
   "metadata": {},
   "outputs": [],
   "source": [
    "#хотя можно было бы обойтись и без функции. а сразу написать все))\n",
    "def profit(data,profit,call,sms,gb_used,all_profit,fee):\n",
    "    data[profit] = data[call]+data[sms]+data[gb_used]\n",
    "    data.loc[data[profit]== 0, all_profit]= data[fee]\n",
    "    data.loc[data[profit] != 0, all_profit] = data[profit] + data[fee]"
   ]
  },
  {
   "cell_type": "code",
   "execution_count": 603,
   "metadata": {},
   "outputs": [
    {
     "data": {
      "text/html": [
       "<div>\n",
       "<style scoped>\n",
       "    .dataframe tbody tr th:only-of-type {\n",
       "        vertical-align: middle;\n",
       "    }\n",
       "\n",
       "    .dataframe tbody tr th {\n",
       "        vertical-align: top;\n",
       "    }\n",
       "\n",
       "    .dataframe thead th {\n",
       "        text-align: right;\n",
       "    }\n",
       "</style>\n",
       "<table border=\"1\" class=\"dataframe\">\n",
       "  <thead>\n",
       "    <tr style=\"text-align: right;\">\n",
       "      <th></th>\n",
       "      <th>user_id</th>\n",
       "      <th>month</th>\n",
       "      <th>call</th>\n",
       "      <th>sms</th>\n",
       "      <th>gb_used</th>\n",
       "      <th>age</th>\n",
       "      <th>churn_date</th>\n",
       "      <th>city</th>\n",
       "      <th>first_name</th>\n",
       "      <th>last_name</th>\n",
       "      <th>reg_date</th>\n",
       "      <th>tariff</th>\n",
       "      <th>messages_included</th>\n",
       "      <th>gb_per_month_included</th>\n",
       "      <th>minutes_included</th>\n",
       "      <th>rub_monthly_fee</th>\n",
       "      <th>rub_per_gb</th>\n",
       "      <th>rub_per_message</th>\n",
       "      <th>rub_per_minute</th>\n",
       "      <th>over_call</th>\n",
       "      <th>over_sms</th>\n",
       "      <th>over_inet</th>\n",
       "      <th>values_call</th>\n",
       "      <th>values_sms</th>\n",
       "      <th>values_inet</th>\n",
       "      <th>profit</th>\n",
       "      <th>all_profit</th>\n",
       "    </tr>\n",
       "  </thead>\n",
       "  <tbody>\n",
       "    <tr>\n",
       "      <th>0</th>\n",
       "      <td>1000</td>\n",
       "      <td>5</td>\n",
       "      <td>159.0</td>\n",
       "      <td>22.0</td>\n",
       "      <td>3.0</td>\n",
       "      <td>52</td>\n",
       "      <td>0</td>\n",
       "      <td>Краснодар</td>\n",
       "      <td>Рафаил</td>\n",
       "      <td>Верещагин</td>\n",
       "      <td>2018-05-25</td>\n",
       "      <td>ultra</td>\n",
       "      <td>1000.0</td>\n",
       "      <td>30.0</td>\n",
       "      <td>3000.0</td>\n",
       "      <td>1950.0</td>\n",
       "      <td>150.0</td>\n",
       "      <td>1.0</td>\n",
       "      <td>1.0</td>\n",
       "      <td>2841.0</td>\n",
       "      <td>978.0</td>\n",
       "      <td>27.0</td>\n",
       "      <td>0.0</td>\n",
       "      <td>0.0</td>\n",
       "      <td>0.0</td>\n",
       "      <td>0.0</td>\n",
       "      <td>1950.0</td>\n",
       "    </tr>\n",
       "    <tr>\n",
       "      <th>1</th>\n",
       "      <td>1000</td>\n",
       "      <td>6</td>\n",
       "      <td>172.0</td>\n",
       "      <td>60.0</td>\n",
       "      <td>23.0</td>\n",
       "      <td>52</td>\n",
       "      <td>0</td>\n",
       "      <td>Краснодар</td>\n",
       "      <td>Рафаил</td>\n",
       "      <td>Верещагин</td>\n",
       "      <td>2018-05-25</td>\n",
       "      <td>ultra</td>\n",
       "      <td>1000.0</td>\n",
       "      <td>30.0</td>\n",
       "      <td>3000.0</td>\n",
       "      <td>1950.0</td>\n",
       "      <td>150.0</td>\n",
       "      <td>1.0</td>\n",
       "      <td>1.0</td>\n",
       "      <td>2828.0</td>\n",
       "      <td>940.0</td>\n",
       "      <td>7.0</td>\n",
       "      <td>0.0</td>\n",
       "      <td>0.0</td>\n",
       "      <td>0.0</td>\n",
       "      <td>0.0</td>\n",
       "      <td>1950.0</td>\n",
       "    </tr>\n",
       "    <tr>\n",
       "      <th>2</th>\n",
       "      <td>1000</td>\n",
       "      <td>7</td>\n",
       "      <td>340.0</td>\n",
       "      <td>75.0</td>\n",
       "      <td>14.0</td>\n",
       "      <td>52</td>\n",
       "      <td>0</td>\n",
       "      <td>Краснодар</td>\n",
       "      <td>Рафаил</td>\n",
       "      <td>Верещагин</td>\n",
       "      <td>2018-05-25</td>\n",
       "      <td>ultra</td>\n",
       "      <td>1000.0</td>\n",
       "      <td>30.0</td>\n",
       "      <td>3000.0</td>\n",
       "      <td>1950.0</td>\n",
       "      <td>150.0</td>\n",
       "      <td>1.0</td>\n",
       "      <td>1.0</td>\n",
       "      <td>2660.0</td>\n",
       "      <td>925.0</td>\n",
       "      <td>16.0</td>\n",
       "      <td>0.0</td>\n",
       "      <td>0.0</td>\n",
       "      <td>0.0</td>\n",
       "      <td>0.0</td>\n",
       "      <td>1950.0</td>\n",
       "    </tr>\n",
       "    <tr>\n",
       "      <th>3</th>\n",
       "      <td>1000</td>\n",
       "      <td>8</td>\n",
       "      <td>408.0</td>\n",
       "      <td>81.0</td>\n",
       "      <td>14.0</td>\n",
       "      <td>52</td>\n",
       "      <td>0</td>\n",
       "      <td>Краснодар</td>\n",
       "      <td>Рафаил</td>\n",
       "      <td>Верещагин</td>\n",
       "      <td>2018-05-25</td>\n",
       "      <td>ultra</td>\n",
       "      <td>1000.0</td>\n",
       "      <td>30.0</td>\n",
       "      <td>3000.0</td>\n",
       "      <td>1950.0</td>\n",
       "      <td>150.0</td>\n",
       "      <td>1.0</td>\n",
       "      <td>1.0</td>\n",
       "      <td>2592.0</td>\n",
       "      <td>919.0</td>\n",
       "      <td>16.0</td>\n",
       "      <td>0.0</td>\n",
       "      <td>0.0</td>\n",
       "      <td>0.0</td>\n",
       "      <td>0.0</td>\n",
       "      <td>1950.0</td>\n",
       "    </tr>\n",
       "    <tr>\n",
       "      <th>4</th>\n",
       "      <td>1000</td>\n",
       "      <td>9</td>\n",
       "      <td>466.0</td>\n",
       "      <td>57.0</td>\n",
       "      <td>15.0</td>\n",
       "      <td>52</td>\n",
       "      <td>0</td>\n",
       "      <td>Краснодар</td>\n",
       "      <td>Рафаил</td>\n",
       "      <td>Верещагин</td>\n",
       "      <td>2018-05-25</td>\n",
       "      <td>ultra</td>\n",
       "      <td>1000.0</td>\n",
       "      <td>30.0</td>\n",
       "      <td>3000.0</td>\n",
       "      <td>1950.0</td>\n",
       "      <td>150.0</td>\n",
       "      <td>1.0</td>\n",
       "      <td>1.0</td>\n",
       "      <td>2534.0</td>\n",
       "      <td>943.0</td>\n",
       "      <td>15.0</td>\n",
       "      <td>0.0</td>\n",
       "      <td>0.0</td>\n",
       "      <td>0.0</td>\n",
       "      <td>0.0</td>\n",
       "      <td>1950.0</td>\n",
       "    </tr>\n",
       "  </tbody>\n",
       "</table>\n",
       "</div>"
      ],
      "text/plain": [
       "   user_id  month   call   sms  gb_used  age churn_date       city first_name  \\\n",
       "0     1000      5  159.0  22.0      3.0   52          0  Краснодар     Рафаил   \n",
       "1     1000      6  172.0  60.0     23.0   52          0  Краснодар     Рафаил   \n",
       "2     1000      7  340.0  75.0     14.0   52          0  Краснодар     Рафаил   \n",
       "3     1000      8  408.0  81.0     14.0   52          0  Краснодар     Рафаил   \n",
       "4     1000      9  466.0  57.0     15.0   52          0  Краснодар     Рафаил   \n",
       "\n",
       "   last_name   reg_date tariff  messages_included  gb_per_month_included  \\\n",
       "0  Верещагин 2018-05-25  ultra             1000.0                   30.0   \n",
       "1  Верещагин 2018-05-25  ultra             1000.0                   30.0   \n",
       "2  Верещагин 2018-05-25  ultra             1000.0                   30.0   \n",
       "3  Верещагин 2018-05-25  ultra             1000.0                   30.0   \n",
       "4  Верещагин 2018-05-25  ultra             1000.0                   30.0   \n",
       "\n",
       "   minutes_included  rub_monthly_fee  rub_per_gb  rub_per_message  \\\n",
       "0            3000.0           1950.0       150.0              1.0   \n",
       "1            3000.0           1950.0       150.0              1.0   \n",
       "2            3000.0           1950.0       150.0              1.0   \n",
       "3            3000.0           1950.0       150.0              1.0   \n",
       "4            3000.0           1950.0       150.0              1.0   \n",
       "\n",
       "   rub_per_minute  over_call  over_sms  over_inet  values_call  values_sms  \\\n",
       "0             1.0     2841.0     978.0       27.0          0.0         0.0   \n",
       "1             1.0     2828.0     940.0        7.0          0.0         0.0   \n",
       "2             1.0     2660.0     925.0       16.0          0.0         0.0   \n",
       "3             1.0     2592.0     919.0       16.0          0.0         0.0   \n",
       "4             1.0     2534.0     943.0       15.0          0.0         0.0   \n",
       "\n",
       "   values_inet  profit  all_profit  \n",
       "0          0.0     0.0      1950.0  \n",
       "1          0.0     0.0      1950.0  \n",
       "2          0.0     0.0      1950.0  \n",
       "3          0.0     0.0      1950.0  \n",
       "4          0.0     0.0      1950.0  "
      ]
     },
     "execution_count": 603,
     "metadata": {},
     "output_type": "execute_result"
    }
   ],
   "source": [
    "profit(df_all_traffic,'profit','values_call','values_sms','values_inet','all_profit','rub_monthly_fee')\n",
    "df_all_traffic.head()"
   ]
  },
  {
   "cell_type": "markdown",
   "metadata": {},
   "source": [
    "Удалим личние столбцы для облегчения работы:"
   ]
  },
  {
   "cell_type": "code",
   "execution_count": 604,
   "metadata": {},
   "outputs": [
    {
     "data": {
      "text/html": [
       "<div>\n",
       "<style scoped>\n",
       "    .dataframe tbody tr th:only-of-type {\n",
       "        vertical-align: middle;\n",
       "    }\n",
       "\n",
       "    .dataframe tbody tr th {\n",
       "        vertical-align: top;\n",
       "    }\n",
       "\n",
       "    .dataframe thead th {\n",
       "        text-align: right;\n",
       "    }\n",
       "</style>\n",
       "<table border=\"1\" class=\"dataframe\">\n",
       "  <thead>\n",
       "    <tr style=\"text-align: right;\">\n",
       "      <th></th>\n",
       "      <th>user_id</th>\n",
       "      <th>month</th>\n",
       "      <th>call</th>\n",
       "      <th>sms</th>\n",
       "      <th>gb_used</th>\n",
       "      <th>tariff</th>\n",
       "      <th>over_call</th>\n",
       "      <th>over_sms</th>\n",
       "      <th>over_inet</th>\n",
       "      <th>values_call</th>\n",
       "      <th>values_sms</th>\n",
       "      <th>values_inet</th>\n",
       "      <th>profit</th>\n",
       "      <th>all_profit</th>\n",
       "    </tr>\n",
       "  </thead>\n",
       "  <tbody>\n",
       "    <tr>\n",
       "      <th>0</th>\n",
       "      <td>1000</td>\n",
       "      <td>5</td>\n",
       "      <td>159.0</td>\n",
       "      <td>22.0</td>\n",
       "      <td>3.0</td>\n",
       "      <td>ultra</td>\n",
       "      <td>2841.0</td>\n",
       "      <td>978.0</td>\n",
       "      <td>27.0</td>\n",
       "      <td>0.0</td>\n",
       "      <td>0.0</td>\n",
       "      <td>0.0</td>\n",
       "      <td>0.0</td>\n",
       "      <td>1950.0</td>\n",
       "    </tr>\n",
       "    <tr>\n",
       "      <th>1</th>\n",
       "      <td>1000</td>\n",
       "      <td>6</td>\n",
       "      <td>172.0</td>\n",
       "      <td>60.0</td>\n",
       "      <td>23.0</td>\n",
       "      <td>ultra</td>\n",
       "      <td>2828.0</td>\n",
       "      <td>940.0</td>\n",
       "      <td>7.0</td>\n",
       "      <td>0.0</td>\n",
       "      <td>0.0</td>\n",
       "      <td>0.0</td>\n",
       "      <td>0.0</td>\n",
       "      <td>1950.0</td>\n",
       "    </tr>\n",
       "    <tr>\n",
       "      <th>2</th>\n",
       "      <td>1000</td>\n",
       "      <td>7</td>\n",
       "      <td>340.0</td>\n",
       "      <td>75.0</td>\n",
       "      <td>14.0</td>\n",
       "      <td>ultra</td>\n",
       "      <td>2660.0</td>\n",
       "      <td>925.0</td>\n",
       "      <td>16.0</td>\n",
       "      <td>0.0</td>\n",
       "      <td>0.0</td>\n",
       "      <td>0.0</td>\n",
       "      <td>0.0</td>\n",
       "      <td>1950.0</td>\n",
       "    </tr>\n",
       "    <tr>\n",
       "      <th>3</th>\n",
       "      <td>1000</td>\n",
       "      <td>8</td>\n",
       "      <td>408.0</td>\n",
       "      <td>81.0</td>\n",
       "      <td>14.0</td>\n",
       "      <td>ultra</td>\n",
       "      <td>2592.0</td>\n",
       "      <td>919.0</td>\n",
       "      <td>16.0</td>\n",
       "      <td>0.0</td>\n",
       "      <td>0.0</td>\n",
       "      <td>0.0</td>\n",
       "      <td>0.0</td>\n",
       "      <td>1950.0</td>\n",
       "    </tr>\n",
       "    <tr>\n",
       "      <th>4</th>\n",
       "      <td>1000</td>\n",
       "      <td>9</td>\n",
       "      <td>466.0</td>\n",
       "      <td>57.0</td>\n",
       "      <td>15.0</td>\n",
       "      <td>ultra</td>\n",
       "      <td>2534.0</td>\n",
       "      <td>943.0</td>\n",
       "      <td>15.0</td>\n",
       "      <td>0.0</td>\n",
       "      <td>0.0</td>\n",
       "      <td>0.0</td>\n",
       "      <td>0.0</td>\n",
       "      <td>1950.0</td>\n",
       "    </tr>\n",
       "    <tr>\n",
       "      <th>5</th>\n",
       "      <td>1000</td>\n",
       "      <td>10</td>\n",
       "      <td>350.0</td>\n",
       "      <td>73.0</td>\n",
       "      <td>15.0</td>\n",
       "      <td>ultra</td>\n",
       "      <td>2650.0</td>\n",
       "      <td>927.0</td>\n",
       "      <td>15.0</td>\n",
       "      <td>0.0</td>\n",
       "      <td>0.0</td>\n",
       "      <td>0.0</td>\n",
       "      <td>0.0</td>\n",
       "      <td>1950.0</td>\n",
       "    </tr>\n",
       "    <tr>\n",
       "      <th>6</th>\n",
       "      <td>1000</td>\n",
       "      <td>11</td>\n",
       "      <td>338.0</td>\n",
       "      <td>58.0</td>\n",
       "      <td>15.0</td>\n",
       "      <td>ultra</td>\n",
       "      <td>2662.0</td>\n",
       "      <td>942.0</td>\n",
       "      <td>15.0</td>\n",
       "      <td>0.0</td>\n",
       "      <td>0.0</td>\n",
       "      <td>0.0</td>\n",
       "      <td>0.0</td>\n",
       "      <td>1950.0</td>\n",
       "    </tr>\n",
       "    <tr>\n",
       "      <th>7</th>\n",
       "      <td>1000</td>\n",
       "      <td>12</td>\n",
       "      <td>333.0</td>\n",
       "      <td>70.0</td>\n",
       "      <td>10.0</td>\n",
       "      <td>ultra</td>\n",
       "      <td>2667.0</td>\n",
       "      <td>930.0</td>\n",
       "      <td>20.0</td>\n",
       "      <td>0.0</td>\n",
       "      <td>0.0</td>\n",
       "      <td>0.0</td>\n",
       "      <td>0.0</td>\n",
       "      <td>1950.0</td>\n",
       "    </tr>\n",
       "    <tr>\n",
       "      <th>8</th>\n",
       "      <td>1001</td>\n",
       "      <td>11</td>\n",
       "      <td>430.0</td>\n",
       "      <td>0.0</td>\n",
       "      <td>18.0</td>\n",
       "      <td>smart</td>\n",
       "      <td>70.0</td>\n",
       "      <td>0.0</td>\n",
       "      <td>-3.0</td>\n",
       "      <td>0.0</td>\n",
       "      <td>0.0</td>\n",
       "      <td>600.0</td>\n",
       "      <td>600.0</td>\n",
       "      <td>1150.0</td>\n",
       "    </tr>\n",
       "    <tr>\n",
       "      <th>9</th>\n",
       "      <td>1001</td>\n",
       "      <td>12</td>\n",
       "      <td>414.0</td>\n",
       "      <td>0.0</td>\n",
       "      <td>14.0</td>\n",
       "      <td>smart</td>\n",
       "      <td>86.0</td>\n",
       "      <td>0.0</td>\n",
       "      <td>1.0</td>\n",
       "      <td>0.0</td>\n",
       "      <td>0.0</td>\n",
       "      <td>0.0</td>\n",
       "      <td>0.0</td>\n",
       "      <td>550.0</td>\n",
       "    </tr>\n",
       "  </tbody>\n",
       "</table>\n",
       "</div>"
      ],
      "text/plain": [
       "   user_id  month   call   sms  gb_used tariff  over_call  over_sms  \\\n",
       "0     1000      5  159.0  22.0      3.0  ultra     2841.0     978.0   \n",
       "1     1000      6  172.0  60.0     23.0  ultra     2828.0     940.0   \n",
       "2     1000      7  340.0  75.0     14.0  ultra     2660.0     925.0   \n",
       "3     1000      8  408.0  81.0     14.0  ultra     2592.0     919.0   \n",
       "4     1000      9  466.0  57.0     15.0  ultra     2534.0     943.0   \n",
       "5     1000     10  350.0  73.0     15.0  ultra     2650.0     927.0   \n",
       "6     1000     11  338.0  58.0     15.0  ultra     2662.0     942.0   \n",
       "7     1000     12  333.0  70.0     10.0  ultra     2667.0     930.0   \n",
       "8     1001     11  430.0   0.0     18.0  smart       70.0       0.0   \n",
       "9     1001     12  414.0   0.0     14.0  smart       86.0       0.0   \n",
       "\n",
       "   over_inet  values_call  values_sms  values_inet  profit  all_profit  \n",
       "0       27.0          0.0         0.0          0.0     0.0      1950.0  \n",
       "1        7.0          0.0         0.0          0.0     0.0      1950.0  \n",
       "2       16.0          0.0         0.0          0.0     0.0      1950.0  \n",
       "3       16.0          0.0         0.0          0.0     0.0      1950.0  \n",
       "4       15.0          0.0         0.0          0.0     0.0      1950.0  \n",
       "5       15.0          0.0         0.0          0.0     0.0      1950.0  \n",
       "6       15.0          0.0         0.0          0.0     0.0      1950.0  \n",
       "7       20.0          0.0         0.0          0.0     0.0      1950.0  \n",
       "8       -3.0          0.0         0.0        600.0   600.0      1150.0  \n",
       "9        1.0          0.0         0.0          0.0     0.0       550.0  "
      ]
     },
     "execution_count": 604,
     "metadata": {},
     "output_type": "execute_result"
    }
   ],
   "source": [
    "df_profit = df_all_traffic.drop(df_all_traffic.loc[:, 'age' : 'reg_date' ].columns, axis = 1 )\n",
    "df_profit = df_profit.drop(df_profit.loc[:, 'messages_included' : 'rub_per_minute' ].columns, axis = 1 )\n",
    "df_profit.head(10)"
   ]
  },
  {
   "cell_type": "markdown",
   "metadata": {},
   "source": [
    "Мы получили итоговую **таблицу *'df_profit'* с выручкой мобильного оператора**."
   ]
  },
  {
   "cell_type": "markdown",
   "metadata": {},
   "source": [
    "**ВЫВОДЫ**\n",
    "\n",
    "Подготовлены данные по 500 пользователям с тратами по каждому месяцу в 2018 году по каждой статье мобильного трафика (связь/мин, смс/шт, интернет/Гб) при помощи слияния файлов с данными и пересчет тарфика за каждый месяц. В данных не проведена замена NaN на нулевые значения для верного подсчета выручки мобильного оператора!\n",
    "\n",
    "Дополнительно подготовлена таблица с выручкой мобильного оператора за каждый месяц по каждому пользователю. \n",
    "\n",
    "Таблицы - **'df_all_traffic'** (траты каждого пользователя ПО МЕСЯЦАМ в минутах, штуках смс и Гб интернета) **'df_tariff_traffic'** (ежемесячный трафик без данных пользователей) и **'df_profit'** (выручка мобильного оператора за каждый месяц по каждому пользователю)* - требуются для дальнейшей работы и анализа."
   ]
  },
  {
   "cell_type": "markdown",
   "metadata": {},
   "source": [
    "## Анализ данных"
   ]
  },
  {
   "cell_type": "markdown",
   "metadata": {},
   "source": [
    "Для анализа поведения клиентов будем использовать таблицу *'df_profit'*, в которой представлены данные абонентов по каждому трафику и выручке по месяцам."
   ]
  },
  {
   "cell_type": "code",
   "execution_count": 606,
   "metadata": {},
   "outputs": [
    {
     "data": {
      "text/html": [
       "<div>\n",
       "<style scoped>\n",
       "    .dataframe tbody tr th:only-of-type {\n",
       "        vertical-align: middle;\n",
       "    }\n",
       "\n",
       "    .dataframe tbody tr th {\n",
       "        vertical-align: top;\n",
       "    }\n",
       "\n",
       "    .dataframe thead th {\n",
       "        text-align: right;\n",
       "    }\n",
       "</style>\n",
       "<table border=\"1\" class=\"dataframe\">\n",
       "  <thead>\n",
       "    <tr style=\"text-align: right;\">\n",
       "      <th></th>\n",
       "      <th>user_id</th>\n",
       "      <th>month</th>\n",
       "      <th>call</th>\n",
       "      <th>sms</th>\n",
       "      <th>gb_used</th>\n",
       "      <th>tariff</th>\n",
       "      <th>over_call</th>\n",
       "      <th>over_sms</th>\n",
       "      <th>over_inet</th>\n",
       "      <th>values_call</th>\n",
       "      <th>values_sms</th>\n",
       "      <th>values_inet</th>\n",
       "      <th>profit</th>\n",
       "      <th>all_profit</th>\n",
       "    </tr>\n",
       "  </thead>\n",
       "  <tbody>\n",
       "    <tr>\n",
       "      <th>0</th>\n",
       "      <td>1000</td>\n",
       "      <td>5</td>\n",
       "      <td>159.0</td>\n",
       "      <td>22.0</td>\n",
       "      <td>3.0</td>\n",
       "      <td>ultra</td>\n",
       "      <td>2841.0</td>\n",
       "      <td>978.0</td>\n",
       "      <td>27.0</td>\n",
       "      <td>0.0</td>\n",
       "      <td>0.0</td>\n",
       "      <td>0.0</td>\n",
       "      <td>0.0</td>\n",
       "      <td>1950.0</td>\n",
       "    </tr>\n",
       "    <tr>\n",
       "      <th>1</th>\n",
       "      <td>1000</td>\n",
       "      <td>6</td>\n",
       "      <td>172.0</td>\n",
       "      <td>60.0</td>\n",
       "      <td>23.0</td>\n",
       "      <td>ultra</td>\n",
       "      <td>2828.0</td>\n",
       "      <td>940.0</td>\n",
       "      <td>7.0</td>\n",
       "      <td>0.0</td>\n",
       "      <td>0.0</td>\n",
       "      <td>0.0</td>\n",
       "      <td>0.0</td>\n",
       "      <td>1950.0</td>\n",
       "    </tr>\n",
       "    <tr>\n",
       "      <th>2</th>\n",
       "      <td>1000</td>\n",
       "      <td>7</td>\n",
       "      <td>340.0</td>\n",
       "      <td>75.0</td>\n",
       "      <td>14.0</td>\n",
       "      <td>ultra</td>\n",
       "      <td>2660.0</td>\n",
       "      <td>925.0</td>\n",
       "      <td>16.0</td>\n",
       "      <td>0.0</td>\n",
       "      <td>0.0</td>\n",
       "      <td>0.0</td>\n",
       "      <td>0.0</td>\n",
       "      <td>1950.0</td>\n",
       "    </tr>\n",
       "    <tr>\n",
       "      <th>3</th>\n",
       "      <td>1000</td>\n",
       "      <td>8</td>\n",
       "      <td>408.0</td>\n",
       "      <td>81.0</td>\n",
       "      <td>14.0</td>\n",
       "      <td>ultra</td>\n",
       "      <td>2592.0</td>\n",
       "      <td>919.0</td>\n",
       "      <td>16.0</td>\n",
       "      <td>0.0</td>\n",
       "      <td>0.0</td>\n",
       "      <td>0.0</td>\n",
       "      <td>0.0</td>\n",
       "      <td>1950.0</td>\n",
       "    </tr>\n",
       "    <tr>\n",
       "      <th>4</th>\n",
       "      <td>1000</td>\n",
       "      <td>9</td>\n",
       "      <td>466.0</td>\n",
       "      <td>57.0</td>\n",
       "      <td>15.0</td>\n",
       "      <td>ultra</td>\n",
       "      <td>2534.0</td>\n",
       "      <td>943.0</td>\n",
       "      <td>15.0</td>\n",
       "      <td>0.0</td>\n",
       "      <td>0.0</td>\n",
       "      <td>0.0</td>\n",
       "      <td>0.0</td>\n",
       "      <td>1950.0</td>\n",
       "    </tr>\n",
       "  </tbody>\n",
       "</table>\n",
       "</div>"
      ],
      "text/plain": [
       "   user_id  month   call   sms  gb_used tariff  over_call  over_sms  \\\n",
       "0     1000      5  159.0  22.0      3.0  ultra     2841.0     978.0   \n",
       "1     1000      6  172.0  60.0     23.0  ultra     2828.0     940.0   \n",
       "2     1000      7  340.0  75.0     14.0  ultra     2660.0     925.0   \n",
       "3     1000      8  408.0  81.0     14.0  ultra     2592.0     919.0   \n",
       "4     1000      9  466.0  57.0     15.0  ultra     2534.0     943.0   \n",
       "\n",
       "   over_inet  values_call  values_sms  values_inet  profit  all_profit  \n",
       "0       27.0          0.0         0.0          0.0     0.0      1950.0  \n",
       "1        7.0          0.0         0.0          0.0     0.0      1950.0  \n",
       "2       16.0          0.0         0.0          0.0     0.0      1950.0  \n",
       "3       16.0          0.0         0.0          0.0     0.0      1950.0  \n",
       "4       15.0          0.0         0.0          0.0     0.0      1950.0  "
      ]
     },
     "execution_count": 606,
     "metadata": {},
     "output_type": "execute_result"
    }
   ],
   "source": [
    "df_profit.head()"
   ]
  },
  {
   "cell_type": "markdown",
   "metadata": {},
   "source": [
    "Посчитаем среднее количество, дисперсию и стандартное отклонение в месяц по каждому тарифу - по минутам разговора, количеству сообщений и объему интернет трафика."
   ]
  },
  {
   "cell_type": "markdown",
   "metadata": {},
   "source": [
    "### Минуты разговора в месяц. Среднее, дисперсия, стандартное отклонение"
   ]
  },
  {
   "cell_type": "code",
   "execution_count": 607,
   "metadata": {},
   "outputs": [],
   "source": [
    "df_min_call_month = df_profit.pivot_table(index='month',columns = 'tariff', values= 'call',aggfunc=['mean'])\n",
    "df_min_call_month = pd.DataFrame(df_min_call_month.to_records())\n",
    "df_min_call_month.columns = ['month','smart', 'ultra']\n"
   ]
  },
  {
   "cell_type": "code",
   "execution_count": 608,
   "metadata": {},
   "outputs": [
    {
     "data": {
      "text/html": [
       "<div>\n",
       "<style scoped>\n",
       "    .dataframe tbody tr th:only-of-type {\n",
       "        vertical-align: middle;\n",
       "    }\n",
       "\n",
       "    .dataframe tbody tr th {\n",
       "        vertical-align: top;\n",
       "    }\n",
       "\n",
       "    .dataframe thead th {\n",
       "        text-align: right;\n",
       "    }\n",
       "</style>\n",
       "<table border=\"1\" class=\"dataframe\">\n",
       "  <thead>\n",
       "    <tr style=\"text-align: right;\">\n",
       "      <th></th>\n",
       "      <th>month</th>\n",
       "      <th>smart</th>\n",
       "      <th>ultra</th>\n",
       "    </tr>\n",
       "  </thead>\n",
       "  <tbody>\n",
       "    <tr>\n",
       "      <th>0</th>\n",
       "      <td>1</td>\n",
       "      <td>203.852941</td>\n",
       "      <td>428.111111</td>\n",
       "    </tr>\n",
       "    <tr>\n",
       "      <th>1</th>\n",
       "      <td>2</td>\n",
       "      <td>298.689655</td>\n",
       "      <td>297.125000</td>\n",
       "    </tr>\n",
       "    <tr>\n",
       "      <th>2</th>\n",
       "      <td>3</td>\n",
       "      <td>390.051948</td>\n",
       "      <td>489.648649</td>\n",
       "    </tr>\n",
       "    <tr>\n",
       "      <th>3</th>\n",
       "      <td>4</td>\n",
       "      <td>367.133929</td>\n",
       "      <td>475.301887</td>\n",
       "    </tr>\n",
       "    <tr>\n",
       "      <th>4</th>\n",
       "      <td>5</td>\n",
       "      <td>387.361702</td>\n",
       "      <td>534.250000</td>\n",
       "    </tr>\n",
       "    <tr>\n",
       "      <th>5</th>\n",
       "      <td>6</td>\n",
       "      <td>398.067485</td>\n",
       "      <td>497.469136</td>\n",
       "    </tr>\n",
       "    <tr>\n",
       "      <th>6</th>\n",
       "      <td>7</td>\n",
       "      <td>408.353234</td>\n",
       "      <td>564.397727</td>\n",
       "    </tr>\n",
       "    <tr>\n",
       "      <th>7</th>\n",
       "      <td>8</td>\n",
       "      <td>423.269231</td>\n",
       "      <td>530.611650</td>\n",
       "    </tr>\n",
       "    <tr>\n",
       "      <th>8</th>\n",
       "      <td>9</td>\n",
       "      <td>430.266409</td>\n",
       "      <td>558.882883</td>\n",
       "    </tr>\n",
       "    <tr>\n",
       "      <th>9</th>\n",
       "      <td>10</td>\n",
       "      <td>427.590444</td>\n",
       "      <td>581.728814</td>\n",
       "    </tr>\n",
       "    <tr>\n",
       "      <th>10</th>\n",
       "      <td>11</td>\n",
       "      <td>436.647619</td>\n",
       "      <td>562.364341</td>\n",
       "    </tr>\n",
       "    <tr>\n",
       "      <th>11</th>\n",
       "      <td>12</td>\n",
       "      <td>479.985119</td>\n",
       "      <td>614.925373</td>\n",
       "    </tr>\n",
       "  </tbody>\n",
       "</table>\n",
       "</div>"
      ],
      "text/plain": [
       "    month       smart       ultra\n",
       "0       1  203.852941  428.111111\n",
       "1       2  298.689655  297.125000\n",
       "2       3  390.051948  489.648649\n",
       "3       4  367.133929  475.301887\n",
       "4       5  387.361702  534.250000\n",
       "5       6  398.067485  497.469136\n",
       "6       7  408.353234  564.397727\n",
       "7       8  423.269231  530.611650\n",
       "8       9  430.266409  558.882883\n",
       "9      10  427.590444  581.728814\n",
       "10     11  436.647619  562.364341\n",
       "11     12  479.985119  614.925373"
      ]
     },
     "metadata": {},
     "output_type": "display_data"
    }
   ],
   "source": [
    "display(df_min_call_month)"
   ]
  },
  {
   "cell_type": "markdown",
   "metadata": {},
   "source": [
    "Используя данные этой таблицы, найдем среднее количество, дисперсию и стандартное отклонение по минутам разговора в месяц:"
   ]
  },
  {
   "cell_type": "code",
   "execution_count": 609,
   "metadata": {},
   "outputs": [
    {
     "name": "stdout",
     "output_type": "stream",
     "text": [
      "Среднее количество минут разговора в месяц по тарифу SMART 387.61\n",
      "Среднее количество минут разговора в месяц по тарифу ULTRA 511.23\n",
      "\n",
      "Дисперсия минут разговора по тарифу SMART 5296.9\n",
      "Дисперсия минут разговора по тарифу ULTRA 7185.12\n",
      "\n",
      "Стандартное отклонение минут разговора по тарифу SMART 72.78\n",
      "Стандартное отклонение минут разговора по тарифу ULTRA 84.77\n"
     ]
    }
   ],
   "source": [
    "mean_smart_call = df_min_call_month['smart'].mean()\n",
    "mean_ultra_call = df_min_call_month['ultra'].mean()\n",
    "\n",
    "print('Среднее количество минут разговора в месяц по тарифу SMART', round(mean_smart_call, 2))\n",
    "print('Среднее количество минут разговора в месяц по тарифу ULTRA', round(mean_ultra_call, 2))\n",
    "print('')\n",
    "\n",
    "var_smart_call = np.var(df_min_call_month['smart'],ddof=1)\n",
    "var_ultra_call = np.var(df_min_call_month['ultra'],ddof=1)\n",
    "\n",
    "print('Дисперсия минут разговора по тарифу SMART', round(var_smart_call, 2))\n",
    "print('Дисперсия минут разговора по тарифу ULTRA', round(var_ultra_call, 2))\n",
    "print('')\n",
    "\n",
    "\n",
    "standard_smart_call = np.std(df_min_call_month['smart'],ddof=1)\n",
    "standard_ultra_call = np.std(df_min_call_month['ultra'],ddof=1)\n",
    "\n",
    "print('Стандартное отклонение минут разговора по тарифу SMART', round(standard_smart_call, 2))\n",
    "print('Стандартное отклонение минут разговора по тарифу ULTRA', round(standard_ultra_call, 2))\n",
    "\n"
   ]
  },
  {
   "cell_type": "markdown",
   "metadata": {},
   "source": [
    "### Сообщения в месяц. Среднее, дисперсия, стандартное отклонение"
   ]
  },
  {
   "cell_type": "code",
   "execution_count": 610,
   "metadata": {},
   "outputs": [],
   "source": [
    "df_piece_sms_month = df_profit.pivot_table(index='month',columns = 'tariff', values= 'sms',aggfunc=['mean'])\n",
    "df_piece_sms_month = pd.DataFrame(df_piece_sms_month.to_records())\n",
    "df_piece_sms_month.columns = ['month','smart', 'ultra']"
   ]
  },
  {
   "cell_type": "code",
   "execution_count": 611,
   "metadata": {},
   "outputs": [
    {
     "data": {
      "text/html": [
       "<div>\n",
       "<style scoped>\n",
       "    .dataframe tbody tr th:only-of-type {\n",
       "        vertical-align: middle;\n",
       "    }\n",
       "\n",
       "    .dataframe tbody tr th {\n",
       "        vertical-align: top;\n",
       "    }\n",
       "\n",
       "    .dataframe thead th {\n",
       "        text-align: right;\n",
       "    }\n",
       "</style>\n",
       "<table border=\"1\" class=\"dataframe\">\n",
       "  <thead>\n",
       "    <tr style=\"text-align: right;\">\n",
       "      <th></th>\n",
       "      <th>month</th>\n",
       "      <th>smart</th>\n",
       "      <th>ultra</th>\n",
       "    </tr>\n",
       "  </thead>\n",
       "  <tbody>\n",
       "    <tr>\n",
       "      <th>0</th>\n",
       "      <td>1</td>\n",
       "      <td>18.235294</td>\n",
       "      <td>33.777778</td>\n",
       "    </tr>\n",
       "    <tr>\n",
       "      <th>1</th>\n",
       "      <td>2</td>\n",
       "      <td>24.086207</td>\n",
       "      <td>21.958333</td>\n",
       "    </tr>\n",
       "    <tr>\n",
       "      <th>2</th>\n",
       "      <td>3</td>\n",
       "      <td>31.857143</td>\n",
       "      <td>32.297297</td>\n",
       "    </tr>\n",
       "    <tr>\n",
       "      <th>3</th>\n",
       "      <td>4</td>\n",
       "      <td>30.741071</td>\n",
       "      <td>32.584906</td>\n",
       "    </tr>\n",
       "    <tr>\n",
       "      <th>4</th>\n",
       "      <td>5</td>\n",
       "      <td>33.773050</td>\n",
       "      <td>37.859375</td>\n",
       "    </tr>\n",
       "    <tr>\n",
       "      <th>5</th>\n",
       "      <td>6</td>\n",
       "      <td>33.312883</td>\n",
       "      <td>40.049383</td>\n",
       "    </tr>\n",
       "    <tr>\n",
       "      <th>6</th>\n",
       "      <td>7</td>\n",
       "      <td>33.751244</td>\n",
       "      <td>48.477273</td>\n",
       "    </tr>\n",
       "    <tr>\n",
       "      <th>7</th>\n",
       "      <td>8</td>\n",
       "      <td>33.709402</td>\n",
       "      <td>47.864078</td>\n",
       "    </tr>\n",
       "    <tr>\n",
       "      <th>8</th>\n",
       "      <td>9</td>\n",
       "      <td>33.644788</td>\n",
       "      <td>51.810811</td>\n",
       "    </tr>\n",
       "    <tr>\n",
       "      <th>9</th>\n",
       "      <td>10</td>\n",
       "      <td>33.808874</td>\n",
       "      <td>58.466102</td>\n",
       "    </tr>\n",
       "    <tr>\n",
       "      <th>10</th>\n",
       "      <td>11</td>\n",
       "      <td>34.120635</td>\n",
       "      <td>56.000000</td>\n",
       "    </tr>\n",
       "    <tr>\n",
       "      <th>11</th>\n",
       "      <td>12</td>\n",
       "      <td>35.997024</td>\n",
       "      <td>60.753731</td>\n",
       "    </tr>\n",
       "  </tbody>\n",
       "</table>\n",
       "</div>"
      ],
      "text/plain": [
       "    month      smart      ultra\n",
       "0       1  18.235294  33.777778\n",
       "1       2  24.086207  21.958333\n",
       "2       3  31.857143  32.297297\n",
       "3       4  30.741071  32.584906\n",
       "4       5  33.773050  37.859375\n",
       "5       6  33.312883  40.049383\n",
       "6       7  33.751244  48.477273\n",
       "7       8  33.709402  47.864078\n",
       "8       9  33.644788  51.810811\n",
       "9      10  33.808874  58.466102\n",
       "10     11  34.120635  56.000000\n",
       "11     12  35.997024  60.753731"
      ]
     },
     "metadata": {},
     "output_type": "display_data"
    }
   ],
   "source": [
    "display(df_piece_sms_month)"
   ]
  },
  {
   "cell_type": "markdown",
   "metadata": {},
   "source": [
    "Используя данные этой таблицы, найдем среднее количество, дисперсию и стандартное отклонение по количеству сообщений в месяц:"
   ]
  },
  {
   "cell_type": "code",
   "execution_count": 612,
   "metadata": {},
   "outputs": [
    {
     "name": "stdout",
     "output_type": "stream",
     "text": [
      "Среднее количество сообщений в месяц по тарифу SMART 31.0\n",
      "Среднее количество сообщений в месяц по тарифу ULTRA 43.0\n",
      "\n",
      "Дисперсия сообщений разговора по тарифу SMART 26.0\n",
      "Дисперсия сообщений разговора по тарифу ULTRA 149.0\n",
      "\n",
      "Стандартное отклонение сообщений по тарифу SMART 5.0\n",
      "Стандартное отклонение сообщений по тарифу ULTRA 12.0\n"
     ]
    }
   ],
   "source": [
    "mean_smart_sms = df_piece_sms_month['smart'].mean()\n",
    "mean_ultra_sms = df_piece_sms_month['ultra'].mean()\n",
    "\n",
    "print('Среднее количество сообщений в месяц по тарифу SMART', round(mean_smart_sms, 0))\n",
    "print('Среднее количество сообщений в месяц по тарифу ULTRA', round(mean_ultra_sms, 0))\n",
    "print('')\n",
    "\n",
    "var_smart_sms = np.var(df_piece_sms_month['smart'],ddof=1)\n",
    "var_ultra_sms = np.var(df_piece_sms_month['ultra'],ddof=1)\n",
    "\n",
    "print('Дисперсия сообщений разговора по тарифу SMART', round(var_smart_sms, 0))\n",
    "print('Дисперсия сообщений разговора по тарифу ULTRA', round(var_ultra_sms, 0))\n",
    "print('')\n",
    "\n",
    "\n",
    "standard_smart_sms = np.std(df_piece_sms_month['smart'],ddof=1)\n",
    "standard_ultra_sms = np.std(df_piece_sms_month['ultra'],ddof=1)\n",
    "\n",
    "print('Стандартное отклонение сообщений по тарифу SMART', round(standard_smart_sms, 0))\n",
    "print('Стандартное отклонение сообщений по тарифу ULTRA', round(standard_ultra_sms, 0))\n"
   ]
  },
  {
   "cell_type": "markdown",
   "metadata": {},
   "source": [
    "### Интернет-трафик в месяц. Среднее, дисперсия, стандартное отклонение"
   ]
  },
  {
   "cell_type": "code",
   "execution_count": 613,
   "metadata": {},
   "outputs": [],
   "source": [
    "df_gb_inet_month = df_profit.pivot_table(index='month',columns = 'tariff', values= 'gb_used',aggfunc=['mean'])\n",
    "df_gb_inet_month = pd.DataFrame(df_gb_inet_month.to_records())\n",
    "df_gb_inet_month.columns = ['month','smart', 'ultra']"
   ]
  },
  {
   "cell_type": "code",
   "execution_count": 614,
   "metadata": {},
   "outputs": [
    {
     "data": {
      "text/html": [
       "<div>\n",
       "<style scoped>\n",
       "    .dataframe tbody tr th:only-of-type {\n",
       "        vertical-align: middle;\n",
       "    }\n",
       "\n",
       "    .dataframe tbody tr th {\n",
       "        vertical-align: top;\n",
       "    }\n",
       "\n",
       "    .dataframe thead th {\n",
       "        text-align: right;\n",
       "    }\n",
       "</style>\n",
       "<table border=\"1\" class=\"dataframe\">\n",
       "  <thead>\n",
       "    <tr style=\"text-align: right;\">\n",
       "      <th></th>\n",
       "      <th>month</th>\n",
       "      <th>smart</th>\n",
       "      <th>ultra</th>\n",
       "    </tr>\n",
       "  </thead>\n",
       "  <tbody>\n",
       "    <tr>\n",
       "      <th>0</th>\n",
       "      <td>1</td>\n",
       "      <td>8.735294</td>\n",
       "      <td>13.222222</td>\n",
       "    </tr>\n",
       "    <tr>\n",
       "      <th>1</th>\n",
       "      <td>2</td>\n",
       "      <td>11.844828</td>\n",
       "      <td>12.000000</td>\n",
       "    </tr>\n",
       "    <tr>\n",
       "      <th>2</th>\n",
       "      <td>3</td>\n",
       "      <td>15.233766</td>\n",
       "      <td>17.648649</td>\n",
       "    </tr>\n",
       "    <tr>\n",
       "      <th>3</th>\n",
       "      <td>4</td>\n",
       "      <td>13.625000</td>\n",
       "      <td>17.528302</td>\n",
       "    </tr>\n",
       "    <tr>\n",
       "      <th>4</th>\n",
       "      <td>5</td>\n",
       "      <td>15.907801</td>\n",
       "      <td>19.671875</td>\n",
       "    </tr>\n",
       "    <tr>\n",
       "      <th>5</th>\n",
       "      <td>6</td>\n",
       "      <td>15.969325</td>\n",
       "      <td>18.925926</td>\n",
       "    </tr>\n",
       "    <tr>\n",
       "      <th>6</th>\n",
       "      <td>7</td>\n",
       "      <td>15.875622</td>\n",
       "      <td>20.443182</td>\n",
       "    </tr>\n",
       "    <tr>\n",
       "      <th>7</th>\n",
       "      <td>8</td>\n",
       "      <td>16.760684</td>\n",
       "      <td>19.611650</td>\n",
       "    </tr>\n",
       "    <tr>\n",
       "      <th>8</th>\n",
       "      <td>9</td>\n",
       "      <td>16.389961</td>\n",
       "      <td>19.135135</td>\n",
       "    </tr>\n",
       "    <tr>\n",
       "      <th>9</th>\n",
       "      <td>10</td>\n",
       "      <td>16.870307</td>\n",
       "      <td>20.093220</td>\n",
       "    </tr>\n",
       "    <tr>\n",
       "      <th>10</th>\n",
       "      <td>11</td>\n",
       "      <td>16.996825</td>\n",
       "      <td>19.666667</td>\n",
       "    </tr>\n",
       "    <tr>\n",
       "      <th>11</th>\n",
       "      <td>12</td>\n",
       "      <td>18.205357</td>\n",
       "      <td>21.649254</td>\n",
       "    </tr>\n",
       "  </tbody>\n",
       "</table>\n",
       "</div>"
      ],
      "text/plain": [
       "    month      smart      ultra\n",
       "0       1   8.735294  13.222222\n",
       "1       2  11.844828  12.000000\n",
       "2       3  15.233766  17.648649\n",
       "3       4  13.625000  17.528302\n",
       "4       5  15.907801  19.671875\n",
       "5       6  15.969325  18.925926\n",
       "6       7  15.875622  20.443182\n",
       "7       8  16.760684  19.611650\n",
       "8       9  16.389961  19.135135\n",
       "9      10  16.870307  20.093220\n",
       "10     11  16.996825  19.666667\n",
       "11     12  18.205357  21.649254"
      ]
     },
     "metadata": {},
     "output_type": "display_data"
    }
   ],
   "source": [
    "display(df_gb_inet_month)"
   ]
  },
  {
   "cell_type": "markdown",
   "metadata": {},
   "source": [
    "Используя данные этой таблицы, найдем среднее количество, дисперсию и стандартное отклонение по количеству сообщений в месяц:"
   ]
  },
  {
   "cell_type": "code",
   "execution_count": 615,
   "metadata": {},
   "outputs": [
    {
     "name": "stdout",
     "output_type": "stream",
     "text": [
      "Среднее количество Гб в месяц по тарифу SMART 15.2\n",
      "Среднее количество Гб в месяц по тарифу ULTRA 18.3\n",
      "\n",
      "Дисперсия Гб по тарифу SMART 6.91\n",
      "Дисперсия Гб по тарифу ULTRA 8.37\n",
      "\n",
      "Стандартное отклонение Гб по тарифу SMART 2.63\n",
      "Стандартное отклонение Гб по тарифу ULTRA 2.89\n"
     ]
    }
   ],
   "source": [
    "mean_smart_inet = df_gb_inet_month['smart'].mean()\n",
    "mean_ultra_inet = df_gb_inet_month['ultra'].mean()\n",
    "\n",
    "print('Среднее количество Гб в месяц по тарифу SMART', round(mean_smart_inet, 2))\n",
    "print('Среднее количество Гб в месяц по тарифу ULTRA', round(mean_ultra_inet, 2))\n",
    "print('')\n",
    "\n",
    "var_smart_inet = np.var(df_gb_inet_month['smart'],ddof=1)\n",
    "var_ultra_inet = np.var(df_gb_inet_month['ultra'],ddof=1)\n",
    "\n",
    "print('Дисперсия Гб по тарифу SMART', round(var_smart_inet, 2))\n",
    "print('Дисперсия Гб по тарифу ULTRA', round(var_ultra_inet, 2))\n",
    "print('')\n",
    "\n",
    "\n",
    "standard_smart_inet = np.std(df_gb_inet_month['smart'],ddof=1)\n",
    "standard_ultra_inet = np.std(df_gb_inet_month['ultra'],ddof=1)\n",
    "\n",
    "print('Стандартное отклонение Гб по тарифу SMART', round(standard_smart_inet, 2))\n",
    "print('Стандартное отклонение Гб по тарифу ULTRA', round(standard_ultra_inet, 2))\n"
   ]
  },
  {
   "cell_type": "markdown",
   "metadata": {},
   "source": [
    "### Гистрограммы данных по месяцам"
   ]
  },
  {
   "cell_type": "code",
   "execution_count": 616,
   "metadata": {},
   "outputs": [
    {
     "data": {
      "text/plain": [
       "<AxesSubplot:title={'center':'Среднее количество Гб в месяц'}>"
      ]
     },
     "execution_count": 616,
     "metadata": {},
     "output_type": "execute_result"
    },
    {
     "data": {
      "image/png": "[encoded data removed]",
      "text/plain": [
       "<Figure size 432x288 with 1 Axes>"
      ]
     },
     "metadata": {
      "needs_background": "light"
     },
     "output_type": "display_data"
    },
    {
     "data": {
      "image/png": "[encoded data removed]",
      "text/plain": [
       "<Figure size 432x288 with 1 Axes>"
      ]
     },
     "metadata": {
      "needs_background": "light"
     },
     "output_type": "display_data"
    },
    {
     "data": {
      "image/png": "[encoded data removed]",
      "text/plain": [
       "<Figure size 432x288 with 1 Axes>"
      ]
     },
     "metadata": {
      "needs_background": "light"
     },
     "output_type": "display_data"
    }
   ],
   "source": [
    "df_min_call_month.plot(y=['smart','ultra'],kind='bar', title ='Среднее количество минут разговора в месяц')\n",
    "df_piece_sms_month.plot(y=['smart','ultra'],kind='bar', title ='Среднее количество сообщений в месяц')\n",
    "df_gb_inet_month.plot(y=['smart','ultra'],kind='bar', title ='Среднее количество Гб в месяц')"
   ]
  },
  {
   "cell_type": "markdown",
   "metadata": {},
   "source": [
    "По гитограммам за год видно, что среднее количество трафика по звонкам, сообщениям и интернету растут по обоим тарифам в течение года.Что говорит о том, что потребности в трафике увеличиваются. И со временем пользователь будет искать другой тариф, если его траты будут выходить за абонентскую плату. "
   ]
  },
  {
   "cell_type": "markdown",
   "metadata": {},
   "source": [
    "### Гистрограммы частот данных и плотности  данных"
   ]
  },
  {
   "cell_type": "markdown",
   "metadata": {},
   "source": [
    "#### Данные по звонкам"
   ]
  },
  {
   "cell_type": "code",
   "execution_count": 617,
   "metadata": {},
   "outputs": [
    {
     "data": {
      "text/plain": [
       "<matplotlib.legend.Legend at 0x7f9a3945f250>"
      ]
     },
     "execution_count": 617,
     "metadata": {},
     "output_type": "execute_result"
    },
    {
     "data": {
      "image/png": "[encoded data removed]",
      "text/plain": [
       "<Figure size 432x288 with 1 Axes>"
      ]
     },
     "metadata": {
      "needs_background": "light"
     },
     "output_type": "display_data"
    }
   ],
   "source": [
    "#Диаграмма частот \n",
    "df_min_call_month['smart'].hist(bins=[100,200, 300, 400, 420, 450, 470], alpha=0.5, label='smart')\n",
    "df_min_call_month['ultra'].hist(bins=[350, 420, 450, 470, 490,500,520,550,570,620], alpha=0.5, label='ultra')\n",
    "plt.ylabel('frequency')\n",
    "plt.xlabel('Min')\n",
    "plt.title('Диаграмма частот по звонкам')\n",
    "plt.legend()\n"
   ]
  },
  {
   "cell_type": "code",
   "execution_count": 618,
   "metadata": {},
   "outputs": [
    {
     "data": {
      "image/png": "[encoded data removed]",
      "text/plain": [
       "<Figure size 432x288 with 1 Axes>"
      ]
     },
     "metadata": {
      "needs_background": "light"
     },
     "output_type": "display_data"
    }
   ],
   "source": [
    "#Диаграмма плотности\n",
    "bins = np.arange(min(df_min_call_month['smart']), max(df_min_call_month['smart']))\n",
    "plt.hist(df_min_call_month['smart'], bins = 10, density = True,alpha=0.5, label='smart')\n",
    "plt.ylabel('Density')\n",
    "plt.xlabel('Min')\n",
    "\n",
    "bins = np.arange(min(df_min_call_month['ultra']), max(df_min_call_month['ultra']))\n",
    "plt.hist(df_min_call_month['ultra'], bins = 10, density = True,alpha=0.5, label='ultra')\n",
    "plt.ylabel('Density')\n",
    "plt.xlabel('Min')\n",
    "plt.legend()\n",
    "plt.title('Диаграмма плотности по звонкам')\n",
    "\n",
    "plt.show()"
   ]
  },
  {
   "cell_type": "markdown",
   "metadata": {},
   "source": [
    "По диаграммам мы видим скошенность данных влево, по обоим тарифам. Это говорит о том, что медиана больше среднего значения. "
   ]
  },
  {
   "cell_type": "code",
   "execution_count": 619,
   "metadata": {},
   "outputs": [
    {
     "name": "stdout",
     "output_type": "stream",
     "text": [
      "387.605809617519\n",
      "511.23471423122083\n",
      "403.2103592467113\n",
      "532.4308252427185\n"
     ]
    }
   ],
   "source": [
    "mean_smart_call = df_min_call_month['smart'].mean()\n",
    "mean_ultra_call = df_min_call_month['ultra'].mean()\n",
    "\n",
    "print(mean_smart_call)\n",
    "print(mean_ultra_call)\n",
    "\n",
    "median_smart_call = df_min_call_month['smart'].median()\n",
    "median_ultra_call = df_min_call_month['ultra'].median()\n",
    "\n",
    "print(median_smart_call)\n",
    "print(median_ultra_call)"
   ]
  },
  {
   "cell_type": "markdown",
   "metadata": {},
   "source": [
    "Медианное значение у тарифа Смарт чуть меньше, чем у тарифа Ультра, датасет скошен влево. По обоим тарифам пользователи тратят меньше медианного значения. Для мобильного оператора нет смысла увеличивать количество минут по тарифам."
   ]
  },
  {
   "cell_type": "markdown",
   "metadata": {},
   "source": [
    "#### Данные по сообщениям"
   ]
  },
  {
   "cell_type": "code",
   "execution_count": 620,
   "metadata": {},
   "outputs": [
    {
     "data": {
      "text/plain": [
       "<matplotlib.legend.Legend at 0x7f9a3925d490>"
      ]
     },
     "execution_count": 620,
     "metadata": {},
     "output_type": "execute_result"
    },
    {
     "data": {
      "image/png": "[encoded data removed]",
      "text/plain": [
       "<Figure size 432x288 with 1 Axes>"
      ]
     },
     "metadata": {
      "needs_background": "light"
     },
     "output_type": "display_data"
    }
   ],
   "source": [
    "#Диаграмма частот \n",
    "df_piece_sms_month['smart'].hist(bins=[20,22,25,27,30,32,35,40,42], alpha=0.5, label='smart')\n",
    "df_piece_sms_month['ultra'].hist(bins=[20,25,30,40,50,55,60,75], alpha=0.5, label='ultra')\n",
    "\n",
    "plt.ylabel('frequency')\n",
    "plt.xlabel('SMS')\n",
    "plt.title('Диаграмма частот по СМС')\n",
    "\n",
    "plt.legend()"
   ]
  },
  {
   "cell_type": "code",
   "execution_count": 621,
   "metadata": {},
   "outputs": [
    {
     "data": {
      "image/png": "[encoded data removed]",
      "text/plain": [
       "<Figure size 432x288 with 1 Axes>"
      ]
     },
     "metadata": {
      "needs_background": "light"
     },
     "output_type": "display_data"
    }
   ],
   "source": [
    "#Диаграмма плотности\n",
    "bins = np.arange(min(df_piece_sms_month['smart']), max(df_piece_sms_month['smart']))\n",
    "plt.hist(df_piece_sms_month['smart'], bins = 7, density = True,alpha=0.5, label='smart')\n",
    "plt.ylabel('Density')\n",
    "plt.xlabel('SMS')\n",
    "\n",
    "bins = np.arange(min(df_piece_sms_month['ultra']), max(df_piece_sms_month['ultra']))\n",
    "plt.hist(df_piece_sms_month['ultra'], bins = 7, density = True,alpha=0.5, label='ultra')\n",
    "plt.ylabel('Density')\n",
    "plt.xlabel('SMS')\n",
    "plt.legend()\n",
    "plt.title('Диаграмма плотности по СМС')\n",
    "\n",
    "\n",
    "plt.show()"
   ]
  },
  {
   "cell_type": "markdown",
   "metadata": {},
   "source": [
    "По диаграммам мы видим скошенность данных влево, по тарифу Смарт. Это говорит о том, что медиана больше среднего значения. У тарифа Ультра распределение приближено к такому же скошенному влево виду. "
   ]
  },
  {
   "cell_type": "code",
   "execution_count": 622,
   "metadata": {},
   "outputs": [
    {
     "name": "stdout",
     "output_type": "stream",
     "text": [
      "31.41980116387209\n",
      "43.49158883591837\n",
      "33.67709467709468\n",
      "43.956730192976146\n"
     ]
    }
   ],
   "source": [
    "mean_smart_sms = df_piece_sms_month['smart'].mean()\n",
    "mean_ultra_sms = df_piece_sms_month['ultra'].mean()\n",
    "\n",
    "print(mean_smart_sms)\n",
    "print(mean_ultra_sms)\n",
    "\n",
    "median_smart_sms = df_piece_sms_month['smart'].median()\n",
    "median_ultra_sms = df_piece_sms_month['ultra'].median()\n",
    "\n",
    "print(median_smart_sms)\n",
    "print(median_ultra_sms)"
   ]
  },
  {
   "cell_type": "markdown",
   "metadata": {},
   "source": [
    "Медианное значение у тарифа Смарт чуть меньше, чем у тарифа Ультра, датасет скошен влево. По обоим тарифам пользователи тратят меньше медианного значения. Для мобильного оператора нет смысла увеличивать количество смс по тарифам."
   ]
  },
  {
   "cell_type": "markdown",
   "metadata": {},
   "source": [
    "#### Данные по интернет-трафику"
   ]
  },
  {
   "cell_type": "code",
   "execution_count": 623,
   "metadata": {},
   "outputs": [
    {
     "data": {
      "text/plain": [
       "<matplotlib.legend.Legend at 0x7f9a3915cfd0>"
      ]
     },
     "execution_count": 623,
     "metadata": {},
     "output_type": "execute_result"
    },
    {
     "data": {
      "image/png": "[encoded data removed]",
      "text/plain": [
       "<Figure size 432x288 with 1 Axes>"
      ]
     },
     "metadata": {
      "needs_background": "light"
     },
     "output_type": "display_data"
    }
   ],
   "source": [
    "#Диаграмма частот\n",
    "df_gb_inet_month['smart'].hist(bins=[8,10,11,13,14,15,16,17,18], alpha=0.5, label='smart')\n",
    "df_gb_inet_month['ultra'].hist(bins=[9,11,14,16,17,17.5,18,19,20,21], alpha=0.5, label='ultra')\n",
    "\n",
    "plt.ylabel('frequency')\n",
    "plt.xlabel('Gb')\n",
    "plt.title('Диаграмма частот по интренту')\n",
    "\n",
    "plt.legend()"
   ]
  },
  {
   "cell_type": "code",
   "execution_count": 624,
   "metadata": {},
   "outputs": [
    {
     "data": {
      "image/png": "[encoded data removed]",
      "text/plain": [
       "<Figure size 432x288 with 1 Axes>"
      ]
     },
     "metadata": {
      "needs_background": "light"
     },
     "output_type": "display_data"
    }
   ],
   "source": [
    "bins = np.arange(min(df_gb_inet_month['smart']), max(df_gb_inet_month['smart']))\n",
    "plt.hist(df_gb_inet_month['smart'], bins = 15, density = True,alpha=0.5, label='smart')\n",
    "plt.ylabel('Density')\n",
    "plt.xlabel('Gb')\n",
    "\n",
    "bins = np.arange(min(df_gb_inet_month['ultra']), max(df_gb_inet_month['ultra']))\n",
    "plt.hist(df_gb_inet_month['ultra'], bins = 15, density = True,alpha=0.5, label='ultra')\n",
    "plt.ylabel('Density')\n",
    "plt.xlabel('Gb')\n",
    "plt.legend()\n",
    "plt.title('Диаграмма плотности по интернету')\n",
    "\n",
    "\n",
    "plt.show()"
   ]
  },
  {
   "cell_type": "markdown",
   "metadata": {},
   "source": [
    "По диаграммам мы видим скошенность данных влево, по тарифу Смарт. Это говорит о том, что медиана больше среднего значения. У тарифа Ультра распределение приближено к такому же скошенному влево виду, однако есть выброс на 11-13 Гб с большой долей пользователей, которые тратят такой трафик (примерно 30%). "
   ]
  },
  {
   "cell_type": "code",
   "execution_count": 625,
   "metadata": {},
   "outputs": [
    {
     "name": "stdout",
     "output_type": "stream",
     "text": [
      "15.201230938128715\n",
      "18.299673488278007\n",
      "15.938563285906975\n",
      "19.373392810286013\n"
     ]
    }
   ],
   "source": [
    "mean_smart_inet = df_gb_inet_month['smart'].mean()\n",
    "mean_ultra_inet = df_gb_inet_month['ultra'].mean()\n",
    "\n",
    "print(mean_smart_inet)\n",
    "print(mean_ultra_inet)\n",
    "\n",
    "median_smart_inet = df_gb_inet_month['smart'].median()\n",
    "median_ultra_inet = df_gb_inet_month['ultra'].median()\n",
    "\n",
    "print(median_smart_inet)\n",
    "print(median_ultra_inet)"
   ]
  },
  {
   "cell_type": "markdown",
   "metadata": {},
   "source": [
    "Медианное значение у тарифа Смарт чуть меньше, чем у тарифа Ультра, датасет скошен влево. По обоим тарифам пользователи тратят меньше медианного значения. Для мобильного оператора нет смысла увеличивать количество интернет-трафика по тарифам."
   ]
  },
  {
   "cell_type": "markdown",
   "metadata": {},
   "source": [
    "## Проверка гипотез"
   ]
  },
  {
   "cell_type": "markdown",
   "metadata": {},
   "source": [
    "Далее требуется проверить две гипотезы:\n",
    "- средняя выручка пользователей тарифов Ультра и Смарт различаются\n",
    "- средняя вырчка пользователей из Москвы отличается от выручки пользователей из других регионов"
   ]
  },
  {
   "cell_type": "markdown",
   "metadata": {},
   "source": [
    "### Гипотеза \"Средняя выручка пользователей тарифов Ультра и Смарт различаются\""
   ]
  },
  {
   "cell_type": "markdown",
   "metadata": {},
   "source": [
    "Для проверки гипотезы подготовим таблицу на основе **'df_profit'** (выручка мобильного оператора за каждый месяц по каждому пользователю)*."
   ]
  },
  {
   "cell_type": "code",
   "execution_count": 627,
   "metadata": {},
   "outputs": [
    {
     "data": {
      "text/html": [
       "<div>\n",
       "<style scoped>\n",
       "    .dataframe tbody tr th:only-of-type {\n",
       "        vertical-align: middle;\n",
       "    }\n",
       "\n",
       "    .dataframe tbody tr th {\n",
       "        vertical-align: top;\n",
       "    }\n",
       "\n",
       "    .dataframe thead th {\n",
       "        text-align: right;\n",
       "    }\n",
       "</style>\n",
       "<table border=\"1\" class=\"dataframe\">\n",
       "  <thead>\n",
       "    <tr style=\"text-align: right;\">\n",
       "      <th></th>\n",
       "      <th>user_id</th>\n",
       "      <th>month</th>\n",
       "      <th>call</th>\n",
       "      <th>sms</th>\n",
       "      <th>gb_used</th>\n",
       "      <th>tariff</th>\n",
       "      <th>over_call</th>\n",
       "      <th>over_sms</th>\n",
       "      <th>over_inet</th>\n",
       "      <th>values_call</th>\n",
       "      <th>values_sms</th>\n",
       "      <th>values_inet</th>\n",
       "      <th>profit</th>\n",
       "      <th>all_profit</th>\n",
       "    </tr>\n",
       "  </thead>\n",
       "  <tbody>\n",
       "    <tr>\n",
       "      <th>0</th>\n",
       "      <td>1000</td>\n",
       "      <td>5</td>\n",
       "      <td>159.0</td>\n",
       "      <td>22.0</td>\n",
       "      <td>3.0</td>\n",
       "      <td>ultra</td>\n",
       "      <td>2841.0</td>\n",
       "      <td>978.0</td>\n",
       "      <td>27.0</td>\n",
       "      <td>0.0</td>\n",
       "      <td>0.0</td>\n",
       "      <td>0.0</td>\n",
       "      <td>0.0</td>\n",
       "      <td>1950.0</td>\n",
       "    </tr>\n",
       "    <tr>\n",
       "      <th>1</th>\n",
       "      <td>1000</td>\n",
       "      <td>6</td>\n",
       "      <td>172.0</td>\n",
       "      <td>60.0</td>\n",
       "      <td>23.0</td>\n",
       "      <td>ultra</td>\n",
       "      <td>2828.0</td>\n",
       "      <td>940.0</td>\n",
       "      <td>7.0</td>\n",
       "      <td>0.0</td>\n",
       "      <td>0.0</td>\n",
       "      <td>0.0</td>\n",
       "      <td>0.0</td>\n",
       "      <td>1950.0</td>\n",
       "    </tr>\n",
       "    <tr>\n",
       "      <th>2</th>\n",
       "      <td>1000</td>\n",
       "      <td>7</td>\n",
       "      <td>340.0</td>\n",
       "      <td>75.0</td>\n",
       "      <td>14.0</td>\n",
       "      <td>ultra</td>\n",
       "      <td>2660.0</td>\n",
       "      <td>925.0</td>\n",
       "      <td>16.0</td>\n",
       "      <td>0.0</td>\n",
       "      <td>0.0</td>\n",
       "      <td>0.0</td>\n",
       "      <td>0.0</td>\n",
       "      <td>1950.0</td>\n",
       "    </tr>\n",
       "    <tr>\n",
       "      <th>3</th>\n",
       "      <td>1000</td>\n",
       "      <td>8</td>\n",
       "      <td>408.0</td>\n",
       "      <td>81.0</td>\n",
       "      <td>14.0</td>\n",
       "      <td>ultra</td>\n",
       "      <td>2592.0</td>\n",
       "      <td>919.0</td>\n",
       "      <td>16.0</td>\n",
       "      <td>0.0</td>\n",
       "      <td>0.0</td>\n",
       "      <td>0.0</td>\n",
       "      <td>0.0</td>\n",
       "      <td>1950.0</td>\n",
       "    </tr>\n",
       "    <tr>\n",
       "      <th>4</th>\n",
       "      <td>1000</td>\n",
       "      <td>9</td>\n",
       "      <td>466.0</td>\n",
       "      <td>57.0</td>\n",
       "      <td>15.0</td>\n",
       "      <td>ultra</td>\n",
       "      <td>2534.0</td>\n",
       "      <td>943.0</td>\n",
       "      <td>15.0</td>\n",
       "      <td>0.0</td>\n",
       "      <td>0.0</td>\n",
       "      <td>0.0</td>\n",
       "      <td>0.0</td>\n",
       "      <td>1950.0</td>\n",
       "    </tr>\n",
       "  </tbody>\n",
       "</table>\n",
       "</div>"
      ],
      "text/plain": [
       "   user_id  month   call   sms  gb_used tariff  over_call  over_sms  \\\n",
       "0     1000      5  159.0  22.0      3.0  ultra     2841.0     978.0   \n",
       "1     1000      6  172.0  60.0     23.0  ultra     2828.0     940.0   \n",
       "2     1000      7  340.0  75.0     14.0  ultra     2660.0     925.0   \n",
       "3     1000      8  408.0  81.0     14.0  ultra     2592.0     919.0   \n",
       "4     1000      9  466.0  57.0     15.0  ultra     2534.0     943.0   \n",
       "\n",
       "   over_inet  values_call  values_sms  values_inet  profit  all_profit  \n",
       "0       27.0          0.0         0.0          0.0     0.0      1950.0  \n",
       "1        7.0          0.0         0.0          0.0     0.0      1950.0  \n",
       "2       16.0          0.0         0.0          0.0     0.0      1950.0  \n",
       "3       16.0          0.0         0.0          0.0     0.0      1950.0  \n",
       "4       15.0          0.0         0.0          0.0     0.0      1950.0  "
      ]
     },
     "execution_count": 627,
     "metadata": {},
     "output_type": "execute_result"
    }
   ],
   "source": [
    "df_profit.head()"
   ]
  },
  {
   "cell_type": "markdown",
   "metadata": {},
   "source": [
    "О большом объёме данных, генеральной совокупности, мы будем судить по части — случайной выборке, которая у нас имеется.\n",
    "Сформулируем нулевую и ненулевую гипотезы:\n",
    "- H₀: средняя выручка по тарифу Смарт равна выручке по тарифу Ультра;\n",
    "- H₁: средняя выручка по тарифу Смарт отличается от выручки по тарифу Ультра.\n",
    "\n",
    "Остается только на основе данных сделать выбор: отклонить нулевую гипотезу в пользу альтернативной или нет.\n",
    "\n",
    "Для этого нужно посчитать вероятность получить наблюдаемое на выборке среднее значение при условии, что нулевая гипотеза верна. Если вероятность большая — отвергать нулевую гипотезу вряд ли стоит."
   ]
  },
  {
   "cell_type": "markdown",
   "metadata": {},
   "source": [
    "У нас есть две выборки - данные по тарифу Смарт и по тарифу Ультра. Проверим дисперсии выборок по параметру выручки за каждый месяц по каждому пользователю:"
   ]
  },
  {
   "cell_type": "code",
   "execution_count": 648,
   "metadata": {},
   "outputs": [
    {
     "name": "stdout",
     "output_type": "stream",
     "text": [
      "670957.3328782272\n",
      "\n",
      "143962.09530134485\n"
     ]
    }
   ],
   "source": [
    "variance_smart = np.var(df_profit.query('tariff == \"smart\"')['all_profit'], ddof=1)\n",
    "variance_ultra = np.var(df_profit.query('tariff == \"ultra\"')['all_profit'], ddof=1)\n",
    "\n",
    "print(variance_smart) \n",
    "print('')\n",
    "print(variance_ultra) "
   ]
  },
  {
   "cell_type": "markdown",
   "metadata": {},
   "source": [
    "Теперь посмотрим на распределение выборок (помним,что нас интересуют ненулевые значения по каждому тарифу):"
   ]
  },
  {
   "cell_type": "code",
   "execution_count": 649,
   "metadata": {},
   "outputs": [
    {
     "name": "stdout",
     "output_type": "stream",
     "text": [
      "count    2223.000000\n",
      "mean     1290.891138\n",
      "std       819.119853\n",
      "min       550.000000\n",
      "25%       550.000000\n",
      "50%      1030.000000\n",
      "75%      1750.000000\n",
      "max      6770.000000\n",
      "Name: all_profit, dtype: float64\n",
      "count     951.000000\n",
      "mean     2070.977918\n",
      "std       379.423372\n",
      "min      1950.000000\n",
      "25%      1950.000000\n",
      "50%      1950.000000\n",
      "75%      1950.000000\n",
      "max      4800.000000\n",
      "Name: all_profit, dtype: float64\n"
     ]
    }
   ],
   "source": [
    "print(df_profit.query('tariff == \"smart\"')['all_profit'].describe())\n",
    "print(df_profit.query('tariff == \"ultra\"')['all_profit'].describe())"
   ]
  },
  {
   "cell_type": "code",
   "execution_count": 650,
   "metadata": {},
   "outputs": [
    {
     "data": {
      "text/plain": [
       "Text(0.5, 1.0, 'Распределение средней прибыли от пользователей по тарифам')"
      ]
     },
     "execution_count": 650,
     "metadata": {},
     "output_type": "execute_result"
    },
    {
     "data": {
      "image/png": "[encoded data removed]",
      "text/plain": [
       "<Figure size 432x288 with 1 Axes>"
      ]
     },
     "metadata": {
      "needs_background": "light"
     },
     "output_type": "display_data"
    }
   ],
   "source": [
    "pd.Series(df_profit.query('tariff == \"smart\"')['all_profit']).hist(range = (0,7000),bins=12, label='smart', alpha=0.5)#построим гистограмму с предельными значениями из describe\n",
    "\n",
    "pd.Series(df_profit.query('tariff == \"ultra\"')['all_profit']).hist(range = (0,7000),bins=12, label='ultra',  alpha=0.5)#построим гистограмму с предельными значениями из describe\n",
    "\n",
    "plt.xlabel('profit')\n",
    "plt.legend()\n",
    "plt.title('Распределение средней прибыли от пользователей по тарифам')"
   ]
  },
  {
   "cell_type": "markdown",
   "metadata": {},
   "source": [
    "Распределения имеют скошенность вправо."
   ]
  },
  {
   "cell_type": "markdown",
   "metadata": {},
   "source": [
    "Для проверки гипотезы требуется сравнивать средние двух генеральных совокупностей между собой. Наши совокупности (средняя выручка от того и другого тарифа) не зависят  друг от друга, распределения имеют скошенности, дисперсии рассмариваемых совокупностей не равны. Поэтому параметр 'equal_var' принимает значение False при -тесте:"
   ]
  },
  {
   "cell_type": "code",
   "execution_count": 651,
   "metadata": {},
   "outputs": [
    {
     "name": "stdout",
     "output_type": "stream",
     "text": [
      "p-значение: 3.155173205867294e-245\n",
      "Отвергаем нулевую гипотезу\n"
     ]
    }
   ],
   "source": [
    "alpha = .05 # критический уровень статистической значимости\n",
    "            # можно указать .05 или 0.05\n",
    "\n",
    "results = st.ttest_ind(df_profit.query('tariff == \"smart\"')['all_profit'], df_profit.query('tariff == \"ultra\"')['all_profit'], equal_var = False)\n",
    "\n",
    "print('p-значение:', results.pvalue)\n",
    "\n",
    "if results.pvalue < alpha:\n",
    "    print(\"Отвергаем нулевую гипотезу\")\n",
    "else:\n",
    "    print(\"Не получилось отвергнуть нулевую гипотезу\") "
   ]
  },
  {
   "cell_type": "markdown",
   "metadata": {},
   "source": [
    "**Вывод:**\n",
    "- нулевая гипотеза не верна\n",
    "- средняя выручка по тарифу Смарт имеет значение отличное от средней выручки по тарифу Ультра."
   ]
  },
  {
   "cell_type": "markdown",
   "metadata": {},
   "source": [
    "### Гипотеза \"Средняя вырчка пользователей из Москвы отличается от выручки пользователей из других регионов\""
   ]
  },
  {
   "cell_type": "markdown",
   "metadata": {},
   "source": [
    "Для проверки гипотезы возьмем таблицу **'df_all_traffic'**"
   ]
  },
  {
   "cell_type": "code",
   "execution_count": 652,
   "metadata": {},
   "outputs": [
    {
     "data": {
      "text/html": [
       "<div>\n",
       "<style scoped>\n",
       "    .dataframe tbody tr th:only-of-type {\n",
       "        vertical-align: middle;\n",
       "    }\n",
       "\n",
       "    .dataframe tbody tr th {\n",
       "        vertical-align: top;\n",
       "    }\n",
       "\n",
       "    .dataframe thead th {\n",
       "        text-align: right;\n",
       "    }\n",
       "</style>\n",
       "<table border=\"1\" class=\"dataframe\">\n",
       "  <thead>\n",
       "    <tr style=\"text-align: right;\">\n",
       "      <th></th>\n",
       "      <th>user_id</th>\n",
       "      <th>month</th>\n",
       "      <th>call</th>\n",
       "      <th>sms</th>\n",
       "      <th>gb_used</th>\n",
       "      <th>age</th>\n",
       "      <th>churn_date</th>\n",
       "      <th>city</th>\n",
       "      <th>first_name</th>\n",
       "      <th>last_name</th>\n",
       "      <th>reg_date</th>\n",
       "      <th>tariff</th>\n",
       "      <th>messages_included</th>\n",
       "      <th>gb_per_month_included</th>\n",
       "      <th>minutes_included</th>\n",
       "      <th>rub_monthly_fee</th>\n",
       "      <th>rub_per_gb</th>\n",
       "      <th>rub_per_message</th>\n",
       "      <th>rub_per_minute</th>\n",
       "      <th>over_call</th>\n",
       "      <th>over_sms</th>\n",
       "      <th>over_inet</th>\n",
       "      <th>values_call</th>\n",
       "      <th>values_sms</th>\n",
       "      <th>values_inet</th>\n",
       "      <th>profit</th>\n",
       "      <th>all_profit</th>\n",
       "    </tr>\n",
       "  </thead>\n",
       "  <tbody>\n",
       "    <tr>\n",
       "      <th>0</th>\n",
       "      <td>1000</td>\n",
       "      <td>5</td>\n",
       "      <td>159.0</td>\n",
       "      <td>22.0</td>\n",
       "      <td>3.0</td>\n",
       "      <td>52</td>\n",
       "      <td>0</td>\n",
       "      <td>Краснодар</td>\n",
       "      <td>Рафаил</td>\n",
       "      <td>Верещагин</td>\n",
       "      <td>2018-05-25</td>\n",
       "      <td>ultra</td>\n",
       "      <td>1000.0</td>\n",
       "      <td>30.0</td>\n",
       "      <td>3000.0</td>\n",
       "      <td>1950.0</td>\n",
       "      <td>150.0</td>\n",
       "      <td>1.0</td>\n",
       "      <td>1.0</td>\n",
       "      <td>2841.0</td>\n",
       "      <td>978.0</td>\n",
       "      <td>27.0</td>\n",
       "      <td>0.0</td>\n",
       "      <td>0.0</td>\n",
       "      <td>0.0</td>\n",
       "      <td>0.0</td>\n",
       "      <td>1950.0</td>\n",
       "    </tr>\n",
       "    <tr>\n",
       "      <th>1</th>\n",
       "      <td>1000</td>\n",
       "      <td>6</td>\n",
       "      <td>172.0</td>\n",
       "      <td>60.0</td>\n",
       "      <td>23.0</td>\n",
       "      <td>52</td>\n",
       "      <td>0</td>\n",
       "      <td>Краснодар</td>\n",
       "      <td>Рафаил</td>\n",
       "      <td>Верещагин</td>\n",
       "      <td>2018-05-25</td>\n",
       "      <td>ultra</td>\n",
       "      <td>1000.0</td>\n",
       "      <td>30.0</td>\n",
       "      <td>3000.0</td>\n",
       "      <td>1950.0</td>\n",
       "      <td>150.0</td>\n",
       "      <td>1.0</td>\n",
       "      <td>1.0</td>\n",
       "      <td>2828.0</td>\n",
       "      <td>940.0</td>\n",
       "      <td>7.0</td>\n",
       "      <td>0.0</td>\n",
       "      <td>0.0</td>\n",
       "      <td>0.0</td>\n",
       "      <td>0.0</td>\n",
       "      <td>1950.0</td>\n",
       "    </tr>\n",
       "    <tr>\n",
       "      <th>2</th>\n",
       "      <td>1000</td>\n",
       "      <td>7</td>\n",
       "      <td>340.0</td>\n",
       "      <td>75.0</td>\n",
       "      <td>14.0</td>\n",
       "      <td>52</td>\n",
       "      <td>0</td>\n",
       "      <td>Краснодар</td>\n",
       "      <td>Рафаил</td>\n",
       "      <td>Верещагин</td>\n",
       "      <td>2018-05-25</td>\n",
       "      <td>ultra</td>\n",
       "      <td>1000.0</td>\n",
       "      <td>30.0</td>\n",
       "      <td>3000.0</td>\n",
       "      <td>1950.0</td>\n",
       "      <td>150.0</td>\n",
       "      <td>1.0</td>\n",
       "      <td>1.0</td>\n",
       "      <td>2660.0</td>\n",
       "      <td>925.0</td>\n",
       "      <td>16.0</td>\n",
       "      <td>0.0</td>\n",
       "      <td>0.0</td>\n",
       "      <td>0.0</td>\n",
       "      <td>0.0</td>\n",
       "      <td>1950.0</td>\n",
       "    </tr>\n",
       "    <tr>\n",
       "      <th>3</th>\n",
       "      <td>1000</td>\n",
       "      <td>8</td>\n",
       "      <td>408.0</td>\n",
       "      <td>81.0</td>\n",
       "      <td>14.0</td>\n",
       "      <td>52</td>\n",
       "      <td>0</td>\n",
       "      <td>Краснодар</td>\n",
       "      <td>Рафаил</td>\n",
       "      <td>Верещагин</td>\n",
       "      <td>2018-05-25</td>\n",
       "      <td>ultra</td>\n",
       "      <td>1000.0</td>\n",
       "      <td>30.0</td>\n",
       "      <td>3000.0</td>\n",
       "      <td>1950.0</td>\n",
       "      <td>150.0</td>\n",
       "      <td>1.0</td>\n",
       "      <td>1.0</td>\n",
       "      <td>2592.0</td>\n",
       "      <td>919.0</td>\n",
       "      <td>16.0</td>\n",
       "      <td>0.0</td>\n",
       "      <td>0.0</td>\n",
       "      <td>0.0</td>\n",
       "      <td>0.0</td>\n",
       "      <td>1950.0</td>\n",
       "    </tr>\n",
       "    <tr>\n",
       "      <th>4</th>\n",
       "      <td>1000</td>\n",
       "      <td>9</td>\n",
       "      <td>466.0</td>\n",
       "      <td>57.0</td>\n",
       "      <td>15.0</td>\n",
       "      <td>52</td>\n",
       "      <td>0</td>\n",
       "      <td>Краснодар</td>\n",
       "      <td>Рафаил</td>\n",
       "      <td>Верещагин</td>\n",
       "      <td>2018-05-25</td>\n",
       "      <td>ultra</td>\n",
       "      <td>1000.0</td>\n",
       "      <td>30.0</td>\n",
       "      <td>3000.0</td>\n",
       "      <td>1950.0</td>\n",
       "      <td>150.0</td>\n",
       "      <td>1.0</td>\n",
       "      <td>1.0</td>\n",
       "      <td>2534.0</td>\n",
       "      <td>943.0</td>\n",
       "      <td>15.0</td>\n",
       "      <td>0.0</td>\n",
       "      <td>0.0</td>\n",
       "      <td>0.0</td>\n",
       "      <td>0.0</td>\n",
       "      <td>1950.0</td>\n",
       "    </tr>\n",
       "    <tr>\n",
       "      <th>...</th>\n",
       "      <td>...</td>\n",
       "      <td>...</td>\n",
       "      <td>...</td>\n",
       "      <td>...</td>\n",
       "      <td>...</td>\n",
       "      <td>...</td>\n",
       "      <td>...</td>\n",
       "      <td>...</td>\n",
       "      <td>...</td>\n",
       "      <td>...</td>\n",
       "      <td>...</td>\n",
       "      <td>...</td>\n",
       "      <td>...</td>\n",
       "      <td>...</td>\n",
       "      <td>...</td>\n",
       "      <td>...</td>\n",
       "      <td>...</td>\n",
       "      <td>...</td>\n",
       "      <td>...</td>\n",
       "      <td>...</td>\n",
       "      <td>...</td>\n",
       "      <td>...</td>\n",
       "      <td>...</td>\n",
       "      <td>...</td>\n",
       "      <td>...</td>\n",
       "      <td>...</td>\n",
       "      <td>...</td>\n",
       "    </tr>\n",
       "    <tr>\n",
       "      <th>3169</th>\n",
       "      <td>1498</td>\n",
       "      <td>10</td>\n",
       "      <td>247.0</td>\n",
       "      <td>42.0</td>\n",
       "      <td>21.0</td>\n",
       "      <td>68</td>\n",
       "      <td>2018-10-25 00:00:00</td>\n",
       "      <td>Владикавказ</td>\n",
       "      <td>Всеволод</td>\n",
       "      <td>Акимчин</td>\n",
       "      <td>2018-07-19</td>\n",
       "      <td>smart</td>\n",
       "      <td>50.0</td>\n",
       "      <td>15.0</td>\n",
       "      <td>500.0</td>\n",
       "      <td>550.0</td>\n",
       "      <td>200.0</td>\n",
       "      <td>3.0</td>\n",
       "      <td>3.0</td>\n",
       "      <td>253.0</td>\n",
       "      <td>8.0</td>\n",
       "      <td>-6.0</td>\n",
       "      <td>0.0</td>\n",
       "      <td>0.0</td>\n",
       "      <td>1200.0</td>\n",
       "      <td>1200.0</td>\n",
       "      <td>1750.0</td>\n",
       "    </tr>\n",
       "    <tr>\n",
       "      <th>3170</th>\n",
       "      <td>1499</td>\n",
       "      <td>9</td>\n",
       "      <td>70.0</td>\n",
       "      <td>11.0</td>\n",
       "      <td>2.0</td>\n",
       "      <td>35</td>\n",
       "      <td>0</td>\n",
       "      <td>Пермь</td>\n",
       "      <td>Гектор</td>\n",
       "      <td>Корнилов</td>\n",
       "      <td>2018-09-27</td>\n",
       "      <td>smart</td>\n",
       "      <td>50.0</td>\n",
       "      <td>15.0</td>\n",
       "      <td>500.0</td>\n",
       "      <td>550.0</td>\n",
       "      <td>200.0</td>\n",
       "      <td>3.0</td>\n",
       "      <td>3.0</td>\n",
       "      <td>430.0</td>\n",
       "      <td>39.0</td>\n",
       "      <td>13.0</td>\n",
       "      <td>0.0</td>\n",
       "      <td>0.0</td>\n",
       "      <td>0.0</td>\n",
       "      <td>0.0</td>\n",
       "      <td>550.0</td>\n",
       "    </tr>\n",
       "    <tr>\n",
       "      <th>3171</th>\n",
       "      <td>1499</td>\n",
       "      <td>10</td>\n",
       "      <td>449.0</td>\n",
       "      <td>48.0</td>\n",
       "      <td>18.0</td>\n",
       "      <td>35</td>\n",
       "      <td>0</td>\n",
       "      <td>Пермь</td>\n",
       "      <td>Гектор</td>\n",
       "      <td>Корнилов</td>\n",
       "      <td>2018-09-27</td>\n",
       "      <td>smart</td>\n",
       "      <td>50.0</td>\n",
       "      <td>15.0</td>\n",
       "      <td>500.0</td>\n",
       "      <td>550.0</td>\n",
       "      <td>200.0</td>\n",
       "      <td>3.0</td>\n",
       "      <td>3.0</td>\n",
       "      <td>51.0</td>\n",
       "      <td>2.0</td>\n",
       "      <td>-3.0</td>\n",
       "      <td>0.0</td>\n",
       "      <td>0.0</td>\n",
       "      <td>600.0</td>\n",
       "      <td>600.0</td>\n",
       "      <td>1150.0</td>\n",
       "    </tr>\n",
       "    <tr>\n",
       "      <th>3172</th>\n",
       "      <td>1499</td>\n",
       "      <td>11</td>\n",
       "      <td>612.0</td>\n",
       "      <td>59.0</td>\n",
       "      <td>18.0</td>\n",
       "      <td>35</td>\n",
       "      <td>0</td>\n",
       "      <td>Пермь</td>\n",
       "      <td>Гектор</td>\n",
       "      <td>Корнилов</td>\n",
       "      <td>2018-09-27</td>\n",
       "      <td>smart</td>\n",
       "      <td>50.0</td>\n",
       "      <td>15.0</td>\n",
       "      <td>500.0</td>\n",
       "      <td>550.0</td>\n",
       "      <td>200.0</td>\n",
       "      <td>3.0</td>\n",
       "      <td>3.0</td>\n",
       "      <td>-112.0</td>\n",
       "      <td>-9.0</td>\n",
       "      <td>-3.0</td>\n",
       "      <td>336.0</td>\n",
       "      <td>27.0</td>\n",
       "      <td>600.0</td>\n",
       "      <td>963.0</td>\n",
       "      <td>1513.0</td>\n",
       "    </tr>\n",
       "    <tr>\n",
       "      <th>3173</th>\n",
       "      <td>1499</td>\n",
       "      <td>12</td>\n",
       "      <td>492.0</td>\n",
       "      <td>66.0</td>\n",
       "      <td>13.0</td>\n",
       "      <td>35</td>\n",
       "      <td>0</td>\n",
       "      <td>Пермь</td>\n",
       "      <td>Гектор</td>\n",
       "      <td>Корнилов</td>\n",
       "      <td>2018-09-27</td>\n",
       "      <td>smart</td>\n",
       "      <td>50.0</td>\n",
       "      <td>15.0</td>\n",
       "      <td>500.0</td>\n",
       "      <td>550.0</td>\n",
       "      <td>200.0</td>\n",
       "      <td>3.0</td>\n",
       "      <td>3.0</td>\n",
       "      <td>8.0</td>\n",
       "      <td>-16.0</td>\n",
       "      <td>2.0</td>\n",
       "      <td>0.0</td>\n",
       "      <td>48.0</td>\n",
       "      <td>0.0</td>\n",
       "      <td>48.0</td>\n",
       "      <td>598.0</td>\n",
       "    </tr>\n",
       "  </tbody>\n",
       "</table>\n",
       "<p>3174 rows × 27 columns</p>\n",
       "</div>"
      ],
      "text/plain": [
       "      user_id  month   call   sms  gb_used  age           churn_date  \\\n",
       "0        1000      5  159.0  22.0      3.0   52                    0   \n",
       "1        1000      6  172.0  60.0     23.0   52                    0   \n",
       "2        1000      7  340.0  75.0     14.0   52                    0   \n",
       "3        1000      8  408.0  81.0     14.0   52                    0   \n",
       "4        1000      9  466.0  57.0     15.0   52                    0   \n",
       "...       ...    ...    ...   ...      ...  ...                  ...   \n",
       "3169     1498     10  247.0  42.0     21.0   68  2018-10-25 00:00:00   \n",
       "3170     1499      9   70.0  11.0      2.0   35                    0   \n",
       "3171     1499     10  449.0  48.0     18.0   35                    0   \n",
       "3172     1499     11  612.0  59.0     18.0   35                    0   \n",
       "3173     1499     12  492.0  66.0     13.0   35                    0   \n",
       "\n",
       "             city first_name  last_name   reg_date tariff  messages_included  \\\n",
       "0       Краснодар     Рафаил  Верещагин 2018-05-25  ultra             1000.0   \n",
       "1       Краснодар     Рафаил  Верещагин 2018-05-25  ultra             1000.0   \n",
       "2       Краснодар     Рафаил  Верещагин 2018-05-25  ultra             1000.0   \n",
       "3       Краснодар     Рафаил  Верещагин 2018-05-25  ultra             1000.0   \n",
       "4       Краснодар     Рафаил  Верещагин 2018-05-25  ultra             1000.0   \n",
       "...           ...        ...        ...        ...    ...                ...   \n",
       "3169  Владикавказ   Всеволод    Акимчин 2018-07-19  smart               50.0   \n",
       "3170        Пермь     Гектор   Корнилов 2018-09-27  smart               50.0   \n",
       "3171        Пермь     Гектор   Корнилов 2018-09-27  smart               50.0   \n",
       "3172        Пермь     Гектор   Корнилов 2018-09-27  smart               50.0   \n",
       "3173        Пермь     Гектор   Корнилов 2018-09-27  smart               50.0   \n",
       "\n",
       "      gb_per_month_included  minutes_included  rub_monthly_fee  rub_per_gb  \\\n",
       "0                      30.0            3000.0           1950.0       150.0   \n",
       "1                      30.0            3000.0           1950.0       150.0   \n",
       "2                      30.0            3000.0           1950.0       150.0   \n",
       "3                      30.0            3000.0           1950.0       150.0   \n",
       "4                      30.0            3000.0           1950.0       150.0   \n",
       "...                     ...               ...              ...         ...   \n",
       "3169                   15.0             500.0            550.0       200.0   \n",
       "3170                   15.0             500.0            550.0       200.0   \n",
       "3171                   15.0             500.0            550.0       200.0   \n",
       "3172                   15.0             500.0            550.0       200.0   \n",
       "3173                   15.0             500.0            550.0       200.0   \n",
       "\n",
       "      rub_per_message  rub_per_minute  over_call  over_sms  over_inet  \\\n",
       "0                 1.0             1.0     2841.0     978.0       27.0   \n",
       "1                 1.0             1.0     2828.0     940.0        7.0   \n",
       "2                 1.0             1.0     2660.0     925.0       16.0   \n",
       "3                 1.0             1.0     2592.0     919.0       16.0   \n",
       "4                 1.0             1.0     2534.0     943.0       15.0   \n",
       "...               ...             ...        ...       ...        ...   \n",
       "3169              3.0             3.0      253.0       8.0       -6.0   \n",
       "3170              3.0             3.0      430.0      39.0       13.0   \n",
       "3171              3.0             3.0       51.0       2.0       -3.0   \n",
       "3172              3.0             3.0     -112.0      -9.0       -3.0   \n",
       "3173              3.0             3.0        8.0     -16.0        2.0   \n",
       "\n",
       "      values_call  values_sms  values_inet  profit  all_profit  \n",
       "0             0.0         0.0          0.0     0.0      1950.0  \n",
       "1             0.0         0.0          0.0     0.0      1950.0  \n",
       "2             0.0         0.0          0.0     0.0      1950.0  \n",
       "3             0.0         0.0          0.0     0.0      1950.0  \n",
       "4             0.0         0.0          0.0     0.0      1950.0  \n",
       "...           ...         ...          ...     ...         ...  \n",
       "3169          0.0         0.0       1200.0  1200.0      1750.0  \n",
       "3170          0.0         0.0          0.0     0.0       550.0  \n",
       "3171          0.0         0.0        600.0   600.0      1150.0  \n",
       "3172        336.0        27.0        600.0   963.0      1513.0  \n",
       "3173          0.0        48.0          0.0    48.0       598.0  \n",
       "\n",
       "[3174 rows x 27 columns]"
      ]
     },
     "metadata": {},
     "output_type": "display_data"
    }
   ],
   "source": [
    "display(df_all_traffic)"
   ]
  },
  {
   "cell_type": "markdown",
   "metadata": {},
   "source": [
    "Сформулируем нулевую и ненулевую гипотезы:\n",
    "- H₀: средняя выручка пользователей из Москвы не равна выручке пользователей из других регионов;\n",
    "- H₁: средняя выручка пользователей из Москвы больше выручки пользователей из других регионов.\n",
    "\n",
    "\n",
    "Остается только на основе данных сделать выбор: отклонить нулевую гипотезу в пользу альтернативной или нет.\n",
    "\n",
    "Для этого нужно посчитать вероятность получить наблюдаемое на выборке среднее значение при условии, что нулевая гипотеза верна. Если вероятность большая — отвергать нулевую гипотезу вряд ли стоит."
   ]
  },
  {
   "cell_type": "markdown",
   "metadata": {},
   "source": [
    "У нас есть две выборки - данные по Москве и по остальным городам. Проверим дисперсии выборок по параметру 'mean_profit_month':"
   ]
  },
  {
   "cell_type": "code",
   "execution_count": 653,
   "metadata": {},
   "outputs": [
    {
     "name": "stdout",
     "output_type": "stream",
     "text": [
      "566297.7640744031\n",
      "\n",
      "658497.796936696\n"
     ]
    }
   ],
   "source": [
    "variance_Moscow = np.var(df_all_traffic.query('city == \"Москва\"')['all_profit'], ddof=1)\n",
    "variance_other_city = np.var(df_all_traffic.query('city != \"Москва\"')['all_profit'], ddof=1)\n",
    "\n",
    "print(variance_Moscow) \n",
    "print('')\n",
    "print(variance_other_city) "
   ]
  },
  {
   "cell_type": "markdown",
   "metadata": {},
   "source": [
    "Теперь посмотрим на распределение выборок:"
   ]
  },
  {
   "cell_type": "code",
   "execution_count": 654,
   "metadata": {},
   "outputs": [
    {
     "name": "stdout",
     "output_type": "stream",
     "text": [
      "count     610.000000\n",
      "mean     1546.052459\n",
      "std       752.527584\n",
      "min       550.000000\n",
      "25%       778.750000\n",
      "50%      1750.000000\n",
      "75%      1950.000000\n",
      "max      5321.000000\n",
      "Name: all_profit, dtype: float64\n",
      "count    2564.000000\n",
      "mean     1519.523791\n",
      "std       811.478772\n",
      "min       550.000000\n",
      "25%       750.000000\n",
      "50%      1553.500000\n",
      "75%      1950.000000\n",
      "max      6770.000000\n",
      "Name: all_profit, dtype: float64\n"
     ]
    }
   ],
   "source": [
    "print(df_all_traffic.query('city == \"Москва\"')['all_profit'].describe())\n",
    "print(df_all_traffic.query('city != \"Москва\"')['all_profit'].describe())"
   ]
  },
  {
   "cell_type": "code",
   "execution_count": 655,
   "metadata": {},
   "outputs": [
    {
     "data": {
      "text/plain": [
       "Text(0.5, 1.0, 'Распределение средней прибыли от пользователей по городам')"
      ]
     },
     "execution_count": 655,
     "metadata": {},
     "output_type": "execute_result"
    },
    {
     "data": {
      "image/png": "[encoded data removed]",
      "text/plain": [
       "<Figure size 432x288 with 1 Axes>"
      ]
     },
     "metadata": {
      "needs_background": "light"
     },
     "output_type": "display_data"
    }
   ],
   "source": [
    "pd.Series(df_all_traffic.query('city == \"Москва\"')['all_profit']).hist(range = (0,6000),bins=10, label='Москва', alpha=0.5)#построим гистограмму с предельными значениями из describe\n",
    "\n",
    "pd.Series(df_all_traffic.query('city != \"Москва\"')['all_profit']).hist(range = (0,7000),bins=10, label='Дргуие города',  alpha=0.5)#построим гистограмму с предельными значениями из describe\n",
    "\n",
    "plt.xlabel('profit')\n",
    "plt.legend()\n",
    "plt.title('Распределение средней прибыли от пользователей по городам')"
   ]
  },
  {
   "cell_type": "markdown",
   "metadata": {},
   "source": [
    "Оба распределения имеют скошенность."
   ]
  },
  {
   "cell_type": "markdown",
   "metadata": {},
   "source": [
    "Для проверки гипотезы требуется сравнивать средние двух генеральных совокупностей между собой. Наши совокупности (средняя выручка по городам) не зависят  друг от друга, распределения не имеют нормальный вид, дисперсии рассмариваемых совокупностей не равны. Поэтому параметр 'equal_var' принимает значение False при -тесте:"
   ]
  },
  {
   "cell_type": "code",
   "execution_count": 656,
   "metadata": {},
   "outputs": [
    {
     "data": {
      "text/html": [
       "<div>\n",
       "<style scoped>\n",
       "    .dataframe tbody tr th:only-of-type {\n",
       "        vertical-align: middle;\n",
       "    }\n",
       "\n",
       "    .dataframe tbody tr th {\n",
       "        vertical-align: top;\n",
       "    }\n",
       "\n",
       "    .dataframe thead th {\n",
       "        text-align: right;\n",
       "    }\n",
       "</style>\n",
       "<table border=\"1\" class=\"dataframe\">\n",
       "  <thead>\n",
       "    <tr style=\"text-align: right;\">\n",
       "      <th></th>\n",
       "      <th>user_id</th>\n",
       "      <th>age</th>\n",
       "      <th>churn_date</th>\n",
       "      <th>city</th>\n",
       "      <th>first_name</th>\n",
       "      <th>last_name</th>\n",
       "      <th>reg_date</th>\n",
       "      <th>tariff</th>\n",
       "      <th>month</th>\n",
       "      <th>call</th>\n",
       "      <th>sms</th>\n",
       "      <th>gb_used</th>\n",
       "      <th>over_call</th>\n",
       "      <th>over_sms</th>\n",
       "      <th>over_inet</th>\n",
       "      <th>values_call</th>\n",
       "      <th>values_sms</th>\n",
       "      <th>values_inet</th>\n",
       "      <th>profit</th>\n",
       "      <th>all_profit</th>\n",
       "      <th>Moscow</th>\n",
       "      <th>Other</th>\n",
       "    </tr>\n",
       "  </thead>\n",
       "  <tbody>\n",
       "    <tr>\n",
       "      <th>0</th>\n",
       "      <td>1000</td>\n",
       "      <td>52</td>\n",
       "      <td>0</td>\n",
       "      <td>Краснодар</td>\n",
       "      <td>Рафаил</td>\n",
       "      <td>Верещагин</td>\n",
       "      <td>2018-05-25</td>\n",
       "      <td>ultra</td>\n",
       "      <td>5.0</td>\n",
       "      <td>159.0</td>\n",
       "      <td>22.0</td>\n",
       "      <td>3.0</td>\n",
       "      <td>2841.0</td>\n",
       "      <td>978.0</td>\n",
       "      <td>27.0</td>\n",
       "      <td>0.0</td>\n",
       "      <td>0.0</td>\n",
       "      <td>0.0</td>\n",
       "      <td>0.0</td>\n",
       "      <td>1950.0</td>\n",
       "      <td>0.0</td>\n",
       "      <td>1950.0</td>\n",
       "    </tr>\n",
       "    <tr>\n",
       "      <th>1</th>\n",
       "      <td>1000</td>\n",
       "      <td>52</td>\n",
       "      <td>0</td>\n",
       "      <td>Краснодар</td>\n",
       "      <td>Рафаил</td>\n",
       "      <td>Верещагин</td>\n",
       "      <td>2018-05-25</td>\n",
       "      <td>ultra</td>\n",
       "      <td>6.0</td>\n",
       "      <td>172.0</td>\n",
       "      <td>60.0</td>\n",
       "      <td>23.0</td>\n",
       "      <td>2828.0</td>\n",
       "      <td>940.0</td>\n",
       "      <td>7.0</td>\n",
       "      <td>0.0</td>\n",
       "      <td>0.0</td>\n",
       "      <td>0.0</td>\n",
       "      <td>0.0</td>\n",
       "      <td>1950.0</td>\n",
       "      <td>0.0</td>\n",
       "      <td>1950.0</td>\n",
       "    </tr>\n",
       "    <tr>\n",
       "      <th>2</th>\n",
       "      <td>1000</td>\n",
       "      <td>52</td>\n",
       "      <td>0</td>\n",
       "      <td>Краснодар</td>\n",
       "      <td>Рафаил</td>\n",
       "      <td>Верещагин</td>\n",
       "      <td>2018-05-25</td>\n",
       "      <td>ultra</td>\n",
       "      <td>7.0</td>\n",
       "      <td>340.0</td>\n",
       "      <td>75.0</td>\n",
       "      <td>14.0</td>\n",
       "      <td>2660.0</td>\n",
       "      <td>925.0</td>\n",
       "      <td>16.0</td>\n",
       "      <td>0.0</td>\n",
       "      <td>0.0</td>\n",
       "      <td>0.0</td>\n",
       "      <td>0.0</td>\n",
       "      <td>1950.0</td>\n",
       "      <td>0.0</td>\n",
       "      <td>1950.0</td>\n",
       "    </tr>\n",
       "    <tr>\n",
       "      <th>3</th>\n",
       "      <td>1000</td>\n",
       "      <td>52</td>\n",
       "      <td>0</td>\n",
       "      <td>Краснодар</td>\n",
       "      <td>Рафаил</td>\n",
       "      <td>Верещагин</td>\n",
       "      <td>2018-05-25</td>\n",
       "      <td>ultra</td>\n",
       "      <td>8.0</td>\n",
       "      <td>408.0</td>\n",
       "      <td>81.0</td>\n",
       "      <td>14.0</td>\n",
       "      <td>2592.0</td>\n",
       "      <td>919.0</td>\n",
       "      <td>16.0</td>\n",
       "      <td>0.0</td>\n",
       "      <td>0.0</td>\n",
       "      <td>0.0</td>\n",
       "      <td>0.0</td>\n",
       "      <td>1950.0</td>\n",
       "      <td>0.0</td>\n",
       "      <td>1950.0</td>\n",
       "    </tr>\n",
       "    <tr>\n",
       "      <th>4</th>\n",
       "      <td>1000</td>\n",
       "      <td>52</td>\n",
       "      <td>0</td>\n",
       "      <td>Краснодар</td>\n",
       "      <td>Рафаил</td>\n",
       "      <td>Верещагин</td>\n",
       "      <td>2018-05-25</td>\n",
       "      <td>ultra</td>\n",
       "      <td>9.0</td>\n",
       "      <td>466.0</td>\n",
       "      <td>57.0</td>\n",
       "      <td>15.0</td>\n",
       "      <td>2534.0</td>\n",
       "      <td>943.0</td>\n",
       "      <td>15.0</td>\n",
       "      <td>0.0</td>\n",
       "      <td>0.0</td>\n",
       "      <td>0.0</td>\n",
       "      <td>0.0</td>\n",
       "      <td>1950.0</td>\n",
       "      <td>0.0</td>\n",
       "      <td>1950.0</td>\n",
       "    </tr>\n",
       "    <tr>\n",
       "      <th>...</th>\n",
       "      <td>...</td>\n",
       "      <td>...</td>\n",
       "      <td>...</td>\n",
       "      <td>...</td>\n",
       "      <td>...</td>\n",
       "      <td>...</td>\n",
       "      <td>...</td>\n",
       "      <td>...</td>\n",
       "      <td>...</td>\n",
       "      <td>...</td>\n",
       "      <td>...</td>\n",
       "      <td>...</td>\n",
       "      <td>...</td>\n",
       "      <td>...</td>\n",
       "      <td>...</td>\n",
       "      <td>...</td>\n",
       "      <td>...</td>\n",
       "      <td>...</td>\n",
       "      <td>...</td>\n",
       "      <td>...</td>\n",
       "      <td>...</td>\n",
       "      <td>...</td>\n",
       "    </tr>\n",
       "    <tr>\n",
       "      <th>3177</th>\n",
       "      <td>1498</td>\n",
       "      <td>68</td>\n",
       "      <td>2018-10-25 00:00:00</td>\n",
       "      <td>Владикавказ</td>\n",
       "      <td>Всеволод</td>\n",
       "      <td>Акимчин</td>\n",
       "      <td>2018-07-19</td>\n",
       "      <td>smart</td>\n",
       "      <td>10.0</td>\n",
       "      <td>247.0</td>\n",
       "      <td>42.0</td>\n",
       "      <td>21.0</td>\n",
       "      <td>253.0</td>\n",
       "      <td>8.0</td>\n",
       "      <td>-6.0</td>\n",
       "      <td>0.0</td>\n",
       "      <td>0.0</td>\n",
       "      <td>1200.0</td>\n",
       "      <td>1200.0</td>\n",
       "      <td>1750.0</td>\n",
       "      <td>0.0</td>\n",
       "      <td>1750.0</td>\n",
       "    </tr>\n",
       "    <tr>\n",
       "      <th>3178</th>\n",
       "      <td>1499</td>\n",
       "      <td>35</td>\n",
       "      <td>0</td>\n",
       "      <td>Пермь</td>\n",
       "      <td>Гектор</td>\n",
       "      <td>Корнилов</td>\n",
       "      <td>2018-09-27</td>\n",
       "      <td>smart</td>\n",
       "      <td>9.0</td>\n",
       "      <td>70.0</td>\n",
       "      <td>11.0</td>\n",
       "      <td>2.0</td>\n",
       "      <td>430.0</td>\n",
       "      <td>39.0</td>\n",
       "      <td>13.0</td>\n",
       "      <td>0.0</td>\n",
       "      <td>0.0</td>\n",
       "      <td>0.0</td>\n",
       "      <td>0.0</td>\n",
       "      <td>550.0</td>\n",
       "      <td>0.0</td>\n",
       "      <td>550.0</td>\n",
       "    </tr>\n",
       "    <tr>\n",
       "      <th>3179</th>\n",
       "      <td>1499</td>\n",
       "      <td>35</td>\n",
       "      <td>0</td>\n",
       "      <td>Пермь</td>\n",
       "      <td>Гектор</td>\n",
       "      <td>Корнилов</td>\n",
       "      <td>2018-09-27</td>\n",
       "      <td>smart</td>\n",
       "      <td>10.0</td>\n",
       "      <td>449.0</td>\n",
       "      <td>48.0</td>\n",
       "      <td>18.0</td>\n",
       "      <td>51.0</td>\n",
       "      <td>2.0</td>\n",
       "      <td>-3.0</td>\n",
       "      <td>0.0</td>\n",
       "      <td>0.0</td>\n",
       "      <td>600.0</td>\n",
       "      <td>600.0</td>\n",
       "      <td>1150.0</td>\n",
       "      <td>0.0</td>\n",
       "      <td>1150.0</td>\n",
       "    </tr>\n",
       "    <tr>\n",
       "      <th>3180</th>\n",
       "      <td>1499</td>\n",
       "      <td>35</td>\n",
       "      <td>0</td>\n",
       "      <td>Пермь</td>\n",
       "      <td>Гектор</td>\n",
       "      <td>Корнилов</td>\n",
       "      <td>2018-09-27</td>\n",
       "      <td>smart</td>\n",
       "      <td>11.0</td>\n",
       "      <td>612.0</td>\n",
       "      <td>59.0</td>\n",
       "      <td>18.0</td>\n",
       "      <td>-112.0</td>\n",
       "      <td>-9.0</td>\n",
       "      <td>-3.0</td>\n",
       "      <td>336.0</td>\n",
       "      <td>27.0</td>\n",
       "      <td>600.0</td>\n",
       "      <td>963.0</td>\n",
       "      <td>1513.0</td>\n",
       "      <td>0.0</td>\n",
       "      <td>1513.0</td>\n",
       "    </tr>\n",
       "    <tr>\n",
       "      <th>3181</th>\n",
       "      <td>1499</td>\n",
       "      <td>35</td>\n",
       "      <td>0</td>\n",
       "      <td>Пермь</td>\n",
       "      <td>Гектор</td>\n",
       "      <td>Корнилов</td>\n",
       "      <td>2018-09-27</td>\n",
       "      <td>smart</td>\n",
       "      <td>12.0</td>\n",
       "      <td>492.0</td>\n",
       "      <td>66.0</td>\n",
       "      <td>13.0</td>\n",
       "      <td>8.0</td>\n",
       "      <td>-16.0</td>\n",
       "      <td>2.0</td>\n",
       "      <td>0.0</td>\n",
       "      <td>48.0</td>\n",
       "      <td>0.0</td>\n",
       "      <td>48.0</td>\n",
       "      <td>598.0</td>\n",
       "      <td>0.0</td>\n",
       "      <td>598.0</td>\n",
       "    </tr>\n",
       "  </tbody>\n",
       "</table>\n",
       "<p>3182 rows × 22 columns</p>\n",
       "</div>"
      ],
      "text/plain": [
       "      user_id  age           churn_date         city first_name  last_name  \\\n",
       "0        1000   52                    0    Краснодар     Рафаил  Верещагин   \n",
       "1        1000   52                    0    Краснодар     Рафаил  Верещагин   \n",
       "2        1000   52                    0    Краснодар     Рафаил  Верещагин   \n",
       "3        1000   52                    0    Краснодар     Рафаил  Верещагин   \n",
       "4        1000   52                    0    Краснодар     Рафаил  Верещагин   \n",
       "...       ...  ...                  ...          ...        ...        ...   \n",
       "3177     1498   68  2018-10-25 00:00:00  Владикавказ   Всеволод    Акимчин   \n",
       "3178     1499   35                    0        Пермь     Гектор   Корнилов   \n",
       "3179     1499   35                    0        Пермь     Гектор   Корнилов   \n",
       "3180     1499   35                    0        Пермь     Гектор   Корнилов   \n",
       "3181     1499   35                    0        Пермь     Гектор   Корнилов   \n",
       "\n",
       "       reg_date tariff  month   call   sms  gb_used  over_call  over_sms  \\\n",
       "0    2018-05-25  ultra    5.0  159.0  22.0      3.0     2841.0     978.0   \n",
       "1    2018-05-25  ultra    6.0  172.0  60.0     23.0     2828.0     940.0   \n",
       "2    2018-05-25  ultra    7.0  340.0  75.0     14.0     2660.0     925.0   \n",
       "3    2018-05-25  ultra    8.0  408.0  81.0     14.0     2592.0     919.0   \n",
       "4    2018-05-25  ultra    9.0  466.0  57.0     15.0     2534.0     943.0   \n",
       "...         ...    ...    ...    ...   ...      ...        ...       ...   \n",
       "3177 2018-07-19  smart   10.0  247.0  42.0     21.0      253.0       8.0   \n",
       "3178 2018-09-27  smart    9.0   70.0  11.0      2.0      430.0      39.0   \n",
       "3179 2018-09-27  smart   10.0  449.0  48.0     18.0       51.0       2.0   \n",
       "3180 2018-09-27  smart   11.0  612.0  59.0     18.0     -112.0      -9.0   \n",
       "3181 2018-09-27  smart   12.0  492.0  66.0     13.0        8.0     -16.0   \n",
       "\n",
       "      over_inet  values_call  values_sms  values_inet  profit  all_profit  \\\n",
       "0          27.0          0.0         0.0          0.0     0.0      1950.0   \n",
       "1           7.0          0.0         0.0          0.0     0.0      1950.0   \n",
       "2          16.0          0.0         0.0          0.0     0.0      1950.0   \n",
       "3          16.0          0.0         0.0          0.0     0.0      1950.0   \n",
       "4          15.0          0.0         0.0          0.0     0.0      1950.0   \n",
       "...         ...          ...         ...          ...     ...         ...   \n",
       "3177       -6.0          0.0         0.0       1200.0  1200.0      1750.0   \n",
       "3178       13.0          0.0         0.0          0.0     0.0       550.0   \n",
       "3179       -3.0          0.0         0.0        600.0   600.0      1150.0   \n",
       "3180       -3.0        336.0        27.0        600.0   963.0      1513.0   \n",
       "3181        2.0          0.0        48.0          0.0    48.0       598.0   \n",
       "\n",
       "      Moscow   Other  \n",
       "0        0.0  1950.0  \n",
       "1        0.0  1950.0  \n",
       "2        0.0  1950.0  \n",
       "3        0.0  1950.0  \n",
       "4        0.0  1950.0  \n",
       "...      ...     ...  \n",
       "3177     0.0  1750.0  \n",
       "3178     0.0   550.0  \n",
       "3179     0.0  1150.0  \n",
       "3180     0.0  1513.0  \n",
       "3181     0.0   598.0  \n",
       "\n",
       "[3182 rows x 22 columns]"
      ]
     },
     "metadata": {},
     "output_type": "display_data"
    }
   ],
   "source": [
    "df_all_traffic['Moscow'] = df_all_traffic.query('city == \"Москва\"')['all_profit']\n",
    "df_all_traffic['Other'] = df_all_traffic.query('city != \"Москва\"')['all_profit']\n",
    "df_all_traffic = df_all_traffic.fillna(0)\n",
    "display(df_profit_city)\n"
   ]
  },
  {
   "cell_type": "code",
   "execution_count": 657,
   "metadata": {},
   "outputs": [
    {
     "name": "stdout",
     "output_type": "stream",
     "text": [
      "p-значение: 0.44113705815091153\n",
      "Не получилось отвергнуть нулевую гипотезу\n"
     ]
    }
   ],
   "source": [
    "alpha = .05 # критический уровень статистической значимости\n",
    "            # можно указать .05 или 0.05\n",
    "\n",
    "results = st.ttest_ind(df_all_traffic.query('Moscow != 0')['Moscow'], df_all_traffic.query('Other != 0')['Other'], equal_var = False)\n",
    "\n",
    "print('p-значение:', results.pvalue)\n",
    "\n",
    "if results.pvalue < alpha:\n",
    "    print(\"Отвергаем нулевую гипотезу\")\n",
    "else:\n",
    "    print(\"Не получилось отвергнуть нулевую гипотезу\") "
   ]
  },
  {
   "cell_type": "markdown",
   "metadata": {},
   "source": [
    "**Вывод:**\n",
    "- нулевая гипотеза верна\n",
    "- средняя выручка пользователей из Москвы имеет значение отличное от выручки пользователей из других регионов."
   ]
  },
  {
   "cell_type": "markdown",
   "metadata": {},
   "source": [
    "### Выручка компании по каждому тарифу"
   ]
  },
  {
   "cell_type": "code",
   "execution_count": 659,
   "metadata": {},
   "outputs": [
    {
     "name": "stdout",
     "output_type": "stream",
     "text": [
      "Выручка компании за год по тарифу СМАРТ: 2869651.0\n",
      "\n",
      "Выручка компании за год по тарифу УЛЬТРА: 1969500.0\n"
     ]
    }
   ],
   "source": [
    "profit_mean_smart = df_profit.query('tariff==\"smart\"')['all_profit'].sum()\n",
    "print('Выручка компании за год по тарифу СМАРТ:', profit_mean_smart)\n",
    "print('')\n",
    "profit_mean_ultra = df_profit.query('tariff==\"ultra\"')['all_profit'].sum()\n",
    "print('Выручка компании за год по тарифу УЛЬТРА:', profit_mean_ultra)"
   ]
  },
  {
   "cell_type": "markdown",
   "metadata": {},
   "source": [
    "## ВЫВОДЫ"
   ]
  },
  {
   "cell_type": "markdown",
   "metadata": {},
   "source": [
    "Согласно представленным входным данным проведен анализ пользователей тарифов СМАРТ и УЛЬТРА. \n",
    "\n",
    "Для начала был выявлен ряд несоответствий, пропуски данных, неверные форматы и тд. Такие моменты были устранены. Дополнительно было проведено слияние нескольких файлов данных  в единый удобный файл. \n",
    "\n",
    "По каждому тарифу был проведен анализ звонков/мин, смс/шт и интрнет-трафика/Гб за каждый месяц 2018 года. Анализ показал, что\n",
    "среднее количество трафика по звонкам, сообщениям и интернету растут по обоим тарифам в течение года.Что говорит о том, что потребности в трафике увеличиваются. И со временем пользователь будет искать другой тариф, если его траты будут выходить за абонентскую плату.\n",
    "\n",
    "Кроме того, по обоим тарифам пользователи тратят меньше трафика чем его медианное значения, что говорит о том, что оператору смысла увеличивать количество минут по тарифам. Снижение предлагаемых в тарифе минут, смс и Гб может привести к увеличению дохода компании, т.к. пользователи будут вынуждены платить сверх норм.\n",
    "\n",
    "Проведен анализ доходности оператора по каждому тарифу. Учитывая, что в базе  351 пользователь тарифа Смарт (70%) против 149 пользователей тарифа Ультра (30%), доходность от тарифа Смарт составляет 62% всего дохода оператора за год. \n",
    "\n",
    "В среднем доход с пользователя тарифа Смарт составляет 2 869 651/351 = 8 176 руб/год.\n",
    "В среднем доход с пользователя тарифа Ультра составляет 1 969 500/149 = 13 218 руб/год.\n",
    "\n",
    "Оператору есть смысл продвигать тариф Ультра, приносящий больше дохода с пользователя. \n",
    "\n",
    "\n",
    "Далее проверили несколько гипотез и установили:\n",
    "- средние выручки пользователей тарифов Ультра и Смарт отличаются;\n",
    "- средние выручки пользователей тарифа из Москвы и регионов не отличаются.\n",
    "\n",
    "\n",
    "Можно сделать предположение: выручка будет статистически значимо меньше. А значит оператору можно предложить изменить условия тарифа Смарт, а также попробовать разработать тариф для Москвы, если есть необходимость увеличить прибыльность компании за счет такой выбранной аудитории.\n",
    "\n",
    "\n",
    "Для проверки гипотез бралась выборка:\n",
    "- выручки в месяц с каждого пользователя по тарифу Смарт за месяц в сравнении с величиной средней выручки по тарифу Ультра;\n",
    "- выручки в месяц с каждого пользователя Москвы за месяц в сравнении с величиной средней выручки пользователей прочих регионов."
   ]
  }
 ],
 "metadata": {
  "ExecuteTimeLog": [
   {
    "duration": 814,
    "start_time": "2022-03-22T04:15:56.071Z"
   },
   {
    "duration": 181,
    "start_time": "2022-03-22T04:16:31.320Z"
   },
   {
    "duration": 161,
    "start_time": "2022-03-22T04:16:52.143Z"
   },
   {
    "duration": 135,
    "start_time": "2022-03-22T04:17:20.800Z"
   },
   {
    "duration": 88,
    "start_time": "2022-03-22T04:17:49.360Z"
   },
   {
    "duration": 21,
    "start_time": "2022-03-22T04:18:10.144Z"
   },
   {
    "duration": 35,
    "start_time": "2022-03-22T04:18:27.728Z"
   },
   {
    "duration": 165,
    "start_time": "2022-03-22T04:30:18.258Z"
   },
   {
    "duration": 176,
    "start_time": "2022-03-22T04:30:34.985Z"
   },
   {
    "duration": 3,
    "start_time": "2022-03-22T04:30:40.425Z"
   },
   {
    "duration": 164,
    "start_time": "2022-03-22T04:30:40.753Z"
   },
   {
    "duration": 167,
    "start_time": "2022-03-22T04:30:52.985Z"
   },
   {
    "duration": 140,
    "start_time": "2022-03-22T04:31:09.050Z"
   },
   {
    "duration": 109,
    "start_time": "2022-03-22T04:31:33.682Z"
   },
   {
    "duration": 27,
    "start_time": "2022-03-22T04:31:47.794Z"
   },
   {
    "duration": 54,
    "start_time": "2022-03-22T04:32:19.578Z"
   },
   {
    "duration": 177,
    "start_time": "2022-03-22T04:34:54.386Z"
   },
   {
    "duration": 233,
    "start_time": "2022-03-22T04:35:31.634Z"
   },
   {
    "duration": 232,
    "start_time": "2022-03-22T04:35:38.634Z"
   },
   {
    "duration": 392,
    "start_time": "2022-03-22T04:36:32.977Z"
   },
   {
    "duration": 333,
    "start_time": "2022-03-22T04:36:56.018Z"
   },
   {
    "duration": 342,
    "start_time": "2022-03-22T04:37:06.426Z"
   },
   {
    "duration": 238,
    "start_time": "2022-03-22T04:37:23.657Z"
   },
   {
    "duration": 180,
    "start_time": "2022-03-22T04:38:10.626Z"
   },
   {
    "duration": 168,
    "start_time": "2022-03-22T04:38:19.194Z"
   },
   {
    "duration": 180,
    "start_time": "2022-03-22T04:38:28.207Z"
   },
   {
    "duration": 43,
    "start_time": "2022-03-22T04:39:19.794Z"
   },
   {
    "duration": 44,
    "start_time": "2022-03-22T04:40:01.259Z"
   },
   {
    "duration": 8,
    "start_time": "2022-03-22T04:41:12.890Z"
   },
   {
    "duration": 3,
    "start_time": "2022-03-22T04:41:41.018Z"
   },
   {
    "duration": 44,
    "start_time": "2022-03-22T04:41:41.362Z"
   },
   {
    "duration": 7,
    "start_time": "2022-03-22T04:41:42.114Z"
   },
   {
    "duration": 4,
    "start_time": "2022-03-22T04:41:56.338Z"
   },
   {
    "duration": 4,
    "start_time": "2022-03-22T04:42:26.154Z"
   },
   {
    "duration": 6,
    "start_time": "2022-03-22T04:43:46.666Z"
   },
   {
    "duration": 41,
    "start_time": "2022-03-22T04:43:55.035Z"
   },
   {
    "duration": 8,
    "start_time": "2022-03-22T04:45:12.521Z"
   },
   {
    "duration": 42,
    "start_time": "2022-03-22T04:46:19.890Z"
   },
   {
    "duration": 6,
    "start_time": "2022-03-22T04:46:23.091Z"
   },
   {
    "duration": 9,
    "start_time": "2022-03-22T04:48:25.603Z"
   },
   {
    "duration": 3,
    "start_time": "2022-03-22T04:48:37.779Z"
   },
   {
    "duration": 9,
    "start_time": "2022-03-22T04:48:43.106Z"
   },
   {
    "duration": 7,
    "start_time": "2022-03-22T04:48:57.578Z"
   },
   {
    "duration": 152,
    "start_time": "2022-03-22T04:49:12.139Z"
   },
   {
    "duration": 7,
    "start_time": "2022-03-22T04:49:18.419Z"
   },
   {
    "duration": 7,
    "start_time": "2022-03-22T04:50:31.155Z"
   },
   {
    "duration": 7,
    "start_time": "2022-03-22T04:50:51.058Z"
   },
   {
    "duration": 7,
    "start_time": "2022-03-22T04:50:57.962Z"
   },
   {
    "duration": 7,
    "start_time": "2022-03-22T04:51:06.419Z"
   },
   {
    "duration": 12,
    "start_time": "2022-03-22T04:52:26.946Z"
   },
   {
    "duration": 11,
    "start_time": "2022-03-22T04:52:44.347Z"
   },
   {
    "duration": 11,
    "start_time": "2022-03-22T04:53:13.267Z"
   },
   {
    "duration": 46,
    "start_time": "2022-03-22T04:55:28.059Z"
   },
   {
    "duration": 11,
    "start_time": "2022-03-22T04:57:24.202Z"
   },
   {
    "duration": 10,
    "start_time": "2022-03-22T04:57:27.904Z"
   },
   {
    "duration": 35,
    "start_time": "2022-03-22T04:58:40.523Z"
   },
   {
    "duration": 34,
    "start_time": "2022-03-22T04:58:45.891Z"
   },
   {
    "duration": 156,
    "start_time": "2022-03-22T04:58:48.619Z"
   },
   {
    "duration": 176,
    "start_time": "2022-03-22T05:03:01.219Z"
   },
   {
    "duration": 8,
    "start_time": "2022-03-22T05:03:21.651Z"
   },
   {
    "duration": 121,
    "start_time": "2022-03-22T05:03:44.220Z"
   },
   {
    "duration": 33,
    "start_time": "2022-03-22T05:03:52.658Z"
   },
   {
    "duration": 167,
    "start_time": "2022-03-22T05:04:06.361Z"
   },
   {
    "duration": 47,
    "start_time": "2022-03-22T05:07:43.542Z"
   },
   {
    "duration": 11,
    "start_time": "2022-03-22T05:10:55.012Z"
   },
   {
    "duration": 11,
    "start_time": "2022-03-22T05:11:12.500Z"
   },
   {
    "duration": 149,
    "start_time": "2022-03-22T05:14:49.821Z"
   },
   {
    "duration": 17,
    "start_time": "2022-03-22T05:15:08.051Z"
   },
   {
    "duration": 17,
    "start_time": "2022-03-22T05:15:24.141Z"
   },
   {
    "duration": 17,
    "start_time": "2022-03-22T05:16:21.070Z"
   },
   {
    "duration": 27,
    "start_time": "2022-03-22T05:17:07.909Z"
   },
   {
    "duration": 11,
    "start_time": "2022-03-22T05:17:19.181Z"
   },
   {
    "duration": 18,
    "start_time": "2022-03-22T05:17:50.445Z"
   },
   {
    "duration": 11,
    "start_time": "2022-03-22T05:18:03.301Z"
   },
   {
    "duration": 12,
    "start_time": "2022-03-22T05:18:20.766Z"
   },
   {
    "duration": 1807,
    "start_time": "2022-03-22T05:19:45.014Z"
   },
   {
    "duration": 24,
    "start_time": "2022-03-22T05:20:06.916Z"
   },
   {
    "duration": 3,
    "start_time": "2022-03-22T05:20:27.965Z"
   },
   {
    "duration": 46,
    "start_time": "2022-03-22T05:20:28.765Z"
   },
   {
    "duration": 12,
    "start_time": "2022-03-22T05:20:28.941Z"
   },
   {
    "duration": 11,
    "start_time": "2022-03-22T05:20:29.333Z"
   },
   {
    "duration": 160,
    "start_time": "2022-03-22T05:20:29.989Z"
   },
   {
    "duration": 45,
    "start_time": "2022-03-22T05:20:31.741Z"
   },
   {
    "duration": 11,
    "start_time": "2022-03-22T05:20:32.780Z"
   },
   {
    "duration": 22,
    "start_time": "2022-03-22T05:20:33.525Z"
   },
   {
    "duration": 17,
    "start_time": "2022-03-22T05:20:45.774Z"
   },
   {
    "duration": 1736,
    "start_time": "2022-03-22T05:20:53.630Z"
   },
   {
    "duration": 16,
    "start_time": "2022-03-22T05:21:22.070Z"
   },
   {
    "duration": 16,
    "start_time": "2022-03-22T05:21:40.966Z"
   },
   {
    "duration": 8,
    "start_time": "2022-03-22T05:22:49.350Z"
   },
   {
    "duration": 1777,
    "start_time": "2022-03-22T05:22:55.078Z"
   },
   {
    "duration": 18,
    "start_time": "2022-03-22T05:23:07.054Z"
   },
   {
    "duration": 20,
    "start_time": "2022-03-22T05:25:06.364Z"
   },
   {
    "duration": 15,
    "start_time": "2022-03-22T05:25:45.566Z"
   },
   {
    "duration": 12,
    "start_time": "2022-03-22T05:25:50.758Z"
   },
   {
    "duration": 15,
    "start_time": "2022-03-22T05:25:51.565Z"
   },
   {
    "duration": 143,
    "start_time": "2022-03-22T05:25:52.901Z"
   },
   {
    "duration": 43,
    "start_time": "2022-03-22T05:25:55.853Z"
   },
   {
    "duration": 11,
    "start_time": "2022-03-22T05:25:59.534Z"
   },
   {
    "duration": 194,
    "start_time": "2022-03-22T05:27:05.198Z"
   },
   {
    "duration": 26,
    "start_time": "2022-03-22T05:27:15.830Z"
   },
   {
    "duration": 3,
    "start_time": "2022-03-22T05:28:24.126Z"
   },
   {
    "duration": 95,
    "start_time": "2022-03-22T05:29:09.413Z"
   },
   {
    "duration": 98,
    "start_time": "2022-03-22T05:29:53.694Z"
   },
   {
    "duration": 31,
    "start_time": "2022-03-22T05:30:49.126Z"
   },
   {
    "duration": 148,
    "start_time": "2022-03-22T05:35:54.622Z"
   },
   {
    "duration": 151,
    "start_time": "2022-03-22T05:36:26.766Z"
   },
   {
    "duration": 147,
    "start_time": "2022-03-22T05:36:36.709Z"
   },
   {
    "duration": 185,
    "start_time": "2022-03-22T05:36:46.262Z"
   },
   {
    "duration": 177,
    "start_time": "2022-03-22T05:36:59.334Z"
   },
   {
    "duration": 63,
    "start_time": "2022-03-22T05:43:23.767Z"
   },
   {
    "duration": 14,
    "start_time": "2022-03-22T05:43:33.358Z"
   },
   {
    "duration": 2,
    "start_time": "2022-03-22T05:44:28.183Z"
   },
   {
    "duration": 36,
    "start_time": "2022-03-22T05:44:28.542Z"
   },
   {
    "duration": 15,
    "start_time": "2022-03-22T05:44:28.703Z"
   },
   {
    "duration": 10,
    "start_time": "2022-03-22T05:44:29.039Z"
   },
   {
    "duration": 161,
    "start_time": "2022-03-22T05:44:29.374Z"
   },
   {
    "duration": 47,
    "start_time": "2022-03-22T05:44:29.711Z"
   },
   {
    "duration": 12,
    "start_time": "2022-03-22T05:44:30.055Z"
   },
   {
    "duration": 3,
    "start_time": "2022-03-22T05:44:30.607Z"
   },
   {
    "duration": 94,
    "start_time": "2022-03-22T05:44:31.335Z"
   },
   {
    "duration": 32,
    "start_time": "2022-03-22T05:44:32.134Z"
   },
   {
    "duration": 139,
    "start_time": "2022-03-22T05:44:33.398Z"
   },
   {
    "duration": 35,
    "start_time": "2022-03-22T05:44:35.983Z"
   },
   {
    "duration": 16,
    "start_time": "2022-03-22T05:44:58.281Z"
   },
   {
    "duration": 13,
    "start_time": "2022-03-22T05:45:07.799Z"
   },
   {
    "duration": 16,
    "start_time": "2022-03-22T05:45:08.382Z"
   },
   {
    "duration": 3,
    "start_time": "2022-03-22T05:45:14.349Z"
   },
   {
    "duration": 35,
    "start_time": "2022-03-22T05:45:14.414Z"
   },
   {
    "duration": 11,
    "start_time": "2022-03-22T05:45:14.451Z"
   },
   {
    "duration": 10,
    "start_time": "2022-03-22T05:45:14.513Z"
   },
   {
    "duration": 158,
    "start_time": "2022-03-22T05:45:14.578Z"
   },
   {
    "duration": 45,
    "start_time": "2022-03-22T05:45:14.738Z"
   },
   {
    "duration": 24,
    "start_time": "2022-03-22T05:45:14.784Z"
   },
   {
    "duration": 3,
    "start_time": "2022-03-22T05:45:15.630Z"
   },
   {
    "duration": 95,
    "start_time": "2022-03-22T05:45:16.222Z"
   },
   {
    "duration": 32,
    "start_time": "2022-03-22T05:45:16.750Z"
   },
   {
    "duration": 141,
    "start_time": "2022-03-22T05:45:17.895Z"
   },
   {
    "duration": 13,
    "start_time": "2022-03-22T05:45:21.911Z"
   },
   {
    "duration": 6,
    "start_time": "2022-03-22T05:45:36.991Z"
   },
   {
    "duration": 7,
    "start_time": "2022-03-22T05:45:42.431Z"
   },
   {
    "duration": 3,
    "start_time": "2022-03-22T05:45:49.766Z"
   },
   {
    "duration": 35,
    "start_time": "2022-03-22T05:45:50.142Z"
   },
   {
    "duration": 12,
    "start_time": "2022-03-22T05:45:50.310Z"
   },
   {
    "duration": 10,
    "start_time": "2022-03-22T05:45:50.679Z"
   },
   {
    "duration": 161,
    "start_time": "2022-03-22T05:45:51.087Z"
   },
   {
    "duration": 46,
    "start_time": "2022-03-22T05:45:51.622Z"
   },
   {
    "duration": 12,
    "start_time": "2022-03-22T05:45:52.287Z"
   },
   {
    "duration": 3,
    "start_time": "2022-03-22T05:45:52.742Z"
   },
   {
    "duration": 99,
    "start_time": "2022-03-22T05:45:53.430Z"
   },
   {
    "duration": 33,
    "start_time": "2022-03-22T05:45:54.254Z"
   },
   {
    "duration": 143,
    "start_time": "2022-03-22T05:45:56.055Z"
   },
   {
    "duration": 32,
    "start_time": "2022-03-22T05:45:58.791Z"
   },
   {
    "duration": 17,
    "start_time": "2022-03-22T05:46:04.671Z"
   },
   {
    "duration": 27,
    "start_time": "2022-03-22T05:47:22.911Z"
   },
   {
    "duration": 23,
    "start_time": "2022-03-22T05:47:30.711Z"
   },
   {
    "duration": 26,
    "start_time": "2022-03-22T05:47:52.910Z"
   },
   {
    "duration": 10,
    "start_time": "2022-03-22T05:51:11.520Z"
   },
   {
    "duration": 44,
    "start_time": "2022-03-22T05:59:43.944Z"
   },
   {
    "duration": 44,
    "start_time": "2022-03-22T06:14:21.447Z"
   },
   {
    "duration": 28,
    "start_time": "2022-03-22T06:14:35.976Z"
   },
   {
    "duration": 3,
    "start_time": "2022-03-22T06:14:48.192Z"
   },
   {
    "duration": 82,
    "start_time": "2022-03-22T06:14:48.552Z"
   },
   {
    "duration": 14,
    "start_time": "2022-03-22T06:14:48.705Z"
   },
   {
    "duration": 11,
    "start_time": "2022-03-22T06:14:49.335Z"
   },
   {
    "duration": 157,
    "start_time": "2022-03-22T06:14:51.240Z"
   },
   {
    "duration": 44,
    "start_time": "2022-03-22T06:14:53.137Z"
   },
   {
    "duration": 28,
    "start_time": "2022-03-22T06:14:54.864Z"
   },
   {
    "duration": 101,
    "start_time": "2022-03-22T06:16:33.480Z"
   },
   {
    "duration": 35,
    "start_time": "2022-03-22T06:17:27.409Z"
   },
   {
    "duration": 26,
    "start_time": "2022-03-22T06:17:54.390Z"
   },
   {
    "duration": 11,
    "start_time": "2022-03-22T06:17:56.136Z"
   },
   {
    "duration": 3,
    "start_time": "2022-03-22T06:17:57.072Z"
   },
   {
    "duration": 97,
    "start_time": "2022-03-22T06:17:58.040Z"
   },
   {
    "duration": 32,
    "start_time": "2022-03-22T06:18:00.432Z"
   },
   {
    "duration": 20,
    "start_time": "2022-03-22T06:18:03.016Z"
   },
   {
    "duration": 147,
    "start_time": "2022-03-22T06:18:39.777Z"
   },
   {
    "duration": 5307,
    "start_time": "2022-03-22T06:19:58.681Z"
   },
   {
    "duration": 0,
    "start_time": "2022-03-22T06:20:03.989Z"
   },
   {
    "duration": 42,
    "start_time": "2022-03-22T06:20:07.224Z"
   },
   {
    "duration": 3,
    "start_time": "2022-03-22T06:20:20.049Z"
   },
   {
    "duration": 46,
    "start_time": "2022-03-22T06:20:20.113Z"
   },
   {
    "duration": 12,
    "start_time": "2022-03-22T06:20:20.161Z"
   },
   {
    "duration": 11,
    "start_time": "2022-03-22T06:20:20.225Z"
   },
   {
    "duration": 167,
    "start_time": "2022-03-22T06:20:20.300Z"
   },
   {
    "duration": 50,
    "start_time": "2022-03-22T06:20:20.470Z"
   },
   {
    "duration": 28,
    "start_time": "2022-03-22T06:20:21.361Z"
   },
   {
    "duration": 13,
    "start_time": "2022-03-22T06:20:22.367Z"
   },
   {
    "duration": 3,
    "start_time": "2022-03-22T06:20:23.472Z"
   },
   {
    "duration": 98,
    "start_time": "2022-03-22T06:20:24.504Z"
   },
   {
    "duration": 31,
    "start_time": "2022-03-22T06:20:25.432Z"
   },
   {
    "duration": 21,
    "start_time": "2022-03-22T06:20:25.936Z"
   },
   {
    "duration": 140,
    "start_time": "2022-03-22T06:20:28.145Z"
   },
   {
    "duration": 28,
    "start_time": "2022-03-22T06:20:29.705Z"
   },
   {
    "duration": 24,
    "start_time": "2022-03-22T06:20:31.481Z"
   },
   {
    "duration": 21,
    "start_time": "2022-03-22T06:21:43.577Z"
   },
   {
    "duration": 3,
    "start_time": "2022-03-22T06:40:08.450Z"
   },
   {
    "duration": 55,
    "start_time": "2022-03-22T06:40:09.417Z"
   },
   {
    "duration": 12,
    "start_time": "2022-03-22T06:40:10.074Z"
   },
   {
    "duration": 10,
    "start_time": "2022-03-22T06:40:11.802Z"
   },
   {
    "duration": 161,
    "start_time": "2022-03-22T06:40:31.706Z"
   },
   {
    "duration": 45,
    "start_time": "2022-03-22T06:40:36.674Z"
   },
   {
    "duration": 16,
    "start_time": "2022-03-22T06:40:44.562Z"
   },
   {
    "duration": 37,
    "start_time": "2022-03-22T06:40:53.487Z"
   },
   {
    "duration": 42,
    "start_time": "2022-03-22T06:41:07.683Z"
   },
   {
    "duration": 13,
    "start_time": "2022-03-22T06:42:17.138Z"
   },
   {
    "duration": 2,
    "start_time": "2022-03-22T06:42:18.162Z"
   },
   {
    "duration": 110,
    "start_time": "2022-03-22T06:42:21.434Z"
   },
   {
    "duration": 34,
    "start_time": "2022-03-22T06:42:23.082Z"
   },
   {
    "duration": 36,
    "start_time": "2022-03-22T06:42:39.442Z"
   },
   {
    "duration": 155,
    "start_time": "2022-03-22T06:43:20.058Z"
   },
   {
    "duration": 27,
    "start_time": "2022-03-22T06:43:22.763Z"
   },
   {
    "duration": 36,
    "start_time": "2022-03-22T06:43:37.691Z"
   },
   {
    "duration": 28,
    "start_time": "2022-03-22T06:43:45.154Z"
   },
   {
    "duration": 10,
    "start_time": "2022-03-22T07:20:49.814Z"
   },
   {
    "duration": 3,
    "start_time": "2022-03-22T07:20:53.566Z"
   },
   {
    "duration": 35,
    "start_time": "2022-03-22T07:20:53.925Z"
   },
   {
    "duration": 12,
    "start_time": "2022-03-22T07:20:54.101Z"
   },
   {
    "duration": 5,
    "start_time": "2022-03-22T07:20:55.030Z"
   },
   {
    "duration": 10,
    "start_time": "2022-03-22T07:20:55.437Z"
   },
   {
    "duration": 10,
    "start_time": "2022-03-22T07:20:58.803Z"
   },
   {
    "duration": 49,
    "start_time": "2022-03-22T07:36:53.070Z"
   },
   {
    "duration": 22,
    "start_time": "2022-03-22T07:39:33.918Z"
   },
   {
    "duration": 35,
    "start_time": "2022-03-22T07:39:45.488Z"
   },
   {
    "duration": 4,
    "start_time": "2022-03-22T07:40:25.128Z"
   },
   {
    "duration": 69,
    "start_time": "2022-03-22T07:40:28.816Z"
   },
   {
    "duration": 39,
    "start_time": "2022-03-22T07:40:39.432Z"
   },
   {
    "duration": 32,
    "start_time": "2022-03-22T07:42:02.040Z"
   },
   {
    "duration": 17,
    "start_time": "2022-03-22T07:43:48.880Z"
   },
   {
    "duration": 54,
    "start_time": "2022-03-22T07:44:48.544Z"
   },
   {
    "duration": 36,
    "start_time": "2022-03-22T07:45:36.537Z"
   },
   {
    "duration": 47,
    "start_time": "2022-03-22T07:46:04.329Z"
   },
   {
    "duration": 45,
    "start_time": "2022-03-22T07:46:27.177Z"
   },
   {
    "duration": 41,
    "start_time": "2022-03-22T07:46:36.153Z"
   },
   {
    "duration": 44,
    "start_time": "2022-03-22T07:46:46.745Z"
   },
   {
    "duration": 40,
    "start_time": "2022-03-22T07:48:41.568Z"
   },
   {
    "duration": 71,
    "start_time": "2022-03-22T07:58:14.670Z"
   },
   {
    "duration": 43,
    "start_time": "2022-03-22T07:58:17.193Z"
   },
   {
    "duration": 37,
    "start_time": "2022-03-22T07:58:17.737Z"
   },
   {
    "duration": 80,
    "start_time": "2022-03-22T08:07:17.586Z"
   },
   {
    "duration": 4,
    "start_time": "2022-03-22T08:12:52.919Z"
   },
   {
    "duration": 43,
    "start_time": "2022-03-22T08:12:55.059Z"
   },
   {
    "duration": 12,
    "start_time": "2022-03-22T08:12:55.674Z"
   },
   {
    "duration": 6,
    "start_time": "2022-03-22T08:12:56.538Z"
   },
   {
    "duration": 11,
    "start_time": "2022-03-22T08:12:56.954Z"
   },
   {
    "duration": 11,
    "start_time": "2022-03-22T08:12:58.049Z"
   },
   {
    "duration": 170,
    "start_time": "2022-03-22T08:13:01.826Z"
   },
   {
    "duration": 30,
    "start_time": "2022-03-22T08:13:03.698Z"
   },
   {
    "duration": 44,
    "start_time": "2022-03-22T08:13:04.802Z"
   },
   {
    "duration": 11,
    "start_time": "2022-03-22T08:13:05.730Z"
   },
   {
    "duration": 2,
    "start_time": "2022-03-22T08:13:06.482Z"
   },
   {
    "duration": 97,
    "start_time": "2022-03-22T08:13:07.241Z"
   },
   {
    "duration": 31,
    "start_time": "2022-03-22T08:13:08.474Z"
   },
   {
    "duration": 30,
    "start_time": "2022-03-22T08:13:09.953Z"
   },
   {
    "duration": 149,
    "start_time": "2022-03-22T08:13:10.914Z"
   },
   {
    "duration": 27,
    "start_time": "2022-03-22T08:13:11.929Z"
   },
   {
    "duration": 35,
    "start_time": "2022-03-22T08:13:12.641Z"
   },
   {
    "duration": 27,
    "start_time": "2022-03-22T08:13:13.458Z"
   },
   {
    "duration": 99,
    "start_time": "2022-03-22T08:13:15.498Z"
   },
   {
    "duration": 43,
    "start_time": "2022-03-22T08:13:18.347Z"
   },
   {
    "duration": 39,
    "start_time": "2022-03-22T08:13:18.819Z"
   },
   {
    "duration": 92,
    "start_time": "2022-03-22T08:13:34.571Z"
   },
   {
    "duration": 64,
    "start_time": "2022-03-22T08:13:47.218Z"
   },
   {
    "duration": 70,
    "start_time": "2022-03-22T08:14:08.643Z"
   },
   {
    "duration": 71,
    "start_time": "2022-03-22T08:40:31.621Z"
   },
   {
    "duration": 8,
    "start_time": "2022-03-22T08:40:32.532Z"
   },
   {
    "duration": 39,
    "start_time": "2022-03-22T08:40:39.181Z"
   },
   {
    "duration": 36,
    "start_time": "2022-03-22T08:40:43.244Z"
   },
   {
    "duration": 45,
    "start_time": "2022-03-22T08:45:11.502Z"
   },
   {
    "duration": 71,
    "start_time": "2022-03-22T08:45:31.461Z"
   },
   {
    "duration": 42,
    "start_time": "2022-03-22T08:45:38.205Z"
   },
   {
    "duration": 35,
    "start_time": "2022-03-22T08:45:49.221Z"
   },
   {
    "duration": 18,
    "start_time": "2022-03-22T09:07:18.839Z"
   },
   {
    "duration": 83,
    "start_time": "2022-03-22T09:08:23.951Z"
   },
   {
    "duration": 51,
    "start_time": "2022-03-22T09:08:44.054Z"
   },
   {
    "duration": 43,
    "start_time": "2022-03-22T09:08:55.927Z"
   },
   {
    "duration": 14,
    "start_time": "2022-03-22T09:11:26.767Z"
   },
   {
    "duration": 30,
    "start_time": "2022-03-22T09:11:35.335Z"
   },
   {
    "duration": 64,
    "start_time": "2022-03-22T09:13:05.840Z"
   },
   {
    "duration": 45,
    "start_time": "2022-03-22T09:17:17.240Z"
   },
   {
    "duration": 45,
    "start_time": "2022-03-22T09:23:24.599Z"
   },
   {
    "duration": 55,
    "start_time": "2022-03-22T09:23:45.976Z"
   },
   {
    "duration": 54,
    "start_time": "2022-03-22T09:24:23.176Z"
   },
   {
    "duration": 47,
    "start_time": "2022-03-22T09:24:32.888Z"
   },
   {
    "duration": 1513,
    "start_time": "2022-03-22T09:24:53.599Z"
   },
   {
    "duration": 69,
    "start_time": "2022-03-22T09:25:04.864Z"
   },
   {
    "duration": 49,
    "start_time": "2022-03-22T09:25:24.152Z"
   },
   {
    "duration": 72,
    "start_time": "2022-03-22T09:25:44.489Z"
   },
   {
    "duration": 45,
    "start_time": "2022-03-22T09:26:10.025Z"
   },
   {
    "duration": 46,
    "start_time": "2022-03-22T09:26:34.152Z"
   },
   {
    "duration": 4,
    "start_time": "2022-03-22T09:26:50.896Z"
   },
   {
    "duration": 34,
    "start_time": "2022-03-22T09:26:50.961Z"
   },
   {
    "duration": 14,
    "start_time": "2022-03-22T09:26:50.997Z"
   },
   {
    "duration": 6,
    "start_time": "2022-03-22T09:26:51.063Z"
   },
   {
    "duration": 19,
    "start_time": "2022-03-22T09:26:51.094Z"
   },
   {
    "duration": 11,
    "start_time": "2022-03-22T09:26:51.159Z"
   },
   {
    "duration": 161,
    "start_time": "2022-03-22T09:26:51.232Z"
   },
   {
    "duration": 31,
    "start_time": "2022-03-22T09:26:51.400Z"
   },
   {
    "duration": 70,
    "start_time": "2022-03-22T09:26:51.432Z"
   },
   {
    "duration": 11,
    "start_time": "2022-03-22T09:26:51.504Z"
   },
   {
    "duration": 4,
    "start_time": "2022-03-22T09:26:52.787Z"
   },
   {
    "duration": 100,
    "start_time": "2022-03-22T09:26:52.793Z"
   },
   {
    "duration": 29,
    "start_time": "2022-03-22T09:26:52.895Z"
   },
   {
    "duration": 30,
    "start_time": "2022-03-22T09:26:53.104Z"
   },
   {
    "duration": 143,
    "start_time": "2022-03-22T09:26:53.719Z"
   },
   {
    "duration": 29,
    "start_time": "2022-03-22T09:26:54.160Z"
   },
   {
    "duration": 36,
    "start_time": "2022-03-22T09:26:54.648Z"
   },
   {
    "duration": 27,
    "start_time": "2022-03-22T09:26:55.455Z"
   },
   {
    "duration": 51,
    "start_time": "2022-03-22T09:27:01.776Z"
   },
   {
    "duration": 43,
    "start_time": "2022-03-22T09:27:29.480Z"
   },
   {
    "duration": 44,
    "start_time": "2022-03-22T09:27:40.161Z"
   },
   {
    "duration": 42,
    "start_time": "2022-03-22T09:27:52.157Z"
   },
   {
    "duration": 42,
    "start_time": "2022-03-22T09:28:06.209Z"
   },
   {
    "duration": 30,
    "start_time": "2022-03-22T09:28:22.640Z"
   },
   {
    "duration": 42,
    "start_time": "2022-03-22T09:28:31.144Z"
   },
   {
    "duration": 45,
    "start_time": "2022-03-22T09:30:53.968Z"
   },
   {
    "duration": 40,
    "start_time": "2022-03-22T09:31:11.112Z"
   },
   {
    "duration": 41,
    "start_time": "2022-03-22T09:31:28.520Z"
   },
   {
    "duration": 1254,
    "start_time": "2022-03-22T09:31:46.033Z"
   },
   {
    "duration": 37,
    "start_time": "2022-03-22T09:32:03.585Z"
   },
   {
    "duration": 41,
    "start_time": "2022-03-22T09:32:21.931Z"
   },
   {
    "duration": 1427,
    "start_time": "2022-03-22T09:32:32.097Z"
   },
   {
    "duration": 1260,
    "start_time": "2022-03-22T09:32:45.633Z"
   },
   {
    "duration": 177,
    "start_time": "2022-03-22T09:32:58.064Z"
   },
   {
    "duration": 39,
    "start_time": "2022-03-22T09:33:07.688Z"
   },
   {
    "duration": 43,
    "start_time": "2022-03-22T09:33:33.848Z"
   },
   {
    "duration": 34,
    "start_time": "2022-03-22T09:34:06.937Z"
   },
   {
    "duration": 40,
    "start_time": "2022-03-22T09:34:16.528Z"
   },
   {
    "duration": 42,
    "start_time": "2022-03-22T09:34:26.417Z"
   },
   {
    "duration": 42,
    "start_time": "2022-03-22T09:35:26.473Z"
   },
   {
    "duration": 39,
    "start_time": "2022-03-22T09:36:00.440Z"
   },
   {
    "duration": 44,
    "start_time": "2022-03-22T09:41:20.065Z"
   },
   {
    "duration": 38,
    "start_time": "2022-03-22T09:41:48.594Z"
   },
   {
    "duration": 46,
    "start_time": "2022-03-22T09:43:23.308Z"
   },
   {
    "duration": 43,
    "start_time": "2022-03-22T09:43:38.057Z"
   },
   {
    "duration": 39,
    "start_time": "2022-03-22T09:44:50.417Z"
   },
   {
    "duration": 54,
    "start_time": "2022-03-22T09:44:55.217Z"
   },
   {
    "duration": 63,
    "start_time": "2022-03-22T09:45:14.154Z"
   },
   {
    "duration": 36,
    "start_time": "2022-03-22T09:45:39.881Z"
   },
   {
    "duration": 55,
    "start_time": "2022-03-22T09:45:44.561Z"
   },
   {
    "duration": 13,
    "start_time": "2022-03-22T09:46:08.305Z"
   },
   {
    "duration": 54,
    "start_time": "2022-03-22T09:47:09.665Z"
   },
   {
    "duration": 76,
    "start_time": "2022-03-22T10:01:02.938Z"
   },
   {
    "duration": 4,
    "start_time": "2022-03-22T10:01:09.813Z"
   },
   {
    "duration": 80,
    "start_time": "2022-03-22T10:01:10.181Z"
   },
   {
    "duration": 14,
    "start_time": "2022-03-22T10:01:10.442Z"
   },
   {
    "duration": 6,
    "start_time": "2022-03-22T10:01:11.073Z"
   },
   {
    "duration": 19,
    "start_time": "2022-03-22T10:01:11.282Z"
   },
   {
    "duration": 11,
    "start_time": "2022-03-22T10:01:12.282Z"
   },
   {
    "duration": 364,
    "start_time": "2022-03-22T10:01:13.818Z"
   },
   {
    "duration": 35,
    "start_time": "2022-03-22T10:01:17.666Z"
   },
   {
    "duration": 18,
    "start_time": "2022-03-22T10:01:31.027Z"
   },
   {
    "duration": 44,
    "start_time": "2022-03-22T10:01:35.514Z"
   },
   {
    "duration": 15,
    "start_time": "2022-03-22T10:01:44.698Z"
   },
   {
    "duration": 43,
    "start_time": "2022-03-22T10:01:45.618Z"
   },
   {
    "duration": 3,
    "start_time": "2022-03-22T10:01:51.410Z"
   },
   {
    "duration": 67,
    "start_time": "2022-03-22T10:01:51.777Z"
   },
   {
    "duration": 11,
    "start_time": "2022-03-22T10:01:51.963Z"
   },
   {
    "duration": 5,
    "start_time": "2022-03-22T10:01:52.290Z"
   },
   {
    "duration": 19,
    "start_time": "2022-03-22T10:01:52.458Z"
   },
   {
    "duration": 10,
    "start_time": "2022-03-22T10:01:52.794Z"
   },
   {
    "duration": 156,
    "start_time": "2022-03-22T10:01:53.866Z"
   },
   {
    "duration": 29,
    "start_time": "2022-03-22T10:01:54.994Z"
   },
   {
    "duration": 41,
    "start_time": "2022-03-22T10:01:56.330Z"
   },
   {
    "duration": 3,
    "start_time": "2022-03-22T10:02:28.522Z"
   },
   {
    "duration": 51,
    "start_time": "2022-03-22T10:02:28.970Z"
   },
   {
    "duration": 12,
    "start_time": "2022-03-22T10:02:29.194Z"
   },
   {
    "duration": 7,
    "start_time": "2022-03-22T10:02:29.841Z"
   },
   {
    "duration": 18,
    "start_time": "2022-03-22T10:02:30.283Z"
   },
   {
    "duration": 11,
    "start_time": "2022-03-22T10:02:31.314Z"
   },
   {
    "duration": 162,
    "start_time": "2022-03-22T10:02:32.706Z"
   },
   {
    "duration": 34,
    "start_time": "2022-03-22T10:02:34.402Z"
   },
   {
    "duration": 44,
    "start_time": "2022-03-22T10:02:35.890Z"
   },
   {
    "duration": 3700,
    "start_time": "2022-03-22T10:04:54.482Z"
   },
   {
    "duration": 0,
    "start_time": "2022-03-22T10:04:58.184Z"
   },
   {
    "duration": 3,
    "start_time": "2022-03-22T10:05:04.171Z"
   },
   {
    "duration": 95,
    "start_time": "2022-03-22T10:05:04.539Z"
   },
   {
    "duration": 12,
    "start_time": "2022-03-22T10:05:04.747Z"
   },
   {
    "duration": 5,
    "start_time": "2022-03-22T10:05:05.179Z"
   },
   {
    "duration": 17,
    "start_time": "2022-03-22T10:05:05.395Z"
   },
   {
    "duration": 10,
    "start_time": "2022-03-22T10:05:06.066Z"
   },
   {
    "duration": 162,
    "start_time": "2022-03-22T10:05:07.482Z"
   },
   {
    "duration": 4966,
    "start_time": "2022-03-22T10:05:08.458Z"
   },
   {
    "duration": 23,
    "start_time": "2022-03-22T10:06:40.842Z"
   },
   {
    "duration": 212,
    "start_time": "2022-03-22T10:06:53.723Z"
   },
   {
    "duration": 220,
    "start_time": "2022-03-22T10:06:59.010Z"
   },
   {
    "duration": 3,
    "start_time": "2022-03-22T10:07:03.499Z"
   },
   {
    "duration": 73,
    "start_time": "2022-03-22T10:07:03.866Z"
   },
   {
    "duration": 13,
    "start_time": "2022-03-22T10:07:04.051Z"
   },
   {
    "duration": 6,
    "start_time": "2022-03-22T10:07:04.418Z"
   },
   {
    "duration": 17,
    "start_time": "2022-03-22T10:07:04.602Z"
   },
   {
    "duration": 11,
    "start_time": "2022-03-22T10:07:05.098Z"
   },
   {
    "duration": 156,
    "start_time": "2022-03-22T10:07:05.770Z"
   },
   {
    "duration": 194,
    "start_time": "2022-03-22T10:07:07.226Z"
   },
   {
    "duration": 237,
    "start_time": "2022-03-22T10:07:16.906Z"
   },
   {
    "duration": 188,
    "start_time": "2022-03-22T10:07:27.746Z"
   },
   {
    "duration": 219,
    "start_time": "2022-03-22T10:07:37.146Z"
   },
   {
    "duration": 75,
    "start_time": "2022-03-22T10:08:08.715Z"
   },
   {
    "duration": 58,
    "start_time": "2022-03-22T10:08:12.907Z"
   },
   {
    "duration": 46,
    "start_time": "2022-03-22T10:08:14.586Z"
   },
   {
    "duration": 15,
    "start_time": "2022-03-22T10:08:36.835Z"
   },
   {
    "duration": 41,
    "start_time": "2022-03-22T10:08:38.202Z"
   },
   {
    "duration": 3,
    "start_time": "2022-03-22T10:08:44.531Z"
   },
   {
    "duration": 42,
    "start_time": "2022-03-22T10:08:44.906Z"
   },
   {
    "duration": 14,
    "start_time": "2022-03-22T10:08:45.083Z"
   },
   {
    "duration": 6,
    "start_time": "2022-03-22T10:08:45.538Z"
   },
   {
    "duration": 19,
    "start_time": "2022-03-22T10:08:45.899Z"
   },
   {
    "duration": 11,
    "start_time": "2022-03-22T10:08:46.258Z"
   },
   {
    "duration": 151,
    "start_time": "2022-03-22T10:08:47.218Z"
   },
   {
    "duration": 31,
    "start_time": "2022-03-22T10:08:50.914Z"
   },
   {
    "duration": 42,
    "start_time": "2022-03-22T10:08:52.723Z"
   },
   {
    "duration": 68,
    "start_time": "2022-03-22T10:09:07.354Z"
   },
   {
    "duration": 43,
    "start_time": "2022-03-22T10:09:11.171Z"
   },
   {
    "duration": 51,
    "start_time": "2022-03-22T10:10:55.283Z"
   },
   {
    "duration": 41,
    "start_time": "2022-03-22T10:10:57.266Z"
   },
   {
    "duration": 3,
    "start_time": "2022-03-22T10:11:02.476Z"
   },
   {
    "duration": 69,
    "start_time": "2022-03-22T10:11:02.542Z"
   },
   {
    "duration": 11,
    "start_time": "2022-03-22T10:11:02.613Z"
   },
   {
    "duration": 5,
    "start_time": "2022-03-22T10:11:02.641Z"
   },
   {
    "duration": 17,
    "start_time": "2022-03-22T10:11:02.678Z"
   },
   {
    "duration": 10,
    "start_time": "2022-03-22T10:11:02.744Z"
   },
   {
    "duration": 147,
    "start_time": "2022-03-22T10:11:03.843Z"
   },
   {
    "duration": 65,
    "start_time": "2022-03-22T10:11:07.474Z"
   },
   {
    "duration": 45,
    "start_time": "2022-03-22T10:11:11.011Z"
   },
   {
    "duration": 95,
    "start_time": "2022-03-22T10:11:23.371Z"
   },
   {
    "duration": 43,
    "start_time": "2022-03-22T10:11:25.523Z"
   },
   {
    "duration": 54,
    "start_time": "2022-03-22T10:11:28.923Z"
   },
   {
    "duration": 60,
    "start_time": "2022-03-22T10:11:29.636Z"
   },
   {
    "duration": 4,
    "start_time": "2022-03-22T10:11:33.907Z"
   },
   {
    "duration": 51,
    "start_time": "2022-03-22T10:11:34.270Z"
   },
   {
    "duration": 12,
    "start_time": "2022-03-22T10:11:34.466Z"
   },
   {
    "duration": 6,
    "start_time": "2022-03-22T10:11:34.988Z"
   },
   {
    "duration": 20,
    "start_time": "2022-03-22T10:11:35.259Z"
   },
   {
    "duration": 10,
    "start_time": "2022-03-22T10:11:36.019Z"
   },
   {
    "duration": 154,
    "start_time": "2022-03-22T10:11:36.786Z"
   },
   {
    "duration": 63,
    "start_time": "2022-03-22T10:11:53.299Z"
   },
   {
    "duration": 41,
    "start_time": "2022-03-22T10:11:54.339Z"
   },
   {
    "duration": 31,
    "start_time": "2022-03-22T10:12:25.220Z"
   },
   {
    "duration": 179,
    "start_time": "2022-03-22T10:14:06.436Z"
   },
   {
    "duration": 22,
    "start_time": "2022-03-22T10:15:11.900Z"
   },
   {
    "duration": 20,
    "start_time": "2022-03-22T10:15:18.924Z"
   },
   {
    "duration": 22,
    "start_time": "2022-03-22T10:15:35.211Z"
   },
   {
    "duration": 20,
    "start_time": "2022-03-22T10:15:45.614Z"
   },
   {
    "duration": 3,
    "start_time": "2022-03-22T10:15:54.699Z"
   },
   {
    "duration": 57,
    "start_time": "2022-03-22T10:15:55.091Z"
   },
   {
    "duration": 14,
    "start_time": "2022-03-22T10:15:55.274Z"
   },
   {
    "duration": 7,
    "start_time": "2022-03-22T10:15:55.626Z"
   },
   {
    "duration": 20,
    "start_time": "2022-03-22T10:15:56.362Z"
   },
   {
    "duration": 12,
    "start_time": "2022-03-22T10:15:57.034Z"
   },
   {
    "duration": 158,
    "start_time": "2022-03-22T10:15:58.027Z"
   },
   {
    "duration": 40,
    "start_time": "2022-03-22T10:16:04.507Z"
   },
   {
    "duration": 14,
    "start_time": "2022-03-22T10:16:19.653Z"
   },
   {
    "duration": 49,
    "start_time": "2022-03-22T10:16:21.596Z"
   },
   {
    "duration": 172,
    "start_time": "2022-03-22T10:17:17.868Z"
   },
   {
    "duration": 185,
    "start_time": "2022-03-22T10:18:23.661Z"
   },
   {
    "duration": 190,
    "start_time": "2022-03-22T10:18:33.852Z"
   },
   {
    "duration": 248,
    "start_time": "2022-03-22T10:18:42.509Z"
   },
   {
    "duration": 11,
    "start_time": "2022-03-22T10:18:49.427Z"
   },
   {
    "duration": 9,
    "start_time": "2022-03-22T10:19:42.308Z"
   },
   {
    "duration": 9,
    "start_time": "2022-03-22T10:19:49.140Z"
   },
   {
    "duration": 9,
    "start_time": "2022-03-22T10:20:04.868Z"
   },
   {
    "duration": 9,
    "start_time": "2022-03-22T10:20:10.212Z"
   },
   {
    "duration": 9,
    "start_time": "2022-03-22T10:20:21.829Z"
   },
   {
    "duration": 308,
    "start_time": "2022-03-22T10:24:16.941Z"
   },
   {
    "duration": 6,
    "start_time": "2022-03-22T10:26:25.909Z"
   },
   {
    "duration": 41,
    "start_time": "2022-03-22T10:26:33.245Z"
   },
   {
    "duration": 43,
    "start_time": "2022-03-22T10:26:49.549Z"
   },
   {
    "duration": 47,
    "start_time": "2022-03-22T10:27:31.716Z"
   },
   {
    "duration": 47,
    "start_time": "2022-03-22T10:27:44.149Z"
   },
   {
    "duration": 45,
    "start_time": "2022-03-22T10:27:59.781Z"
   },
   {
    "duration": 14,
    "start_time": "2022-03-22T10:28:28.213Z"
   },
   {
    "duration": 44,
    "start_time": "2022-03-22T10:28:29.061Z"
   },
   {
    "duration": 4124,
    "start_time": "2022-03-22T10:29:04.468Z"
   },
   {
    "duration": 3,
    "start_time": "2022-03-22T10:29:13.500Z"
   },
   {
    "duration": 40,
    "start_time": "2022-03-22T10:29:13.851Z"
   },
   {
    "duration": 11,
    "start_time": "2022-03-22T10:29:14.028Z"
   },
   {
    "duration": 6,
    "start_time": "2022-03-22T10:29:14.412Z"
   },
   {
    "duration": 19,
    "start_time": "2022-03-22T10:29:14.597Z"
   },
   {
    "duration": 11,
    "start_time": "2022-03-22T10:29:15.357Z"
   },
   {
    "duration": 167,
    "start_time": "2022-03-22T10:29:16.180Z"
   },
   {
    "duration": 32,
    "start_time": "2022-03-22T10:29:20.204Z"
   },
   {
    "duration": 3657,
    "start_time": "2022-03-22T10:29:21.716Z"
   },
   {
    "duration": 82,
    "start_time": "2022-03-22T10:29:53.013Z"
   },
   {
    "duration": 19,
    "start_time": "2022-03-22T10:30:51.388Z"
   },
   {
    "duration": 11,
    "start_time": "2022-03-22T10:30:52.984Z"
   },
   {
    "duration": 152,
    "start_time": "2022-03-22T10:30:56.211Z"
   },
   {
    "duration": 31,
    "start_time": "2022-03-22T10:30:57.092Z"
   },
   {
    "duration": 45,
    "start_time": "2022-03-22T10:30:58.204Z"
   },
   {
    "duration": 2,
    "start_time": "2022-03-22T10:30:59.236Z"
   },
   {
    "duration": 3,
    "start_time": "2022-03-22T10:33:28.501Z"
   },
   {
    "duration": 10,
    "start_time": "2022-03-22T10:33:40.237Z"
   },
   {
    "duration": 215,
    "start_time": "2022-03-22T10:34:27.429Z"
   },
   {
    "duration": 19,
    "start_time": "2022-03-22T10:35:10.781Z"
   },
   {
    "duration": 3,
    "start_time": "2022-03-22T10:35:20.925Z"
   },
   {
    "duration": 43,
    "start_time": "2022-03-22T10:35:21.253Z"
   },
   {
    "duration": 14,
    "start_time": "2022-03-22T10:35:21.420Z"
   },
   {
    "duration": 6,
    "start_time": "2022-03-22T10:35:21.780Z"
   },
   {
    "duration": 18,
    "start_time": "2022-03-22T10:35:21.972Z"
   },
   {
    "duration": 12,
    "start_time": "2022-03-22T10:35:23.085Z"
   },
   {
    "duration": 153,
    "start_time": "2022-03-22T10:35:23.781Z"
   },
   {
    "duration": 31,
    "start_time": "2022-03-22T10:35:24.540Z"
   },
   {
    "duration": 41,
    "start_time": "2022-03-22T10:35:25.333Z"
   },
   {
    "duration": 18,
    "start_time": "2022-03-22T10:35:26.437Z"
   },
   {
    "duration": 10,
    "start_time": "2022-03-22T10:35:45.093Z"
   },
   {
    "duration": 10,
    "start_time": "2022-03-22T10:35:55.669Z"
   },
   {
    "duration": 12,
    "start_time": "2022-03-22T10:36:00.069Z"
   },
   {
    "duration": 9,
    "start_time": "2022-03-22T10:37:17.462Z"
   },
   {
    "duration": 10,
    "start_time": "2022-03-22T10:37:20.757Z"
   },
   {
    "duration": 12,
    "start_time": "2022-03-22T10:37:24.661Z"
   },
   {
    "duration": 49,
    "start_time": "2022-03-22T10:37:53.189Z"
   },
   {
    "duration": 10,
    "start_time": "2022-03-22T10:37:54.901Z"
   },
   {
    "duration": 3,
    "start_time": "2022-03-22T10:38:01.645Z"
   },
   {
    "duration": 63,
    "start_time": "2022-03-22T10:38:02.004Z"
   },
   {
    "duration": 14,
    "start_time": "2022-03-22T10:38:02.205Z"
   },
   {
    "duration": 6,
    "start_time": "2022-03-22T10:38:02.780Z"
   },
   {
    "duration": 17,
    "start_time": "2022-03-22T10:38:02.997Z"
   },
   {
    "duration": 10,
    "start_time": "2022-03-22T10:38:03.508Z"
   },
   {
    "duration": 157,
    "start_time": "2022-03-22T10:38:04.458Z"
   },
   {
    "duration": 32,
    "start_time": "2022-03-22T10:38:07.916Z"
   },
   {
    "duration": 53,
    "start_time": "2022-03-22T10:38:09.189Z"
   },
   {
    "duration": 36,
    "start_time": "2022-03-22T10:38:28.901Z"
   },
   {
    "duration": 11,
    "start_time": "2022-03-22T10:38:37.885Z"
   },
   {
    "duration": 10,
    "start_time": "2022-03-22T10:40:13.165Z"
   },
   {
    "duration": 3,
    "start_time": "2022-03-22T10:40:16.469Z"
   },
   {
    "duration": 43,
    "start_time": "2022-03-22T10:40:16.852Z"
   },
   {
    "duration": 12,
    "start_time": "2022-03-22T10:40:17.021Z"
   },
   {
    "duration": 6,
    "start_time": "2022-03-22T10:40:17.365Z"
   },
   {
    "duration": 18,
    "start_time": "2022-03-22T10:40:17.565Z"
   },
   {
    "duration": 11,
    "start_time": "2022-03-22T10:40:18.629Z"
   },
   {
    "duration": 160,
    "start_time": "2022-03-22T10:40:19.349Z"
   },
   {
    "duration": 33,
    "start_time": "2022-03-22T10:40:22.132Z"
   },
   {
    "duration": 29,
    "start_time": "2022-03-22T10:40:23.269Z"
   },
   {
    "duration": 271,
    "start_time": "2022-03-22T10:40:28.654Z"
   },
   {
    "duration": 46,
    "start_time": "2022-03-22T10:42:34.084Z"
   },
   {
    "duration": 43,
    "start_time": "2022-03-22T10:43:29.005Z"
   },
   {
    "duration": 28,
    "start_time": "2022-03-22T10:44:23.366Z"
   },
   {
    "duration": 29,
    "start_time": "2022-03-22T10:44:29.205Z"
   },
   {
    "duration": 420,
    "start_time": "2022-03-22T10:45:28.797Z"
   },
   {
    "duration": 308,
    "start_time": "2022-03-22T10:45:52.757Z"
   },
   {
    "duration": 290,
    "start_time": "2022-03-22T10:46:05.269Z"
   },
   {
    "duration": 1499,
    "start_time": "2022-03-22T10:46:25.278Z"
   },
   {
    "duration": 293,
    "start_time": "2022-03-22T10:46:31.549Z"
   },
   {
    "duration": 49,
    "start_time": "2022-03-22T10:46:41.758Z"
   },
   {
    "duration": 34,
    "start_time": "2022-03-22T10:47:28.085Z"
   },
   {
    "duration": 28,
    "start_time": "2022-03-22T10:47:33.958Z"
   },
   {
    "duration": 44,
    "start_time": "2022-03-22T10:47:40.238Z"
   },
   {
    "duration": 47,
    "start_time": "2022-03-22T10:49:56.254Z"
   },
   {
    "duration": 49,
    "start_time": "2022-03-22T10:50:05.230Z"
   },
   {
    "duration": 30,
    "start_time": "2022-03-22T10:50:29.678Z"
   },
   {
    "duration": 27,
    "start_time": "2022-03-22T10:50:43.590Z"
   },
   {
    "duration": 27,
    "start_time": "2022-03-22T10:50:50.750Z"
   },
   {
    "duration": 29,
    "start_time": "2022-03-22T10:51:07.269Z"
   },
   {
    "duration": 212,
    "start_time": "2022-03-22T10:51:19.879Z"
   },
   {
    "duration": 303,
    "start_time": "2022-03-22T10:51:23.406Z"
   },
   {
    "duration": 299,
    "start_time": "2022-03-22T10:51:29.453Z"
   },
   {
    "duration": 47,
    "start_time": "2022-03-22T10:51:37.485Z"
   },
   {
    "duration": 44,
    "start_time": "2022-03-22T10:51:46.334Z"
   },
   {
    "duration": 432,
    "start_time": "2022-03-22T10:52:46.663Z"
   },
   {
    "duration": 460,
    "start_time": "2022-03-22T10:52:50.622Z"
   },
   {
    "duration": 28,
    "start_time": "2022-03-22T10:52:59.503Z"
   },
   {
    "duration": 30,
    "start_time": "2022-03-22T10:53:06.294Z"
   },
   {
    "duration": 45,
    "start_time": "2022-03-22T10:53:48.430Z"
   },
   {
    "duration": 9,
    "start_time": "2022-03-22T10:54:21.834Z"
   },
   {
    "duration": 8,
    "start_time": "2022-03-22T10:55:12.903Z"
   },
   {
    "duration": 10,
    "start_time": "2022-03-22T10:55:21.342Z"
   },
   {
    "duration": 9,
    "start_time": "2022-03-22T11:00:25.655Z"
   },
   {
    "duration": 779,
    "start_time": "2022-03-22T11:00:31.063Z"
   },
   {
    "duration": 793,
    "start_time": "2022-03-22T11:00:41.743Z"
   },
   {
    "duration": 728,
    "start_time": "2022-03-22T11:00:54.531Z"
   },
   {
    "duration": 12,
    "start_time": "2022-03-22T11:01:27.928Z"
   },
   {
    "duration": 169,
    "start_time": "2022-03-22T11:01:29.200Z"
   },
   {
    "duration": 32,
    "start_time": "2022-03-22T11:01:31.646Z"
   },
   {
    "duration": 43,
    "start_time": "2022-03-22T11:01:32.519Z"
   },
   {
    "duration": 43,
    "start_time": "2022-03-22T11:01:39.794Z"
   },
   {
    "duration": 7386,
    "start_time": "2022-03-22T11:01:45.808Z"
   },
   {
    "duration": 9,
    "start_time": "2022-03-22T11:03:07.864Z"
   },
   {
    "duration": 8,
    "start_time": "2022-03-22T11:03:15.567Z"
   },
   {
    "duration": 10,
    "start_time": "2022-03-22T11:03:23.680Z"
   },
   {
    "duration": 8,
    "start_time": "2022-03-22T11:03:42.608Z"
   },
   {
    "duration": 10,
    "start_time": "2022-03-22T11:04:00.800Z"
   },
   {
    "duration": 3,
    "start_time": "2022-03-22T11:04:10.975Z"
   },
   {
    "duration": 65,
    "start_time": "2022-03-22T11:04:11.383Z"
   },
   {
    "duration": 11,
    "start_time": "2022-03-22T11:04:11.575Z"
   },
   {
    "duration": 6,
    "start_time": "2022-03-22T11:04:11.975Z"
   },
   {
    "duration": 18,
    "start_time": "2022-03-22T11:04:12.143Z"
   },
   {
    "duration": 12,
    "start_time": "2022-03-22T11:04:12.543Z"
   },
   {
    "duration": 159,
    "start_time": "2022-03-22T11:04:13.511Z"
   },
   {
    "duration": 31,
    "start_time": "2022-03-22T11:04:15.854Z"
   },
   {
    "duration": 44,
    "start_time": "2022-03-22T11:04:16.824Z"
   },
   {
    "duration": 13,
    "start_time": "2022-03-22T11:04:21.671Z"
   },
   {
    "duration": 7343,
    "start_time": "2022-03-22T11:05:48.984Z"
   },
   {
    "duration": 7398,
    "start_time": "2022-03-22T11:05:59.354Z"
   },
   {
    "duration": 43,
    "start_time": "2022-03-22T11:06:37.896Z"
   },
   {
    "duration": 3,
    "start_time": "2022-03-22T11:06:43.151Z"
   },
   {
    "duration": 73,
    "start_time": "2022-03-22T11:06:43.614Z"
   },
   {
    "duration": 12,
    "start_time": "2022-03-22T11:06:43.943Z"
   },
   {
    "duration": 6,
    "start_time": "2022-03-22T11:06:44.647Z"
   },
   {
    "duration": 18,
    "start_time": "2022-03-22T11:06:45.055Z"
   },
   {
    "duration": 12,
    "start_time": "2022-03-22T11:06:46.134Z"
   },
   {
    "duration": 150,
    "start_time": "2022-03-22T11:06:47.439Z"
   },
   {
    "duration": 30,
    "start_time": "2022-03-22T11:06:49.751Z"
   },
   {
    "duration": 44,
    "start_time": "2022-03-22T11:06:50.527Z"
   },
   {
    "duration": 13,
    "start_time": "2022-03-22T11:06:59.727Z"
   },
   {
    "duration": 2,
    "start_time": "2022-03-22T11:07:00.175Z"
   },
   {
    "duration": 97,
    "start_time": "2022-03-22T11:07:00.679Z"
   },
   {
    "duration": 12,
    "start_time": "2022-03-22T11:10:40.288Z"
   },
   {
    "duration": 3,
    "start_time": "2022-03-22T11:10:51.087Z"
   },
   {
    "duration": 49,
    "start_time": "2022-03-22T11:10:51.154Z"
   },
   {
    "duration": 11,
    "start_time": "2022-03-22T11:10:51.205Z"
   },
   {
    "duration": 6,
    "start_time": "2022-03-22T11:10:51.254Z"
   },
   {
    "duration": 16,
    "start_time": "2022-03-22T11:10:51.286Z"
   },
   {
    "duration": 10,
    "start_time": "2022-03-22T11:10:51.354Z"
   },
   {
    "duration": 164,
    "start_time": "2022-03-22T11:10:51.417Z"
   },
   {
    "duration": 31,
    "start_time": "2022-03-22T11:10:52.917Z"
   },
   {
    "duration": 43,
    "start_time": "2022-03-22T11:10:52.950Z"
   },
   {
    "duration": 10,
    "start_time": "2022-03-22T11:10:52.994Z"
   },
   {
    "duration": 2,
    "start_time": "2022-03-22T11:10:53.006Z"
   },
   {
    "duration": 101,
    "start_time": "2022-03-22T11:10:53.010Z"
   },
   {
    "duration": 29,
    "start_time": "2022-03-22T11:10:53.113Z"
   },
   {
    "duration": 32,
    "start_time": "2022-03-22T11:10:53.143Z"
   },
   {
    "duration": 168,
    "start_time": "2022-03-22T11:10:53.177Z"
   },
   {
    "duration": 27,
    "start_time": "2022-03-22T11:10:53.348Z"
   },
   {
    "duration": 37,
    "start_time": "2022-03-22T11:10:53.887Z"
   },
   {
    "duration": 26,
    "start_time": "2022-03-22T11:10:55.823Z"
   },
   {
    "duration": 39,
    "start_time": "2022-03-22T11:10:57.302Z"
   },
   {
    "duration": 45,
    "start_time": "2022-03-22T11:10:57.342Z"
   },
   {
    "duration": 36,
    "start_time": "2022-03-22T11:10:57.401Z"
   },
   {
    "duration": 64,
    "start_time": "2022-03-22T11:10:57.439Z"
   },
   {
    "duration": 12,
    "start_time": "2022-03-22T11:10:58.246Z"
   },
   {
    "duration": 14,
    "start_time": "2022-03-22T11:11:17.344Z"
   },
   {
    "duration": 8,
    "start_time": "2022-03-22T11:11:44.895Z"
   },
   {
    "duration": 3,
    "start_time": "2022-03-22T14:57:29.952Z"
   },
   {
    "duration": 33,
    "start_time": "2022-03-22T14:57:33.117Z"
   },
   {
    "duration": 12,
    "start_time": "2022-03-22T14:57:34.523Z"
   },
   {
    "duration": 8,
    "start_time": "2022-03-22T14:57:35.401Z"
   },
   {
    "duration": 20,
    "start_time": "2022-03-22T14:57:35.897Z"
   },
   {
    "duration": 11,
    "start_time": "2022-03-22T14:57:37.044Z"
   },
   {
    "duration": 155,
    "start_time": "2022-03-22T14:57:37.895Z"
   },
   {
    "duration": 29,
    "start_time": "2022-03-22T14:57:39.396Z"
   },
   {
    "duration": 45,
    "start_time": "2022-03-22T14:57:40.324Z"
   },
   {
    "duration": 7,
    "start_time": "2022-03-22T14:57:41.358Z"
   },
   {
    "duration": 11,
    "start_time": "2022-03-22T14:57:41.807Z"
   },
   {
    "duration": 13,
    "start_time": "2022-03-22T14:58:02.309Z"
   },
   {
    "duration": 23,
    "start_time": "2022-03-22T14:58:52.190Z"
   },
   {
    "duration": 33,
    "start_time": "2022-03-22T15:00:11.493Z"
   },
   {
    "duration": 4464,
    "start_time": "2022-03-22T15:00:21.390Z"
   },
   {
    "duration": 5,
    "start_time": "2022-03-22T15:00:42.699Z"
   },
   {
    "duration": 35,
    "start_time": "2022-03-22T15:00:43.084Z"
   },
   {
    "duration": 12,
    "start_time": "2022-03-22T15:00:43.250Z"
   },
   {
    "duration": 6,
    "start_time": "2022-03-22T15:00:43.582Z"
   },
   {
    "duration": 19,
    "start_time": "2022-03-22T15:00:43.774Z"
   },
   {
    "duration": 11,
    "start_time": "2022-03-22T15:00:44.294Z"
   },
   {
    "duration": 158,
    "start_time": "2022-03-22T15:00:45.701Z"
   },
   {
    "duration": 31,
    "start_time": "2022-03-22T15:00:46.821Z"
   },
   {
    "duration": 44,
    "start_time": "2022-03-22T15:00:47.477Z"
   },
   {
    "duration": 31,
    "start_time": "2022-03-22T15:00:48.455Z"
   },
   {
    "duration": 3,
    "start_time": "2022-03-22T15:01:41.424Z"
   },
   {
    "duration": 46,
    "start_time": "2022-03-22T15:01:41.877Z"
   },
   {
    "duration": 14,
    "start_time": "2022-03-22T15:01:42.068Z"
   },
   {
    "duration": 6,
    "start_time": "2022-03-22T15:01:42.446Z"
   },
   {
    "duration": 21,
    "start_time": "2022-03-22T15:01:42.653Z"
   },
   {
    "duration": 15,
    "start_time": "2022-03-22T15:01:43.597Z"
   },
   {
    "duration": 184,
    "start_time": "2022-03-22T15:01:44.540Z"
   },
   {
    "duration": 32,
    "start_time": "2022-03-22T15:01:46.343Z"
   },
   {
    "duration": 42,
    "start_time": "2022-03-22T15:01:52.017Z"
   },
   {
    "duration": 29,
    "start_time": "2022-03-22T15:01:58.733Z"
   },
   {
    "duration": 3901,
    "start_time": "2022-03-22T15:02:11.314Z"
   },
   {
    "duration": 2,
    "start_time": "2022-03-22T15:04:43.123Z"
   },
   {
    "duration": 39,
    "start_time": "2022-03-22T15:04:43.477Z"
   },
   {
    "duration": 12,
    "start_time": "2022-03-22T15:04:43.672Z"
   },
   {
    "duration": 5,
    "start_time": "2022-03-22T15:04:44.039Z"
   },
   {
    "duration": 21,
    "start_time": "2022-03-22T15:04:44.185Z"
   },
   {
    "duration": 11,
    "start_time": "2022-03-22T15:04:44.538Z"
   },
   {
    "duration": 168,
    "start_time": "2022-03-22T15:04:45.104Z"
   },
   {
    "duration": 34,
    "start_time": "2022-03-22T15:04:46.153Z"
   },
   {
    "duration": 47,
    "start_time": "2022-03-22T15:04:46.718Z"
   },
   {
    "duration": 29,
    "start_time": "2022-03-22T15:04:51.365Z"
   },
   {
    "duration": 12,
    "start_time": "2022-03-22T15:05:12.433Z"
   },
   {
    "duration": 105,
    "start_time": "2022-03-22T15:06:07.796Z"
   },
   {
    "duration": 33,
    "start_time": "2022-03-22T15:06:10.072Z"
   },
   {
    "duration": 41,
    "start_time": "2022-03-22T15:06:11.699Z"
   },
   {
    "duration": 220,
    "start_time": "2022-03-22T15:06:15.837Z"
   },
   {
    "duration": 35,
    "start_time": "2022-03-22T15:06:17.898Z"
   },
   {
    "duration": 36,
    "start_time": "2022-03-22T15:06:20.059Z"
   },
   {
    "duration": 3548,
    "start_time": "2022-03-22T15:12:13.663Z"
   },
   {
    "duration": 3400,
    "start_time": "2022-03-22T15:12:22.521Z"
   },
   {
    "duration": 4186,
    "start_time": "2022-03-22T15:13:23.604Z"
   },
   {
    "duration": 17,
    "start_time": "2022-03-22T15:13:37.703Z"
   },
   {
    "duration": 28,
    "start_time": "2022-03-22T15:13:43.923Z"
   },
   {
    "duration": 27,
    "start_time": "2022-03-22T15:13:59.904Z"
   },
   {
    "duration": 35,
    "start_time": "2022-03-22T15:14:10.428Z"
   },
   {
    "duration": 27,
    "start_time": "2022-03-22T15:14:21.441Z"
   },
   {
    "duration": 72,
    "start_time": "2022-03-22T15:14:34.195Z"
   },
   {
    "duration": 54,
    "start_time": "2022-03-22T15:14:41.507Z"
   },
   {
    "duration": 39,
    "start_time": "2022-03-22T15:14:47.963Z"
   },
   {
    "duration": 61,
    "start_time": "2022-03-22T15:14:51.380Z"
   },
   {
    "duration": 194,
    "start_time": "2022-03-22T15:45:53.345Z"
   },
   {
    "duration": 10,
    "start_time": "2022-03-22T15:45:59.401Z"
   },
   {
    "duration": 10,
    "start_time": "2022-03-22T15:46:05.175Z"
   },
   {
    "duration": 9,
    "start_time": "2022-03-22T15:49:03.655Z"
   },
   {
    "duration": 8,
    "start_time": "2022-03-22T15:50:02.595Z"
   },
   {
    "duration": 10,
    "start_time": "2022-03-22T15:50:16.035Z"
   },
   {
    "duration": 4,
    "start_time": "2022-03-22T15:50:21.595Z"
   },
   {
    "duration": 77,
    "start_time": "2022-03-22T15:50:21.662Z"
   },
   {
    "duration": 12,
    "start_time": "2022-03-22T15:50:21.741Z"
   },
   {
    "duration": 46,
    "start_time": "2022-03-22T15:50:21.755Z"
   },
   {
    "duration": 27,
    "start_time": "2022-03-22T15:50:21.802Z"
   },
   {
    "duration": 10,
    "start_time": "2022-03-22T15:50:21.842Z"
   },
   {
    "duration": 881,
    "start_time": "2022-03-22T15:50:21.907Z"
   },
   {
    "duration": 87,
    "start_time": "2022-03-22T15:50:22.790Z"
   },
   {
    "duration": 46,
    "start_time": "2022-03-22T15:50:22.879Z"
   },
   {
    "duration": 304,
    "start_time": "2022-03-22T15:50:22.927Z"
   },
   {
    "duration": 9,
    "start_time": "2022-03-22T15:50:23.233Z"
   },
   {
    "duration": 1834,
    "start_time": "2022-03-22T15:50:23.281Z"
   },
   {
    "duration": 30,
    "start_time": "2022-03-22T15:50:25.117Z"
   },
   {
    "duration": 30,
    "start_time": "2022-03-22T15:50:25.148Z"
   },
   {
    "duration": 4908,
    "start_time": "2022-03-22T15:50:25.200Z"
   },
   {
    "duration": 25,
    "start_time": "2022-03-22T15:50:30.110Z"
   },
   {
    "duration": 35,
    "start_time": "2022-03-22T15:50:30.137Z"
   },
   {
    "duration": 48,
    "start_time": "2022-03-22T15:50:30.174Z"
   },
   {
    "duration": 25,
    "start_time": "2022-03-22T15:50:30.224Z"
   },
   {
    "duration": 51,
    "start_time": "2022-03-22T15:50:30.251Z"
   },
   {
    "duration": 47,
    "start_time": "2022-03-22T15:50:30.304Z"
   },
   {
    "duration": 61,
    "start_time": "2022-03-22T15:50:30.354Z"
   },
   {
    "duration": 59,
    "start_time": "2022-03-22T15:50:30.416Z"
   },
   {
    "duration": 10,
    "start_time": "2022-03-22T15:50:31.892Z"
   },
   {
    "duration": 4,
    "start_time": "2022-03-22T15:50:56.756Z"
   },
   {
    "duration": 9,
    "start_time": "2022-03-22T15:51:56.795Z"
   },
   {
    "duration": 9,
    "start_time": "2022-03-22T15:54:32.872Z"
   },
   {
    "duration": 9,
    "start_time": "2022-03-22T15:55:04.344Z"
   },
   {
    "duration": 3,
    "start_time": "2022-03-22T15:55:23.979Z"
   },
   {
    "duration": 64,
    "start_time": "2022-03-22T15:55:24.433Z"
   },
   {
    "duration": 12,
    "start_time": "2022-03-22T15:55:24.619Z"
   },
   {
    "duration": 6,
    "start_time": "2022-03-22T15:55:25.003Z"
   },
   {
    "duration": 18,
    "start_time": "2022-03-22T15:55:25.170Z"
   },
   {
    "duration": 10,
    "start_time": "2022-03-22T15:55:25.660Z"
   },
   {
    "duration": 821,
    "start_time": "2022-03-22T15:55:25.982Z"
   },
   {
    "duration": 30,
    "start_time": "2022-03-22T15:55:26.805Z"
   },
   {
    "duration": 44,
    "start_time": "2022-03-22T15:55:26.987Z"
   },
   {
    "duration": 29,
    "start_time": "2022-03-22T15:55:27.663Z"
   },
   {
    "duration": 201,
    "start_time": "2022-03-22T15:55:27.906Z"
   },
   {
    "duration": 984,
    "start_time": "2022-03-22T15:55:28.760Z"
   },
   {
    "duration": 31,
    "start_time": "2022-03-22T15:55:29.746Z"
   },
   {
    "duration": 30,
    "start_time": "2022-03-22T15:55:29.810Z"
   },
   {
    "duration": 45,
    "start_time": "2022-03-22T15:55:35.353Z"
   },
   {
    "duration": 0,
    "start_time": "2022-03-22T15:55:35.400Z"
   },
   {
    "duration": 0,
    "start_time": "2022-03-22T15:55:35.401Z"
   },
   {
    "duration": 0,
    "start_time": "2022-03-22T15:55:35.402Z"
   },
   {
    "duration": 9,
    "start_time": "2022-03-22T15:55:38.996Z"
   },
   {
    "duration": 7,
    "start_time": "2022-03-22T15:55:39.385Z"
   },
   {
    "duration": 8,
    "start_time": "2022-03-22T15:55:39.953Z"
   },
   {
    "duration": 8,
    "start_time": "2022-03-22T15:55:41.091Z"
   },
   {
    "duration": 6,
    "start_time": "2022-03-22T15:55:42.221Z"
   },
   {
    "duration": 764,
    "start_time": "2022-03-22T15:56:47.680Z"
   },
   {
    "duration": 52,
    "start_time": "2022-03-22T15:56:49.472Z"
   },
   {
    "duration": 13,
    "start_time": "2022-03-22T15:56:50.241Z"
   },
   {
    "duration": 6,
    "start_time": "2022-03-22T15:56:52.868Z"
   },
   {
    "duration": 20,
    "start_time": "2022-03-22T15:56:56.666Z"
   },
   {
    "duration": 11,
    "start_time": "2022-03-22T15:57:00.891Z"
   },
   {
    "duration": 183,
    "start_time": "2022-03-22T15:57:02.450Z"
   },
   {
    "duration": 30,
    "start_time": "2022-03-22T15:57:02.941Z"
   },
   {
    "duration": 43,
    "start_time": "2022-03-22T15:57:03.204Z"
   },
   {
    "duration": 39,
    "start_time": "2022-03-22T15:57:03.805Z"
   },
   {
    "duration": 15,
    "start_time": "2022-03-22T15:57:03.999Z"
   },
   {
    "duration": 104,
    "start_time": "2022-03-22T15:57:04.469Z"
   },
   {
    "duration": 31,
    "start_time": "2022-03-22T15:57:05.439Z"
   },
   {
    "duration": 31,
    "start_time": "2022-03-22T15:57:05.922Z"
   },
   {
    "duration": 146,
    "start_time": "2022-03-22T15:57:07.345Z"
   },
   {
    "duration": 27,
    "start_time": "2022-03-22T15:57:08.439Z"
   },
   {
    "duration": 35,
    "start_time": "2022-03-22T15:57:12.697Z"
   },
   {
    "duration": 30,
    "start_time": "2022-03-22T15:57:19.219Z"
   },
   {
    "duration": 26,
    "start_time": "2022-03-22T15:57:21.140Z"
   },
   {
    "duration": 57,
    "start_time": "2022-03-22T15:57:30.706Z"
   },
   {
    "duration": 50,
    "start_time": "2022-03-22T15:57:37.124Z"
   },
   {
    "duration": 45,
    "start_time": "2022-03-22T15:57:38.589Z"
   },
   {
    "duration": 55,
    "start_time": "2022-03-22T15:57:42.200Z"
   },
   {
    "duration": 36,
    "start_time": "2022-03-22T15:57:46.070Z"
   },
   {
    "duration": 175,
    "start_time": "2022-03-22T15:57:58.757Z"
   },
   {
    "duration": 9,
    "start_time": "2022-03-22T15:58:05.956Z"
   },
   {
    "duration": 9,
    "start_time": "2022-03-22T15:59:19.706Z"
   },
   {
    "duration": 3,
    "start_time": "2022-03-24T09:16:26.717Z"
   },
   {
    "duration": 34,
    "start_time": "2022-03-24T09:16:27.157Z"
   },
   {
    "duration": 12,
    "start_time": "2022-03-24T09:16:27.358Z"
   },
   {
    "duration": 5,
    "start_time": "2022-03-24T09:16:28.075Z"
   },
   {
    "duration": 17,
    "start_time": "2022-03-24T09:16:28.561Z"
   },
   {
    "duration": 10,
    "start_time": "2022-03-24T09:16:29.357Z"
   },
   {
    "duration": 162,
    "start_time": "2022-03-24T09:16:29.975Z"
   },
   {
    "duration": 32,
    "start_time": "2022-03-24T09:16:30.664Z"
   },
   {
    "duration": 42,
    "start_time": "2022-03-24T09:16:31.216Z"
   },
   {
    "duration": 33,
    "start_time": "2022-03-24T09:16:32.094Z"
   },
   {
    "duration": 11,
    "start_time": "2022-03-24T09:16:32.429Z"
   },
   {
    "duration": 92,
    "start_time": "2022-03-24T09:16:32.940Z"
   },
   {
    "duration": 30,
    "start_time": "2022-03-24T09:16:33.529Z"
   },
   {
    "duration": 31,
    "start_time": "2022-03-24T09:16:34.055Z"
   },
   {
    "duration": 143,
    "start_time": "2022-03-24T09:16:34.791Z"
   },
   {
    "duration": 27,
    "start_time": "2022-03-24T09:16:35.244Z"
   },
   {
    "duration": 38,
    "start_time": "2022-03-24T09:16:35.779Z"
   },
   {
    "duration": 36,
    "start_time": "2022-03-24T09:16:36.588Z"
   },
   {
    "duration": 28,
    "start_time": "2022-03-24T09:16:37.085Z"
   },
   {
    "duration": 45,
    "start_time": "2022-03-24T09:16:38.932Z"
   },
   {
    "duration": 43,
    "start_time": "2022-03-24T09:16:39.266Z"
   },
   {
    "duration": 43,
    "start_time": "2022-03-24T09:16:39.845Z"
   },
   {
    "duration": 57,
    "start_time": "2022-03-24T09:16:41.555Z"
   },
   {
    "duration": 151,
    "start_time": "2022-03-24T09:16:43.331Z"
   },
   {
    "duration": 4,
    "start_time": "2022-03-24T09:18:14.582Z"
   },
   {
    "duration": 8,
    "start_time": "2022-03-24T09:18:20.734Z"
   },
   {
    "duration": 9,
    "start_time": "2022-03-24T09:18:30.590Z"
   },
   {
    "duration": 12,
    "start_time": "2022-03-24T09:19:00.959Z"
   },
   {
    "duration": 11,
    "start_time": "2022-03-24T09:19:31.089Z"
   },
   {
    "duration": 10,
    "start_time": "2022-03-24T09:19:41.241Z"
   },
   {
    "duration": 12,
    "start_time": "2022-03-24T09:20:01.139Z"
   },
   {
    "duration": 12,
    "start_time": "2022-03-24T09:20:23.889Z"
   },
   {
    "duration": 12,
    "start_time": "2022-03-24T09:21:04.031Z"
   },
   {
    "duration": 8,
    "start_time": "2022-03-24T09:21:54.440Z"
   },
   {
    "duration": 13,
    "start_time": "2022-03-24T09:22:02.316Z"
   },
   {
    "duration": 3,
    "start_time": "2022-03-24T09:26:47.809Z"
   },
   {
    "duration": 11,
    "start_time": "2022-03-24T09:26:54.915Z"
   },
   {
    "duration": 12,
    "start_time": "2022-03-24T09:27:35.671Z"
   },
   {
    "duration": 3,
    "start_time": "2022-03-24T09:27:46.547Z"
   },
   {
    "duration": 44,
    "start_time": "2022-03-24T09:27:46.906Z"
   },
   {
    "duration": 12,
    "start_time": "2022-03-24T09:27:47.178Z"
   },
   {
    "duration": 6,
    "start_time": "2022-03-24T09:27:47.722Z"
   },
   {
    "duration": 18,
    "start_time": "2022-03-24T09:27:47.752Z"
   },
   {
    "duration": 11,
    "start_time": "2022-03-24T09:27:47.812Z"
   },
   {
    "duration": 160,
    "start_time": "2022-03-24T09:27:47.883Z"
   },
   {
    "duration": 29,
    "start_time": "2022-03-24T09:27:48.045Z"
   },
   {
    "duration": 53,
    "start_time": "2022-03-24T09:27:48.075Z"
   },
   {
    "duration": 33,
    "start_time": "2022-03-24T09:27:48.130Z"
   },
   {
    "duration": 10,
    "start_time": "2022-03-24T09:27:48.164Z"
   },
   {
    "duration": 98,
    "start_time": "2022-03-24T09:27:48.531Z"
   },
   {
    "duration": 32,
    "start_time": "2022-03-24T09:27:49.181Z"
   },
   {
    "duration": 31,
    "start_time": "2022-03-24T09:27:49.529Z"
   },
   {
    "duration": 148,
    "start_time": "2022-03-24T09:27:50.053Z"
   },
   {
    "duration": 27,
    "start_time": "2022-03-24T09:27:50.426Z"
   },
   {
    "duration": 36,
    "start_time": "2022-03-24T09:27:50.809Z"
   },
   {
    "duration": 29,
    "start_time": "2022-03-24T09:27:51.419Z"
   },
   {
    "duration": 28,
    "start_time": "2022-03-24T09:27:51.914Z"
   },
   {
    "duration": 48,
    "start_time": "2022-03-24T09:27:53.494Z"
   },
   {
    "duration": 48,
    "start_time": "2022-03-24T09:27:53.773Z"
   },
   {
    "duration": 44,
    "start_time": "2022-03-24T09:27:54.289Z"
   },
   {
    "duration": 54,
    "start_time": "2022-03-24T09:27:55.369Z"
   },
   {
    "duration": 11,
    "start_time": "2022-03-24T09:27:57.081Z"
   },
   {
    "duration": 12,
    "start_time": "2022-03-24T09:28:41.818Z"
   },
   {
    "duration": 1171,
    "start_time": "2022-03-24T09:28:53.016Z"
   },
   {
    "duration": 12,
    "start_time": "2022-03-24T09:29:34.981Z"
   },
   {
    "duration": 14,
    "start_time": "2022-03-24T09:30:37.736Z"
   },
   {
    "duration": 8,
    "start_time": "2022-03-24T09:43:51.759Z"
   },
   {
    "duration": 3,
    "start_time": "2022-03-24T09:44:10.304Z"
   },
   {
    "duration": 535,
    "start_time": "2022-03-24T09:44:10.785Z"
   },
   {
    "duration": 12,
    "start_time": "2022-03-24T09:44:11.322Z"
   },
   {
    "duration": 6,
    "start_time": "2022-03-24T09:44:11.499Z"
   },
   {
    "duration": 19,
    "start_time": "2022-03-24T09:44:11.530Z"
   },
   {
    "duration": 11,
    "start_time": "2022-03-24T09:44:11.588Z"
   },
   {
    "duration": 249,
    "start_time": "2022-03-24T09:44:11.649Z"
   },
   {
    "duration": 52,
    "start_time": "2022-03-24T09:44:11.901Z"
   },
   {
    "duration": 84,
    "start_time": "2022-03-24T09:44:11.955Z"
   },
   {
    "duration": 62,
    "start_time": "2022-03-24T09:44:12.041Z"
   },
   {
    "duration": 14,
    "start_time": "2022-03-24T09:44:12.105Z"
   },
   {
    "duration": 167,
    "start_time": "2022-03-24T09:44:12.121Z"
   },
   {
    "duration": 55,
    "start_time": "2022-03-24T09:44:12.290Z"
   },
   {
    "duration": 73,
    "start_time": "2022-03-24T09:44:12.348Z"
   },
   {
    "duration": 219,
    "start_time": "2022-03-24T09:44:12.423Z"
   },
   {
    "duration": 60,
    "start_time": "2022-03-24T09:44:12.728Z"
   },
   {
    "duration": 71,
    "start_time": "2022-03-24T09:44:13.106Z"
   },
   {
    "duration": 31,
    "start_time": "2022-03-24T09:44:13.650Z"
   },
   {
    "duration": 28,
    "start_time": "2022-03-24T09:44:13.975Z"
   },
   {
    "duration": 51,
    "start_time": "2022-03-24T09:44:15.463Z"
   },
   {
    "duration": 52,
    "start_time": "2022-03-24T09:44:15.942Z"
   },
   {
    "duration": 47,
    "start_time": "2022-03-24T09:44:16.432Z"
   },
   {
    "duration": 61,
    "start_time": "2022-03-24T09:44:17.830Z"
   },
   {
    "duration": 10,
    "start_time": "2022-03-24T09:44:19.113Z"
   },
   {
    "duration": 5,
    "start_time": "2022-03-24T09:51:51.827Z"
   },
   {
    "duration": 8,
    "start_time": "2022-03-24T09:51:57.506Z"
   },
   {
    "duration": 6,
    "start_time": "2022-03-24T09:52:01.777Z"
   },
   {
    "duration": 5,
    "start_time": "2022-03-24T10:03:11.406Z"
   },
   {
    "duration": 5,
    "start_time": "2022-03-24T10:03:14.579Z"
   },
   {
    "duration": 6,
    "start_time": "2022-03-24T10:03:25.266Z"
   },
   {
    "duration": 5,
    "start_time": "2022-03-24T10:03:29.140Z"
   },
   {
    "duration": 6,
    "start_time": "2022-03-24T10:03:34.242Z"
   },
   {
    "duration": 6,
    "start_time": "2022-03-24T10:03:38.963Z"
   },
   {
    "duration": 83,
    "start_time": "2022-03-24T10:15:59.304Z"
   },
   {
    "duration": 9,
    "start_time": "2022-03-24T10:16:04.022Z"
   },
   {
    "duration": 13,
    "start_time": "2022-03-24T10:16:12.736Z"
   },
   {
    "duration": 14,
    "start_time": "2022-03-24T10:21:16.512Z"
   },
   {
    "duration": 204,
    "start_time": "2022-03-24T10:37:38.355Z"
   },
   {
    "duration": 9,
    "start_time": "2022-03-24T10:37:47.315Z"
   },
   {
    "duration": 3,
    "start_time": "2022-03-24T10:37:54.531Z"
   },
   {
    "duration": 44,
    "start_time": "2022-03-24T10:37:54.891Z"
   },
   {
    "duration": 11,
    "start_time": "2022-03-24T10:37:55.063Z"
   },
   {
    "duration": 6,
    "start_time": "2022-03-24T10:37:55.409Z"
   },
   {
    "duration": 17,
    "start_time": "2022-03-24T10:37:55.616Z"
   },
   {
    "duration": 11,
    "start_time": "2022-03-24T10:37:55.965Z"
   },
   {
    "duration": 165,
    "start_time": "2022-03-24T10:37:56.337Z"
   },
   {
    "duration": 30,
    "start_time": "2022-03-24T10:37:56.717Z"
   },
   {
    "duration": 43,
    "start_time": "2022-03-24T10:37:57.181Z"
   },
   {
    "duration": 33,
    "start_time": "2022-03-24T10:37:57.775Z"
   },
   {
    "duration": 10,
    "start_time": "2022-03-24T10:37:57.961Z"
   },
   {
    "duration": 96,
    "start_time": "2022-03-24T10:37:58.351Z"
   },
   {
    "duration": 33,
    "start_time": "2022-03-24T10:37:58.754Z"
   },
   {
    "duration": 32,
    "start_time": "2022-03-24T10:37:59.253Z"
   },
   {
    "duration": 142,
    "start_time": "2022-03-24T10:37:59.969Z"
   },
   {
    "duration": 30,
    "start_time": "2022-03-24T10:38:00.629Z"
   },
   {
    "duration": 40,
    "start_time": "2022-03-24T10:38:01.087Z"
   },
   {
    "duration": 28,
    "start_time": "2022-03-24T10:38:01.942Z"
   },
   {
    "duration": 26,
    "start_time": "2022-03-24T10:38:02.488Z"
   },
   {
    "duration": 49,
    "start_time": "2022-03-24T10:38:04.308Z"
   },
   {
    "duration": 49,
    "start_time": "2022-03-24T10:38:04.608Z"
   },
   {
    "duration": 47,
    "start_time": "2022-03-24T10:38:05.051Z"
   },
   {
    "duration": 60,
    "start_time": "2022-03-24T10:38:05.888Z"
   },
   {
    "duration": 54,
    "start_time": "2022-03-24T10:38:06.307Z"
   },
   {
    "duration": 10,
    "start_time": "2022-03-24T10:38:07.763Z"
   },
   {
    "duration": 9,
    "start_time": "2022-03-24T10:38:28.008Z"
   },
   {
    "duration": 8,
    "start_time": "2022-03-24T10:38:41.052Z"
   },
   {
    "duration": 9,
    "start_time": "2022-03-24T10:38:50.318Z"
   },
   {
    "duration": 9,
    "start_time": "2022-03-24T10:39:16.821Z"
   },
   {
    "duration": 8,
    "start_time": "2022-03-24T10:39:32.607Z"
   },
   {
    "duration": 3026,
    "start_time": "2022-03-24T10:39:38.359Z"
   },
   {
    "duration": 2990,
    "start_time": "2022-03-24T10:41:58.705Z"
   },
   {
    "duration": 3904,
    "start_time": "2022-03-24T10:42:08.935Z"
   },
   {
    "duration": 3071,
    "start_time": "2022-03-24T10:43:17.811Z"
   },
   {
    "duration": 5,
    "start_time": "2022-03-24T10:43:32.074Z"
   },
   {
    "duration": 5,
    "start_time": "2022-03-24T10:44:35.633Z"
   },
   {
    "duration": 20,
    "start_time": "2022-03-24T10:47:45.021Z"
   },
   {
    "duration": 71,
    "start_time": "2022-03-24T10:47:53.464Z"
   },
   {
    "duration": 11,
    "start_time": "2022-03-24T10:50:21.315Z"
   },
   {
    "duration": 69,
    "start_time": "2022-03-24T10:50:44.947Z"
   },
   {
    "duration": 16,
    "start_time": "2022-03-24T10:54:34.585Z"
   },
   {
    "duration": 72,
    "start_time": "2022-03-24T10:54:43.666Z"
   },
   {
    "duration": 76,
    "start_time": "2022-03-24T10:55:15.118Z"
   },
   {
    "duration": 3,
    "start_time": "2022-03-24T10:55:30.349Z"
   },
   {
    "duration": 57,
    "start_time": "2022-03-24T10:55:30.413Z"
   },
   {
    "duration": 12,
    "start_time": "2022-03-24T10:55:30.472Z"
   },
   {
    "duration": 5,
    "start_time": "2022-03-24T10:55:30.500Z"
   },
   {
    "duration": 18,
    "start_time": "2022-03-24T10:55:30.533Z"
   },
   {
    "duration": 11,
    "start_time": "2022-03-24T10:55:30.603Z"
   },
   {
    "duration": 174,
    "start_time": "2022-03-24T10:55:30.663Z"
   },
   {
    "duration": 31,
    "start_time": "2022-03-24T10:55:30.840Z"
   },
   {
    "duration": 61,
    "start_time": "2022-03-24T10:55:30.873Z"
   },
   {
    "duration": 38,
    "start_time": "2022-03-24T10:55:30.936Z"
   },
   {
    "duration": 31,
    "start_time": "2022-03-24T10:55:30.976Z"
   },
   {
    "duration": 103,
    "start_time": "2022-03-24T10:55:31.009Z"
   },
   {
    "duration": 29,
    "start_time": "2022-03-24T10:55:31.601Z"
   },
   {
    "duration": 32,
    "start_time": "2022-03-24T10:55:31.929Z"
   },
   {
    "duration": 146,
    "start_time": "2022-03-24T10:55:32.402Z"
   },
   {
    "duration": 27,
    "start_time": "2022-03-24T10:55:32.770Z"
   },
   {
    "duration": 36,
    "start_time": "2022-03-24T10:55:33.154Z"
   },
   {
    "duration": 28,
    "start_time": "2022-03-24T10:55:33.729Z"
   },
   {
    "duration": 27,
    "start_time": "2022-03-24T10:55:34.142Z"
   },
   {
    "duration": 48,
    "start_time": "2022-03-24T10:55:35.858Z"
   },
   {
    "duration": 51,
    "start_time": "2022-03-24T10:55:36.016Z"
   },
   {
    "duration": 43,
    "start_time": "2022-03-24T10:55:36.197Z"
   },
   {
    "duration": 56,
    "start_time": "2022-03-24T10:55:36.894Z"
   },
   {
    "duration": 52,
    "start_time": "2022-03-24T10:55:38.045Z"
   },
   {
    "duration": 71,
    "start_time": "2022-03-24T10:55:40.772Z"
   },
   {
    "duration": 49,
    "start_time": "2022-03-24T10:57:43.155Z"
   },
   {
    "duration": 52,
    "start_time": "2022-03-24T10:57:56.931Z"
   },
   {
    "duration": 51,
    "start_time": "2022-03-24T10:58:09.222Z"
   },
   {
    "duration": 59,
    "start_time": "2022-03-24T10:58:14.526Z"
   },
   {
    "duration": 78,
    "start_time": "2022-03-24T10:58:34.447Z"
   },
   {
    "duration": 64,
    "start_time": "2022-03-24T11:01:15.898Z"
   },
   {
    "duration": 64,
    "start_time": "2022-03-24T11:01:32.054Z"
   },
   {
    "duration": 69,
    "start_time": "2022-03-24T11:02:16.085Z"
   },
   {
    "duration": 8,
    "start_time": "2022-03-24T11:02:31.703Z"
   },
   {
    "duration": 173,
    "start_time": "2022-03-24T11:23:06.626Z"
   },
   {
    "duration": 157,
    "start_time": "2022-03-24T11:23:15.531Z"
   },
   {
    "duration": 165,
    "start_time": "2022-03-24T11:23:34.843Z"
   },
   {
    "duration": 1191,
    "start_time": "2022-03-24T11:23:48.149Z"
   },
   {
    "duration": 146,
    "start_time": "2022-03-24T11:24:01.261Z"
   },
   {
    "duration": 169,
    "start_time": "2022-03-24T11:30:56.160Z"
   },
   {
    "duration": 171,
    "start_time": "2022-03-24T11:31:28.513Z"
   },
   {
    "duration": 175,
    "start_time": "2022-03-24T11:32:26.197Z"
   },
   {
    "duration": 187,
    "start_time": "2022-03-24T11:32:46.777Z"
   },
   {
    "duration": 150,
    "start_time": "2022-03-24T11:32:51.882Z"
   },
   {
    "duration": 172,
    "start_time": "2022-03-24T11:34:33.001Z"
   },
   {
    "duration": 361,
    "start_time": "2022-03-24T11:34:52.043Z"
   },
   {
    "duration": 3,
    "start_time": "2022-03-24T11:35:00.169Z"
   },
   {
    "duration": 46,
    "start_time": "2022-03-24T11:35:00.174Z"
   },
   {
    "duration": 13,
    "start_time": "2022-03-24T11:35:00.222Z"
   },
   {
    "duration": 7,
    "start_time": "2022-03-24T11:35:00.434Z"
   },
   {
    "duration": 22,
    "start_time": "2022-03-24T11:35:00.621Z"
   },
   {
    "duration": 11,
    "start_time": "2022-03-24T11:35:00.994Z"
   },
   {
    "duration": 186,
    "start_time": "2022-03-24T11:35:01.385Z"
   },
   {
    "duration": 30,
    "start_time": "2022-03-24T11:35:01.768Z"
   },
   {
    "duration": 47,
    "start_time": "2022-03-24T11:35:02.114Z"
   },
   {
    "duration": 41,
    "start_time": "2022-03-24T11:35:02.659Z"
   },
   {
    "duration": 11,
    "start_time": "2022-03-24T11:35:02.845Z"
   },
   {
    "duration": 103,
    "start_time": "2022-03-24T11:35:03.188Z"
   },
   {
    "duration": 34,
    "start_time": "2022-03-24T11:35:03.572Z"
   },
   {
    "duration": 45,
    "start_time": "2022-03-24T11:35:03.952Z"
   },
   {
    "duration": 149,
    "start_time": "2022-03-24T11:35:04.536Z"
   },
   {
    "duration": 30,
    "start_time": "2022-03-24T11:35:04.890Z"
   },
   {
    "duration": 38,
    "start_time": "2022-03-24T11:35:05.259Z"
   },
   {
    "duration": 30,
    "start_time": "2022-03-24T11:35:05.802Z"
   },
   {
    "duration": 27,
    "start_time": "2022-03-24T11:35:06.237Z"
   },
   {
    "duration": 54,
    "start_time": "2022-03-24T11:35:07.857Z"
   },
   {
    "duration": 55,
    "start_time": "2022-03-24T11:35:08.229Z"
   },
   {
    "duration": 47,
    "start_time": "2022-03-24T11:35:08.567Z"
   },
   {
    "duration": 64,
    "start_time": "2022-03-24T11:35:09.914Z"
   },
   {
    "duration": 78,
    "start_time": "2022-03-24T11:35:12.421Z"
   },
   {
    "duration": 13,
    "start_time": "2022-03-24T11:35:13.481Z"
   },
   {
    "duration": 1535,
    "start_time": "2022-03-24T11:35:14.721Z"
   },
   {
    "duration": 15,
    "start_time": "2022-03-24T11:35:42.952Z"
   },
   {
    "duration": 294,
    "start_time": "2022-03-24T11:35:50.436Z"
   },
   {
    "duration": 0,
    "start_time": "2022-03-24T11:35:50.731Z"
   },
   {
    "duration": 333,
    "start_time": "2022-03-24T11:36:08.031Z"
   },
   {
    "duration": 8,
    "start_time": "2022-03-24T11:36:56.199Z"
   },
   {
    "duration": 5,
    "start_time": "2022-03-24T11:39:59.818Z"
   },
   {
    "duration": 15479,
    "start_time": "2022-03-24T11:40:05.735Z"
   },
   {
    "duration": 5,
    "start_time": "2022-03-24T11:40:45.999Z"
   },
   {
    "duration": 4346,
    "start_time": "2022-03-24T11:40:48.108Z"
   },
   {
    "duration": 4,
    "start_time": "2022-03-24T11:43:12.662Z"
   },
   {
    "duration": 8,
    "start_time": "2022-03-24T11:43:14.586Z"
   },
   {
    "duration": 7,
    "start_time": "2022-03-24T11:43:47.171Z"
   },
   {
    "duration": 7,
    "start_time": "2022-03-24T11:49:43.539Z"
   },
   {
    "duration": 10,
    "start_time": "2022-03-24T11:52:16.344Z"
   },
   {
    "duration": 10,
    "start_time": "2022-03-24T11:52:46.634Z"
   },
   {
    "duration": 10,
    "start_time": "2022-03-24T11:53:16.445Z"
   },
   {
    "duration": 4,
    "start_time": "2022-03-24T11:53:17.246Z"
   },
   {
    "duration": 4,
    "start_time": "2022-03-24T11:53:45.962Z"
   },
   {
    "duration": 9,
    "start_time": "2022-03-24T11:53:48.050Z"
   },
   {
    "duration": 4,
    "start_time": "2022-03-24T11:59:27.925Z"
   },
   {
    "duration": 8,
    "start_time": "2022-03-24T11:59:28.462Z"
   },
   {
    "duration": 11,
    "start_time": "2022-03-24T11:59:53.559Z"
   },
   {
    "duration": 5534,
    "start_time": "2022-03-24T12:00:21.608Z"
   },
   {
    "duration": 201,
    "start_time": "2022-03-24T12:01:08.278Z"
   },
   {
    "duration": 178,
    "start_time": "2022-03-24T12:01:30.422Z"
   },
   {
    "duration": 176,
    "start_time": "2022-03-24T12:01:35.657Z"
   },
   {
    "duration": 2926,
    "start_time": "2022-03-24T12:01:47.400Z"
   },
   {
    "duration": 5,
    "start_time": "2022-03-24T12:02:06.572Z"
   },
   {
    "duration": 1224,
    "start_time": "2022-03-24T12:02:12.550Z"
   },
   {
    "duration": 5250,
    "start_time": "2022-03-24T12:02:14.135Z"
   },
   {
    "duration": 4,
    "start_time": "2022-03-24T12:02:20.811Z"
   },
   {
    "duration": 2929,
    "start_time": "2022-03-24T12:02:26.575Z"
   },
   {
    "duration": 2863,
    "start_time": "2022-03-24T12:02:34.201Z"
   },
   {
    "duration": 4,
    "start_time": "2022-03-24T12:03:00.780Z"
   },
   {
    "duration": 14,
    "start_time": "2022-03-24T12:03:07.121Z"
   },
   {
    "duration": 8,
    "start_time": "2022-03-24T12:03:34.207Z"
   },
   {
    "duration": 12,
    "start_time": "2022-03-24T12:03:47.749Z"
   },
   {
    "duration": 10,
    "start_time": "2022-03-24T12:04:01.508Z"
   },
   {
    "duration": 11,
    "start_time": "2022-03-24T12:04:35.028Z"
   },
   {
    "duration": 10,
    "start_time": "2022-03-24T12:09:27.008Z"
   },
   {
    "duration": 4,
    "start_time": "2022-03-24T12:11:16.705Z"
   },
   {
    "duration": 44,
    "start_time": "2022-03-24T12:11:17.078Z"
   },
   {
    "duration": 13,
    "start_time": "2022-03-24T12:11:17.248Z"
   },
   {
    "duration": 6,
    "start_time": "2022-03-24T12:11:17.650Z"
   },
   {
    "duration": 18,
    "start_time": "2022-03-24T12:11:18.089Z"
   },
   {
    "duration": 11,
    "start_time": "2022-03-24T12:11:19.279Z"
   },
   {
    "duration": 165,
    "start_time": "2022-03-24T12:11:20.633Z"
   },
   {
    "duration": 28,
    "start_time": "2022-03-24T12:11:25.219Z"
   },
   {
    "duration": 43,
    "start_time": "2022-03-24T12:11:26.118Z"
   },
   {
    "duration": 33,
    "start_time": "2022-03-24T12:11:30.438Z"
   },
   {
    "duration": 12,
    "start_time": "2022-03-24T12:11:33.003Z"
   },
   {
    "duration": 96,
    "start_time": "2022-03-24T12:11:35.673Z"
   },
   {
    "duration": 31,
    "start_time": "2022-03-24T12:11:36.373Z"
   },
   {
    "duration": 31,
    "start_time": "2022-03-24T12:11:37.366Z"
   },
   {
    "duration": 138,
    "start_time": "2022-03-24T12:11:40.609Z"
   },
   {
    "duration": 27,
    "start_time": "2022-03-24T12:11:43.870Z"
   },
   {
    "duration": 37,
    "start_time": "2022-03-24T12:11:44.761Z"
   },
   {
    "duration": 28,
    "start_time": "2022-03-24T12:11:48.115Z"
   },
   {
    "duration": 27,
    "start_time": "2022-03-24T12:11:51.128Z"
   },
   {
    "duration": 3,
    "start_time": "2022-03-24T12:19:00.744Z"
   },
   {
    "duration": 4997,
    "start_time": "2022-03-24T12:20:22.827Z"
   },
   {
    "duration": 18,
    "start_time": "2022-03-24T12:21:34.924Z"
   },
   {
    "duration": 11,
    "start_time": "2022-03-24T12:22:19.948Z"
   },
   {
    "duration": 2954,
    "start_time": "2022-03-24T12:23:30.875Z"
   },
   {
    "duration": 4,
    "start_time": "2022-03-24T12:23:56.704Z"
   },
   {
    "duration": 2927,
    "start_time": "2022-03-24T12:24:02.351Z"
   },
   {
    "duration": 4,
    "start_time": "2022-03-24T12:24:22.143Z"
   },
   {
    "duration": 2849,
    "start_time": "2022-03-24T12:24:23.544Z"
   },
   {
    "duration": 15,
    "start_time": "2022-03-24T12:26:02.858Z"
   },
   {
    "duration": 4,
    "start_time": "2022-03-24T12:26:10.483Z"
   },
   {
    "duration": 14,
    "start_time": "2022-03-24T12:26:11.652Z"
   },
   {
    "duration": 13,
    "start_time": "2022-03-24T12:26:26.719Z"
   },
   {
    "duration": 4,
    "start_time": "2022-03-24T12:27:31.274Z"
   },
   {
    "duration": 13,
    "start_time": "2022-03-24T12:27:44.032Z"
   },
   {
    "duration": 11,
    "start_time": "2022-03-24T12:31:34.145Z"
   },
   {
    "duration": 4,
    "start_time": "2022-03-24T12:35:51.700Z"
   },
   {
    "duration": 68,
    "start_time": "2022-03-24T12:35:52.031Z"
   },
   {
    "duration": 14,
    "start_time": "2022-03-24T12:35:52.235Z"
   },
   {
    "duration": 9,
    "start_time": "2022-03-24T12:35:52.592Z"
   },
   {
    "duration": 23,
    "start_time": "2022-03-24T12:35:52.764Z"
   },
   {
    "duration": 12,
    "start_time": "2022-03-24T12:35:53.096Z"
   },
   {
    "duration": 160,
    "start_time": "2022-03-24T12:35:53.454Z"
   },
   {
    "duration": 28,
    "start_time": "2022-03-24T12:35:53.817Z"
   },
   {
    "duration": 45,
    "start_time": "2022-03-24T12:35:54.170Z"
   },
   {
    "duration": 32,
    "start_time": "2022-03-24T12:35:54.694Z"
   },
   {
    "duration": 11,
    "start_time": "2022-03-24T12:35:54.893Z"
   },
   {
    "duration": 101,
    "start_time": "2022-03-24T12:35:55.329Z"
   },
   {
    "duration": 31,
    "start_time": "2022-03-24T12:35:56.002Z"
   },
   {
    "duration": 35,
    "start_time": "2022-03-24T12:35:56.799Z"
   },
   {
    "duration": 144,
    "start_time": "2022-03-24T12:35:57.949Z"
   },
   {
    "duration": 38,
    "start_time": "2022-03-24T12:35:58.816Z"
   },
   {
    "duration": 47,
    "start_time": "2022-03-24T12:35:59.446Z"
   },
   {
    "duration": 30,
    "start_time": "2022-03-24T12:36:00.871Z"
   },
   {
    "duration": 27,
    "start_time": "2022-03-24T12:36:03.794Z"
   },
   {
    "duration": 51,
    "start_time": "2022-03-24T12:36:14.868Z"
   },
   {
    "duration": 9,
    "start_time": "2022-03-24T12:39:18.012Z"
   },
   {
    "duration": 7,
    "start_time": "2022-03-24T12:39:27.588Z"
   },
   {
    "duration": 11,
    "start_time": "2022-03-24T12:39:59.968Z"
   },
   {
    "duration": 6,
    "start_time": "2022-03-24T12:40:04.882Z"
   },
   {
    "duration": 25,
    "start_time": "2022-03-24T12:40:16.941Z"
   },
   {
    "duration": 26,
    "start_time": "2022-03-24T12:41:09.070Z"
   },
   {
    "duration": 196,
    "start_time": "2022-03-24T12:42:01.569Z"
   },
   {
    "duration": 12,
    "start_time": "2022-03-24T12:42:12.377Z"
   },
   {
    "duration": 26,
    "start_time": "2022-03-24T12:42:57.547Z"
   },
   {
    "duration": 9,
    "start_time": "2022-03-24T12:44:18.086Z"
   },
   {
    "duration": 12,
    "start_time": "2022-03-24T12:45:17.867Z"
   },
   {
    "duration": 11,
    "start_time": "2022-03-24T12:45:34.334Z"
   },
   {
    "duration": 10,
    "start_time": "2022-03-24T12:46:49.993Z"
   },
   {
    "duration": 3,
    "start_time": "2022-03-24T12:46:54.410Z"
   },
   {
    "duration": 43,
    "start_time": "2022-03-24T12:46:54.751Z"
   },
   {
    "duration": 13,
    "start_time": "2022-03-24T12:46:54.918Z"
   },
   {
    "duration": 6,
    "start_time": "2022-03-24T12:46:55.291Z"
   },
   {
    "duration": 18,
    "start_time": "2022-03-24T12:46:55.499Z"
   },
   {
    "duration": 10,
    "start_time": "2022-03-24T12:46:55.827Z"
   },
   {
    "duration": 223,
    "start_time": "2022-03-24T12:46:56.180Z"
   },
   {
    "duration": 29,
    "start_time": "2022-03-24T12:46:56.546Z"
   },
   {
    "duration": 45,
    "start_time": "2022-03-24T12:46:56.901Z"
   },
   {
    "duration": 32,
    "start_time": "2022-03-24T12:46:57.435Z"
   },
   {
    "duration": 12,
    "start_time": "2022-03-24T12:46:57.610Z"
   },
   {
    "duration": 105,
    "start_time": "2022-03-24T12:46:57.969Z"
   },
   {
    "duration": 30,
    "start_time": "2022-03-24T12:46:58.307Z"
   },
   {
    "duration": 31,
    "start_time": "2022-03-24T12:46:58.662Z"
   },
   {
    "duration": 138,
    "start_time": "2022-03-24T12:46:59.261Z"
   },
   {
    "duration": 29,
    "start_time": "2022-03-24T12:46:59.654Z"
   },
   {
    "duration": 36,
    "start_time": "2022-03-24T12:47:01.501Z"
   },
   {
    "duration": 29,
    "start_time": "2022-03-24T12:47:02.307Z"
   },
   {
    "duration": 32,
    "start_time": "2022-03-24T12:47:02.910Z"
   },
   {
    "duration": 65,
    "start_time": "2022-03-24T12:47:06.310Z"
   },
   {
    "duration": 8,
    "start_time": "2022-03-24T12:47:06.902Z"
   },
   {
    "duration": 13,
    "start_time": "2022-03-24T12:47:09.449Z"
   },
   {
    "duration": 32,
    "start_time": "2022-03-24T12:47:21.873Z"
   },
   {
    "duration": 37,
    "start_time": "2022-03-24T12:48:40.974Z"
   },
   {
    "duration": 33,
    "start_time": "2022-03-24T12:48:45.064Z"
   },
   {
    "duration": 39,
    "start_time": "2022-03-24T12:49:19.069Z"
   },
   {
    "duration": 67,
    "start_time": "2022-03-24T12:49:28.563Z"
   },
   {
    "duration": 28,
    "start_time": "2022-03-24T12:50:26.715Z"
   },
   {
    "duration": 20,
    "start_time": "2022-03-24T12:52:24.211Z"
   },
   {
    "duration": 48,
    "start_time": "2022-03-24T12:53:10.134Z"
   },
   {
    "duration": 20,
    "start_time": "2022-03-24T12:53:42.630Z"
   },
   {
    "duration": 31,
    "start_time": "2022-03-24T12:54:40.223Z"
   },
   {
    "duration": 48,
    "start_time": "2022-03-24T12:54:45.226Z"
   },
   {
    "duration": 18,
    "start_time": "2022-03-24T12:56:51.897Z"
   },
   {
    "duration": 19,
    "start_time": "2022-03-24T12:57:13.149Z"
   },
   {
    "duration": 19,
    "start_time": "2022-03-24T12:57:18.480Z"
   },
   {
    "duration": 8,
    "start_time": "2022-03-24T12:58:07.523Z"
   },
   {
    "duration": 40,
    "start_time": "2022-03-24T13:03:02.522Z"
   },
   {
    "duration": 3,
    "start_time": "2022-03-24T13:03:28.855Z"
   },
   {
    "duration": 73,
    "start_time": "2022-03-24T13:03:28.914Z"
   },
   {
    "duration": 12,
    "start_time": "2022-03-24T13:03:28.989Z"
   },
   {
    "duration": 5,
    "start_time": "2022-03-24T13:03:29.005Z"
   },
   {
    "duration": 18,
    "start_time": "2022-03-24T13:03:29.038Z"
   },
   {
    "duration": 11,
    "start_time": "2022-03-24T13:03:29.103Z"
   },
   {
    "duration": 720,
    "start_time": "2022-03-24T13:03:29.175Z"
   },
   {
    "duration": 32,
    "start_time": "2022-03-24T13:03:29.896Z"
   },
   {
    "duration": 44,
    "start_time": "2022-03-24T13:03:30.284Z"
   },
   {
    "duration": 39,
    "start_time": "2022-03-24T13:03:30.793Z"
   },
   {
    "duration": 11,
    "start_time": "2022-03-24T13:03:30.956Z"
   },
   {
    "duration": 441,
    "start_time": "2022-03-24T13:03:31.274Z"
   },
   {
    "duration": 33,
    "start_time": "2022-03-24T13:03:31.717Z"
   },
   {
    "duration": 32,
    "start_time": "2022-03-24T13:03:31.948Z"
   },
   {
    "duration": 2318,
    "start_time": "2022-03-24T13:03:32.454Z"
   },
   {
    "duration": 32,
    "start_time": "2022-03-24T13:03:34.774Z"
   },
   {
    "duration": 42,
    "start_time": "2022-03-24T13:03:34.808Z"
   },
   {
    "duration": 57,
    "start_time": "2022-03-24T13:03:34.852Z"
   },
   {
    "duration": 351,
    "start_time": "2022-03-24T13:03:34.911Z"
   },
   {
    "duration": 51,
    "start_time": "2022-03-24T13:03:39.614Z"
   },
   {
    "duration": 7,
    "start_time": "2022-03-24T13:03:43.387Z"
   },
   {
    "duration": 13,
    "start_time": "2022-03-24T13:03:44.518Z"
   },
   {
    "duration": 37,
    "start_time": "2022-03-24T13:04:22.664Z"
   },
   {
    "duration": 7,
    "start_time": "2022-03-24T13:07:22.560Z"
   },
   {
    "duration": 5,
    "start_time": "2022-03-24T13:07:31.551Z"
   },
   {
    "duration": 6,
    "start_time": "2022-03-24T13:07:45.805Z"
   },
   {
    "duration": 52,
    "start_time": "2022-03-24T13:08:47.589Z"
   },
   {
    "duration": 53,
    "start_time": "2022-03-24T13:09:01.161Z"
   },
   {
    "duration": 47,
    "start_time": "2022-03-24T13:09:05.166Z"
   },
   {
    "duration": 71,
    "start_time": "2022-03-24T13:09:07.824Z"
   },
   {
    "duration": 2957,
    "start_time": "2022-03-24T13:09:15.239Z"
   },
   {
    "duration": 3,
    "start_time": "2022-03-24T13:09:51.130Z"
   },
   {
    "duration": 40,
    "start_time": "2022-03-24T13:09:51.191Z"
   },
   {
    "duration": 12,
    "start_time": "2022-03-24T13:09:51.233Z"
   },
   {
    "duration": 6,
    "start_time": "2022-03-24T13:09:51.280Z"
   },
   {
    "duration": 18,
    "start_time": "2022-03-24T13:09:51.311Z"
   },
   {
    "duration": 11,
    "start_time": "2022-03-24T13:09:51.372Z"
   },
   {
    "duration": 188,
    "start_time": "2022-03-24T13:09:51.443Z"
   },
   {
    "duration": 47,
    "start_time": "2022-03-24T13:09:51.633Z"
   },
   {
    "duration": 56,
    "start_time": "2022-03-24T13:09:51.682Z"
   },
   {
    "duration": 32,
    "start_time": "2022-03-24T13:09:51.740Z"
   },
   {
    "duration": 34,
    "start_time": "2022-03-24T13:09:51.773Z"
   },
   {
    "duration": 104,
    "start_time": "2022-03-24T13:09:52.405Z"
   },
   {
    "duration": 32,
    "start_time": "2022-03-24T13:09:53.154Z"
   },
   {
    "duration": 33,
    "start_time": "2022-03-24T13:09:53.500Z"
   },
   {
    "duration": 144,
    "start_time": "2022-03-24T13:09:55.604Z"
   },
   {
    "duration": 27,
    "start_time": "2022-03-24T13:09:56.369Z"
   },
   {
    "duration": 36,
    "start_time": "2022-03-24T13:09:57.091Z"
   },
   {
    "duration": 27,
    "start_time": "2022-03-24T13:09:59.377Z"
   },
   {
    "duration": 26,
    "start_time": "2022-03-24T13:10:02.049Z"
   },
   {
    "duration": 50,
    "start_time": "2022-03-24T13:10:07.269Z"
   },
   {
    "duration": 54,
    "start_time": "2022-03-24T13:10:10.189Z"
   },
   {
    "duration": 49,
    "start_time": "2022-03-24T13:10:11.893Z"
   },
   {
    "duration": 56,
    "start_time": "2022-03-24T13:10:23.889Z"
   },
   {
    "duration": 69,
    "start_time": "2022-03-24T13:10:28.505Z"
   },
   {
    "duration": 13,
    "start_time": "2022-03-24T13:13:06.895Z"
   },
   {
    "duration": 9,
    "start_time": "2022-03-24T13:15:46.973Z"
   },
   {
    "duration": 9,
    "start_time": "2022-03-24T13:15:51.375Z"
   },
   {
    "duration": 8,
    "start_time": "2022-03-24T13:15:59.013Z"
   },
   {
    "duration": 9,
    "start_time": "2022-03-24T13:17:25.158Z"
   },
   {
    "duration": 11,
    "start_time": "2022-03-24T13:17:59.989Z"
   },
   {
    "duration": 10,
    "start_time": "2022-03-24T13:18:23.888Z"
   },
   {
    "duration": 3,
    "start_time": "2022-03-24T13:18:29.259Z"
   },
   {
    "duration": 51,
    "start_time": "2022-03-24T13:18:29.936Z"
   },
   {
    "duration": 12,
    "start_time": "2022-03-24T13:18:29.990Z"
   },
   {
    "duration": 5,
    "start_time": "2022-03-24T13:18:30.026Z"
   },
   {
    "duration": 17,
    "start_time": "2022-03-24T13:18:30.062Z"
   },
   {
    "duration": 11,
    "start_time": "2022-03-24T13:18:30.116Z"
   },
   {
    "duration": 163,
    "start_time": "2022-03-24T13:18:30.184Z"
   },
   {
    "duration": 31,
    "start_time": "2022-03-24T13:18:30.349Z"
   },
   {
    "duration": 56,
    "start_time": "2022-03-24T13:18:30.382Z"
   },
   {
    "duration": 35,
    "start_time": "2022-03-24T13:18:31.086Z"
   },
   {
    "duration": 10,
    "start_time": "2022-03-24T13:18:31.278Z"
   },
   {
    "duration": 103,
    "start_time": "2022-03-24T13:18:31.579Z"
   },
   {
    "duration": 31,
    "start_time": "2022-03-24T13:18:31.968Z"
   },
   {
    "duration": 32,
    "start_time": "2022-03-24T13:18:32.310Z"
   },
   {
    "duration": 143,
    "start_time": "2022-03-24T13:18:32.830Z"
   },
   {
    "duration": 27,
    "start_time": "2022-03-24T13:18:33.248Z"
   },
   {
    "duration": 35,
    "start_time": "2022-03-24T13:18:33.598Z"
   },
   {
    "duration": 29,
    "start_time": "2022-03-24T13:18:34.172Z"
   },
   {
    "duration": 27,
    "start_time": "2022-03-24T13:18:34.536Z"
   },
   {
    "duration": 48,
    "start_time": "2022-03-24T13:18:37.400Z"
   },
   {
    "duration": 50,
    "start_time": "2022-03-24T13:18:40.316Z"
   },
   {
    "duration": 47,
    "start_time": "2022-03-24T13:18:40.804Z"
   },
   {
    "duration": 61,
    "start_time": "2022-03-24T13:18:41.793Z"
   },
   {
    "duration": 74,
    "start_time": "2022-03-24T13:18:43.408Z"
   },
   {
    "duration": 13,
    "start_time": "2022-03-24T13:18:46.669Z"
   },
   {
    "duration": 9,
    "start_time": "2022-03-24T13:18:47.215Z"
   },
   {
    "duration": 5,
    "start_time": "2022-03-24T13:18:59.977Z"
   },
   {
    "duration": 8,
    "start_time": "2022-03-24T13:22:56.714Z"
   },
   {
    "duration": 10,
    "start_time": "2022-03-24T13:26:42.642Z"
   },
   {
    "duration": 9,
    "start_time": "2022-03-24T13:27:04.981Z"
   },
   {
    "duration": 9,
    "start_time": "2022-03-24T13:27:16.364Z"
   },
   {
    "duration": 3,
    "start_time": "2022-03-24T13:27:22.306Z"
   },
   {
    "duration": 41,
    "start_time": "2022-03-24T13:27:22.365Z"
   },
   {
    "duration": 13,
    "start_time": "2022-03-24T13:27:22.408Z"
   },
   {
    "duration": 6,
    "start_time": "2022-03-24T13:27:22.476Z"
   },
   {
    "duration": 18,
    "start_time": "2022-03-24T13:27:22.502Z"
   },
   {
    "duration": 11,
    "start_time": "2022-03-24T13:27:22.558Z"
   },
   {
    "duration": 173,
    "start_time": "2022-03-24T13:27:22.620Z"
   },
   {
    "duration": 32,
    "start_time": "2022-03-24T13:27:22.796Z"
   },
   {
    "duration": 48,
    "start_time": "2022-03-24T13:27:22.830Z"
   },
   {
    "duration": 41,
    "start_time": "2022-03-24T13:27:22.901Z"
   },
   {
    "duration": 13,
    "start_time": "2022-03-24T13:27:22.944Z"
   },
   {
    "duration": 147,
    "start_time": "2022-03-24T13:27:22.960Z"
   },
   {
    "duration": 52,
    "start_time": "2022-03-24T13:27:23.110Z"
   },
   {
    "duration": 58,
    "start_time": "2022-03-24T13:27:23.164Z"
   },
   {
    "duration": 160,
    "start_time": "2022-03-24T13:27:23.970Z"
   },
   {
    "duration": 30,
    "start_time": "2022-03-24T13:27:24.133Z"
   },
   {
    "duration": 63,
    "start_time": "2022-03-24T13:27:24.165Z"
   },
   {
    "duration": 30,
    "start_time": "2022-03-24T13:27:24.230Z"
   },
   {
    "duration": 40,
    "start_time": "2022-03-24T13:27:24.262Z"
   },
   {
    "duration": 57,
    "start_time": "2022-03-24T13:27:25.598Z"
   },
   {
    "duration": 78,
    "start_time": "2022-03-24T13:27:25.861Z"
   },
   {
    "duration": 71,
    "start_time": "2022-03-24T13:27:26.037Z"
   },
   {
    "duration": 98,
    "start_time": "2022-03-24T13:27:26.386Z"
   },
   {
    "duration": 72,
    "start_time": "2022-03-24T13:27:26.759Z"
   },
   {
    "duration": 13,
    "start_time": "2022-03-24T13:27:26.931Z"
   },
   {
    "duration": 9,
    "start_time": "2022-03-24T13:27:27.127Z"
   },
   {
    "duration": 11,
    "start_time": "2022-03-24T13:40:10.162Z"
   },
   {
    "duration": 12,
    "start_time": "2022-03-24T13:40:54.703Z"
   },
   {
    "duration": 10,
    "start_time": "2022-03-24T13:41:51.989Z"
   },
   {
    "duration": 11,
    "start_time": "2022-03-24T13:42:22.860Z"
   },
   {
    "duration": 7,
    "start_time": "2022-03-24T13:49:18.993Z"
   },
   {
    "duration": 9,
    "start_time": "2022-03-24T13:50:39.561Z"
   },
   {
    "duration": 5,
    "start_time": "2022-03-24T13:50:50.296Z"
   },
   {
    "duration": 59,
    "start_time": "2022-03-24T13:52:43.307Z"
   },
   {
    "duration": 64,
    "start_time": "2022-03-24T13:53:33.872Z"
   },
   {
    "duration": 3,
    "start_time": "2022-03-24T13:55:36.276Z"
   },
   {
    "duration": 33,
    "start_time": "2022-03-24T13:55:36.337Z"
   },
   {
    "duration": 11,
    "start_time": "2022-03-24T13:55:36.374Z"
   },
   {
    "duration": 6,
    "start_time": "2022-03-24T13:55:36.435Z"
   },
   {
    "duration": 17,
    "start_time": "2022-03-24T13:55:36.462Z"
   },
   {
    "duration": 11,
    "start_time": "2022-03-24T13:55:36.522Z"
   },
   {
    "duration": 171,
    "start_time": "2022-03-24T13:55:36.591Z"
   },
   {
    "duration": 37,
    "start_time": "2022-03-24T13:55:36.764Z"
   },
   {
    "duration": 44,
    "start_time": "2022-03-24T13:55:36.803Z"
   },
   {
    "duration": 54,
    "start_time": "2022-03-24T13:55:36.849Z"
   },
   {
    "duration": 11,
    "start_time": "2022-03-24T13:55:36.904Z"
   },
   {
    "duration": 109,
    "start_time": "2022-03-24T13:55:36.917Z"
   },
   {
    "duration": 33,
    "start_time": "2022-03-24T13:55:37.028Z"
   },
   {
    "duration": 63,
    "start_time": "2022-03-24T13:55:37.063Z"
   },
   {
    "duration": 166,
    "start_time": "2022-03-24T13:55:37.128Z"
   },
   {
    "duration": 30,
    "start_time": "2022-03-24T13:55:37.302Z"
   },
   {
    "duration": 42,
    "start_time": "2022-03-24T13:55:37.335Z"
   },
   {
    "duration": 48,
    "start_time": "2022-03-24T13:55:37.379Z"
   },
   {
    "duration": 27,
    "start_time": "2022-03-24T13:55:37.429Z"
   },
   {
    "duration": 49,
    "start_time": "2022-03-24T13:55:37.567Z"
   },
   {
    "duration": 49,
    "start_time": "2022-03-24T13:55:37.618Z"
   },
   {
    "duration": 63,
    "start_time": "2022-03-24T13:55:37.669Z"
   },
   {
    "duration": 56,
    "start_time": "2022-03-24T13:55:39.943Z"
   },
   {
    "duration": 88,
    "start_time": "2022-03-24T13:55:40.438Z"
   },
   {
    "duration": 11,
    "start_time": "2022-03-24T13:55:40.628Z"
   },
   {
    "duration": 7,
    "start_time": "2022-03-24T13:55:45.091Z"
   },
   {
    "duration": 60,
    "start_time": "2022-03-24T13:55:58.523Z"
   },
   {
    "duration": 6,
    "start_time": "2022-03-24T13:56:17.998Z"
   },
   {
    "duration": 55,
    "start_time": "2022-03-24T13:56:23.564Z"
   },
   {
    "duration": 3,
    "start_time": "2022-03-24T13:56:38.096Z"
   },
   {
    "duration": 35,
    "start_time": "2022-03-24T13:56:38.155Z"
   },
   {
    "duration": 12,
    "start_time": "2022-03-24T13:56:38.192Z"
   },
   {
    "duration": 5,
    "start_time": "2022-03-24T13:56:38.257Z"
   },
   {
    "duration": 19,
    "start_time": "2022-03-24T13:56:38.293Z"
   },
   {
    "duration": 10,
    "start_time": "2022-03-24T13:56:38.347Z"
   },
   {
    "duration": 159,
    "start_time": "2022-03-24T13:56:38.410Z"
   },
   {
    "duration": 39,
    "start_time": "2022-03-24T13:56:38.571Z"
   },
   {
    "duration": 43,
    "start_time": "2022-03-24T13:56:38.612Z"
   },
   {
    "duration": 54,
    "start_time": "2022-03-24T13:56:38.657Z"
   },
   {
    "duration": 10,
    "start_time": "2022-03-24T13:56:38.713Z"
   },
   {
    "duration": 103,
    "start_time": "2022-03-24T13:56:38.725Z"
   },
   {
    "duration": 35,
    "start_time": "2022-03-24T13:56:38.831Z"
   },
   {
    "duration": 50,
    "start_time": "2022-03-24T13:56:38.868Z"
   },
   {
    "duration": 138,
    "start_time": "2022-03-24T13:56:38.947Z"
   },
   {
    "duration": 28,
    "start_time": "2022-03-24T13:56:39.087Z"
   },
   {
    "duration": 34,
    "start_time": "2022-03-24T13:56:39.117Z"
   },
   {
    "duration": 37,
    "start_time": "2022-03-24T13:56:39.165Z"
   },
   {
    "duration": 38,
    "start_time": "2022-03-24T13:56:41.718Z"
   },
   {
    "duration": 50,
    "start_time": "2022-03-24T13:56:42.795Z"
   },
   {
    "duration": 49,
    "start_time": "2022-03-24T13:56:42.977Z"
   },
   {
    "duration": 49,
    "start_time": "2022-03-24T13:56:43.168Z"
   },
   {
    "duration": 60,
    "start_time": "2022-03-24T13:56:43.553Z"
   },
   {
    "duration": 70,
    "start_time": "2022-03-24T13:56:44.340Z"
   },
   {
    "duration": 56,
    "start_time": "2022-03-24T13:56:45.525Z"
   },
   {
    "duration": 3069,
    "start_time": "2022-03-24T14:02:04.029Z"
   },
   {
    "duration": 3063,
    "start_time": "2022-03-24T14:03:11.650Z"
   },
   {
    "duration": 3,
    "start_time": "2022-03-25T03:48:31.272Z"
   },
   {
    "duration": 44,
    "start_time": "2022-03-25T03:48:31.335Z"
   },
   {
    "duration": 12,
    "start_time": "2022-03-25T03:48:31.382Z"
   },
   {
    "duration": 7,
    "start_time": "2022-03-25T03:48:31.455Z"
   },
   {
    "duration": 20,
    "start_time": "2022-03-25T03:48:31.475Z"
   },
   {
    "duration": 11,
    "start_time": "2022-03-25T03:48:31.535Z"
   },
   {
    "duration": 172,
    "start_time": "2022-03-25T03:48:31.600Z"
   },
   {
    "duration": 40,
    "start_time": "2022-03-25T03:48:31.775Z"
   },
   {
    "duration": 47,
    "start_time": "2022-03-25T03:48:31.817Z"
   },
   {
    "duration": 60,
    "start_time": "2022-03-25T03:48:31.867Z"
   },
   {
    "duration": 11,
    "start_time": "2022-03-25T03:48:31.930Z"
   },
   {
    "duration": 118,
    "start_time": "2022-03-25T03:48:31.943Z"
   },
   {
    "duration": 42,
    "start_time": "2022-03-25T03:48:32.064Z"
   },
   {
    "duration": 35,
    "start_time": "2022-03-25T03:48:32.108Z"
   },
   {
    "duration": 165,
    "start_time": "2022-03-25T03:48:32.160Z"
   },
   {
    "duration": 31,
    "start_time": "2022-03-25T03:48:32.967Z"
   },
   {
    "duration": 39,
    "start_time": "2022-03-25T03:48:33.501Z"
   },
   {
    "duration": 32,
    "start_time": "2022-03-25T03:48:33.603Z"
   },
   {
    "duration": 26,
    "start_time": "2022-03-25T03:48:33.668Z"
   },
   {
    "duration": 55,
    "start_time": "2022-03-25T03:48:33.866Z"
   },
   {
    "duration": 52,
    "start_time": "2022-03-25T03:48:33.923Z"
   },
   {
    "duration": 64,
    "start_time": "2022-03-25T03:48:33.978Z"
   },
   {
    "duration": 73,
    "start_time": "2022-03-25T03:48:34.044Z"
   },
   {
    "duration": 144,
    "start_time": "2022-03-25T03:48:34.119Z"
   },
   {
    "duration": 72,
    "start_time": "2022-03-25T03:48:34.265Z"
   },
   {
    "duration": 12,
    "start_time": "2022-03-25T03:55:11.889Z"
   },
   {
    "duration": 11,
    "start_time": "2022-03-25T03:55:17.950Z"
   },
   {
    "duration": 2823,
    "start_time": "2022-03-25T03:56:48.874Z"
   },
   {
    "duration": 6,
    "start_time": "2022-03-25T03:57:00.441Z"
   },
   {
    "duration": 6,
    "start_time": "2022-03-25T03:57:04.346Z"
   },
   {
    "duration": 6,
    "start_time": "2022-03-25T03:57:07.177Z"
   },
   {
    "duration": 6,
    "start_time": "2022-03-25T03:57:10.185Z"
   },
   {
    "duration": 7,
    "start_time": "2022-03-25T03:57:12.825Z"
   },
   {
    "duration": 7,
    "start_time": "2022-03-25T03:57:15.635Z"
   },
   {
    "duration": 6,
    "start_time": "2022-03-25T03:57:23.082Z"
   },
   {
    "duration": 7,
    "start_time": "2022-03-25T03:57:26.634Z"
   },
   {
    "duration": 5,
    "start_time": "2022-03-25T03:57:29.794Z"
   },
   {
    "duration": 7,
    "start_time": "2022-03-25T03:57:32.345Z"
   },
   {
    "duration": 7,
    "start_time": "2022-03-25T03:57:45.858Z"
   },
   {
    "duration": 7,
    "start_time": "2022-03-25T03:57:49.481Z"
   },
   {
    "duration": 6,
    "start_time": "2022-03-25T03:58:36.393Z"
   },
   {
    "duration": 7,
    "start_time": "2022-03-25T03:58:39.690Z"
   },
   {
    "duration": 9,
    "start_time": "2022-03-25T03:58:48.883Z"
   },
   {
    "duration": 10,
    "start_time": "2022-03-25T03:59:03.233Z"
   },
   {
    "duration": 8,
    "start_time": "2022-03-25T03:59:42.505Z"
   },
   {
    "duration": 8,
    "start_time": "2022-03-25T03:59:51.737Z"
   },
   {
    "duration": 7,
    "start_time": "2022-03-25T03:59:54.946Z"
   },
   {
    "duration": 7,
    "start_time": "2022-03-25T04:00:01.402Z"
   },
   {
    "duration": 7,
    "start_time": "2022-03-25T04:00:08.106Z"
   },
   {
    "duration": 7,
    "start_time": "2022-03-25T04:00:18.092Z"
   },
   {
    "duration": 7,
    "start_time": "2022-03-25T04:00:48.034Z"
   },
   {
    "duration": 8,
    "start_time": "2022-03-25T04:00:51.464Z"
   },
   {
    "duration": 7,
    "start_time": "2022-03-25T04:00:54.490Z"
   },
   {
    "duration": 8,
    "start_time": "2022-03-25T04:00:56.714Z"
   },
   {
    "duration": 9,
    "start_time": "2022-03-25T04:00:58.818Z"
   },
   {
    "duration": 8,
    "start_time": "2022-03-25T04:01:01.019Z"
   },
   {
    "duration": 9,
    "start_time": "2022-03-25T04:01:03.082Z"
   },
   {
    "duration": 9,
    "start_time": "2022-03-25T04:01:05.210Z"
   },
   {
    "duration": 10,
    "start_time": "2022-03-25T04:01:07.337Z"
   },
   {
    "duration": 8,
    "start_time": "2022-03-25T04:01:09.490Z"
   },
   {
    "duration": 8,
    "start_time": "2022-03-25T04:01:12.578Z"
   },
   {
    "duration": 8,
    "start_time": "2022-03-25T04:01:14.779Z"
   },
   {
    "duration": 8,
    "start_time": "2022-03-25T04:01:16.970Z"
   },
   {
    "duration": 8,
    "start_time": "2022-03-25T04:01:21.105Z"
   },
   {
    "duration": 7,
    "start_time": "2022-03-25T04:01:24.209Z"
   },
   {
    "duration": 7,
    "start_time": "2022-03-25T04:01:26.770Z"
   },
   {
    "duration": 8,
    "start_time": "2022-03-25T04:01:28.915Z"
   },
   {
    "duration": 7,
    "start_time": "2022-03-25T04:01:31.011Z"
   },
   {
    "duration": 7,
    "start_time": "2022-03-25T04:01:33.123Z"
   },
   {
    "duration": 8,
    "start_time": "2022-03-25T04:01:35.282Z"
   },
   {
    "duration": 8,
    "start_time": "2022-03-25T04:01:37.226Z"
   },
   {
    "duration": 7,
    "start_time": "2022-03-25T04:01:39.178Z"
   },
   {
    "duration": 7,
    "start_time": "2022-03-25T04:01:41.298Z"
   },
   {
    "duration": 8,
    "start_time": "2022-03-25T04:01:43.650Z"
   },
   {
    "duration": 7,
    "start_time": "2022-03-25T04:01:46.378Z"
   },
   {
    "duration": 7,
    "start_time": "2022-03-25T04:01:48.578Z"
   },
   {
    "duration": 7,
    "start_time": "2022-03-25T04:01:54.994Z"
   },
   {
    "duration": 7,
    "start_time": "2022-03-25T04:01:58.202Z"
   },
   {
    "duration": 8,
    "start_time": "2022-03-25T04:02:00.691Z"
   },
   {
    "duration": 8,
    "start_time": "2022-03-25T04:02:03.562Z"
   },
   {
    "duration": 7,
    "start_time": "2022-03-25T04:02:05.554Z"
   },
   {
    "duration": 7,
    "start_time": "2022-03-25T04:02:07.490Z"
   },
   {
    "duration": 8,
    "start_time": "2022-03-25T04:02:09.490Z"
   },
   {
    "duration": 8,
    "start_time": "2022-03-25T04:02:11.786Z"
   },
   {
    "duration": 7,
    "start_time": "2022-03-25T04:02:13.843Z"
   },
   {
    "duration": 7,
    "start_time": "2022-03-25T04:02:15.883Z"
   },
   {
    "duration": 9,
    "start_time": "2022-03-25T04:02:18.099Z"
   },
   {
    "duration": 9,
    "start_time": "2022-03-25T04:02:22.122Z"
   },
   {
    "duration": 7,
    "start_time": "2022-03-25T04:02:24.211Z"
   },
   {
    "duration": 68,
    "start_time": "2022-03-25T04:12:21.659Z"
   },
   {
    "duration": 59,
    "start_time": "2022-03-25T04:12:30.708Z"
   },
   {
    "duration": 67,
    "start_time": "2022-03-25T04:13:06.644Z"
   },
   {
    "duration": 69,
    "start_time": "2022-03-25T04:13:13.179Z"
   },
   {
    "duration": 65,
    "start_time": "2022-03-25T04:13:20.180Z"
   },
   {
    "duration": 63,
    "start_time": "2022-03-25T04:13:24.475Z"
   },
   {
    "duration": 65,
    "start_time": "2022-03-25T04:13:30.260Z"
   },
   {
    "duration": 63,
    "start_time": "2022-03-25T04:13:35.140Z"
   },
   {
    "duration": 61,
    "start_time": "2022-03-25T04:13:39.060Z"
   },
   {
    "duration": 63,
    "start_time": "2022-03-25T04:13:44.652Z"
   },
   {
    "duration": 68,
    "start_time": "2022-03-25T04:13:51.516Z"
   },
   {
    "duration": 64,
    "start_time": "2022-03-25T04:13:55.429Z"
   },
   {
    "duration": 63,
    "start_time": "2022-03-25T04:14:01.605Z"
   },
   {
    "duration": 68,
    "start_time": "2022-03-25T04:14:10.476Z"
   },
   {
    "duration": 55,
    "start_time": "2022-03-25T04:14:42.620Z"
   },
   {
    "duration": 52,
    "start_time": "2022-03-25T04:14:47.564Z"
   },
   {
    "duration": 62,
    "start_time": "2022-03-25T04:17:04.388Z"
   },
   {
    "duration": 65,
    "start_time": "2022-03-25T04:17:28.356Z"
   },
   {
    "duration": 155,
    "start_time": "2022-03-25T04:18:27.077Z"
   },
   {
    "duration": 55,
    "start_time": "2022-03-25T04:21:30.317Z"
   },
   {
    "duration": 70,
    "start_time": "2022-03-25T04:26:11.814Z"
   },
   {
    "duration": 63,
    "start_time": "2022-03-25T04:28:29.228Z"
   },
   {
    "duration": 62,
    "start_time": "2022-03-25T04:29:20.621Z"
   },
   {
    "duration": 61,
    "start_time": "2022-03-25T04:33:02.388Z"
   },
   {
    "duration": 61,
    "start_time": "2022-03-25T04:33:28.630Z"
   },
   {
    "duration": 58,
    "start_time": "2022-03-25T04:33:33.981Z"
   },
   {
    "duration": 60,
    "start_time": "2022-03-25T04:34:00.069Z"
   },
   {
    "duration": 824,
    "start_time": "2022-03-25T04:35:31.572Z"
   },
   {
    "duration": 80,
    "start_time": "2022-03-25T04:35:43.595Z"
   },
   {
    "duration": 57,
    "start_time": "2022-03-25T04:36:41.605Z"
   },
   {
    "duration": 70,
    "start_time": "2022-03-25T04:36:52.092Z"
   },
   {
    "duration": 61,
    "start_time": "2022-03-25T04:37:27.901Z"
   },
   {
    "duration": 61,
    "start_time": "2022-03-25T04:38:11.925Z"
   },
   {
    "duration": 58,
    "start_time": "2022-03-25T04:39:27.397Z"
   },
   {
    "duration": 4,
    "start_time": "2022-03-25T04:39:46.636Z"
   },
   {
    "duration": 45,
    "start_time": "2022-03-25T04:39:47.051Z"
   },
   {
    "duration": 12,
    "start_time": "2022-03-25T04:39:47.228Z"
   },
   {
    "duration": 7,
    "start_time": "2022-03-25T04:39:47.587Z"
   },
   {
    "duration": 18,
    "start_time": "2022-03-25T04:39:47.772Z"
   },
   {
    "duration": 11,
    "start_time": "2022-03-25T04:39:48.132Z"
   },
   {
    "duration": 176,
    "start_time": "2022-03-25T04:39:48.779Z"
   },
   {
    "duration": 32,
    "start_time": "2022-03-25T04:39:49.211Z"
   },
   {
    "duration": 45,
    "start_time": "2022-03-25T04:39:49.555Z"
   },
   {
    "duration": 42,
    "start_time": "2022-03-25T04:39:50.131Z"
   },
   {
    "duration": 11,
    "start_time": "2022-03-25T04:39:50.332Z"
   },
   {
    "duration": 115,
    "start_time": "2022-03-25T04:39:51.060Z"
   },
   {
    "duration": 34,
    "start_time": "2022-03-25T04:39:51.723Z"
   },
   {
    "duration": 33,
    "start_time": "2022-03-25T04:39:52.092Z"
   },
   {
    "duration": 167,
    "start_time": "2022-03-25T04:39:53.220Z"
   },
   {
    "duration": 31,
    "start_time": "2022-03-25T04:39:53.995Z"
   },
   {
    "duration": 42,
    "start_time": "2022-03-25T04:39:54.691Z"
   },
   {
    "duration": 33,
    "start_time": "2022-03-25T04:39:55.963Z"
   },
   {
    "duration": 27,
    "start_time": "2022-03-25T04:39:56.907Z"
   },
   {
    "duration": 61,
    "start_time": "2022-03-25T04:40:00.572Z"
   },
   {
    "duration": 61,
    "start_time": "2022-03-25T04:40:13.260Z"
   },
   {
    "duration": 60,
    "start_time": "2022-03-25T04:40:25.485Z"
   },
   {
    "duration": 60,
    "start_time": "2022-03-25T04:41:16.532Z"
   },
   {
    "duration": 61,
    "start_time": "2022-03-25T04:41:43.572Z"
   },
   {
    "duration": 63,
    "start_time": "2022-03-25T04:41:49.765Z"
   },
   {
    "duration": 63,
    "start_time": "2022-03-25T04:42:02.492Z"
   },
   {
    "duration": 67,
    "start_time": "2022-03-25T04:42:08.869Z"
   },
   {
    "duration": 165,
    "start_time": "2022-03-25T04:42:33.004Z"
   },
   {
    "duration": 162,
    "start_time": "2022-03-25T04:42:37.476Z"
   },
   {
    "duration": 69,
    "start_time": "2022-03-25T04:42:43.221Z"
   },
   {
    "duration": 62,
    "start_time": "2022-03-25T04:43:43.997Z"
   },
   {
    "duration": 62,
    "start_time": "2022-03-25T04:44:01.925Z"
   },
   {
    "duration": 67,
    "start_time": "2022-03-25T04:44:06.717Z"
   },
   {
    "duration": 70,
    "start_time": "2022-03-25T04:44:14.981Z"
   },
   {
    "duration": 64,
    "start_time": "2022-03-25T04:44:18.717Z"
   },
   {
    "duration": 66,
    "start_time": "2022-03-25T04:44:22.021Z"
   },
   {
    "duration": 65,
    "start_time": "2022-03-25T04:44:25.077Z"
   },
   {
    "duration": 61,
    "start_time": "2022-03-25T04:44:28.181Z"
   },
   {
    "duration": 65,
    "start_time": "2022-03-25T04:44:30.940Z"
   },
   {
    "duration": 66,
    "start_time": "2022-03-25T04:44:36.460Z"
   },
   {
    "duration": 59,
    "start_time": "2022-03-25T04:44:40.133Z"
   },
   {
    "duration": 63,
    "start_time": "2022-03-25T04:44:43.445Z"
   },
   {
    "duration": 68,
    "start_time": "2022-03-25T04:45:47.685Z"
   },
   {
    "duration": 74,
    "start_time": "2022-03-25T04:46:16.965Z"
   },
   {
    "duration": 175,
    "start_time": "2022-03-25T04:47:24.060Z"
   },
   {
    "duration": 66,
    "start_time": "2022-03-25T04:47:27.444Z"
   },
   {
    "duration": 64,
    "start_time": "2022-03-25T04:49:26.556Z"
   },
   {
    "duration": 67,
    "start_time": "2022-03-25T04:49:42.316Z"
   },
   {
    "duration": 72,
    "start_time": "2022-03-25T04:50:39.989Z"
   },
   {
    "duration": 5,
    "start_time": "2022-03-25T04:50:51.693Z"
   },
   {
    "duration": 40,
    "start_time": "2022-03-25T04:50:58.132Z"
   },
   {
    "duration": 2891,
    "start_time": "2022-03-25T04:51:32.212Z"
   },
   {
    "duration": 43,
    "start_time": "2022-03-25T04:52:09.956Z"
   },
   {
    "duration": 56,
    "start_time": "2022-03-25T04:52:36.516Z"
   },
   {
    "duration": 42,
    "start_time": "2022-03-25T04:52:51.332Z"
   },
   {
    "duration": 44,
    "start_time": "2022-03-25T04:53:20.820Z"
   },
   {
    "duration": 47,
    "start_time": "2022-03-25T04:54:04.068Z"
   },
   {
    "duration": 52,
    "start_time": "2022-03-25T04:54:25.300Z"
   },
   {
    "duration": 49,
    "start_time": "2022-03-25T04:54:33.492Z"
   },
   {
    "duration": 48,
    "start_time": "2022-03-25T04:54:53.181Z"
   },
   {
    "duration": 43,
    "start_time": "2022-03-25T04:56:43.452Z"
   },
   {
    "duration": 48,
    "start_time": "2022-03-25T04:57:05.886Z"
   },
   {
    "duration": 47,
    "start_time": "2022-03-25T04:57:59.229Z"
   },
   {
    "duration": 165,
    "start_time": "2022-03-25T04:58:55.637Z"
   },
   {
    "duration": 6,
    "start_time": "2022-03-25T04:58:59.102Z"
   },
   {
    "duration": 6,
    "start_time": "2022-03-25T04:59:21.438Z"
   },
   {
    "duration": 55,
    "start_time": "2022-03-25T05:00:39.526Z"
   },
   {
    "duration": 34,
    "start_time": "2022-03-25T05:00:57.413Z"
   },
   {
    "duration": 69,
    "start_time": "2022-03-25T05:01:15.110Z"
   },
   {
    "duration": 76,
    "start_time": "2022-03-25T05:01:24.526Z"
   },
   {
    "duration": 109,
    "start_time": "2022-03-25T05:01:33.526Z"
   },
   {
    "duration": 289,
    "start_time": "2022-03-25T05:02:08.055Z"
   },
   {
    "duration": 173,
    "start_time": "2022-03-25T05:10:13.737Z"
   },
   {
    "duration": 339,
    "start_time": "2022-03-25T05:10:19.599Z"
   },
   {
    "duration": 26,
    "start_time": "2022-03-25T05:10:24.859Z"
   },
   {
    "duration": 339,
    "start_time": "2022-03-25T05:10:30.712Z"
   },
   {
    "duration": 13,
    "start_time": "2022-03-25T05:10:55.936Z"
   },
   {
    "duration": 13,
    "start_time": "2022-03-25T05:11:46.441Z"
   },
   {
    "duration": 5,
    "start_time": "2022-03-25T05:14:11.833Z"
   },
   {
    "duration": 5,
    "start_time": "2022-03-25T05:14:39.905Z"
   },
   {
    "duration": 13,
    "start_time": "2022-03-25T05:14:56.327Z"
   },
   {
    "duration": 15,
    "start_time": "2022-03-25T05:18:10.905Z"
   },
   {
    "duration": 13,
    "start_time": "2022-03-25T05:18:55.768Z"
   },
   {
    "duration": 328,
    "start_time": "2022-03-25T05:19:00.256Z"
   },
   {
    "duration": 42,
    "start_time": "2022-03-25T05:19:03.817Z"
   },
   {
    "duration": 46,
    "start_time": "2022-03-25T05:19:57.952Z"
   },
   {
    "duration": 72,
    "start_time": "2022-03-25T05:22:18.121Z"
   },
   {
    "duration": 108,
    "start_time": "2022-03-25T05:22:56.818Z"
   },
   {
    "duration": 106,
    "start_time": "2022-03-25T05:30:21.714Z"
   },
   {
    "duration": 10,
    "start_time": "2022-03-25T05:34:20.850Z"
   },
   {
    "duration": 10,
    "start_time": "2022-03-25T05:35:48.706Z"
   },
   {
    "duration": 17,
    "start_time": "2022-03-25T05:36:01.497Z"
   },
   {
    "duration": 21,
    "start_time": "2022-03-25T05:44:15.860Z"
   },
   {
    "duration": 169,
    "start_time": "2022-03-25T05:44:40.163Z"
   },
   {
    "duration": 12,
    "start_time": "2022-03-25T05:44:44.562Z"
   },
   {
    "duration": 20,
    "start_time": "2022-03-25T05:44:48.266Z"
   },
   {
    "duration": 164,
    "start_time": "2022-03-25T05:45:08.243Z"
   },
   {
    "duration": 11,
    "start_time": "2022-03-25T05:45:13.018Z"
   },
   {
    "duration": 19,
    "start_time": "2022-03-25T05:45:28.530Z"
   },
   {
    "duration": 158,
    "start_time": "2022-03-25T05:45:56.684Z"
   },
   {
    "duration": 23,
    "start_time": "2022-03-25T05:46:01.530Z"
   },
   {
    "duration": 13,
    "start_time": "2022-03-25T05:46:56.818Z"
   },
   {
    "duration": 157,
    "start_time": "2022-03-25T05:47:04.154Z"
   },
   {
    "duration": 8,
    "start_time": "2022-03-25T05:47:07.866Z"
   },
   {
    "duration": 9,
    "start_time": "2022-03-25T05:47:36.675Z"
   },
   {
    "duration": 9,
    "start_time": "2022-03-25T05:49:51.970Z"
   },
   {
    "duration": 6,
    "start_time": "2022-03-25T05:50:52.979Z"
   },
   {
    "duration": 176,
    "start_time": "2022-03-25T05:51:28.004Z"
   },
   {
    "duration": 20,
    "start_time": "2022-03-25T05:51:31.266Z"
   },
   {
    "duration": 37,
    "start_time": "2022-03-25T05:51:41.346Z"
   },
   {
    "duration": 67,
    "start_time": "2022-03-25T05:52:08.355Z"
   },
   {
    "duration": 40,
    "start_time": "2022-03-25T05:53:13.691Z"
   },
   {
    "duration": 4,
    "start_time": "2022-03-25T05:53:23.189Z"
   },
   {
    "duration": 81,
    "start_time": "2022-03-25T05:53:23.257Z"
   },
   {
    "duration": 14,
    "start_time": "2022-03-25T05:53:23.341Z"
   },
   {
    "duration": 7,
    "start_time": "2022-03-25T05:53:23.357Z"
   },
   {
    "duration": 21,
    "start_time": "2022-03-25T05:53:23.393Z"
   },
   {
    "duration": 12,
    "start_time": "2022-03-25T05:53:23.458Z"
   },
   {
    "duration": 188,
    "start_time": "2022-03-25T05:53:23.527Z"
   },
   {
    "duration": 33,
    "start_time": "2022-03-25T05:53:23.717Z"
   },
   {
    "duration": 62,
    "start_time": "2022-03-25T05:53:23.752Z"
   },
   {
    "duration": 39,
    "start_time": "2022-03-25T05:53:23.817Z"
   },
   {
    "duration": 11,
    "start_time": "2022-03-25T05:53:23.858Z"
   },
   {
    "duration": 137,
    "start_time": "2022-03-25T05:53:23.871Z"
   },
   {
    "duration": 35,
    "start_time": "2022-03-25T05:53:24.011Z"
   },
   {
    "duration": 35,
    "start_time": "2022-03-25T05:53:24.048Z"
   },
   {
    "duration": 170,
    "start_time": "2022-03-25T05:53:24.102Z"
   },
   {
    "duration": 31,
    "start_time": "2022-03-25T05:53:26.822Z"
   },
   {
    "duration": 41,
    "start_time": "2022-03-25T05:53:26.856Z"
   },
   {
    "duration": 33,
    "start_time": "2022-03-25T05:53:26.901Z"
   },
   {
    "duration": 29,
    "start_time": "2022-03-25T05:53:26.936Z"
   },
   {
    "duration": 55,
    "start_time": "2022-03-25T05:53:27.128Z"
   },
   {
    "duration": 53,
    "start_time": "2022-03-25T05:53:27.185Z"
   },
   {
    "duration": 49,
    "start_time": "2022-03-25T05:53:27.239Z"
   },
   {
    "duration": 57,
    "start_time": "2022-03-25T05:53:27.302Z"
   },
   {
    "duration": 76,
    "start_time": "2022-03-25T05:53:28.458Z"
   },
   {
    "duration": 110,
    "start_time": "2022-03-25T05:53:30.883Z"
   },
   {
    "duration": 38,
    "start_time": "2022-03-25T05:53:34.570Z"
   },
   {
    "duration": 12,
    "start_time": "2022-03-25T05:54:08.851Z"
   },
   {
    "duration": 41,
    "start_time": "2022-03-25T05:54:14.895Z"
   },
   {
    "duration": 38,
    "start_time": "2022-03-25T05:54:32.955Z"
   },
   {
    "duration": 29,
    "start_time": "2022-03-25T05:54:48.259Z"
   },
   {
    "duration": 41,
    "start_time": "2022-03-25T05:54:54.851Z"
   },
   {
    "duration": 18,
    "start_time": "2022-03-25T05:55:19.403Z"
   },
   {
    "duration": 41,
    "start_time": "2022-03-25T05:55:39.179Z"
   },
   {
    "duration": 330,
    "start_time": "2022-03-25T05:57:53.378Z"
   },
   {
    "duration": 40,
    "start_time": "2022-03-25T05:58:03.188Z"
   },
   {
    "duration": 41,
    "start_time": "2022-03-25T05:58:12.291Z"
   },
   {
    "duration": 3,
    "start_time": "2022-03-25T05:58:20.150Z"
   },
   {
    "duration": 60,
    "start_time": "2022-03-25T05:58:20.217Z"
   },
   {
    "duration": 13,
    "start_time": "2022-03-25T05:58:20.279Z"
   },
   {
    "duration": 7,
    "start_time": "2022-03-25T05:58:20.315Z"
   },
   {
    "duration": 21,
    "start_time": "2022-03-25T05:58:20.349Z"
   },
   {
    "duration": 14,
    "start_time": "2022-03-25T05:58:20.414Z"
   },
   {
    "duration": 190,
    "start_time": "2022-03-25T05:58:20.478Z"
   },
   {
    "duration": 41,
    "start_time": "2022-03-25T05:58:20.670Z"
   },
   {
    "duration": 48,
    "start_time": "2022-03-25T05:58:20.713Z"
   },
   {
    "duration": 60,
    "start_time": "2022-03-25T05:58:20.764Z"
   },
   {
    "duration": 12,
    "start_time": "2022-03-25T05:58:20.826Z"
   },
   {
    "duration": 126,
    "start_time": "2022-03-25T05:58:20.840Z"
   },
   {
    "duration": 48,
    "start_time": "2022-03-25T05:58:20.968Z"
   },
   {
    "duration": 36,
    "start_time": "2022-03-25T05:58:21.018Z"
   },
   {
    "duration": 186,
    "start_time": "2022-03-25T05:58:21.056Z"
   },
   {
    "duration": 32,
    "start_time": "2022-03-25T05:58:21.244Z"
   },
   {
    "duration": 51,
    "start_time": "2022-03-25T05:58:21.278Z"
   },
   {
    "duration": 34,
    "start_time": "2022-03-25T05:58:21.331Z"
   },
   {
    "duration": 41,
    "start_time": "2022-03-25T05:58:21.367Z"
   },
   {
    "duration": 65,
    "start_time": "2022-03-25T05:58:21.539Z"
   },
   {
    "duration": 54,
    "start_time": "2022-03-25T05:58:21.606Z"
   },
   {
    "duration": 67,
    "start_time": "2022-03-25T05:58:21.662Z"
   },
   {
    "duration": 74,
    "start_time": "2022-03-25T05:58:21.732Z"
   },
   {
    "duration": 97,
    "start_time": "2022-03-25T05:58:21.809Z"
   },
   {
    "duration": 126,
    "start_time": "2022-03-25T05:58:21.909Z"
   },
   {
    "duration": 41,
    "start_time": "2022-03-25T05:58:22.038Z"
   },
   {
    "duration": 75,
    "start_time": "2022-03-25T05:58:22.102Z"
   },
   {
    "duration": 35,
    "start_time": "2022-03-25T05:58:33.659Z"
   },
   {
    "duration": 21,
    "start_time": "2022-03-25T05:58:39.603Z"
   },
   {
    "duration": 4,
    "start_time": "2022-03-25T05:59:35.804Z"
   },
   {
    "duration": 7,
    "start_time": "2022-03-25T05:59:52.459Z"
   },
   {
    "duration": 8,
    "start_time": "2022-03-25T06:00:17.044Z"
   },
   {
    "duration": 7,
    "start_time": "2022-03-25T06:00:26.188Z"
   },
   {
    "duration": 2938,
    "start_time": "2022-03-25T06:01:27.756Z"
   },
   {
    "duration": 6,
    "start_time": "2022-03-25T06:01:40.668Z"
   },
   {
    "duration": 7,
    "start_time": "2022-03-25T06:01:59.092Z"
   },
   {
    "duration": 7,
    "start_time": "2022-03-25T06:02:06.707Z"
   },
   {
    "duration": 21,
    "start_time": "2022-03-25T06:02:16.644Z"
   },
   {
    "duration": 20,
    "start_time": "2022-03-25T06:02:23.211Z"
   },
   {
    "duration": 168,
    "start_time": "2022-03-25T06:02:45.539Z"
   },
   {
    "duration": 50,
    "start_time": "2022-03-25T06:02:48.451Z"
   },
   {
    "duration": 15,
    "start_time": "2022-03-25T06:03:18.532Z"
   },
   {
    "duration": 173,
    "start_time": "2022-03-25T06:09:10.909Z"
   },
   {
    "duration": 3,
    "start_time": "2022-03-25T06:10:28.517Z"
   },
   {
    "duration": 12,
    "start_time": "2022-03-25T06:11:20.237Z"
   },
   {
    "duration": 161,
    "start_time": "2022-03-25T06:12:05.646Z"
   },
   {
    "duration": 200,
    "start_time": "2022-03-25T06:12:09.244Z"
   },
   {
    "duration": 198,
    "start_time": "2022-03-25T06:12:26.644Z"
   },
   {
    "duration": 7,
    "start_time": "2022-03-25T06:12:59.005Z"
   },
   {
    "duration": 10,
    "start_time": "2022-03-25T06:13:08.428Z"
   },
   {
    "duration": 11,
    "start_time": "2022-03-25T06:13:25.694Z"
   },
   {
    "duration": 9,
    "start_time": "2022-03-25T06:15:18.029Z"
   },
   {
    "duration": 8,
    "start_time": "2022-03-25T06:15:27.725Z"
   },
   {
    "duration": 5,
    "start_time": "2022-03-25T06:15:36.437Z"
   },
   {
    "duration": 6,
    "start_time": "2022-03-25T06:16:31.229Z"
   },
   {
    "duration": 15,
    "start_time": "2022-03-25T06:18:20.022Z"
   },
   {
    "duration": 14,
    "start_time": "2022-03-25T06:18:38.317Z"
   },
   {
    "duration": 8,
    "start_time": "2022-03-25T06:19:29.542Z"
   },
   {
    "duration": 13,
    "start_time": "2022-03-25T06:21:33.606Z"
   },
   {
    "duration": 66,
    "start_time": "2022-03-25T06:21:46.974Z"
   },
   {
    "duration": 207,
    "start_time": "2022-03-25T06:27:00.354Z"
   },
   {
    "duration": 169,
    "start_time": "2022-03-25T06:27:20.446Z"
   },
   {
    "duration": 9,
    "start_time": "2022-03-25T06:27:35.902Z"
   },
   {
    "duration": 14,
    "start_time": "2022-03-25T06:27:46.942Z"
   },
   {
    "duration": 9,
    "start_time": "2022-03-25T06:27:54.662Z"
   },
   {
    "duration": 72,
    "start_time": "2022-03-25T06:28:05.302Z"
   },
   {
    "duration": 65,
    "start_time": "2022-03-25T06:29:27.569Z"
   },
   {
    "duration": 149,
    "start_time": "2022-03-25T06:29:36.998Z"
   },
   {
    "duration": 157,
    "start_time": "2022-03-25T06:29:59.784Z"
   },
   {
    "duration": 100,
    "start_time": "2022-03-25T06:31:54.592Z"
   },
   {
    "duration": 4,
    "start_time": "2022-03-25T06:32:08.479Z"
   },
   {
    "duration": 41,
    "start_time": "2022-03-25T06:32:08.546Z"
   },
   {
    "duration": 13,
    "start_time": "2022-03-25T06:32:08.589Z"
   },
   {
    "duration": 6,
    "start_time": "2022-03-25T06:32:08.650Z"
   },
   {
    "duration": 21,
    "start_time": "2022-03-25T06:32:08.680Z"
   },
   {
    "duration": 13,
    "start_time": "2022-03-25T06:32:08.741Z"
   },
   {
    "duration": 186,
    "start_time": "2022-03-25T06:32:08.808Z"
   },
   {
    "duration": 34,
    "start_time": "2022-03-25T06:32:08.996Z"
   },
   {
    "duration": 50,
    "start_time": "2022-03-25T06:32:09.032Z"
   },
   {
    "duration": 55,
    "start_time": "2022-03-25T06:32:09.084Z"
   },
   {
    "duration": 13,
    "start_time": "2022-03-25T06:32:09.141Z"
   },
   {
    "duration": 133,
    "start_time": "2022-03-25T06:32:09.156Z"
   },
   {
    "duration": 42,
    "start_time": "2022-03-25T06:32:09.292Z"
   },
   {
    "duration": 36,
    "start_time": "2022-03-25T06:32:09.336Z"
   },
   {
    "duration": 175,
    "start_time": "2022-03-25T06:32:09.401Z"
   },
   {
    "duration": 39,
    "start_time": "2022-03-25T06:32:09.579Z"
   },
   {
    "duration": 42,
    "start_time": "2022-03-25T06:32:09.620Z"
   },
   {
    "duration": 57,
    "start_time": "2022-03-25T06:32:09.664Z"
   },
   {
    "duration": 29,
    "start_time": "2022-03-25T06:32:10.286Z"
   },
   {
    "duration": 58,
    "start_time": "2022-03-25T06:32:11.790Z"
   },
   {
    "duration": 55,
    "start_time": "2022-03-25T06:32:11.991Z"
   },
   {
    "duration": 52,
    "start_time": "2022-03-25T06:32:12.191Z"
   },
   {
    "duration": 66,
    "start_time": "2022-03-25T06:32:12.679Z"
   },
   {
    "duration": 87,
    "start_time": "2022-03-25T06:32:16.416Z"
   },
   {
    "duration": 109,
    "start_time": "2022-03-25T06:32:18.824Z"
   },
   {
    "duration": 16,
    "start_time": "2022-03-25T06:32:21.190Z"
   },
   {
    "duration": 107,
    "start_time": "2022-03-25T06:32:24.071Z"
   },
   {
    "duration": 150,
    "start_time": "2022-03-25T06:34:05.912Z"
   },
   {
    "duration": 132,
    "start_time": "2022-03-25T06:34:35.552Z"
   },
   {
    "duration": 131,
    "start_time": "2022-03-25T06:34:43.640Z"
   },
   {
    "duration": 135,
    "start_time": "2022-03-25T06:35:15.440Z"
   },
   {
    "duration": 130,
    "start_time": "2022-03-25T06:35:34.546Z"
   },
   {
    "duration": 3,
    "start_time": "2022-03-25T06:36:09.330Z"
   },
   {
    "duration": 42,
    "start_time": "2022-03-25T06:36:09.396Z"
   },
   {
    "duration": 14,
    "start_time": "2022-03-25T06:36:09.441Z"
   },
   {
    "duration": 7,
    "start_time": "2022-03-25T06:36:09.500Z"
   },
   {
    "duration": 22,
    "start_time": "2022-03-25T06:36:09.529Z"
   },
   {
    "duration": 12,
    "start_time": "2022-03-25T06:36:09.597Z"
   },
   {
    "duration": 189,
    "start_time": "2022-03-25T06:36:09.667Z"
   },
   {
    "duration": 32,
    "start_time": "2022-03-25T06:36:09.859Z"
   },
   {
    "duration": 48,
    "start_time": "2022-03-25T06:36:09.902Z"
   },
   {
    "duration": 60,
    "start_time": "2022-03-25T06:36:09.952Z"
   },
   {
    "duration": 12,
    "start_time": "2022-03-25T06:36:10.014Z"
   },
   {
    "duration": 127,
    "start_time": "2022-03-25T06:36:10.028Z"
   },
   {
    "duration": 44,
    "start_time": "2022-03-25T06:36:10.157Z"
   },
   {
    "duration": 36,
    "start_time": "2022-03-25T06:36:10.203Z"
   },
   {
    "duration": 171,
    "start_time": "2022-03-25T06:36:11.038Z"
   },
   {
    "duration": 32,
    "start_time": "2022-03-25T06:36:11.212Z"
   },
   {
    "duration": 69,
    "start_time": "2022-03-25T06:36:11.246Z"
   },
   {
    "duration": 34,
    "start_time": "2022-03-25T06:36:11.317Z"
   },
   {
    "duration": 29,
    "start_time": "2022-03-25T06:36:11.354Z"
   },
   {
    "duration": 56,
    "start_time": "2022-03-25T06:36:11.531Z"
   },
   {
    "duration": 54,
    "start_time": "2022-03-25T06:36:12.095Z"
   },
   {
    "duration": 53,
    "start_time": "2022-03-25T06:36:12.719Z"
   },
   {
    "duration": 63,
    "start_time": "2022-03-25T06:36:13.431Z"
   },
   {
    "duration": 85,
    "start_time": "2022-03-25T06:36:14.842Z"
   },
   {
    "duration": 113,
    "start_time": "2022-03-25T06:36:17.671Z"
   },
   {
    "duration": 18,
    "start_time": "2022-03-25T06:36:18.638Z"
   },
   {
    "duration": 3,
    "start_time": "2022-03-25T06:36:33.073Z"
   },
   {
    "duration": 32,
    "start_time": "2022-03-25T06:36:57.695Z"
   },
   {
    "duration": 5,
    "start_time": "2022-03-25T06:37:07.375Z"
   },
   {
    "duration": 128,
    "start_time": "2022-03-25T06:37:17.535Z"
   },
   {
    "duration": 100,
    "start_time": "2022-03-25T06:37:47.961Z"
   },
   {
    "duration": 111,
    "start_time": "2022-03-25T06:37:54.809Z"
   },
   {
    "duration": 107,
    "start_time": "2022-03-25T06:40:06.984Z"
   },
   {
    "duration": 234,
    "start_time": "2022-03-25T06:41:13.090Z"
   },
   {
    "duration": 176,
    "start_time": "2022-03-25T06:42:54.912Z"
   },
   {
    "duration": 3406,
    "start_time": "2022-03-25T06:44:50.729Z"
   },
   {
    "duration": 3,
    "start_time": "2022-03-25T06:45:02.652Z"
   },
   {
    "duration": 44,
    "start_time": "2022-03-25T06:45:02.712Z"
   },
   {
    "duration": 13,
    "start_time": "2022-03-25T06:45:02.759Z"
   },
   {
    "duration": 6,
    "start_time": "2022-03-25T06:45:02.810Z"
   },
   {
    "duration": 20,
    "start_time": "2022-03-25T06:45:02.852Z"
   },
   {
    "duration": 11,
    "start_time": "2022-03-25T06:45:02.910Z"
   },
   {
    "duration": 178,
    "start_time": "2022-03-25T06:45:03.010Z"
   },
   {
    "duration": 31,
    "start_time": "2022-03-25T06:45:03.190Z"
   },
   {
    "duration": 45,
    "start_time": "2022-03-25T06:45:03.223Z"
   },
   {
    "duration": 58,
    "start_time": "2022-03-25T06:45:03.271Z"
   },
   {
    "duration": 13,
    "start_time": "2022-03-25T06:45:03.331Z"
   },
   {
    "duration": 119,
    "start_time": "2022-03-25T06:45:03.346Z"
   },
   {
    "duration": 50,
    "start_time": "2022-03-25T06:45:03.468Z"
   },
   {
    "duration": 37,
    "start_time": "2022-03-25T06:45:03.520Z"
   },
   {
    "duration": 173,
    "start_time": "2022-03-25T06:45:03.560Z"
   },
   {
    "duration": 30,
    "start_time": "2022-03-25T06:45:03.736Z"
   },
   {
    "duration": 61,
    "start_time": "2022-03-25T06:45:03.767Z"
   },
   {
    "duration": 35,
    "start_time": "2022-03-25T06:45:03.831Z"
   },
   {
    "duration": 41,
    "start_time": "2022-03-25T06:45:03.869Z"
   },
   {
    "duration": 57,
    "start_time": "2022-03-25T06:45:04.031Z"
   },
   {
    "duration": 53,
    "start_time": "2022-03-25T06:45:04.091Z"
   },
   {
    "duration": 66,
    "start_time": "2022-03-25T06:45:04.147Z"
   },
   {
    "duration": 62,
    "start_time": "2022-03-25T06:45:04.215Z"
   },
   {
    "duration": 94,
    "start_time": "2022-03-25T06:45:04.280Z"
   },
   {
    "duration": 114,
    "start_time": "2022-03-25T06:45:04.850Z"
   },
   {
    "duration": 15,
    "start_time": "2022-03-25T06:45:05.295Z"
   },
   {
    "duration": 4,
    "start_time": "2022-03-25T06:45:05.695Z"
   },
   {
    "duration": 34,
    "start_time": "2022-03-25T06:45:05.870Z"
   },
   {
    "duration": 4,
    "start_time": "2022-03-25T06:45:06.079Z"
   },
   {
    "duration": 51,
    "start_time": "2022-03-25T06:45:06.939Z"
   },
   {
    "duration": 42,
    "start_time": "2022-03-25T06:45:16.808Z"
   },
   {
    "duration": 111,
    "start_time": "2022-03-25T06:46:21.329Z"
   },
   {
    "duration": 3,
    "start_time": "2022-03-25T06:46:41.928Z"
   },
   {
    "duration": 41,
    "start_time": "2022-03-25T06:46:42.605Z"
   },
   {
    "duration": 15,
    "start_time": "2022-03-25T06:46:42.648Z"
   },
   {
    "duration": 7,
    "start_time": "2022-03-25T06:46:42.689Z"
   },
   {
    "duration": 20,
    "start_time": "2022-03-25T06:46:42.720Z"
   },
   {
    "duration": 11,
    "start_time": "2022-03-25T06:46:42.786Z"
   },
   {
    "duration": 179,
    "start_time": "2022-03-25T06:46:42.857Z"
   },
   {
    "duration": 32,
    "start_time": "2022-03-25T06:46:43.039Z"
   },
   {
    "duration": 62,
    "start_time": "2022-03-25T06:46:43.073Z"
   },
   {
    "duration": 39,
    "start_time": "2022-03-25T06:46:43.137Z"
   },
   {
    "duration": 28,
    "start_time": "2022-03-25T06:46:43.178Z"
   },
   {
    "duration": 113,
    "start_time": "2022-03-25T06:46:43.208Z"
   },
   {
    "duration": 34,
    "start_time": "2022-03-25T06:46:43.323Z"
   },
   {
    "duration": 50,
    "start_time": "2022-03-25T06:46:43.359Z"
   },
   {
    "duration": 162,
    "start_time": "2022-03-25T06:46:43.414Z"
   },
   {
    "duration": 38,
    "start_time": "2022-03-25T06:46:43.578Z"
   },
   {
    "duration": 41,
    "start_time": "2022-03-25T06:46:43.618Z"
   },
   {
    "duration": 54,
    "start_time": "2022-03-25T06:46:43.661Z"
   },
   {
    "duration": 29,
    "start_time": "2022-03-25T06:46:43.717Z"
   },
   {
    "duration": 56,
    "start_time": "2022-03-25T06:46:43.914Z"
   },
   {
    "duration": 53,
    "start_time": "2022-03-25T06:46:43.972Z"
   },
   {
    "duration": 49,
    "start_time": "2022-03-25T06:46:44.027Z"
   },
   {
    "duration": 81,
    "start_time": "2022-03-25T06:46:44.079Z"
   },
   {
    "duration": 98,
    "start_time": "2022-03-25T06:46:44.162Z"
   },
   {
    "duration": 107,
    "start_time": "2022-03-25T06:46:45.304Z"
   },
   {
    "duration": 17,
    "start_time": "2022-03-25T06:46:46.567Z"
   },
   {
    "duration": 3,
    "start_time": "2022-03-25T06:46:47.719Z"
   },
   {
    "duration": 31,
    "start_time": "2022-03-25T06:46:48.488Z"
   },
   {
    "duration": 4,
    "start_time": "2022-03-25T06:46:51.032Z"
   },
   {
    "duration": 128,
    "start_time": "2022-03-25T06:46:51.585Z"
   },
   {
    "duration": 97,
    "start_time": "2022-03-25T06:47:30.698Z"
   },
   {
    "duration": 2988,
    "start_time": "2022-03-25T06:47:56.426Z"
   },
   {
    "duration": 4,
    "start_time": "2022-03-25T06:48:09.311Z"
   },
   {
    "duration": 42,
    "start_time": "2022-03-25T06:48:09.376Z"
   },
   {
    "duration": 16,
    "start_time": "2022-03-25T06:48:09.420Z"
   },
   {
    "duration": 6,
    "start_time": "2022-03-25T06:48:09.479Z"
   },
   {
    "duration": 23,
    "start_time": "2022-03-25T06:48:09.504Z"
   },
   {
    "duration": 14,
    "start_time": "2022-03-25T06:48:09.571Z"
   },
   {
    "duration": 194,
    "start_time": "2022-03-25T06:48:09.680Z"
   },
   {
    "duration": 42,
    "start_time": "2022-03-25T06:48:09.876Z"
   },
   {
    "duration": 49,
    "start_time": "2022-03-25T06:48:09.921Z"
   },
   {
    "duration": 62,
    "start_time": "2022-03-25T06:48:09.973Z"
   },
   {
    "duration": 12,
    "start_time": "2022-03-25T06:48:10.037Z"
   },
   {
    "duration": 124,
    "start_time": "2022-03-25T06:48:10.052Z"
   },
   {
    "duration": 48,
    "start_time": "2022-03-25T06:48:10.178Z"
   },
   {
    "duration": 36,
    "start_time": "2022-03-25T06:48:10.229Z"
   },
   {
    "duration": 218,
    "start_time": "2022-03-25T06:48:10.267Z"
   },
   {
    "duration": 32,
    "start_time": "2022-03-25T06:48:10.487Z"
   },
   {
    "duration": 42,
    "start_time": "2022-03-25T06:48:10.521Z"
   },
   {
    "duration": 52,
    "start_time": "2022-03-25T06:48:10.566Z"
   },
   {
    "duration": 29,
    "start_time": "2022-03-25T06:48:10.621Z"
   },
   {
    "duration": 56,
    "start_time": "2022-03-25T06:48:10.718Z"
   },
   {
    "duration": 55,
    "start_time": "2022-03-25T06:48:10.776Z"
   },
   {
    "duration": 51,
    "start_time": "2022-03-25T06:48:10.833Z"
   },
   {
    "duration": 66,
    "start_time": "2022-03-25T06:48:10.901Z"
   },
   {
    "duration": 83,
    "start_time": "2022-03-25T06:48:11.553Z"
   },
   {
    "duration": 121,
    "start_time": "2022-03-25T06:48:12.080Z"
   },
   {
    "duration": 19,
    "start_time": "2022-03-25T06:48:13.279Z"
   },
   {
    "duration": 4,
    "start_time": "2022-03-25T06:48:14.295Z"
   },
   {
    "duration": 35,
    "start_time": "2022-03-25T06:48:14.824Z"
   },
   {
    "duration": 4,
    "start_time": "2022-03-25T06:48:15.367Z"
   },
   {
    "duration": 99,
    "start_time": "2022-03-25T06:48:15.944Z"
   },
   {
    "duration": 162,
    "start_time": "2022-03-25T06:56:13.577Z"
   },
   {
    "duration": 163,
    "start_time": "2022-03-25T06:56:20.073Z"
   },
   {
    "duration": 166,
    "start_time": "2022-03-25T07:01:23.617Z"
   },
   {
    "duration": 3,
    "start_time": "2022-03-25T07:01:33.529Z"
   },
   {
    "duration": 183,
    "start_time": "2022-03-25T07:02:54.897Z"
   },
   {
    "duration": 3016,
    "start_time": "2022-03-25T07:03:31.706Z"
   },
   {
    "duration": 3,
    "start_time": "2022-03-25T07:04:11.850Z"
   },
   {
    "duration": 3135,
    "start_time": "2022-03-25T07:04:17.649Z"
   },
   {
    "duration": 46,
    "start_time": "2022-03-25T07:04:40.393Z"
   },
   {
    "duration": 27,
    "start_time": "2022-03-25T07:06:19.130Z"
   },
   {
    "duration": 28,
    "start_time": "2022-03-25T07:07:07.522Z"
   },
   {
    "duration": 39,
    "start_time": "2022-03-25T07:07:07.993Z"
   },
   {
    "duration": 4,
    "start_time": "2022-03-25T07:07:27.553Z"
   },
   {
    "duration": 11,
    "start_time": "2022-03-25T07:08:14.978Z"
   },
   {
    "duration": 4,
    "start_time": "2022-03-25T07:15:23.065Z"
   },
   {
    "duration": 35,
    "start_time": "2022-03-25T07:15:23.132Z"
   },
   {
    "duration": 14,
    "start_time": "2022-03-25T07:15:23.171Z"
   },
   {
    "duration": 7,
    "start_time": "2022-03-25T07:15:23.234Z"
   },
   {
    "duration": 22,
    "start_time": "2022-03-25T07:15:23.267Z"
   },
   {
    "duration": 12,
    "start_time": "2022-03-25T07:15:23.328Z"
   },
   {
    "duration": 185,
    "start_time": "2022-03-25T07:15:23.394Z"
   },
   {
    "duration": 37,
    "start_time": "2022-03-25T07:15:23.582Z"
   },
   {
    "duration": 48,
    "start_time": "2022-03-25T07:15:23.621Z"
   },
   {
    "duration": 63,
    "start_time": "2022-03-25T07:15:23.671Z"
   },
   {
    "duration": 12,
    "start_time": "2022-03-25T07:15:23.735Z"
   },
   {
    "duration": 112,
    "start_time": "2022-03-25T07:15:23.749Z"
   },
   {
    "duration": 47,
    "start_time": "2022-03-25T07:15:23.863Z"
   },
   {
    "duration": 37,
    "start_time": "2022-03-25T07:15:23.912Z"
   },
   {
    "duration": 182,
    "start_time": "2022-03-25T07:15:23.956Z"
   },
   {
    "duration": 30,
    "start_time": "2022-03-25T07:15:24.140Z"
   },
   {
    "duration": 56,
    "start_time": "2022-03-25T07:15:24.172Z"
   },
   {
    "duration": 30,
    "start_time": "2022-03-25T07:15:24.230Z"
   },
   {
    "duration": 27,
    "start_time": "2022-03-25T07:15:24.265Z"
   },
   {
    "duration": 52,
    "start_time": "2022-03-25T07:15:24.449Z"
   },
   {
    "duration": 52,
    "start_time": "2022-03-25T07:15:24.503Z"
   },
   {
    "duration": 69,
    "start_time": "2022-03-25T07:15:24.557Z"
   },
   {
    "duration": 74,
    "start_time": "2022-03-25T07:15:24.628Z"
   },
   {
    "duration": 75,
    "start_time": "2022-03-25T07:15:24.705Z"
   },
   {
    "duration": 154,
    "start_time": "2022-03-25T07:15:24.783Z"
   },
   {
    "duration": 16,
    "start_time": "2022-03-25T07:15:24.939Z"
   },
   {
    "duration": 4,
    "start_time": "2022-03-25T07:15:26.172Z"
   },
   {
    "duration": 31,
    "start_time": "2022-03-25T07:15:30.291Z"
   },
   {
    "duration": 36,
    "start_time": "2022-03-25T07:15:31.089Z"
   },
   {
    "duration": 31,
    "start_time": "2022-03-25T07:15:31.690Z"
   },
   {
    "duration": 4,
    "start_time": "2022-03-25T07:15:33.482Z"
   },
   {
    "duration": 166,
    "start_time": "2022-03-25T07:15:34.011Z"
   },
   {
    "duration": 45,
    "start_time": "2022-03-25T07:15:38.050Z"
   },
   {
    "duration": 45,
    "start_time": "2022-03-25T07:15:39.842Z"
   },
   {
    "duration": 44,
    "start_time": "2022-03-25T07:15:40.434Z"
   },
   {
    "duration": 60,
    "start_time": "2022-03-25T07:15:42.314Z"
   },
   {
    "duration": 204,
    "start_time": "2022-03-25T07:19:53.339Z"
   },
   {
    "duration": 151,
    "start_time": "2022-03-25T07:19:59.306Z"
   },
   {
    "duration": 5,
    "start_time": "2022-03-25T07:20:03.315Z"
   },
   {
    "duration": 55,
    "start_time": "2022-03-25T07:20:14.938Z"
   },
   {
    "duration": 5,
    "start_time": "2022-03-25T07:20:52.842Z"
   },
   {
    "duration": 11,
    "start_time": "2022-03-25T07:22:17.228Z"
   },
   {
    "duration": 11,
    "start_time": "2022-03-25T07:22:26.450Z"
   },
   {
    "duration": 52,
    "start_time": "2022-03-25T07:24:38.204Z"
   },
   {
    "duration": 11,
    "start_time": "2022-03-25T07:24:41.379Z"
   },
   {
    "duration": 170,
    "start_time": "2022-03-25T07:27:35.637Z"
   },
   {
    "duration": 57,
    "start_time": "2022-03-25T07:27:48.740Z"
   },
   {
    "duration": 10,
    "start_time": "2022-03-25T07:27:54.994Z"
   },
   {
    "duration": 4,
    "start_time": "2022-03-25T07:28:12.037Z"
   },
   {
    "duration": 46,
    "start_time": "2022-03-25T07:28:12.097Z"
   },
   {
    "duration": 14,
    "start_time": "2022-03-25T07:28:12.147Z"
   },
   {
    "duration": 7,
    "start_time": "2022-03-25T07:28:12.199Z"
   },
   {
    "duration": 22,
    "start_time": "2022-03-25T07:28:12.227Z"
   },
   {
    "duration": 13,
    "start_time": "2022-03-25T07:28:12.315Z"
   },
   {
    "duration": 200,
    "start_time": "2022-03-25T07:28:12.384Z"
   },
   {
    "duration": 58,
    "start_time": "2022-03-25T07:28:12.587Z"
   },
   {
    "duration": 88,
    "start_time": "2022-03-25T07:28:12.648Z"
   },
   {
    "duration": 69,
    "start_time": "2022-03-25T07:28:12.739Z"
   },
   {
    "duration": 17,
    "start_time": "2022-03-25T07:28:12.811Z"
   },
   {
    "duration": 130,
    "start_time": "2022-03-25T07:28:12.830Z"
   },
   {
    "duration": 48,
    "start_time": "2022-03-25T07:28:12.963Z"
   },
   {
    "duration": 36,
    "start_time": "2022-03-25T07:28:13.013Z"
   },
   {
    "duration": 189,
    "start_time": "2022-03-25T07:28:13.051Z"
   },
   {
    "duration": 30,
    "start_time": "2022-03-25T07:28:13.243Z"
   },
   {
    "duration": 58,
    "start_time": "2022-03-25T07:28:13.275Z"
   },
   {
    "duration": 35,
    "start_time": "2022-03-25T07:28:13.335Z"
   },
   {
    "duration": 43,
    "start_time": "2022-03-25T07:28:13.372Z"
   },
   {
    "duration": 60,
    "start_time": "2022-03-25T07:28:13.418Z"
   },
   {
    "duration": 77,
    "start_time": "2022-03-25T07:28:13.481Z"
   },
   {
    "duration": 74,
    "start_time": "2022-03-25T07:28:13.560Z"
   },
   {
    "duration": 83,
    "start_time": "2022-03-25T07:28:13.636Z"
   },
   {
    "duration": 101,
    "start_time": "2022-03-25T07:28:13.722Z"
   },
   {
    "duration": 128,
    "start_time": "2022-03-25T07:28:13.825Z"
   },
   {
    "duration": 17,
    "start_time": "2022-03-25T07:28:13.955Z"
   },
   {
    "duration": 28,
    "start_time": "2022-03-25T07:28:13.974Z"
   },
   {
    "duration": 39,
    "start_time": "2022-03-25T07:28:14.004Z"
   },
   {
    "duration": 64,
    "start_time": "2022-03-25T07:28:14.046Z"
   },
   {
    "duration": 39,
    "start_time": "2022-03-25T07:28:14.113Z"
   },
   {
    "duration": 23,
    "start_time": "2022-03-25T07:28:14.155Z"
   },
   {
    "duration": 70,
    "start_time": "2022-03-25T07:28:14.181Z"
   },
   {
    "duration": 68,
    "start_time": "2022-03-25T07:28:14.253Z"
   },
   {
    "duration": 61,
    "start_time": "2022-03-25T07:28:14.323Z"
   },
   {
    "duration": 72,
    "start_time": "2022-03-25T07:28:14.386Z"
   },
   {
    "duration": 67,
    "start_time": "2022-03-25T07:28:14.460Z"
   },
   {
    "duration": 26,
    "start_time": "2022-03-25T07:28:14.530Z"
   },
   {
    "duration": 63,
    "start_time": "2022-03-25T07:28:56.533Z"
   },
   {
    "duration": 11,
    "start_time": "2022-03-25T07:28:59.900Z"
   },
   {
    "duration": 3,
    "start_time": "2022-03-25T07:32:17.796Z"
   },
   {
    "duration": 46,
    "start_time": "2022-03-25T07:32:18.188Z"
   },
   {
    "duration": 15,
    "start_time": "2022-03-25T07:32:18.371Z"
   },
   {
    "duration": 7,
    "start_time": "2022-03-25T07:32:18.715Z"
   },
   {
    "duration": 24,
    "start_time": "2022-03-25T07:32:18.900Z"
   },
   {
    "duration": 12,
    "start_time": "2022-03-25T07:32:19.251Z"
   },
   {
    "duration": 187,
    "start_time": "2022-03-25T07:32:19.594Z"
   },
   {
    "duration": 34,
    "start_time": "2022-03-25T07:32:19.948Z"
   },
   {
    "duration": 51,
    "start_time": "2022-03-25T07:32:20.661Z"
   },
   {
    "duration": 41,
    "start_time": "2022-03-25T07:32:20.743Z"
   },
   {
    "duration": 13,
    "start_time": "2022-03-25T07:32:20.787Z"
   },
   {
    "duration": 115,
    "start_time": "2022-03-25T07:32:20.848Z"
   },
   {
    "duration": 51,
    "start_time": "2022-03-25T07:32:20.966Z"
   },
   {
    "duration": 38,
    "start_time": "2022-03-25T07:32:21.019Z"
   },
   {
    "duration": 173,
    "start_time": "2022-03-25T07:32:21.072Z"
   },
   {
    "duration": 32,
    "start_time": "2022-03-25T07:32:21.248Z"
   },
   {
    "duration": 58,
    "start_time": "2022-03-25T07:32:21.283Z"
   },
   {
    "duration": 77,
    "start_time": "2022-03-25T07:32:21.344Z"
   },
   {
    "duration": 30,
    "start_time": "2022-03-25T07:32:21.424Z"
   },
   {
    "duration": 59,
    "start_time": "2022-03-25T07:32:21.932Z"
   },
   {
    "duration": 56,
    "start_time": "2022-03-25T07:32:22.468Z"
   },
   {
    "duration": 52,
    "start_time": "2022-03-25T07:32:22.659Z"
   },
   {
    "duration": 69,
    "start_time": "2022-03-25T07:32:23.020Z"
   },
   {
    "duration": 81,
    "start_time": "2022-03-25T07:32:23.349Z"
   },
   {
    "duration": 113,
    "start_time": "2022-03-25T07:32:23.716Z"
   },
   {
    "duration": 17,
    "start_time": "2022-03-25T07:32:24.091Z"
   },
   {
    "duration": 4,
    "start_time": "2022-03-25T07:32:24.634Z"
   },
   {
    "duration": 53,
    "start_time": "2022-03-25T07:32:24.979Z"
   },
   {
    "duration": 34,
    "start_time": "2022-03-25T07:32:25.156Z"
   },
   {
    "duration": 36,
    "start_time": "2022-03-25T07:32:25.323Z"
   },
   {
    "duration": 4,
    "start_time": "2022-03-25T07:32:25.507Z"
   },
   {
    "duration": 48,
    "start_time": "2022-03-25T07:32:25.683Z"
   },
   {
    "duration": 48,
    "start_time": "2022-03-25T07:32:25.867Z"
   },
   {
    "duration": 49,
    "start_time": "2022-03-25T07:32:26.043Z"
   },
   {
    "duration": 60,
    "start_time": "2022-03-25T07:32:26.276Z"
   },
   {
    "duration": 60,
    "start_time": "2022-03-25T07:32:26.725Z"
   },
   {
    "duration": 9,
    "start_time": "2022-03-25T07:32:28.811Z"
   },
   {
    "duration": 10,
    "start_time": "2022-03-25T07:33:01.780Z"
   },
   {
    "duration": 8,
    "start_time": "2022-03-25T07:33:10.867Z"
   },
   {
    "duration": 4,
    "start_time": "2022-03-25T07:34:49.644Z"
   },
   {
    "duration": 7,
    "start_time": "2022-03-25T07:34:50.820Z"
   },
   {
    "duration": 163,
    "start_time": "2022-03-25T07:38:26.173Z"
   },
   {
    "duration": 5,
    "start_time": "2022-03-25T07:40:30.670Z"
   },
   {
    "duration": 3020,
    "start_time": "2022-03-25T07:42:05.133Z"
   },
   {
    "duration": 9,
    "start_time": "2022-03-25T07:42:55.894Z"
   },
   {
    "duration": 6,
    "start_time": "2022-03-25T07:43:15.108Z"
   },
   {
    "duration": 7,
    "start_time": "2022-03-25T07:43:15.572Z"
   },
   {
    "duration": 5,
    "start_time": "2022-03-25T07:43:24.620Z"
   },
   {
    "duration": 8,
    "start_time": "2022-03-25T07:43:26.548Z"
   },
   {
    "duration": 5,
    "start_time": "2022-03-25T07:43:33.520Z"
   },
   {
    "duration": 34,
    "start_time": "2022-03-25T07:43:33.593Z"
   },
   {
    "duration": 14,
    "start_time": "2022-03-25T07:43:33.634Z"
   },
   {
    "duration": 5,
    "start_time": "2022-03-25T07:43:33.689Z"
   },
   {
    "duration": 20,
    "start_time": "2022-03-25T07:43:33.750Z"
   },
   {
    "duration": 14,
    "start_time": "2022-03-25T07:43:33.813Z"
   },
   {
    "duration": 198,
    "start_time": "2022-03-25T07:43:33.857Z"
   },
   {
    "duration": 31,
    "start_time": "2022-03-25T07:43:34.057Z"
   },
   {
    "duration": 58,
    "start_time": "2022-03-25T07:43:34.090Z"
   },
   {
    "duration": 59,
    "start_time": "2022-03-25T07:43:34.150Z"
   },
   {
    "duration": 12,
    "start_time": "2022-03-25T07:43:34.214Z"
   },
   {
    "duration": 113,
    "start_time": "2022-03-25T07:43:34.229Z"
   },
   {
    "duration": 72,
    "start_time": "2022-03-25T07:43:34.345Z"
   },
   {
    "duration": 35,
    "start_time": "2022-03-25T07:43:34.420Z"
   },
   {
    "duration": 188,
    "start_time": "2022-03-25T07:43:34.458Z"
   },
   {
    "duration": 30,
    "start_time": "2022-03-25T07:43:34.648Z"
   },
   {
    "duration": 58,
    "start_time": "2022-03-25T07:43:34.680Z"
   },
   {
    "duration": 32,
    "start_time": "2022-03-25T07:43:34.740Z"
   },
   {
    "duration": 48,
    "start_time": "2022-03-25T07:43:34.773Z"
   },
   {
    "duration": 56,
    "start_time": "2022-03-25T07:43:34.909Z"
   },
   {
    "duration": 82,
    "start_time": "2022-03-25T07:43:34.968Z"
   },
   {
    "duration": 68,
    "start_time": "2022-03-25T07:43:35.052Z"
   },
   {
    "duration": 65,
    "start_time": "2022-03-25T07:43:35.121Z"
   },
   {
    "duration": 82,
    "start_time": "2022-03-25T07:43:35.204Z"
   },
   {
    "duration": 137,
    "start_time": "2022-03-25T07:43:35.288Z"
   },
   {
    "duration": 17,
    "start_time": "2022-03-25T07:43:35.427Z"
   },
   {
    "duration": 4,
    "start_time": "2022-03-25T07:43:35.445Z"
   },
   {
    "duration": 68,
    "start_time": "2022-03-25T07:43:35.450Z"
   },
   {
    "duration": 32,
    "start_time": "2022-03-25T07:43:35.521Z"
   },
   {
    "duration": 37,
    "start_time": "2022-03-25T07:43:36.020Z"
   },
   {
    "duration": 4,
    "start_time": "2022-03-25T07:43:36.285Z"
   },
   {
    "duration": 53,
    "start_time": "2022-03-25T07:43:36.484Z"
   },
   {
    "duration": 51,
    "start_time": "2022-03-25T07:43:36.675Z"
   },
   {
    "duration": 62,
    "start_time": "2022-03-25T07:43:36.884Z"
   },
   {
    "duration": 71,
    "start_time": "2022-03-25T07:43:37.069Z"
   },
   {
    "duration": 3,
    "start_time": "2022-03-25T07:43:37.255Z"
   },
   {
    "duration": 8,
    "start_time": "2022-03-25T07:43:37.483Z"
   },
   {
    "duration": 3055,
    "start_time": "2022-03-25T07:43:37.883Z"
   },
   {
    "duration": 0,
    "start_time": "2022-03-25T07:43:40.940Z"
   },
   {
    "duration": 4,
    "start_time": "2022-03-25T07:43:48.967Z"
   },
   {
    "duration": 7,
    "start_time": "2022-03-25T07:43:55.676Z"
   },
   {
    "duration": 4,
    "start_time": "2022-03-25T07:44:13.141Z"
   },
   {
    "duration": 10,
    "start_time": "2022-03-25T07:44:13.948Z"
   },
   {
    "duration": 29,
    "start_time": "2022-03-25T07:45:46.644Z"
   },
   {
    "duration": 40,
    "start_time": "2022-03-25T07:46:38.645Z"
   },
   {
    "duration": 18,
    "start_time": "2022-03-25T07:47:06.253Z"
   },
   {
    "duration": 109,
    "start_time": "2022-03-25T07:47:14.573Z"
   },
   {
    "duration": 7,
    "start_time": "2022-03-25T07:50:37.261Z"
   },
   {
    "duration": 2884,
    "start_time": "2022-03-25T07:51:32.446Z"
   },
   {
    "duration": 3118,
    "start_time": "2022-03-25T07:51:51.590Z"
   },
   {
    "duration": 3216,
    "start_time": "2022-03-25T07:52:57.374Z"
   },
   {
    "duration": 3214,
    "start_time": "2022-03-25T07:54:16.806Z"
   },
   {
    "duration": 5,
    "start_time": "2022-03-25T07:54:26.472Z"
   },
   {
    "duration": 62,
    "start_time": "2022-03-25T07:54:26.539Z"
   },
   {
    "duration": 19,
    "start_time": "2022-03-25T07:54:26.603Z"
   },
   {
    "duration": 10,
    "start_time": "2022-03-25T07:54:26.641Z"
   },
   {
    "duration": 32,
    "start_time": "2022-03-25T07:54:26.675Z"
   },
   {
    "duration": 12,
    "start_time": "2022-03-25T07:54:26.741Z"
   },
   {
    "duration": 199,
    "start_time": "2022-03-25T07:54:26.811Z"
   },
   {
    "duration": 37,
    "start_time": "2022-03-25T07:54:27.013Z"
   },
   {
    "duration": 78,
    "start_time": "2022-03-25T07:54:27.052Z"
   },
   {
    "duration": 41,
    "start_time": "2022-03-25T07:54:27.132Z"
   },
   {
    "duration": 42,
    "start_time": "2022-03-25T07:54:27.175Z"
   },
   {
    "duration": 117,
    "start_time": "2022-03-25T07:54:27.220Z"
   },
   {
    "duration": 44,
    "start_time": "2022-03-25T07:54:27.340Z"
   },
   {
    "duration": 37,
    "start_time": "2022-03-25T07:54:27.402Z"
   },
   {
    "duration": 225,
    "start_time": "2022-03-25T07:54:27.442Z"
   },
   {
    "duration": 49,
    "start_time": "2022-03-25T07:54:27.669Z"
   },
   {
    "duration": 42,
    "start_time": "2022-03-25T07:54:27.720Z"
   },
   {
    "duration": 59,
    "start_time": "2022-03-25T07:54:27.764Z"
   },
   {
    "duration": 29,
    "start_time": "2022-03-25T07:54:27.825Z"
   },
   {
    "duration": 79,
    "start_time": "2022-03-25T07:54:27.859Z"
   },
   {
    "duration": 72,
    "start_time": "2022-03-25T07:54:27.940Z"
   },
   {
    "duration": 58,
    "start_time": "2022-03-25T07:54:28.014Z"
   },
   {
    "duration": 91,
    "start_time": "2022-03-25T07:54:28.075Z"
   },
   {
    "duration": 153,
    "start_time": "2022-03-25T07:54:28.169Z"
   },
   {
    "duration": 219,
    "start_time": "2022-03-25T07:54:28.325Z"
   },
   {
    "duration": 25,
    "start_time": "2022-03-25T07:54:28.547Z"
   },
   {
    "duration": 4,
    "start_time": "2022-03-25T07:54:28.574Z"
   },
   {
    "duration": 35,
    "start_time": "2022-03-25T07:54:28.601Z"
   },
   {
    "duration": 63,
    "start_time": "2022-03-25T07:54:28.638Z"
   },
   {
    "duration": 44,
    "start_time": "2022-03-25T07:54:28.704Z"
   },
   {
    "duration": 5,
    "start_time": "2022-03-25T07:54:28.751Z"
   },
   {
    "duration": 64,
    "start_time": "2022-03-25T07:54:28.758Z"
   },
   {
    "duration": 59,
    "start_time": "2022-03-25T07:54:28.825Z"
   },
   {
    "duration": 54,
    "start_time": "2022-03-25T07:54:28.887Z"
   },
   {
    "duration": 80,
    "start_time": "2022-03-25T07:54:28.943Z"
   },
   {
    "duration": 4,
    "start_time": "2022-03-25T07:54:29.027Z"
   },
   {
    "duration": 68,
    "start_time": "2022-03-25T07:54:29.033Z"
   },
   {
    "duration": 18,
    "start_time": "2022-03-25T07:54:29.104Z"
   },
   {
    "duration": 96,
    "start_time": "2022-03-25T07:54:29.124Z"
   },
   {
    "duration": 19,
    "start_time": "2022-03-25T07:54:29.222Z"
   },
   {
    "duration": 3266,
    "start_time": "2022-03-25T07:54:51.837Z"
   },
   {
    "duration": 4,
    "start_time": "2022-03-25T07:56:11.080Z"
   },
   {
    "duration": 56,
    "start_time": "2022-03-25T07:56:11.138Z"
   },
   {
    "duration": 14,
    "start_time": "2022-03-25T07:56:11.196Z"
   },
   {
    "duration": 7,
    "start_time": "2022-03-25T07:56:11.240Z"
   },
   {
    "duration": 23,
    "start_time": "2022-03-25T07:56:11.264Z"
   },
   {
    "duration": 19,
    "start_time": "2022-03-25T07:56:11.335Z"
   },
   {
    "duration": 197,
    "start_time": "2022-03-25T07:56:11.397Z"
   },
   {
    "duration": 34,
    "start_time": "2022-03-25T07:56:11.596Z"
   },
   {
    "duration": 71,
    "start_time": "2022-03-25T07:56:11.632Z"
   },
   {
    "duration": 42,
    "start_time": "2022-03-25T07:56:11.706Z"
   },
   {
    "duration": 13,
    "start_time": "2022-03-25T07:56:11.750Z"
   },
   {
    "duration": 155,
    "start_time": "2022-03-25T07:56:11.765Z"
   },
   {
    "duration": 36,
    "start_time": "2022-03-25T07:56:11.923Z"
   },
   {
    "duration": 60,
    "start_time": "2022-03-25T07:56:11.961Z"
   },
   {
    "duration": 187,
    "start_time": "2022-03-25T07:56:12.024Z"
   },
   {
    "duration": 32,
    "start_time": "2022-03-25T07:56:12.213Z"
   },
   {
    "duration": 65,
    "start_time": "2022-03-25T07:56:12.248Z"
   },
   {
    "duration": 41,
    "start_time": "2022-03-25T07:56:12.315Z"
   },
   {
    "duration": 45,
    "start_time": "2022-03-25T07:56:12.359Z"
   },
   {
    "duration": 61,
    "start_time": "2022-03-25T07:56:12.457Z"
   },
   {
    "duration": 60,
    "start_time": "2022-03-25T07:56:12.521Z"
   },
   {
    "duration": 75,
    "start_time": "2022-03-25T07:56:12.583Z"
   },
   {
    "duration": 90,
    "start_time": "2022-03-25T07:56:12.661Z"
   },
   {
    "duration": 100,
    "start_time": "2022-03-25T07:56:12.754Z"
   },
   {
    "duration": 151,
    "start_time": "2022-03-25T07:56:12.855Z"
   },
   {
    "duration": 18,
    "start_time": "2022-03-25T07:56:13.009Z"
   },
   {
    "duration": 6,
    "start_time": "2022-03-25T07:56:13.029Z"
   },
   {
    "duration": 69,
    "start_time": "2022-03-25T07:56:13.037Z"
   },
   {
    "duration": 42,
    "start_time": "2022-03-25T07:56:13.109Z"
   },
   {
    "duration": 54,
    "start_time": "2022-03-25T07:56:13.153Z"
   },
   {
    "duration": 6,
    "start_time": "2022-03-25T07:56:13.210Z"
   },
   {
    "duration": 50,
    "start_time": "2022-03-25T07:56:13.218Z"
   },
   {
    "duration": 78,
    "start_time": "2022-03-25T07:56:13.270Z"
   },
   {
    "duration": 62,
    "start_time": "2022-03-25T07:56:13.350Z"
   },
   {
    "duration": 72,
    "start_time": "2022-03-25T07:56:13.414Z"
   },
   {
    "duration": 13,
    "start_time": "2022-03-25T07:56:13.489Z"
   },
   {
    "duration": 51,
    "start_time": "2022-03-25T07:56:13.505Z"
   },
   {
    "duration": 18,
    "start_time": "2022-03-25T07:56:13.558Z"
   },
   {
    "duration": 93,
    "start_time": "2022-03-25T07:56:13.927Z"
   },
   {
    "duration": 18,
    "start_time": "2022-03-25T07:56:14.214Z"
   },
   {
    "duration": 58,
    "start_time": "2022-03-25T07:56:14.973Z"
   },
   {
    "duration": 3114,
    "start_time": "2022-03-25T07:58:06.070Z"
   },
   {
    "duration": 3,
    "start_time": "2022-03-25T07:58:18.526Z"
   },
   {
    "duration": 47,
    "start_time": "2022-03-25T07:58:18.585Z"
   },
   {
    "duration": 14,
    "start_time": "2022-03-25T07:58:18.634Z"
   },
   {
    "duration": 8,
    "start_time": "2022-03-25T07:58:18.694Z"
   },
   {
    "duration": 24,
    "start_time": "2022-03-25T07:58:18.726Z"
   },
   {
    "duration": 15,
    "start_time": "2022-03-25T07:58:18.795Z"
   },
   {
    "duration": 202,
    "start_time": "2022-03-25T07:58:18.849Z"
   },
   {
    "duration": 34,
    "start_time": "2022-03-25T07:58:19.053Z"
   },
   {
    "duration": 51,
    "start_time": "2022-03-25T07:58:19.100Z"
   },
   {
    "duration": 61,
    "start_time": "2022-03-25T07:58:19.153Z"
   },
   {
    "duration": 12,
    "start_time": "2022-03-25T07:58:19.216Z"
   },
   {
    "duration": 132,
    "start_time": "2022-03-25T07:58:19.231Z"
   },
   {
    "duration": 44,
    "start_time": "2022-03-25T07:58:19.365Z"
   },
   {
    "duration": 37,
    "start_time": "2022-03-25T07:58:19.410Z"
   },
   {
    "duration": 189,
    "start_time": "2022-03-25T07:58:19.450Z"
   },
   {
    "duration": 36,
    "start_time": "2022-03-25T07:58:20.101Z"
   },
   {
    "duration": 43,
    "start_time": "2022-03-25T07:58:20.493Z"
   },
   {
    "duration": 38,
    "start_time": "2022-03-25T07:58:21.004Z"
   },
   {
    "duration": 29,
    "start_time": "2022-03-25T07:58:21.365Z"
   },
   {
    "duration": 62,
    "start_time": "2022-03-25T07:58:22.797Z"
   },
   {
    "duration": 56,
    "start_time": "2022-03-25T07:58:23.021Z"
   },
   {
    "duration": 52,
    "start_time": "2022-03-25T07:58:23.285Z"
   },
   {
    "duration": 68,
    "start_time": "2022-03-25T07:58:23.766Z"
   },
   {
    "duration": 84,
    "start_time": "2022-03-25T07:58:24.462Z"
   },
   {
    "duration": 116,
    "start_time": "2022-03-25T07:58:24.941Z"
   },
   {
    "duration": 15,
    "start_time": "2022-03-25T07:58:25.837Z"
   },
   {
    "duration": 4,
    "start_time": "2022-03-25T07:58:26.596Z"
   },
   {
    "duration": 32,
    "start_time": "2022-03-25T07:58:27.300Z"
   },
   {
    "duration": 34,
    "start_time": "2022-03-25T07:58:27.709Z"
   },
   {
    "duration": 34,
    "start_time": "2022-03-25T07:58:27.901Z"
   },
   {
    "duration": 3,
    "start_time": "2022-03-25T07:58:28.079Z"
   },
   {
    "duration": 43,
    "start_time": "2022-03-25T07:58:28.237Z"
   },
   {
    "duration": 43,
    "start_time": "2022-03-25T07:58:28.413Z"
   },
   {
    "duration": 49,
    "start_time": "2022-03-25T07:58:28.583Z"
   },
   {
    "duration": 58,
    "start_time": "2022-03-25T07:58:28.742Z"
   },
   {
    "duration": 5,
    "start_time": "2022-03-25T07:58:28.910Z"
   },
   {
    "duration": 51,
    "start_time": "2022-03-25T07:58:29.077Z"
   },
   {
    "duration": 15,
    "start_time": "2022-03-25T07:58:29.308Z"
   },
   {
    "duration": 99,
    "start_time": "2022-03-25T07:58:29.718Z"
   },
   {
    "duration": 11,
    "start_time": "2022-03-25T07:58:32.038Z"
   },
   {
    "duration": 13,
    "start_time": "2022-03-25T07:59:02.542Z"
   },
   {
    "duration": 4,
    "start_time": "2022-03-25T07:59:43.495Z"
   },
   {
    "duration": 9,
    "start_time": "2022-03-25T08:00:03.862Z"
   },
   {
    "duration": 5,
    "start_time": "2022-03-25T08:00:12.390Z"
   },
   {
    "duration": 4,
    "start_time": "2022-03-25T08:01:28.004Z"
   },
   {
    "duration": 41,
    "start_time": "2022-03-25T08:01:28.071Z"
   },
   {
    "duration": 13,
    "start_time": "2022-03-25T08:01:28.116Z"
   },
   {
    "duration": 7,
    "start_time": "2022-03-25T08:01:28.180Z"
   },
   {
    "duration": 19,
    "start_time": "2022-03-25T08:01:28.209Z"
   },
   {
    "duration": 12,
    "start_time": "2022-03-25T08:01:28.267Z"
   },
   {
    "duration": 188,
    "start_time": "2022-03-25T08:01:28.335Z"
   },
   {
    "duration": 33,
    "start_time": "2022-03-25T08:01:28.526Z"
   },
   {
    "duration": 86,
    "start_time": "2022-03-25T08:01:28.561Z"
   },
   {
    "duration": 63,
    "start_time": "2022-03-25T08:01:28.650Z"
   },
   {
    "duration": 17,
    "start_time": "2022-03-25T08:01:28.715Z"
   },
   {
    "duration": 181,
    "start_time": "2022-03-25T08:01:28.735Z"
   },
   {
    "duration": 35,
    "start_time": "2022-03-25T08:01:28.918Z"
   },
   {
    "duration": 53,
    "start_time": "2022-03-25T08:01:28.955Z"
   },
   {
    "duration": 169,
    "start_time": "2022-03-25T08:01:29.009Z"
   },
   {
    "duration": 38,
    "start_time": "2022-03-25T08:01:29.180Z"
   },
   {
    "duration": 39,
    "start_time": "2022-03-25T08:01:29.219Z"
   },
   {
    "duration": 52,
    "start_time": "2022-03-25T08:01:29.259Z"
   },
   {
    "duration": 27,
    "start_time": "2022-03-25T08:01:29.313Z"
   },
   {
    "duration": 55,
    "start_time": "2022-03-25T08:01:29.395Z"
   },
   {
    "duration": 72,
    "start_time": "2022-03-25T08:01:29.452Z"
   },
   {
    "duration": 50,
    "start_time": "2022-03-25T08:01:29.526Z"
   },
   {
    "duration": 78,
    "start_time": "2022-03-25T08:01:29.578Z"
   },
   {
    "duration": 100,
    "start_time": "2022-03-25T08:01:29.659Z"
   },
   {
    "duration": 123,
    "start_time": "2022-03-25T08:01:29.761Z"
   },
   {
    "duration": 18,
    "start_time": "2022-03-25T08:01:29.900Z"
   },
   {
    "duration": 4,
    "start_time": "2022-03-25T08:01:29.920Z"
   },
   {
    "duration": 35,
    "start_time": "2022-03-25T08:01:29.926Z"
   },
   {
    "duration": 59,
    "start_time": "2022-03-25T08:01:29.963Z"
   },
   {
    "duration": 35,
    "start_time": "2022-03-25T08:01:30.025Z"
   },
   {
    "duration": 12,
    "start_time": "2022-03-25T08:01:30.062Z"
   },
   {
    "duration": 59,
    "start_time": "2022-03-25T08:01:30.076Z"
   },
   {
    "duration": 64,
    "start_time": "2022-03-25T08:01:30.137Z"
   },
   {
    "duration": 47,
    "start_time": "2022-03-25T08:01:30.204Z"
   },
   {
    "duration": 82,
    "start_time": "2022-03-25T08:01:30.253Z"
   },
   {
    "duration": 4,
    "start_time": "2022-03-25T08:01:30.337Z"
   },
   {
    "duration": 73,
    "start_time": "2022-03-25T08:01:30.343Z"
   },
   {
    "duration": 26,
    "start_time": "2022-03-25T08:01:30.418Z"
   },
   {
    "duration": 103,
    "start_time": "2022-03-25T08:01:30.447Z"
   },
   {
    "duration": 12,
    "start_time": "2022-03-25T08:01:30.552Z"
   },
   {
    "duration": 36,
    "start_time": "2022-03-25T08:01:30.566Z"
   },
   {
    "duration": 79,
    "start_time": "2022-03-25T08:01:30.604Z"
   },
   {
    "duration": 8,
    "start_time": "2022-03-25T08:02:56.822Z"
   },
   {
    "duration": 8,
    "start_time": "2022-03-25T08:03:15.926Z"
   },
   {
    "duration": 7,
    "start_time": "2022-03-25T08:03:21.680Z"
   },
   {
    "duration": 7,
    "start_time": "2022-03-25T08:05:45.279Z"
   },
   {
    "duration": 7,
    "start_time": "2022-03-25T08:05:50.870Z"
   },
   {
    "duration": 4,
    "start_time": "2022-03-25T08:43:06.329Z"
   },
   {
    "duration": 35,
    "start_time": "2022-03-25T08:43:08.354Z"
   },
   {
    "duration": 15,
    "start_time": "2022-03-25T08:43:10.986Z"
   },
   {
    "duration": 7,
    "start_time": "2022-03-25T08:43:15.778Z"
   },
   {
    "duration": 22,
    "start_time": "2022-03-25T08:43:16.722Z"
   },
   {
    "duration": 13,
    "start_time": "2022-03-25T08:43:24.049Z"
   },
   {
    "duration": 191,
    "start_time": "2022-03-25T08:43:28.601Z"
   },
   {
    "duration": 35,
    "start_time": "2022-03-25T08:43:31.233Z"
   },
   {
    "duration": 48,
    "start_time": "2022-03-25T08:43:35.857Z"
   },
   {
    "duration": 38,
    "start_time": "2022-03-25T08:43:54.241Z"
   },
   {
    "duration": 14,
    "start_time": "2022-03-25T08:43:57.873Z"
   },
   {
    "duration": 2933,
    "start_time": "2022-03-25T08:44:27.036Z"
   },
   {
    "duration": 3,
    "start_time": "2022-03-25T08:44:32.745Z"
   },
   {
    "duration": 48,
    "start_time": "2022-03-25T08:44:33.289Z"
   },
   {
    "duration": 16,
    "start_time": "2022-03-25T08:44:33.561Z"
   },
   {
    "duration": 7,
    "start_time": "2022-03-25T08:44:34.225Z"
   },
   {
    "duration": 23,
    "start_time": "2022-03-25T08:44:34.522Z"
   },
   {
    "duration": 14,
    "start_time": "2022-03-25T08:44:35.553Z"
   },
   {
    "duration": 189,
    "start_time": "2022-03-25T08:44:37.921Z"
   },
   {
    "duration": 35,
    "start_time": "2022-03-25T08:44:40.865Z"
   },
   {
    "duration": 51,
    "start_time": "2022-03-25T08:44:42.216Z"
   },
   {
    "duration": 48,
    "start_time": "2022-03-25T08:44:46.385Z"
   },
   {
    "duration": 120,
    "start_time": "2022-03-25T08:44:53.249Z"
   },
   {
    "duration": 56,
    "start_time": "2022-03-25T08:44:56.826Z"
   },
   {
    "duration": 56,
    "start_time": "2022-03-25T08:44:59.161Z"
   },
   {
    "duration": 190,
    "start_time": "2022-03-25T08:45:05.496Z"
   },
   {
    "duration": 35,
    "start_time": "2022-03-25T08:45:14.338Z"
   },
   {
    "duration": 55,
    "start_time": "2022-03-25T08:45:26.169Z"
   },
   {
    "duration": 33,
    "start_time": "2022-03-25T08:45:46.466Z"
   },
   {
    "duration": 6,
    "start_time": "2022-03-25T08:47:12.434Z"
   },
   {
    "duration": 5,
    "start_time": "2022-03-25T08:47:50.723Z"
   },
   {
    "duration": 3007,
    "start_time": "2022-03-25T08:48:21.401Z"
   },
   {
    "duration": 3087,
    "start_time": "2022-03-25T08:48:36.234Z"
   },
   {
    "duration": 7,
    "start_time": "2022-03-25T08:48:48.250Z"
   },
   {
    "duration": 46,
    "start_time": "2022-03-25T08:49:15.434Z"
   },
   {
    "duration": 42,
    "start_time": "2022-03-25T08:49:22.475Z"
   },
   {
    "duration": 41,
    "start_time": "2022-03-25T08:49:33.907Z"
   },
   {
    "duration": 4455,
    "start_time": "2022-03-25T08:49:41.090Z"
   },
   {
    "duration": 35,
    "start_time": "2022-03-25T08:49:51.618Z"
   },
   {
    "duration": 4,
    "start_time": "2022-03-25T08:52:05.498Z"
   },
   {
    "duration": 86,
    "start_time": "2022-03-25T08:52:06.074Z"
   },
   {
    "duration": 14,
    "start_time": "2022-03-25T08:52:06.459Z"
   },
   {
    "duration": 7,
    "start_time": "2022-03-25T08:52:08.858Z"
   },
   {
    "duration": 21,
    "start_time": "2022-03-25T08:52:09.498Z"
   },
   {
    "duration": 13,
    "start_time": "2022-03-25T08:52:13.418Z"
   },
   {
    "duration": 199,
    "start_time": "2022-03-25T08:52:17.114Z"
   },
   {
    "duration": 36,
    "start_time": "2022-03-25T08:52:19.538Z"
   },
   {
    "duration": 48,
    "start_time": "2022-03-25T08:52:22.426Z"
   },
   {
    "duration": 4,
    "start_time": "2022-03-25T08:54:34.024Z"
   },
   {
    "duration": 67,
    "start_time": "2022-03-25T08:54:34.094Z"
   },
   {
    "duration": 14,
    "start_time": "2022-03-25T08:54:34.163Z"
   },
   {
    "duration": 7,
    "start_time": "2022-03-25T08:54:34.191Z"
   },
   {
    "duration": 19,
    "start_time": "2022-03-25T08:54:34.225Z"
   },
   {
    "duration": 13,
    "start_time": "2022-03-25T08:54:35.012Z"
   },
   {
    "duration": 183,
    "start_time": "2022-03-25T08:54:36.306Z"
   },
   {
    "duration": 38,
    "start_time": "2022-03-25T08:54:39.683Z"
   },
   {
    "duration": 54,
    "start_time": "2022-03-25T08:54:40.885Z"
   },
   {
    "duration": 2932,
    "start_time": "2022-03-25T08:54:47.401Z"
   },
   {
    "duration": 120,
    "start_time": "2022-03-25T08:54:57.730Z"
   },
   {
    "duration": 35,
    "start_time": "2022-03-25T08:54:58.762Z"
   },
   {
    "duration": 36,
    "start_time": "2022-03-25T08:54:59.714Z"
   },
   {
    "duration": 181,
    "start_time": "2022-03-25T08:55:01.170Z"
   },
   {
    "duration": 31,
    "start_time": "2022-03-25T08:55:02.722Z"
   },
   {
    "duration": 43,
    "start_time": "2022-03-25T08:55:04.251Z"
   },
   {
    "duration": 36,
    "start_time": "2022-03-25T08:55:07.707Z"
   },
   {
    "duration": 9,
    "start_time": "2022-03-25T08:55:09.003Z"
   },
   {
    "duration": 30,
    "start_time": "2022-03-25T08:55:09.938Z"
   },
   {
    "duration": 14,
    "start_time": "2022-03-25T08:55:20.059Z"
   },
   {
    "duration": 55,
    "start_time": "2022-03-25T08:55:52.026Z"
   },
   {
    "duration": 69,
    "start_time": "2022-03-25T08:58:20.236Z"
   },
   {
    "duration": 4,
    "start_time": "2022-03-25T08:58:21.730Z"
   },
   {
    "duration": 4,
    "start_time": "2022-03-25T08:59:33.827Z"
   },
   {
    "duration": 13,
    "start_time": "2022-03-25T09:00:10.372Z"
   },
   {
    "duration": 3,
    "start_time": "2022-03-25T09:00:33.723Z"
   },
   {
    "duration": 18,
    "start_time": "2022-03-25T09:00:35.147Z"
   },
   {
    "duration": 4,
    "start_time": "2022-03-25T09:00:47.244Z"
   },
   {
    "duration": 14,
    "start_time": "2022-03-25T09:00:47.772Z"
   },
   {
    "duration": 3,
    "start_time": "2022-03-25T09:02:34.676Z"
   },
   {
    "duration": 74,
    "start_time": "2022-03-25T09:02:35.331Z"
   },
   {
    "duration": 13,
    "start_time": "2022-03-25T09:02:35.547Z"
   },
   {
    "duration": 6,
    "start_time": "2022-03-25T09:02:36.467Z"
   },
   {
    "duration": 19,
    "start_time": "2022-03-25T09:02:36.868Z"
   },
   {
    "duration": 11,
    "start_time": "2022-03-25T09:02:37.867Z"
   },
   {
    "duration": 194,
    "start_time": "2022-03-25T09:02:40.699Z"
   },
   {
    "duration": 35,
    "start_time": "2022-03-25T09:02:43.202Z"
   },
   {
    "duration": 49,
    "start_time": "2022-03-25T09:02:44.267Z"
   },
   {
    "duration": 19,
    "start_time": "2022-03-25T09:02:51.339Z"
   },
   {
    "duration": 26,
    "start_time": "2022-03-25T09:04:13.873Z"
   },
   {
    "duration": 26,
    "start_time": "2022-03-25T09:04:25.246Z"
   },
   {
    "duration": 35,
    "start_time": "2022-03-25T09:04:40.699Z"
   },
   {
    "duration": 108,
    "start_time": "2022-03-25T09:04:47.818Z"
   },
   {
    "duration": 42,
    "start_time": "2022-03-25T09:04:48.522Z"
   },
   {
    "duration": 35,
    "start_time": "2022-03-25T09:04:51.555Z"
   },
   {
    "duration": 247,
    "start_time": "2022-03-25T09:04:56.283Z"
   },
   {
    "duration": 32,
    "start_time": "2022-03-25T09:05:04.619Z"
   },
   {
    "duration": 43,
    "start_time": "2022-03-25T09:05:09.083Z"
   },
   {
    "duration": 51,
    "start_time": "2022-03-25T09:06:40.549Z"
   },
   {
    "duration": 10,
    "start_time": "2022-03-25T09:07:36.036Z"
   },
   {
    "duration": 69,
    "start_time": "2022-03-25T09:07:42.373Z"
   },
   {
    "duration": 4,
    "start_time": "2022-03-25T09:09:23.204Z"
   },
   {
    "duration": 9,
    "start_time": "2022-03-25T09:09:47.764Z"
   },
   {
    "duration": 4,
    "start_time": "2022-03-25T09:10:08.468Z"
   },
   {
    "duration": 60,
    "start_time": "2022-03-25T09:10:08.843Z"
   },
   {
    "duration": 16,
    "start_time": "2022-03-25T09:10:09.211Z"
   },
   {
    "duration": 7,
    "start_time": "2022-03-25T09:10:09.539Z"
   },
   {
    "duration": 23,
    "start_time": "2022-03-25T09:10:09.708Z"
   },
   {
    "duration": 13,
    "start_time": "2022-03-25T09:10:10.075Z"
   },
   {
    "duration": 199,
    "start_time": "2022-03-25T09:10:10.491Z"
   },
   {
    "duration": 35,
    "start_time": "2022-03-25T09:10:10.804Z"
   },
   {
    "duration": 52,
    "start_time": "2022-03-25T09:10:11.147Z"
   },
   {
    "duration": 42,
    "start_time": "2022-03-25T09:10:11.804Z"
   },
   {
    "duration": 121,
    "start_time": "2022-03-25T09:10:12.379Z"
   },
   {
    "duration": 39,
    "start_time": "2022-03-25T09:10:12.940Z"
   },
   {
    "duration": 39,
    "start_time": "2022-03-25T09:10:13.652Z"
   },
   {
    "duration": 177,
    "start_time": "2022-03-25T09:10:14.595Z"
   },
   {
    "duration": 38,
    "start_time": "2022-03-25T09:10:15.195Z"
   },
   {
    "duration": 50,
    "start_time": "2022-03-25T09:10:15.796Z"
   },
   {
    "duration": 4281,
    "start_time": "2022-03-25T09:10:17.314Z"
   },
   {
    "duration": 33,
    "start_time": "2022-03-25T09:10:24.059Z"
   },
   {
    "duration": 14,
    "start_time": "2022-03-25T09:10:29.852Z"
   },
   {
    "duration": 58,
    "start_time": "2022-03-25T09:11:05.341Z"
   },
   {
    "duration": 56,
    "start_time": "2022-03-25T09:11:09.132Z"
   },
   {
    "duration": 57,
    "start_time": "2022-03-25T09:11:12.188Z"
   },
   {
    "duration": 4,
    "start_time": "2022-03-25T09:11:15.267Z"
   },
   {
    "duration": 3069,
    "start_time": "2022-03-25T09:11:15.692Z"
   },
   {
    "duration": 4,
    "start_time": "2022-03-25T09:13:26.108Z"
   },
   {
    "duration": 2931,
    "start_time": "2022-03-25T09:13:28.517Z"
   },
   {
    "duration": 4,
    "start_time": "2022-03-25T09:13:50.620Z"
   },
   {
    "duration": 2858,
    "start_time": "2022-03-25T09:13:51.068Z"
   },
   {
    "duration": 20,
    "start_time": "2022-03-25T09:14:09.277Z"
   },
   {
    "duration": 3,
    "start_time": "2022-03-25T09:14:44.301Z"
   },
   {
    "duration": 15,
    "start_time": "2022-03-25T09:14:48.717Z"
   },
   {
    "duration": 4,
    "start_time": "2022-03-25T09:14:57.044Z"
   },
   {
    "duration": 20,
    "start_time": "2022-03-25T09:14:57.524Z"
   },
   {
    "duration": 4,
    "start_time": "2022-03-25T09:15:13.909Z"
   },
   {
    "duration": 6,
    "start_time": "2022-03-25T09:15:14.317Z"
   },
   {
    "duration": 3,
    "start_time": "2022-03-25T09:15:38.766Z"
   },
   {
    "duration": 18,
    "start_time": "2022-03-25T09:15:39.253Z"
   },
   {
    "duration": 3,
    "start_time": "2022-03-25T09:15:53.557Z"
   },
   {
    "duration": 5,
    "start_time": "2022-03-25T09:15:53.973Z"
   },
   {
    "duration": 4,
    "start_time": "2022-03-25T09:16:37.557Z"
   },
   {
    "duration": 16,
    "start_time": "2022-03-25T09:16:38.004Z"
   },
   {
    "duration": 4,
    "start_time": "2022-03-25T09:16:49.742Z"
   },
   {
    "duration": 6,
    "start_time": "2022-03-25T09:16:50.125Z"
   },
   {
    "duration": 4,
    "start_time": "2022-03-25T09:17:38.637Z"
   },
   {
    "duration": 18,
    "start_time": "2022-03-25T09:17:39.284Z"
   },
   {
    "duration": 4,
    "start_time": "2022-03-25T09:18:11.197Z"
   },
   {
    "duration": 3,
    "start_time": "2022-03-25T09:18:47.862Z"
   },
   {
    "duration": 5,
    "start_time": "2022-03-25T09:18:48.286Z"
   },
   {
    "duration": 6,
    "start_time": "2022-03-25T09:18:58.796Z"
   },
   {
    "duration": 27,
    "start_time": "2022-03-25T09:19:29.221Z"
   },
   {
    "duration": 166,
    "start_time": "2022-03-25T09:20:00.494Z"
   },
   {
    "duration": 200,
    "start_time": "2022-03-25T09:20:17.053Z"
   },
   {
    "duration": 44,
    "start_time": "2022-03-25T09:20:57.325Z"
   },
   {
    "duration": 41,
    "start_time": "2022-03-25T09:21:41.070Z"
   },
   {
    "duration": 4,
    "start_time": "2022-03-25T09:21:51.427Z"
   },
   {
    "duration": 46,
    "start_time": "2022-03-25T09:21:51.485Z"
   },
   {
    "duration": 15,
    "start_time": "2022-03-25T09:21:51.534Z"
   },
   {
    "duration": 7,
    "start_time": "2022-03-25T09:21:51.597Z"
   },
   {
    "duration": 26,
    "start_time": "2022-03-25T09:21:51.628Z"
   },
   {
    "duration": 15,
    "start_time": "2022-03-25T09:21:51.687Z"
   },
   {
    "duration": 179,
    "start_time": "2022-03-25T09:21:51.759Z"
   },
   {
    "duration": 32,
    "start_time": "2022-03-25T09:21:51.941Z"
   },
   {
    "duration": 62,
    "start_time": "2022-03-25T09:21:51.975Z"
   },
   {
    "duration": 39,
    "start_time": "2022-03-25T09:21:52.039Z"
   },
   {
    "duration": 113,
    "start_time": "2022-03-25T09:21:52.079Z"
   },
   {
    "duration": 39,
    "start_time": "2022-03-25T09:21:52.194Z"
   },
   {
    "duration": 35,
    "start_time": "2022-03-25T09:21:52.235Z"
   },
   {
    "duration": 158,
    "start_time": "2022-03-25T09:21:53.332Z"
   },
   {
    "duration": 33,
    "start_time": "2022-03-25T09:21:53.725Z"
   },
   {
    "duration": 41,
    "start_time": "2022-03-25T09:21:54.092Z"
   },
   {
    "duration": 28,
    "start_time": "2022-03-25T09:21:55.012Z"
   },
   {
    "duration": 56,
    "start_time": "2022-03-25T09:21:56.292Z"
   },
   {
    "duration": 56,
    "start_time": "2022-03-25T09:21:57.685Z"
   },
   {
    "duration": 48,
    "start_time": "2022-03-25T09:21:59.965Z"
   },
   {
    "duration": 3,
    "start_time": "2022-03-25T09:22:01.334Z"
   },
   {
    "duration": 42,
    "start_time": "2022-03-25T09:22:01.901Z"
   },
   {
    "duration": 695,
    "start_time": "2022-03-25T09:22:46.374Z"
   },
   {
    "duration": 160,
    "start_time": "2022-03-25T09:24:28.878Z"
   },
   {
    "duration": 11,
    "start_time": "2022-03-25T09:24:34.656Z"
   },
   {
    "duration": 704,
    "start_time": "2022-03-25T09:24:45.838Z"
   },
   {
    "duration": 10,
    "start_time": "2022-03-25T09:28:20.558Z"
   },
   {
    "duration": 168,
    "start_time": "2022-03-25T09:29:37.838Z"
   },
   {
    "duration": 4,
    "start_time": "2022-03-25T09:29:46.966Z"
   },
   {
    "duration": 968,
    "start_time": "2022-03-25T09:29:49.766Z"
   },
   {
    "duration": 3,
    "start_time": "2022-03-25T09:30:31.863Z"
   },
   {
    "duration": 46,
    "start_time": "2022-03-25T09:30:31.921Z"
   },
   {
    "duration": 18,
    "start_time": "2022-03-25T09:30:31.972Z"
   },
   {
    "duration": 7,
    "start_time": "2022-03-25T09:30:32.020Z"
   },
   {
    "duration": 22,
    "start_time": "2022-03-25T09:30:32.066Z"
   },
   {
    "duration": 14,
    "start_time": "2022-03-25T09:30:32.121Z"
   },
   {
    "duration": 198,
    "start_time": "2022-03-25T09:30:32.217Z"
   },
   {
    "duration": 35,
    "start_time": "2022-03-25T09:30:32.418Z"
   },
   {
    "duration": 72,
    "start_time": "2022-03-25T09:30:32.455Z"
   },
   {
    "duration": 42,
    "start_time": "2022-03-25T09:30:32.530Z"
   },
   {
    "duration": 141,
    "start_time": "2022-03-25T09:30:32.575Z"
   },
   {
    "duration": 38,
    "start_time": "2022-03-25T09:30:32.719Z"
   },
   {
    "duration": 35,
    "start_time": "2022-03-25T09:30:33.389Z"
   },
   {
    "duration": 178,
    "start_time": "2022-03-25T09:30:34.077Z"
   },
   {
    "duration": 35,
    "start_time": "2022-03-25T09:30:34.661Z"
   },
   {
    "duration": 43,
    "start_time": "2022-03-25T09:30:35.054Z"
   },
   {
    "duration": 33,
    "start_time": "2022-03-25T09:30:36.045Z"
   },
   {
    "duration": 57,
    "start_time": "2022-03-25T09:30:37.237Z"
   },
   {
    "duration": 60,
    "start_time": "2022-03-25T09:30:38.325Z"
   },
   {
    "duration": 54,
    "start_time": "2022-03-25T09:30:41.517Z"
   },
   {
    "duration": 3,
    "start_time": "2022-03-25T09:30:45.125Z"
   },
   {
    "duration": 720,
    "start_time": "2022-03-25T09:30:46.563Z"
   },
   {
    "duration": 729,
    "start_time": "2022-03-25T09:33:05.734Z"
   },
   {
    "duration": 3,
    "start_time": "2022-03-25T09:33:22.629Z"
   },
   {
    "duration": 57,
    "start_time": "2022-03-25T09:33:23.005Z"
   },
   {
    "duration": 15,
    "start_time": "2022-03-25T09:33:23.165Z"
   },
   {
    "duration": 7,
    "start_time": "2022-03-25T09:33:23.827Z"
   },
   {
    "duration": 20,
    "start_time": "2022-03-25T09:33:23.861Z"
   },
   {
    "duration": 12,
    "start_time": "2022-03-25T09:33:23.930Z"
   },
   {
    "duration": 215,
    "start_time": "2022-03-25T09:33:23.996Z"
   },
   {
    "duration": 49,
    "start_time": "2022-03-25T09:33:24.213Z"
   },
   {
    "duration": 64,
    "start_time": "2022-03-25T09:33:24.265Z"
   },
   {
    "duration": 37,
    "start_time": "2022-03-25T09:33:25.966Z"
   },
   {
    "duration": 115,
    "start_time": "2022-03-25T09:33:26.005Z"
   },
   {
    "duration": 34,
    "start_time": "2022-03-25T09:33:26.122Z"
   },
   {
    "duration": 34,
    "start_time": "2022-03-25T09:33:26.230Z"
   },
   {
    "duration": 160,
    "start_time": "2022-03-25T09:33:27.054Z"
   },
   {
    "duration": 30,
    "start_time": "2022-03-25T09:33:27.613Z"
   },
   {
    "duration": 44,
    "start_time": "2022-03-25T09:33:28.221Z"
   },
   {
    "duration": 28,
    "start_time": "2022-03-25T09:33:29.845Z"
   },
   {
    "duration": 52,
    "start_time": "2022-03-25T09:33:31.726Z"
   },
   {
    "duration": 50,
    "start_time": "2022-03-25T09:33:32.692Z"
   },
   {
    "duration": 48,
    "start_time": "2022-03-25T09:33:34.765Z"
   },
   {
    "duration": 3,
    "start_time": "2022-03-25T09:33:36.669Z"
   },
   {
    "duration": 21,
    "start_time": "2022-03-25T09:33:37.431Z"
   },
   {
    "duration": 4,
    "start_time": "2022-03-25T09:33:51.646Z"
   },
   {
    "duration": 19,
    "start_time": "2022-03-25T09:33:52.094Z"
   },
   {
    "duration": 201,
    "start_time": "2022-03-25T09:34:01.863Z"
   },
   {
    "duration": 3,
    "start_time": "2022-03-25T09:34:06.047Z"
   },
   {
    "duration": 18,
    "start_time": "2022-03-25T09:34:06.687Z"
   },
   {
    "duration": 4,
    "start_time": "2022-03-25T09:34:21.007Z"
   },
   {
    "duration": 19,
    "start_time": "2022-03-25T09:34:21.327Z"
   },
   {
    "duration": 38,
    "start_time": "2022-03-25T09:34:22.335Z"
   },
   {
    "duration": 3,
    "start_time": "2022-03-25T09:35:53.094Z"
   },
   {
    "duration": 51,
    "start_time": "2022-03-25T09:35:53.591Z"
   },
   {
    "duration": 11,
    "start_time": "2022-03-25T09:36:36.584Z"
   },
   {
    "duration": 15,
    "start_time": "2022-03-25T09:36:42.007Z"
   },
   {
    "duration": 7,
    "start_time": "2022-03-25T09:39:11.335Z"
   },
   {
    "duration": 51,
    "start_time": "2022-03-25T09:40:22.871Z"
   },
   {
    "duration": 45,
    "start_time": "2022-03-25T09:40:37.513Z"
   },
   {
    "duration": 3,
    "start_time": "2022-03-25T09:43:49.043Z"
   },
   {
    "duration": 28,
    "start_time": "2022-03-25T09:43:50.191Z"
   },
   {
    "duration": 3,
    "start_time": "2022-03-25T09:44:16.290Z"
   },
   {
    "duration": 59,
    "start_time": "2022-03-25T09:44:16.347Z"
   },
   {
    "duration": 18,
    "start_time": "2022-03-25T09:44:16.409Z"
   },
   {
    "duration": 7,
    "start_time": "2022-03-25T09:44:16.453Z"
   },
   {
    "duration": 28,
    "start_time": "2022-03-25T09:44:16.483Z"
   },
   {
    "duration": 13,
    "start_time": "2022-03-25T09:44:16.565Z"
   },
   {
    "duration": 194,
    "start_time": "2022-03-25T09:44:16.612Z"
   },
   {
    "duration": 37,
    "start_time": "2022-03-25T09:44:16.810Z"
   },
   {
    "duration": 79,
    "start_time": "2022-03-25T09:44:16.849Z"
   },
   {
    "duration": 38,
    "start_time": "2022-03-25T09:44:16.930Z"
   },
   {
    "duration": 126,
    "start_time": "2022-03-25T09:44:16.970Z"
   },
   {
    "duration": 40,
    "start_time": "2022-03-25T09:44:17.103Z"
   },
   {
    "duration": 35,
    "start_time": "2022-03-25T09:44:17.145Z"
   },
   {
    "duration": 183,
    "start_time": "2022-03-25T09:44:17.203Z"
   },
   {
    "duration": 37,
    "start_time": "2022-03-25T09:44:18.087Z"
   },
   {
    "duration": 43,
    "start_time": "2022-03-25T09:44:18.607Z"
   },
   {
    "duration": 34,
    "start_time": "2022-03-25T09:44:20.190Z"
   },
   {
    "duration": 58,
    "start_time": "2022-03-25T09:44:21.727Z"
   },
   {
    "duration": 55,
    "start_time": "2022-03-25T09:44:23.638Z"
   },
   {
    "duration": 50,
    "start_time": "2022-03-25T09:44:27.543Z"
   },
   {
    "duration": 3,
    "start_time": "2022-03-25T09:44:33.991Z"
   },
   {
    "duration": 23,
    "start_time": "2022-03-25T09:44:40.072Z"
   },
   {
    "duration": 54,
    "start_time": "2022-03-25T09:44:44.886Z"
   },
   {
    "duration": 18,
    "start_time": "2022-03-25T09:45:35.040Z"
   },
   {
    "duration": 18,
    "start_time": "2022-03-25T09:45:49.640Z"
   },
   {
    "duration": 78,
    "start_time": "2022-03-25T09:50:32.656Z"
   },
   {
    "duration": 84,
    "start_time": "2022-03-25T09:50:49.513Z"
   },
   {
    "duration": 113,
    "start_time": "2022-03-25T09:50:57.121Z"
   },
   {
    "duration": 18,
    "start_time": "2022-03-25T09:51:05.135Z"
   },
   {
    "duration": 4,
    "start_time": "2022-03-25T09:51:14.044Z"
   },
   {
    "duration": 40,
    "start_time": "2022-03-25T09:51:15.128Z"
   },
   {
    "duration": 48,
    "start_time": "2022-03-25T09:55:58.535Z"
   },
   {
    "duration": 16,
    "start_time": "2022-03-25T09:56:22.929Z"
   },
   {
    "duration": 7,
    "start_time": "2022-03-25T10:02:15.338Z"
   },
   {
    "duration": 12,
    "start_time": "2022-03-25T10:02:43.058Z"
   },
   {
    "duration": 170,
    "start_time": "2022-03-25T10:02:52.889Z"
   },
   {
    "duration": 23,
    "start_time": "2022-03-25T10:02:54.913Z"
   },
   {
    "duration": 26,
    "start_time": "2022-03-25T10:03:18.722Z"
   },
   {
    "duration": 22,
    "start_time": "2022-03-25T10:03:29.314Z"
   },
   {
    "duration": 9,
    "start_time": "2022-03-25T10:03:46.836Z"
   },
   {
    "duration": 23,
    "start_time": "2022-03-25T10:03:52.218Z"
   },
   {
    "duration": 32,
    "start_time": "2022-03-25T10:04:02.490Z"
   },
   {
    "duration": 49,
    "start_time": "2022-03-25T10:04:05.185Z"
   },
   {
    "duration": 26,
    "start_time": "2022-03-25T10:04:06.466Z"
   },
   {
    "duration": 6,
    "start_time": "2022-03-25T10:07:39.851Z"
   },
   {
    "duration": 25,
    "start_time": "2022-03-25T10:07:48.490Z"
   },
   {
    "duration": 3,
    "start_time": "2022-03-25T10:08:00.039Z"
   },
   {
    "duration": 56,
    "start_time": "2022-03-25T10:08:00.105Z"
   },
   {
    "duration": 14,
    "start_time": "2022-03-25T10:08:00.164Z"
   },
   {
    "duration": 7,
    "start_time": "2022-03-25T10:08:00.212Z"
   },
   {
    "duration": 21,
    "start_time": "2022-03-25T10:08:00.238Z"
   },
   {
    "duration": 11,
    "start_time": "2022-03-25T10:08:00.314Z"
   },
   {
    "duration": 193,
    "start_time": "2022-03-25T10:08:00.372Z"
   },
   {
    "duration": 45,
    "start_time": "2022-03-25T10:08:00.567Z"
   },
   {
    "duration": 49,
    "start_time": "2022-03-25T10:08:00.615Z"
   },
   {
    "duration": 56,
    "start_time": "2022-03-25T10:08:00.666Z"
   },
   {
    "duration": 129,
    "start_time": "2022-03-25T10:08:01.209Z"
   },
   {
    "duration": 36,
    "start_time": "2022-03-25T10:08:01.682Z"
   },
   {
    "duration": 39,
    "start_time": "2022-03-25T10:08:02.024Z"
   },
   {
    "duration": 161,
    "start_time": "2022-03-25T10:08:02.664Z"
   },
   {
    "duration": 29,
    "start_time": "2022-03-25T10:08:03.129Z"
   },
   {
    "duration": 40,
    "start_time": "2022-03-25T10:08:03.513Z"
   },
   {
    "duration": 30,
    "start_time": "2022-03-25T10:08:04.537Z"
   },
   {
    "duration": 58,
    "start_time": "2022-03-25T10:08:05.961Z"
   },
   {
    "duration": 62,
    "start_time": "2022-03-25T10:08:06.521Z"
   },
   {
    "duration": 46,
    "start_time": "2022-03-25T10:08:08.353Z"
   },
   {
    "duration": 34,
    "start_time": "2022-03-25T10:08:09.425Z"
   },
   {
    "duration": 16,
    "start_time": "2022-03-25T10:08:39.098Z"
   },
   {
    "duration": 15,
    "start_time": "2022-03-25T10:09:35.522Z"
   },
   {
    "duration": 64,
    "start_time": "2022-03-25T10:12:54.299Z"
   },
   {
    "duration": 847,
    "start_time": "2022-03-25T10:13:13.202Z"
   },
   {
    "duration": 53,
    "start_time": "2022-03-25T10:13:23.714Z"
   },
   {
    "duration": 793,
    "start_time": "2022-03-25T10:14:20.519Z"
   },
   {
    "duration": 4,
    "start_time": "2022-03-25T10:14:28.329Z"
   },
   {
    "duration": 47,
    "start_time": "2022-03-25T10:14:28.673Z"
   },
   {
    "duration": 14,
    "start_time": "2022-03-25T10:14:28.842Z"
   },
   {
    "duration": 7,
    "start_time": "2022-03-25T10:14:29.194Z"
   },
   {
    "duration": 21,
    "start_time": "2022-03-25T10:14:29.379Z"
   },
   {
    "duration": 12,
    "start_time": "2022-03-25T10:14:29.777Z"
   },
   {
    "duration": 186,
    "start_time": "2022-03-25T10:14:30.169Z"
   },
   {
    "duration": 33,
    "start_time": "2022-03-25T10:14:30.523Z"
   },
   {
    "duration": 49,
    "start_time": "2022-03-25T10:14:30.849Z"
   },
   {
    "duration": 38,
    "start_time": "2022-03-25T10:14:31.370Z"
   },
   {
    "duration": 105,
    "start_time": "2022-03-25T10:14:31.689Z"
   },
   {
    "duration": 33,
    "start_time": "2022-03-25T10:14:32.073Z"
   },
   {
    "duration": 35,
    "start_time": "2022-03-25T10:14:32.417Z"
   },
   {
    "duration": 167,
    "start_time": "2022-03-25T10:14:33.257Z"
   },
   {
    "duration": 30,
    "start_time": "2022-03-25T10:14:34.634Z"
   },
   {
    "duration": 42,
    "start_time": "2022-03-25T10:14:35.874Z"
   },
   {
    "duration": 31,
    "start_time": "2022-03-25T10:14:40.880Z"
   },
   {
    "duration": 54,
    "start_time": "2022-03-25T10:14:42.762Z"
   },
   {
    "duration": 56,
    "start_time": "2022-03-25T10:14:44.186Z"
   },
   {
    "duration": 815,
    "start_time": "2022-03-25T10:14:47.586Z"
   },
   {
    "duration": 51,
    "start_time": "2022-03-25T10:15:19.371Z"
   },
   {
    "duration": 52,
    "start_time": "2022-03-25T10:15:43.034Z"
   },
   {
    "duration": 53,
    "start_time": "2022-03-25T10:15:47.314Z"
   },
   {
    "duration": 50,
    "start_time": "2022-03-25T10:16:17.675Z"
   },
   {
    "duration": 49,
    "start_time": "2022-03-25T10:16:55.699Z"
   },
   {
    "duration": 53,
    "start_time": "2022-03-25T10:17:15.227Z"
   },
   {
    "duration": 48,
    "start_time": "2022-03-25T10:17:24.379Z"
   },
   {
    "duration": 54,
    "start_time": "2022-03-25T10:17:30.540Z"
   },
   {
    "duration": 50,
    "start_time": "2022-03-25T10:17:49.450Z"
   },
   {
    "duration": 68,
    "start_time": "2022-03-25T10:17:58.994Z"
   },
   {
    "duration": 82,
    "start_time": "2022-03-25T10:18:03.458Z"
   },
   {
    "duration": 118,
    "start_time": "2022-03-25T10:18:08.138Z"
   },
   {
    "duration": 19,
    "start_time": "2022-03-25T10:18:09.225Z"
   },
   {
    "duration": 3,
    "start_time": "2022-03-25T10:18:10.202Z"
   },
   {
    "duration": 38,
    "start_time": "2022-03-25T10:18:10.794Z"
   },
   {
    "duration": 38,
    "start_time": "2022-03-25T10:18:11.170Z"
   },
   {
    "duration": 36,
    "start_time": "2022-03-25T10:18:11.483Z"
   },
   {
    "duration": 4,
    "start_time": "2022-03-25T10:18:11.770Z"
   },
   {
    "duration": 46,
    "start_time": "2022-03-25T10:18:12.042Z"
   },
   {
    "duration": 47,
    "start_time": "2022-03-25T10:18:12.291Z"
   },
   {
    "duration": 47,
    "start_time": "2022-03-25T10:18:12.530Z"
   },
   {
    "duration": 59,
    "start_time": "2022-03-25T10:18:12.796Z"
   },
   {
    "duration": 3,
    "start_time": "2022-03-25T10:18:13.075Z"
   },
   {
    "duration": 50,
    "start_time": "2022-03-25T10:18:13.418Z"
   },
   {
    "duration": 16,
    "start_time": "2022-03-25T10:18:13.682Z"
   },
   {
    "duration": 90,
    "start_time": "2022-03-25T10:18:14.186Z"
   },
   {
    "duration": 12,
    "start_time": "2022-03-25T10:18:14.538Z"
   },
   {
    "duration": 5,
    "start_time": "2022-03-25T10:18:14.858Z"
   },
   {
    "duration": 42,
    "start_time": "2022-03-25T10:18:15.172Z"
   },
   {
    "duration": 4,
    "start_time": "2022-03-25T10:21:45.392Z"
   },
   {
    "duration": 46,
    "start_time": "2022-03-25T10:21:46.011Z"
   },
   {
    "duration": 13,
    "start_time": "2022-03-25T10:21:46.298Z"
   },
   {
    "duration": 6,
    "start_time": "2022-03-25T10:21:53.338Z"
   },
   {
    "duration": 21,
    "start_time": "2022-03-25T10:21:53.939Z"
   },
   {
    "duration": 12,
    "start_time": "2022-03-25T10:21:58.938Z"
   },
   {
    "duration": 185,
    "start_time": "2022-03-25T10:22:01.946Z"
   },
   {
    "duration": 52,
    "start_time": "2022-03-25T10:22:02.579Z"
   },
   {
    "duration": 49,
    "start_time": "2022-03-25T10:22:03.074Z"
   },
   {
    "duration": 39,
    "start_time": "2022-03-25T10:22:04.322Z"
   },
   {
    "duration": 119,
    "start_time": "2022-03-25T10:22:07.017Z"
   },
   {
    "duration": 36,
    "start_time": "2022-03-25T10:22:07.681Z"
   },
   {
    "duration": 35,
    "start_time": "2022-03-25T10:22:08.410Z"
   },
   {
    "duration": 170,
    "start_time": "2022-03-25T10:22:11.530Z"
   },
   {
    "duration": 33,
    "start_time": "2022-03-25T10:22:14.378Z"
   },
   {
    "duration": 44,
    "start_time": "2022-03-25T10:22:15.394Z"
   },
   {
    "duration": 30,
    "start_time": "2022-03-25T10:22:23.738Z"
   },
   {
    "duration": 79,
    "start_time": "2022-03-25T10:22:27.795Z"
   },
   {
    "duration": 87,
    "start_time": "2022-03-25T10:22:32.412Z"
   },
   {
    "duration": 77,
    "start_time": "2022-03-25T10:22:35.498Z"
   },
   {
    "duration": 106,
    "start_time": "2022-03-25T10:22:42.507Z"
   },
   {
    "duration": 78,
    "start_time": "2022-03-25T10:22:47.212Z"
   },
   {
    "duration": 118,
    "start_time": "2022-03-25T10:22:51.698Z"
   },
   {
    "duration": 17,
    "start_time": "2022-03-25T10:23:00.186Z"
   },
   {
    "duration": 3,
    "start_time": "2022-03-25T10:23:04.922Z"
   },
   {
    "duration": 37,
    "start_time": "2022-03-25T10:23:07.347Z"
   },
   {
    "duration": 35,
    "start_time": "2022-03-25T10:23:07.715Z"
   },
   {
    "duration": 35,
    "start_time": "2022-03-25T10:23:08.098Z"
   },
   {
    "duration": 4,
    "start_time": "2022-03-25T10:23:08.522Z"
   },
   {
    "duration": 48,
    "start_time": "2022-03-25T10:23:09.026Z"
   },
   {
    "duration": 47,
    "start_time": "2022-03-25T10:23:09.617Z"
   },
   {
    "duration": 48,
    "start_time": "2022-03-25T10:23:10.106Z"
   },
   {
    "duration": 99,
    "start_time": "2022-03-25T10:23:11.923Z"
   },
   {
    "duration": 5,
    "start_time": "2022-03-25T10:23:16.092Z"
   },
   {
    "duration": 76,
    "start_time": "2022-03-25T10:23:16.459Z"
   },
   {
    "duration": 26,
    "start_time": "2022-03-25T10:23:16.907Z"
   },
   {
    "duration": 92,
    "start_time": "2022-03-25T10:23:22.828Z"
   },
   {
    "duration": 12,
    "start_time": "2022-03-25T10:23:28.290Z"
   },
   {
    "duration": 4,
    "start_time": "2022-03-25T10:23:29.090Z"
   },
   {
    "duration": 42,
    "start_time": "2022-03-25T10:23:30.003Z"
   },
   {
    "duration": 5,
    "start_time": "2022-03-25T10:24:06.012Z"
   },
   {
    "duration": 41,
    "start_time": "2022-03-25T10:30:14.148Z"
   },
   {
    "duration": 65,
    "start_time": "2022-03-25T10:36:36.381Z"
   },
   {
    "duration": 85,
    "start_time": "2022-03-25T10:37:31.141Z"
   },
   {
    "duration": 126,
    "start_time": "2022-03-25T10:37:40.807Z"
   },
   {
    "duration": 20,
    "start_time": "2022-03-25T10:37:47.389Z"
   },
   {
    "duration": 5388,
    "start_time": "2022-03-25T10:40:19.807Z"
   },
   {
    "duration": 23,
    "start_time": "2022-03-25T10:40:29.796Z"
   },
   {
    "duration": 9,
    "start_time": "2022-03-25T10:40:30.605Z"
   },
   {
    "duration": 5065,
    "start_time": "2022-03-25T10:40:31.436Z"
   },
   {
    "duration": 0,
    "start_time": "2022-03-25T10:40:36.504Z"
   },
   {
    "duration": 0,
    "start_time": "2022-03-25T10:40:36.506Z"
   },
   {
    "duration": 0,
    "start_time": "2022-03-25T10:40:36.508Z"
   },
   {
    "duration": 4,
    "start_time": "2022-03-25T10:40:45.970Z"
   },
   {
    "duration": 49,
    "start_time": "2022-03-25T10:40:46.039Z"
   },
   {
    "duration": 19,
    "start_time": "2022-03-25T10:40:46.091Z"
   },
   {
    "duration": 7,
    "start_time": "2022-03-25T10:40:46.139Z"
   },
   {
    "duration": 23,
    "start_time": "2022-03-25T10:40:46.172Z"
   },
   {
    "duration": 13,
    "start_time": "2022-03-25T10:40:46.236Z"
   },
   {
    "duration": 213,
    "start_time": "2022-03-25T10:40:46.311Z"
   },
   {
    "duration": 53,
    "start_time": "2022-03-25T10:40:46.526Z"
   },
   {
    "duration": 72,
    "start_time": "2022-03-25T10:40:46.581Z"
   },
   {
    "duration": 60,
    "start_time": "2022-03-25T10:40:46.655Z"
   },
   {
    "duration": 123,
    "start_time": "2022-03-25T10:40:46.718Z"
   },
   {
    "duration": 36,
    "start_time": "2022-03-25T10:40:46.843Z"
   },
   {
    "duration": 59,
    "start_time": "2022-03-25T10:40:46.881Z"
   },
   {
    "duration": 179,
    "start_time": "2022-03-25T10:40:46.941Z"
   },
   {
    "duration": 33,
    "start_time": "2022-03-25T10:40:47.123Z"
   },
   {
    "duration": 73,
    "start_time": "2022-03-25T10:40:47.158Z"
   },
   {
    "duration": 29,
    "start_time": "2022-03-25T10:40:47.233Z"
   },
   {
    "duration": 81,
    "start_time": "2022-03-25T10:40:47.988Z"
   },
   {
    "duration": 81,
    "start_time": "2022-03-25T10:40:48.189Z"
   },
   {
    "duration": 72,
    "start_time": "2022-03-25T10:40:48.724Z"
   },
   {
    "duration": 111,
    "start_time": "2022-03-25T10:40:49.053Z"
   },
   {
    "duration": 105,
    "start_time": "2022-03-25T10:40:49.549Z"
   },
   {
    "duration": 159,
    "start_time": "2022-03-25T10:40:50.108Z"
   },
   {
    "duration": 18,
    "start_time": "2022-03-25T10:40:50.868Z"
   },
   {
    "duration": 4,
    "start_time": "2022-03-25T10:40:51.365Z"
   },
   {
    "duration": 3834,
    "start_time": "2022-03-25T10:40:52.323Z"
   },
   {
    "duration": 3261,
    "start_time": "2022-03-25T10:42:13.222Z"
   },
   {
    "duration": 4,
    "start_time": "2022-03-25T10:42:18.259Z"
   },
   {
    "duration": 36,
    "start_time": "2022-03-25T10:42:18.659Z"
   },
   {
    "duration": 14,
    "start_time": "2022-03-25T10:42:18.860Z"
   },
   {
    "duration": 9,
    "start_time": "2022-03-25T10:42:19.307Z"
   },
   {
    "duration": 28,
    "start_time": "2022-03-25T10:42:19.517Z"
   },
   {
    "duration": 17,
    "start_time": "2022-03-25T10:42:19.892Z"
   },
   {
    "duration": 193,
    "start_time": "2022-03-25T10:42:20.308Z"
   },
   {
    "duration": 35,
    "start_time": "2022-03-25T10:42:20.724Z"
   },
   {
    "duration": 49,
    "start_time": "2022-03-25T10:42:21.124Z"
   },
   {
    "duration": 52,
    "start_time": "2022-03-25T10:42:21.700Z"
   },
   {
    "duration": 128,
    "start_time": "2022-03-25T10:42:22.092Z"
   },
   {
    "duration": 38,
    "start_time": "2022-03-25T10:42:22.484Z"
   },
   {
    "duration": 35,
    "start_time": "2022-03-25T10:42:23.076Z"
   },
   {
    "duration": 168,
    "start_time": "2022-03-25T10:42:23.995Z"
   },
   {
    "duration": 34,
    "start_time": "2022-03-25T10:42:24.804Z"
   },
   {
    "duration": 56,
    "start_time": "2022-03-25T10:42:25.524Z"
   },
   {
    "duration": 29,
    "start_time": "2022-03-25T10:42:29.164Z"
   },
   {
    "duration": 56,
    "start_time": "2022-03-25T10:42:33.475Z"
   },
   {
    "duration": 55,
    "start_time": "2022-03-25T10:42:34.900Z"
   },
   {
    "duration": 51,
    "start_time": "2022-03-25T10:42:37.340Z"
   },
   {
    "duration": 65,
    "start_time": "2022-03-25T10:42:39.044Z"
   },
   {
    "duration": 83,
    "start_time": "2022-03-25T10:42:50.876Z"
   },
   {
    "duration": 112,
    "start_time": "2022-03-25T10:42:55.117Z"
   },
   {
    "duration": 18,
    "start_time": "2022-03-25T10:42:58.043Z"
   },
   {
    "duration": 4,
    "start_time": "2022-03-25T10:43:04.699Z"
   },
   {
    "duration": 3113,
    "start_time": "2022-03-25T10:43:10.900Z"
   },
   {
    "duration": 3018,
    "start_time": "2022-03-25T10:44:15.980Z"
   },
   {
    "duration": 4,
    "start_time": "2022-03-25T10:45:20.715Z"
   },
   {
    "duration": 45,
    "start_time": "2022-03-25T10:45:21.316Z"
   },
   {
    "duration": 15,
    "start_time": "2022-03-25T10:45:21.940Z"
   },
   {
    "duration": 7,
    "start_time": "2022-03-25T10:45:23.923Z"
   },
   {
    "duration": 21,
    "start_time": "2022-03-25T10:45:24.333Z"
   },
   {
    "duration": 13,
    "start_time": "2022-03-25T10:45:26.109Z"
   },
   {
    "duration": 190,
    "start_time": "2022-03-25T10:45:26.980Z"
   },
   {
    "duration": 35,
    "start_time": "2022-03-25T10:45:28.164Z"
   },
   {
    "duration": 50,
    "start_time": "2022-03-25T10:45:29.276Z"
   },
   {
    "duration": 35,
    "start_time": "2022-03-25T10:45:31.556Z"
   },
   {
    "duration": 112,
    "start_time": "2022-03-25T10:45:36.172Z"
   },
   {
    "duration": 35,
    "start_time": "2022-03-25T10:45:37.468Z"
   },
   {
    "duration": 37,
    "start_time": "2022-03-25T10:45:40.083Z"
   },
   {
    "duration": 157,
    "start_time": "2022-03-25T10:45:43.908Z"
   },
   {
    "duration": 34,
    "start_time": "2022-03-25T10:45:44.835Z"
   },
   {
    "duration": 61,
    "start_time": "2022-03-25T10:45:45.580Z"
   },
   {
    "duration": 27,
    "start_time": "2022-03-25T10:45:48.548Z"
   },
   {
    "duration": 59,
    "start_time": "2022-03-25T10:45:55.268Z"
   },
   {
    "duration": 57,
    "start_time": "2022-03-25T10:45:58.494Z"
   },
   {
    "duration": 54,
    "start_time": "2022-03-25T10:46:07.972Z"
   },
   {
    "duration": 61,
    "start_time": "2022-03-25T10:46:25.781Z"
   },
   {
    "duration": 148,
    "start_time": "2022-03-25T10:46:44.038Z"
   },
   {
    "duration": 15,
    "start_time": "2022-03-25T10:46:49.036Z"
   },
   {
    "duration": 4,
    "start_time": "2022-03-25T10:46:58.411Z"
   },
   {
    "duration": 4,
    "start_time": "2022-03-25T10:47:12.717Z"
   },
   {
    "duration": 4067,
    "start_time": "2022-03-25T10:47:15.900Z"
   },
   {
    "duration": 3011,
    "start_time": "2022-03-25T10:47:43.964Z"
   },
   {
    "duration": 2939,
    "start_time": "2022-03-25T10:48:35.213Z"
   },
   {
    "duration": 4,
    "start_time": "2022-03-25T10:48:53.811Z"
   },
   {
    "duration": 44,
    "start_time": "2022-03-25T10:48:54.581Z"
   },
   {
    "duration": 15,
    "start_time": "2022-03-25T10:48:55.005Z"
   },
   {
    "duration": 6,
    "start_time": "2022-03-25T10:48:55.716Z"
   },
   {
    "duration": 21,
    "start_time": "2022-03-25T10:48:56.060Z"
   },
   {
    "duration": 13,
    "start_time": "2022-03-25T10:48:56.708Z"
   },
   {
    "duration": 182,
    "start_time": "2022-03-25T10:48:57.580Z"
   },
   {
    "duration": 31,
    "start_time": "2022-03-25T10:48:58.291Z"
   },
   {
    "duration": 44,
    "start_time": "2022-03-25T10:48:58.996Z"
   },
   {
    "duration": 45,
    "start_time": "2022-03-25T10:49:00.035Z"
   },
   {
    "duration": 116,
    "start_time": "2022-03-25T10:49:00.820Z"
   },
   {
    "duration": 38,
    "start_time": "2022-03-25T10:49:01.603Z"
   },
   {
    "duration": 40,
    "start_time": "2022-03-25T10:49:02.339Z"
   },
   {
    "duration": 173,
    "start_time": "2022-03-25T10:49:03.667Z"
   },
   {
    "duration": 33,
    "start_time": "2022-03-25T10:49:05.075Z"
   },
   {
    "duration": 43,
    "start_time": "2022-03-25T10:49:05.724Z"
   },
   {
    "duration": 29,
    "start_time": "2022-03-25T10:49:06.952Z"
   },
   {
    "duration": 57,
    "start_time": "2022-03-25T10:49:11.908Z"
   },
   {
    "duration": 57,
    "start_time": "2022-03-25T10:49:13.388Z"
   },
   {
    "duration": 52,
    "start_time": "2022-03-25T10:49:15.756Z"
   },
   {
    "duration": 62,
    "start_time": "2022-03-25T10:49:41.798Z"
   },
   {
    "duration": 83,
    "start_time": "2022-03-25T10:50:05.630Z"
   },
   {
    "duration": 103,
    "start_time": "2022-03-25T10:50:21.230Z"
   },
   {
    "duration": 17,
    "start_time": "2022-03-25T10:50:25.556Z"
   },
   {
    "duration": 4,
    "start_time": "2022-03-25T10:50:39.124Z"
   },
   {
    "duration": 3029,
    "start_time": "2022-03-25T10:50:44.732Z"
   },
   {
    "duration": 2917,
    "start_time": "2022-03-25T10:51:26.055Z"
   },
   {
    "duration": 2901,
    "start_time": "2022-03-25T10:51:33.613Z"
   },
   {
    "duration": 4,
    "start_time": "2022-03-25T10:51:37.333Z"
   },
   {
    "duration": 2999,
    "start_time": "2022-03-25T10:51:38.173Z"
   },
   {
    "duration": 3,
    "start_time": "2022-03-25T10:52:09.716Z"
   },
   {
    "duration": 36,
    "start_time": "2022-03-25T10:52:10.124Z"
   },
   {
    "duration": 15,
    "start_time": "2022-03-25T10:52:10.325Z"
   },
   {
    "duration": 7,
    "start_time": "2022-03-25T10:52:10.724Z"
   },
   {
    "duration": 22,
    "start_time": "2022-03-25T10:52:10.981Z"
   },
   {
    "duration": 12,
    "start_time": "2022-03-25T10:52:11.549Z"
   },
   {
    "duration": 186,
    "start_time": "2022-03-25T10:52:11.941Z"
   },
   {
    "duration": 35,
    "start_time": "2022-03-25T10:52:12.293Z"
   },
   {
    "duration": 51,
    "start_time": "2022-03-25T10:52:12.644Z"
   },
   {
    "duration": 42,
    "start_time": "2022-03-25T10:52:13.197Z"
   },
   {
    "duration": 115,
    "start_time": "2022-03-25T10:52:13.724Z"
   },
   {
    "duration": 36,
    "start_time": "2022-03-25T10:52:14.749Z"
   },
   {
    "duration": 38,
    "start_time": "2022-03-25T10:52:15.308Z"
   },
   {
    "duration": 167,
    "start_time": "2022-03-25T10:52:18.244Z"
   },
   {
    "duration": 32,
    "start_time": "2022-03-25T10:52:18.750Z"
   },
   {
    "duration": 43,
    "start_time": "2022-03-25T10:52:19.340Z"
   },
   {
    "duration": 30,
    "start_time": "2022-03-25T10:52:20.716Z"
   },
   {
    "duration": 62,
    "start_time": "2022-03-25T10:52:31.198Z"
   },
   {
    "duration": 61,
    "start_time": "2022-03-25T10:52:36.102Z"
   },
   {
    "duration": 58,
    "start_time": "2022-03-25T10:52:45.605Z"
   },
   {
    "duration": 61,
    "start_time": "2022-03-25T10:53:00.598Z"
   },
   {
    "duration": 82,
    "start_time": "2022-03-25T10:53:15.158Z"
   },
   {
    "duration": 115,
    "start_time": "2022-03-25T10:53:23.232Z"
   },
   {
    "duration": 14,
    "start_time": "2022-03-25T10:53:40.277Z"
   },
   {
    "duration": 4,
    "start_time": "2022-03-25T10:53:45.284Z"
   },
   {
    "duration": 4852,
    "start_time": "2022-03-25T10:53:52.445Z"
   },
   {
    "duration": 5,
    "start_time": "2022-03-25T10:54:17.733Z"
   },
   {
    "duration": 4,
    "start_time": "2022-03-25T10:54:19.301Z"
   },
   {
    "duration": 24,
    "start_time": "2022-03-25T10:54:20.445Z"
   },
   {
    "duration": 3117,
    "start_time": "2022-03-25T10:54:42.998Z"
   },
   {
    "duration": 3,
    "start_time": "2022-03-25T10:54:57.686Z"
   },
   {
    "duration": 36,
    "start_time": "2022-03-25T10:54:57.746Z"
   },
   {
    "duration": 15,
    "start_time": "2022-03-25T10:54:57.793Z"
   },
   {
    "duration": 7,
    "start_time": "2022-03-25T10:54:57.857Z"
   },
   {
    "duration": 20,
    "start_time": "2022-03-25T10:54:57.886Z"
   },
   {
    "duration": 11,
    "start_time": "2022-03-25T10:54:57.962Z"
   },
   {
    "duration": 189,
    "start_time": "2022-03-25T10:54:58.025Z"
   },
   {
    "duration": 34,
    "start_time": "2022-03-25T10:54:58.216Z"
   },
   {
    "duration": 70,
    "start_time": "2022-03-25T10:54:58.252Z"
   },
   {
    "duration": 36,
    "start_time": "2022-03-25T10:54:58.324Z"
   },
   {
    "duration": 114,
    "start_time": "2022-03-25T10:54:58.362Z"
   },
   {
    "duration": 44,
    "start_time": "2022-03-25T10:54:58.479Z"
   },
   {
    "duration": 33,
    "start_time": "2022-03-25T10:54:58.525Z"
   },
   {
    "duration": 176,
    "start_time": "2022-03-25T10:54:58.560Z"
   },
   {
    "duration": 31,
    "start_time": "2022-03-25T10:54:58.738Z"
   },
   {
    "duration": 61,
    "start_time": "2022-03-25T10:54:58.771Z"
   },
   {
    "duration": 29,
    "start_time": "2022-03-25T10:54:58.834Z"
   },
   {
    "duration": 54,
    "start_time": "2022-03-25T10:54:58.969Z"
   },
   {
    "duration": 58,
    "start_time": "2022-03-25T10:54:59.025Z"
   },
   {
    "duration": 68,
    "start_time": "2022-03-25T10:54:59.086Z"
   },
   {
    "duration": 85,
    "start_time": "2022-03-25T10:54:59.156Z"
   },
   {
    "duration": 92,
    "start_time": "2022-03-25T10:54:59.245Z"
   },
   {
    "duration": 126,
    "start_time": "2022-03-25T10:54:59.340Z"
   },
   {
    "duration": 33,
    "start_time": "2022-03-25T10:54:59.468Z"
   },
   {
    "duration": 4,
    "start_time": "2022-03-25T10:54:59.504Z"
   },
   {
    "duration": 3066,
    "start_time": "2022-03-25T10:54:59.510Z"
   },
   {
    "duration": 0,
    "start_time": "2022-03-25T10:55:02.577Z"
   },
   {
    "duration": 0,
    "start_time": "2022-03-25T10:55:02.578Z"
   },
   {
    "duration": 4,
    "start_time": "2022-03-25T10:55:29.320Z"
   },
   {
    "duration": 36,
    "start_time": "2022-03-25T10:55:29.386Z"
   },
   {
    "duration": 13,
    "start_time": "2022-03-25T10:55:29.424Z"
   },
   {
    "duration": 6,
    "start_time": "2022-03-25T10:55:29.484Z"
   },
   {
    "duration": 21,
    "start_time": "2022-03-25T10:55:29.525Z"
   },
   {
    "duration": 11,
    "start_time": "2022-03-25T10:55:29.585Z"
   },
   {
    "duration": 192,
    "start_time": "2022-03-25T10:55:29.651Z"
   },
   {
    "duration": 32,
    "start_time": "2022-03-25T10:55:29.845Z"
   },
   {
    "duration": 59,
    "start_time": "2022-03-25T10:55:29.879Z"
   },
   {
    "duration": 38,
    "start_time": "2022-03-25T10:55:29.940Z"
   },
   {
    "duration": 115,
    "start_time": "2022-03-25T10:55:30.001Z"
   },
   {
    "duration": 35,
    "start_time": "2022-03-25T10:55:30.118Z"
   },
   {
    "duration": 53,
    "start_time": "2022-03-25T10:55:30.155Z"
   },
   {
    "duration": 170,
    "start_time": "2022-03-25T10:55:30.210Z"
   },
   {
    "duration": 49,
    "start_time": "2022-03-25T10:55:30.383Z"
   },
   {
    "duration": 113,
    "start_time": "2022-03-25T10:55:30.435Z"
   },
   {
    "duration": 54,
    "start_time": "2022-03-25T10:55:30.550Z"
   },
   {
    "duration": 59,
    "start_time": "2022-03-25T10:55:30.607Z"
   },
   {
    "duration": 57,
    "start_time": "2022-03-25T10:55:31.534Z"
   },
   {
    "duration": 54,
    "start_time": "2022-03-25T10:55:32.237Z"
   },
   {
    "duration": 60,
    "start_time": "2022-03-25T10:55:33.597Z"
   },
   {
    "duration": 80,
    "start_time": "2022-03-25T10:55:35.990Z"
   },
   {
    "duration": 112,
    "start_time": "2022-03-25T10:55:36.918Z"
   },
   {
    "duration": 15,
    "start_time": "2022-03-25T10:55:40.925Z"
   },
   {
    "duration": 60,
    "start_time": "2022-03-25T10:55:58.222Z"
   },
   {
    "duration": 67,
    "start_time": "2022-03-25T10:56:20.455Z"
   },
   {
    "duration": 2974,
    "start_time": "2022-03-25T10:56:48.446Z"
   },
   {
    "duration": 3,
    "start_time": "2022-03-25T10:57:56.799Z"
   },
   {
    "duration": 13,
    "start_time": "2022-03-25T10:57:57.895Z"
   },
   {
    "duration": 4,
    "start_time": "2022-03-25T10:58:25.326Z"
   },
   {
    "duration": 13,
    "start_time": "2022-03-25T10:58:27.973Z"
   },
   {
    "duration": 3,
    "start_time": "2022-03-25T10:58:43.846Z"
   },
   {
    "duration": 3256,
    "start_time": "2022-03-25T10:58:44.926Z"
   },
   {
    "duration": 2964,
    "start_time": "2022-03-25T10:59:39.142Z"
   },
   {
    "duration": 2938,
    "start_time": "2022-03-25T11:00:10.839Z"
   },
   {
    "duration": 4,
    "start_time": "2022-03-25T11:02:28.782Z"
   },
   {
    "duration": 32,
    "start_time": "2022-03-25T11:02:29.871Z"
   },
   {
    "duration": 29,
    "start_time": "2022-03-25T11:02:33.392Z"
   },
   {
    "duration": 32,
    "start_time": "2022-03-25T11:02:33.983Z"
   },
   {
    "duration": 4,
    "start_time": "2022-03-25T11:02:34.591Z"
   },
   {
    "duration": 2933,
    "start_time": "2022-03-25T11:02:35.631Z"
   },
   {
    "duration": 5,
    "start_time": "2022-03-25T11:02:54.247Z"
   },
   {
    "duration": 50,
    "start_time": "2022-03-25T11:02:54.735Z"
   },
   {
    "duration": 44,
    "start_time": "2022-03-25T11:02:55.950Z"
   },
   {
    "duration": 46,
    "start_time": "2022-03-25T11:02:56.262Z"
   },
   {
    "duration": 69,
    "start_time": "2022-03-25T11:02:56.846Z"
   },
   {
    "duration": 5,
    "start_time": "2022-03-25T11:03:08.983Z"
   },
   {
    "duration": 2930,
    "start_time": "2022-03-25T11:03:09.399Z"
   },
   {
    "duration": 49,
    "start_time": "2022-03-25T11:03:33.855Z"
   },
   {
    "duration": 14,
    "start_time": "2022-03-25T11:03:40.727Z"
   },
   {
    "duration": 104,
    "start_time": "2022-03-25T11:03:43.136Z"
   },
   {
    "duration": 20,
    "start_time": "2022-03-25T11:03:58.767Z"
   },
   {
    "duration": 2956,
    "start_time": "2022-03-25T11:04:08.854Z"
   },
   {
    "duration": 0,
    "start_time": "2022-03-25T11:04:11.813Z"
   },
   {
    "duration": 4,
    "start_time": "2022-03-25T11:04:19.828Z"
   },
   {
    "duration": 75,
    "start_time": "2022-03-25T11:04:19.878Z"
   },
   {
    "duration": 16,
    "start_time": "2022-03-25T11:04:19.956Z"
   },
   {
    "duration": 6,
    "start_time": "2022-03-25T11:04:19.982Z"
   },
   {
    "duration": 22,
    "start_time": "2022-03-25T11:04:20.014Z"
   },
   {
    "duration": 14,
    "start_time": "2022-03-25T11:04:20.074Z"
   },
   {
    "duration": 189,
    "start_time": "2022-03-25T11:04:20.133Z"
   },
   {
    "duration": 33,
    "start_time": "2022-03-25T11:04:20.325Z"
   },
   {
    "duration": 71,
    "start_time": "2022-03-25T11:04:20.360Z"
   },
   {
    "duration": 41,
    "start_time": "2022-03-25T11:04:20.433Z"
   },
   {
    "duration": 125,
    "start_time": "2022-03-25T11:04:20.476Z"
   },
   {
    "duration": 36,
    "start_time": "2022-03-25T11:04:20.603Z"
   },
   {
    "duration": 35,
    "start_time": "2022-03-25T11:04:20.641Z"
   },
   {
    "duration": 172,
    "start_time": "2022-03-25T11:04:20.712Z"
   },
   {
    "duration": 44,
    "start_time": "2022-03-25T11:04:20.887Z"
   },
   {
    "duration": 42,
    "start_time": "2022-03-25T11:04:20.932Z"
   },
   {
    "duration": 43,
    "start_time": "2022-03-25T11:04:20.977Z"
   },
   {
    "duration": 56,
    "start_time": "2022-03-25T11:04:21.092Z"
   },
   {
    "duration": 67,
    "start_time": "2022-03-25T11:04:21.151Z"
   },
   {
    "duration": 52,
    "start_time": "2022-03-25T11:04:21.220Z"
   },
   {
    "duration": 86,
    "start_time": "2022-03-25T11:04:21.274Z"
   },
   {
    "duration": 180,
    "start_time": "2022-03-25T11:04:21.362Z"
   },
   {
    "duration": 129,
    "start_time": "2022-03-25T11:04:21.544Z"
   },
   {
    "duration": 31,
    "start_time": "2022-03-25T11:04:21.675Z"
   },
   {
    "duration": 4,
    "start_time": "2022-03-25T11:04:21.709Z"
   },
   {
    "duration": 35,
    "start_time": "2022-03-25T11:04:21.716Z"
   },
   {
    "duration": 67,
    "start_time": "2022-03-25T11:04:21.754Z"
   },
   {
    "duration": 38,
    "start_time": "2022-03-25T11:04:21.824Z"
   },
   {
    "duration": 4,
    "start_time": "2022-03-25T11:04:21.864Z"
   },
   {
    "duration": 73,
    "start_time": "2022-03-25T11:04:21.871Z"
   },
   {
    "duration": 66,
    "start_time": "2022-03-25T11:04:21.946Z"
   },
   {
    "duration": 55,
    "start_time": "2022-03-25T11:04:22.014Z"
   },
   {
    "duration": 84,
    "start_time": "2022-03-25T11:04:22.072Z"
   },
   {
    "duration": 6,
    "start_time": "2022-03-25T11:04:22.158Z"
   },
   {
    "duration": 70,
    "start_time": "2022-03-25T11:04:22.166Z"
   },
   {
    "duration": 19,
    "start_time": "2022-03-25T11:04:22.238Z"
   },
   {
    "duration": 104,
    "start_time": "2022-03-25T11:04:22.258Z"
   },
   {
    "duration": 11,
    "start_time": "2022-03-25T11:04:22.364Z"
   },
   {
    "duration": 5,
    "start_time": "2022-03-25T11:04:22.378Z"
   },
   {
    "duration": 39,
    "start_time": "2022-03-25T11:04:22.401Z"
   },
   {
    "duration": 13,
    "start_time": "2022-03-25T11:04:22.442Z"
   },
   {
    "duration": 4,
    "start_time": "2022-03-25T11:04:29.239Z"
   },
   {
    "duration": 5,
    "start_time": "2022-03-25T12:23:50.908Z"
   },
   {
    "duration": 5,
    "start_time": "2022-03-25T12:24:08.171Z"
   },
   {
    "duration": 6,
    "start_time": "2022-03-25T12:24:28.822Z"
   },
   {
    "duration": 6,
    "start_time": "2022-03-25T12:24:31.450Z"
   },
   {
    "duration": 5,
    "start_time": "2022-03-25T12:24:33.925Z"
   },
   {
    "duration": 5,
    "start_time": "2022-03-25T12:24:40.093Z"
   },
   {
    "duration": 22,
    "start_time": "2022-03-25T12:27:15.709Z"
   },
   {
    "duration": 19,
    "start_time": "2022-03-25T12:27:23.820Z"
   },
   {
    "duration": 29,
    "start_time": "2022-03-25T12:29:41.237Z"
   },
   {
    "duration": 8,
    "start_time": "2022-03-25T12:31:11.114Z"
   },
   {
    "duration": 37,
    "start_time": "2022-03-25T12:31:27.845Z"
   },
   {
    "duration": 176,
    "start_time": "2022-03-25T12:33:16.359Z"
   },
   {
    "duration": 152,
    "start_time": "2022-03-25T12:33:32.386Z"
   },
   {
    "duration": 326,
    "start_time": "2022-03-25T12:33:44.457Z"
   },
   {
    "duration": 157,
    "start_time": "2022-03-25T12:33:50.127Z"
   },
   {
    "duration": 171,
    "start_time": "2022-03-25T12:34:05.937Z"
   },
   {
    "duration": 3,
    "start_time": "2022-03-25T12:34:28.318Z"
   },
   {
    "duration": 15,
    "start_time": "2022-03-25T12:34:32.600Z"
   },
   {
    "duration": 14,
    "start_time": "2022-03-25T12:34:40.616Z"
   },
   {
    "duration": 12,
    "start_time": "2022-03-25T12:34:52.421Z"
   },
   {
    "duration": 11,
    "start_time": "2022-03-25T12:35:15.826Z"
   },
   {
    "duration": 11,
    "start_time": "2022-03-25T12:35:27.193Z"
   },
   {
    "duration": 11,
    "start_time": "2022-03-25T12:35:38.170Z"
   },
   {
    "duration": 34,
    "start_time": "2022-03-25T12:36:47.277Z"
   },
   {
    "duration": 10,
    "start_time": "2022-03-25T12:36:48.181Z"
   },
   {
    "duration": 886,
    "start_time": "2022-03-25T12:37:28.048Z"
   },
   {
    "duration": 48,
    "start_time": "2022-03-25T12:37:40.381Z"
   },
   {
    "duration": 35,
    "start_time": "2022-03-25T12:38:05.304Z"
   },
   {
    "duration": 10,
    "start_time": "2022-03-25T12:39:02.359Z"
   },
   {
    "duration": 39,
    "start_time": "2022-03-25T12:39:14.365Z"
   },
   {
    "duration": 11,
    "start_time": "2022-03-25T12:39:15.931Z"
   },
   {
    "duration": 26,
    "start_time": "2022-03-25T12:39:39.183Z"
   },
   {
    "duration": 31,
    "start_time": "2022-03-25T12:39:51.130Z"
   },
   {
    "duration": 37,
    "start_time": "2022-03-25T12:40:14.373Z"
   },
   {
    "duration": 36,
    "start_time": "2022-03-25T12:40:22.824Z"
   },
   {
    "duration": 16,
    "start_time": "2022-03-25T12:40:39.093Z"
   },
   {
    "duration": 10,
    "start_time": "2022-03-25T12:40:59.044Z"
   },
   {
    "duration": 4,
    "start_time": "2022-03-25T12:41:18.989Z"
   },
   {
    "duration": 36,
    "start_time": "2022-03-25T12:41:19.045Z"
   },
   {
    "duration": 19,
    "start_time": "2022-03-25T12:41:19.083Z"
   },
   {
    "duration": 6,
    "start_time": "2022-03-25T12:41:19.138Z"
   },
   {
    "duration": 21,
    "start_time": "2022-03-25T12:41:19.166Z"
   },
   {
    "duration": 14,
    "start_time": "2022-03-25T12:41:19.228Z"
   },
   {
    "duration": 297,
    "start_time": "2022-03-25T12:41:19.298Z"
   },
   {
    "duration": 55,
    "start_time": "2022-03-25T12:41:19.600Z"
   },
   {
    "duration": 91,
    "start_time": "2022-03-25T12:41:19.658Z"
   },
   {
    "duration": 63,
    "start_time": "2022-03-25T12:41:19.752Z"
   },
   {
    "duration": 192,
    "start_time": "2022-03-25T12:41:19.818Z"
   },
   {
    "duration": 42,
    "start_time": "2022-03-25T12:41:20.013Z"
   },
   {
    "duration": 61,
    "start_time": "2022-03-25T12:41:20.058Z"
   },
   {
    "duration": 185,
    "start_time": "2022-03-25T12:41:20.122Z"
   },
   {
    "duration": 35,
    "start_time": "2022-03-25T12:41:20.310Z"
   },
   {
    "duration": 71,
    "start_time": "2022-03-25T12:41:20.347Z"
   },
   {
    "duration": 31,
    "start_time": "2022-03-25T12:41:20.420Z"
   },
   {
    "duration": 87,
    "start_time": "2022-03-25T12:41:20.455Z"
   },
   {
    "duration": 80,
    "start_time": "2022-03-25T12:41:20.545Z"
   },
   {
    "duration": 78,
    "start_time": "2022-03-25T12:41:20.626Z"
   },
   {
    "duration": 95,
    "start_time": "2022-03-25T12:41:20.706Z"
   },
   {
    "duration": 151,
    "start_time": "2022-03-25T12:41:20.804Z"
   },
   {
    "duration": 218,
    "start_time": "2022-03-25T12:41:20.959Z"
   },
   {
    "duration": 32,
    "start_time": "2022-03-25T12:41:21.180Z"
   },
   {
    "duration": 8,
    "start_time": "2022-03-25T12:41:21.214Z"
   },
   {
    "duration": 35,
    "start_time": "2022-03-25T12:41:21.224Z"
   },
   {
    "duration": 66,
    "start_time": "2022-03-25T12:41:21.262Z"
   },
   {
    "duration": 36,
    "start_time": "2022-03-25T12:41:21.331Z"
   },
   {
    "duration": 33,
    "start_time": "2022-03-25T12:41:21.369Z"
   },
   {
    "duration": 51,
    "start_time": "2022-03-25T12:41:21.404Z"
   },
   {
    "duration": 91,
    "start_time": "2022-03-25T12:41:21.457Z"
   },
   {
    "duration": 71,
    "start_time": "2022-03-25T12:41:21.550Z"
   },
   {
    "duration": 80,
    "start_time": "2022-03-25T12:41:21.623Z"
   },
   {
    "duration": 4,
    "start_time": "2022-03-25T12:41:21.705Z"
   },
   {
    "duration": 54,
    "start_time": "2022-03-25T12:41:21.711Z"
   },
   {
    "duration": 45,
    "start_time": "2022-03-25T12:41:21.768Z"
   },
   {
    "duration": 96,
    "start_time": "2022-03-25T12:41:22.178Z"
   },
   {
    "duration": 11,
    "start_time": "2022-03-25T12:41:22.616Z"
   },
   {
    "duration": 5,
    "start_time": "2022-03-25T12:41:23.047Z"
   },
   {
    "duration": 38,
    "start_time": "2022-03-25T12:41:23.511Z"
   },
   {
    "duration": 5,
    "start_time": "2022-03-25T12:41:24.185Z"
   },
   {
    "duration": 40,
    "start_time": "2022-03-25T12:41:25.645Z"
   },
   {
    "duration": 9,
    "start_time": "2022-03-25T12:41:26.618Z"
   },
   {
    "duration": 44,
    "start_time": "2022-03-25T12:41:37.160Z"
   },
   {
    "duration": 180,
    "start_time": "2022-03-25T12:44:13.783Z"
   },
   {
    "duration": 21,
    "start_time": "2022-03-25T12:45:20.927Z"
   },
   {
    "duration": 10,
    "start_time": "2022-03-25T12:45:33.606Z"
   },
   {
    "duration": 19,
    "start_time": "2022-03-25T12:45:45.638Z"
   },
   {
    "duration": 30,
    "start_time": "2022-03-25T12:46:01.299Z"
   },
   {
    "duration": 35,
    "start_time": "2022-03-25T12:46:19.886Z"
   },
   {
    "duration": 30,
    "start_time": "2022-03-25T12:46:20.856Z"
   },
   {
    "duration": 3,
    "start_time": "2022-03-25T12:47:31.452Z"
   },
   {
    "duration": 51,
    "start_time": "2022-03-25T12:47:31.509Z"
   },
   {
    "duration": 14,
    "start_time": "2022-03-25T12:47:31.566Z"
   },
   {
    "duration": 6,
    "start_time": "2022-03-25T12:47:31.611Z"
   },
   {
    "duration": 21,
    "start_time": "2022-03-25T12:47:31.639Z"
   },
   {
    "duration": 13,
    "start_time": "2022-03-25T12:47:31.708Z"
   },
   {
    "duration": 187,
    "start_time": "2022-03-25T12:47:31.769Z"
   },
   {
    "duration": 50,
    "start_time": "2022-03-25T12:47:31.959Z"
   },
   {
    "duration": 48,
    "start_time": "2022-03-25T12:47:32.011Z"
   },
   {
    "duration": 61,
    "start_time": "2022-03-25T12:47:32.061Z"
   },
   {
    "duration": 110,
    "start_time": "2022-03-25T12:47:32.124Z"
   },
   {
    "duration": 37,
    "start_time": "2022-03-25T12:47:32.237Z"
   },
   {
    "duration": 58,
    "start_time": "2022-03-25T12:47:32.276Z"
   },
   {
    "duration": 177,
    "start_time": "2022-03-25T12:47:32.336Z"
   },
   {
    "duration": 32,
    "start_time": "2022-03-25T12:47:32.515Z"
   },
   {
    "duration": 70,
    "start_time": "2022-03-25T12:47:32.549Z"
   },
   {
    "duration": 29,
    "start_time": "2022-03-25T12:47:32.621Z"
   },
   {
    "duration": 66,
    "start_time": "2022-03-25T12:47:32.662Z"
   },
   {
    "duration": 72,
    "start_time": "2022-03-25T12:47:32.730Z"
   },
   {
    "duration": 54,
    "start_time": "2022-03-25T12:47:32.804Z"
   },
   {
    "duration": 93,
    "start_time": "2022-03-25T12:47:32.861Z"
   },
   {
    "duration": 96,
    "start_time": "2022-03-25T12:47:32.957Z"
   },
   {
    "duration": 131,
    "start_time": "2022-03-25T12:47:33.054Z"
   },
   {
    "duration": 21,
    "start_time": "2022-03-25T12:47:33.203Z"
   },
   {
    "duration": 13,
    "start_time": "2022-03-25T12:47:33.226Z"
   },
   {
    "duration": 38,
    "start_time": "2022-03-25T12:47:33.241Z"
   },
   {
    "duration": 44,
    "start_time": "2022-03-25T12:47:33.301Z"
   },
   {
    "duration": 56,
    "start_time": "2022-03-25T12:47:33.347Z"
   },
   {
    "duration": 6,
    "start_time": "2022-03-25T12:47:33.406Z"
   },
   {
    "duration": 54,
    "start_time": "2022-03-25T12:47:33.414Z"
   },
   {
    "duration": 67,
    "start_time": "2022-03-25T12:47:33.470Z"
   },
   {
    "duration": 44,
    "start_time": "2022-03-25T12:47:33.539Z"
   },
   {
    "duration": 67,
    "start_time": "2022-03-25T12:47:33.585Z"
   },
   {
    "duration": 4,
    "start_time": "2022-03-25T12:47:33.653Z"
   },
   {
    "duration": 70,
    "start_time": "2022-03-25T12:47:33.660Z"
   },
   {
    "duration": 18,
    "start_time": "2022-03-25T12:47:33.732Z"
   },
   {
    "duration": 99,
    "start_time": "2022-03-25T12:47:33.752Z"
   },
   {
    "duration": 14,
    "start_time": "2022-03-25T12:47:33.853Z"
   },
   {
    "duration": 4,
    "start_time": "2022-03-25T12:47:33.870Z"
   },
   {
    "duration": 63,
    "start_time": "2022-03-25T12:47:33.876Z"
   },
   {
    "duration": 5,
    "start_time": "2022-03-25T12:47:33.942Z"
   },
   {
    "duration": 77,
    "start_time": "2022-03-25T12:47:33.950Z"
   },
   {
    "duration": 29,
    "start_time": "2022-03-25T12:47:34.030Z"
   },
   {
    "duration": 9,
    "start_time": "2022-03-25T12:49:41.599Z"
   },
   {
    "duration": 26,
    "start_time": "2022-03-25T12:49:51.861Z"
   },
   {
    "duration": 30,
    "start_time": "2022-03-25T12:50:14.107Z"
   },
   {
    "duration": 22,
    "start_time": "2022-03-25T12:53:01.444Z"
   },
   {
    "duration": 54,
    "start_time": "2022-03-25T12:53:09.202Z"
   },
   {
    "duration": 19,
    "start_time": "2022-03-25T12:53:35.256Z"
   },
   {
    "duration": 112,
    "start_time": "2022-03-25T13:02:33.602Z"
   },
   {
    "duration": 94,
    "start_time": "2022-03-25T13:03:07.651Z"
   },
   {
    "duration": 76,
    "start_time": "2022-03-25T13:03:26.472Z"
   },
   {
    "duration": 117,
    "start_time": "2022-03-25T13:04:01.716Z"
   },
   {
    "duration": 74,
    "start_time": "2022-03-25T13:04:04.394Z"
   },
   {
    "duration": 5,
    "start_time": "2022-03-25T13:04:27.036Z"
   },
   {
    "duration": 73,
    "start_time": "2022-03-25T13:04:29.666Z"
   },
   {
    "duration": 73,
    "start_time": "2022-03-25T13:05:51.082Z"
   },
   {
    "duration": 7,
    "start_time": "2022-03-25T13:09:14.849Z"
   },
   {
    "duration": 53,
    "start_time": "2022-03-25T13:09:37.687Z"
   },
   {
    "duration": 17,
    "start_time": "2022-03-25T13:11:01.750Z"
   },
   {
    "duration": 36,
    "start_time": "2022-03-25T13:11:18.347Z"
   },
   {
    "duration": 40,
    "start_time": "2022-03-25T13:11:24.941Z"
   },
   {
    "duration": 40,
    "start_time": "2022-03-25T13:12:21.162Z"
   },
   {
    "duration": 27,
    "start_time": "2022-03-25T13:15:30.919Z"
   },
   {
    "duration": 25,
    "start_time": "2022-03-25T13:16:45.069Z"
   },
   {
    "duration": 3,
    "start_time": "2022-03-25T13:16:55.440Z"
   },
   {
    "duration": 40,
    "start_time": "2022-03-25T13:16:55.502Z"
   },
   {
    "duration": 14,
    "start_time": "2022-03-25T13:16:55.544Z"
   },
   {
    "duration": 6,
    "start_time": "2022-03-25T13:16:55.601Z"
   },
   {
    "duration": 21,
    "start_time": "2022-03-25T13:16:55.631Z"
   },
   {
    "duration": 11,
    "start_time": "2022-03-25T13:16:55.693Z"
   },
   {
    "duration": 197,
    "start_time": "2022-03-25T13:16:55.747Z"
   },
   {
    "duration": 33,
    "start_time": "2022-03-25T13:16:55.946Z"
   },
   {
    "duration": 64,
    "start_time": "2022-03-25T13:16:55.981Z"
   },
   {
    "duration": 61,
    "start_time": "2022-03-25T13:16:56.047Z"
   },
   {
    "duration": 119,
    "start_time": "2022-03-25T13:16:56.110Z"
   },
   {
    "duration": 37,
    "start_time": "2022-03-25T13:16:56.232Z"
   },
   {
    "duration": 60,
    "start_time": "2022-03-25T13:16:56.272Z"
   },
   {
    "duration": 177,
    "start_time": "2022-03-25T13:16:56.335Z"
   },
   {
    "duration": 33,
    "start_time": "2022-03-25T13:16:56.514Z"
   },
   {
    "duration": 68,
    "start_time": "2022-03-25T13:16:56.550Z"
   },
   {
    "duration": 27,
    "start_time": "2022-03-25T13:16:56.620Z"
   },
   {
    "duration": 70,
    "start_time": "2022-03-25T13:16:56.654Z"
   },
   {
    "duration": 54,
    "start_time": "2022-03-25T13:16:56.727Z"
   },
   {
    "duration": 52,
    "start_time": "2022-03-25T13:16:56.803Z"
   },
   {
    "duration": 94,
    "start_time": "2022-03-25T13:16:56.857Z"
   },
   {
    "duration": 7,
    "start_time": "2022-03-25T13:16:56.953Z"
   },
   {
    "duration": 98,
    "start_time": "2022-03-25T13:16:56.962Z"
   },
   {
    "duration": 121,
    "start_time": "2022-03-25T13:16:57.062Z"
   },
   {
    "duration": 17,
    "start_time": "2022-03-25T13:16:57.200Z"
   },
   {
    "duration": 5,
    "start_time": "2022-03-25T13:16:57.219Z"
   },
   {
    "duration": 31,
    "start_time": "2022-03-25T13:16:57.226Z"
   },
   {
    "duration": 59,
    "start_time": "2022-03-25T13:16:57.259Z"
   },
   {
    "duration": 32,
    "start_time": "2022-03-25T13:16:57.320Z"
   },
   {
    "duration": 6,
    "start_time": "2022-03-25T13:16:57.354Z"
   },
   {
    "duration": 73,
    "start_time": "2022-03-25T13:16:57.362Z"
   },
   {
    "duration": 40,
    "start_time": "2022-03-25T13:16:57.437Z"
   },
   {
    "duration": 61,
    "start_time": "2022-03-25T13:16:57.478Z"
   },
   {
    "duration": 73,
    "start_time": "2022-03-25T13:16:57.541Z"
   },
   {
    "duration": 4,
    "start_time": "2022-03-25T13:16:57.617Z"
   },
   {
    "duration": 48,
    "start_time": "2022-03-25T13:16:57.622Z"
   },
   {
    "duration": 41,
    "start_time": "2022-03-25T13:16:57.672Z"
   },
   {
    "duration": 102,
    "start_time": "2022-03-25T13:16:57.715Z"
   },
   {
    "duration": 9,
    "start_time": "2022-03-25T13:16:57.818Z"
   },
   {
    "duration": 5,
    "start_time": "2022-03-25T13:16:57.829Z"
   },
   {
    "duration": 39,
    "start_time": "2022-03-25T13:16:57.836Z"
   },
   {
    "duration": 5,
    "start_time": "2022-03-25T13:16:57.901Z"
   },
   {
    "duration": 50,
    "start_time": "2022-03-25T13:16:57.909Z"
   },
   {
    "duration": 42,
    "start_time": "2022-03-25T13:16:57.961Z"
   },
   {
    "duration": 30,
    "start_time": "2022-03-25T13:17:14.432Z"
   },
   {
    "duration": 28,
    "start_time": "2022-03-25T13:18:25.049Z"
   },
   {
    "duration": 224,
    "start_time": "2022-03-25T13:20:45.038Z"
   },
   {
    "duration": 4,
    "start_time": "2022-03-25T13:20:48.873Z"
   },
   {
    "duration": 27,
    "start_time": "2022-03-25T13:20:52.237Z"
   },
   {
    "duration": 26,
    "start_time": "2022-03-25T13:22:37.205Z"
   },
   {
    "duration": 25,
    "start_time": "2022-03-25T13:22:44.036Z"
   },
   {
    "duration": 159,
    "start_time": "2022-03-25T13:22:58.101Z"
   },
   {
    "duration": 31,
    "start_time": "2022-03-25T13:23:01.735Z"
   },
   {
    "duration": 17,
    "start_time": "2022-03-25T13:23:10.251Z"
   },
   {
    "duration": 18,
    "start_time": "2022-03-25T13:23:17.579Z"
   },
   {
    "duration": 17,
    "start_time": "2022-03-25T13:23:21.090Z"
   },
   {
    "duration": 3,
    "start_time": "2022-03-25T13:24:39.226Z"
   },
   {
    "duration": 14,
    "start_time": "2022-03-25T13:24:47.037Z"
   },
   {
    "duration": 3,
    "start_time": "2022-03-25T13:24:52.756Z"
   },
   {
    "duration": 16,
    "start_time": "2022-03-25T13:25:57.193Z"
   },
   {
    "duration": 15,
    "start_time": "2022-03-25T13:26:02.905Z"
   },
   {
    "duration": 12,
    "start_time": "2022-03-25T13:27:25.183Z"
   },
   {
    "duration": 29,
    "start_time": "2022-03-25T13:27:39.117Z"
   },
   {
    "duration": 27,
    "start_time": "2022-03-25T13:27:45.830Z"
   },
   {
    "duration": 10,
    "start_time": "2022-03-25T13:34:26.545Z"
   },
   {
    "duration": 9,
    "start_time": "2022-03-25T13:34:39.673Z"
   },
   {
    "duration": 17,
    "start_time": "2022-03-25T13:35:24.946Z"
   },
   {
    "duration": 7,
    "start_time": "2022-03-25T13:35:55.367Z"
   },
   {
    "duration": 17,
    "start_time": "2022-03-25T13:36:02.749Z"
   },
   {
    "duration": 13,
    "start_time": "2022-03-25T13:36:47.230Z"
   },
   {
    "duration": 3,
    "start_time": "2022-03-25T13:37:27.594Z"
   },
   {
    "duration": 54,
    "start_time": "2022-03-25T13:37:27.660Z"
   },
   {
    "duration": 14,
    "start_time": "2022-03-25T13:37:27.716Z"
   },
   {
    "duration": 6,
    "start_time": "2022-03-25T13:37:27.748Z"
   },
   {
    "duration": 21,
    "start_time": "2022-03-25T13:37:27.778Z"
   },
   {
    "duration": 12,
    "start_time": "2022-03-25T13:37:27.840Z"
   },
   {
    "duration": 191,
    "start_time": "2022-03-25T13:37:27.903Z"
   },
   {
    "duration": 35,
    "start_time": "2022-03-25T13:37:28.100Z"
   },
   {
    "duration": 67,
    "start_time": "2022-03-25T13:37:28.137Z"
   },
   {
    "duration": 40,
    "start_time": "2022-03-25T13:37:28.207Z"
   },
   {
    "duration": 131,
    "start_time": "2022-03-25T13:37:28.250Z"
   },
   {
    "duration": 46,
    "start_time": "2022-03-25T13:37:28.384Z"
   },
   {
    "duration": 35,
    "start_time": "2022-03-25T13:37:28.432Z"
   },
   {
    "duration": 189,
    "start_time": "2022-03-25T13:37:28.470Z"
   },
   {
    "duration": 40,
    "start_time": "2022-03-25T13:37:28.661Z"
   },
   {
    "duration": 38,
    "start_time": "2022-03-25T13:37:28.704Z"
   },
   {
    "duration": 28,
    "start_time": "2022-03-25T13:37:28.744Z"
   },
   {
    "duration": 53,
    "start_time": "2022-03-25T13:37:28.814Z"
   },
   {
    "duration": 65,
    "start_time": "2022-03-25T13:37:28.869Z"
   },
   {
    "duration": 72,
    "start_time": "2022-03-25T13:37:28.936Z"
   },
   {
    "duration": 61,
    "start_time": "2022-03-25T13:37:29.011Z"
   },
   {
    "duration": 29,
    "start_time": "2022-03-25T13:37:29.074Z"
   },
   {
    "duration": 69,
    "start_time": "2022-03-25T13:37:29.105Z"
   },
   {
    "duration": 150,
    "start_time": "2022-03-25T13:37:29.176Z"
   },
   {
    "duration": 15,
    "start_time": "2022-03-25T13:37:29.328Z"
   },
   {
    "duration": 3,
    "start_time": "2022-03-25T13:37:29.345Z"
   },
   {
    "duration": 57,
    "start_time": "2022-03-25T13:37:29.350Z"
   },
   {
    "duration": 32,
    "start_time": "2022-03-25T13:37:29.409Z"
   },
   {
    "duration": 57,
    "start_time": "2022-03-25T13:37:29.444Z"
   },
   {
    "duration": 4,
    "start_time": "2022-03-25T13:37:29.503Z"
   },
   {
    "duration": 49,
    "start_time": "2022-03-25T13:37:29.509Z"
   },
   {
    "duration": 66,
    "start_time": "2022-03-25T13:37:29.561Z"
   },
   {
    "duration": 50,
    "start_time": "2022-03-25T13:37:29.629Z"
   },
   {
    "duration": 76,
    "start_time": "2022-03-25T13:37:29.681Z"
   },
   {
    "duration": 4,
    "start_time": "2022-03-25T13:37:29.758Z"
   },
   {
    "duration": 71,
    "start_time": "2022-03-25T13:37:29.765Z"
   },
   {
    "duration": 15,
    "start_time": "2022-03-25T13:37:29.838Z"
   },
   {
    "duration": 112,
    "start_time": "2022-03-25T13:37:29.855Z"
   },
   {
    "duration": 11,
    "start_time": "2022-03-25T13:37:29.969Z"
   },
   {
    "duration": 22,
    "start_time": "2022-03-25T13:37:29.982Z"
   },
   {
    "duration": 50,
    "start_time": "2022-03-25T13:37:30.005Z"
   },
   {
    "duration": 4,
    "start_time": "2022-03-25T13:37:30.058Z"
   },
   {
    "duration": 60,
    "start_time": "2022-03-25T13:37:30.065Z"
   },
   {
    "duration": 26,
    "start_time": "2022-03-25T13:37:30.127Z"
   },
   {
    "duration": 23,
    "start_time": "2022-03-25T13:37:30.156Z"
   },
   {
    "duration": 18,
    "start_time": "2022-03-25T13:37:37.703Z"
   },
   {
    "duration": 791,
    "start_time": "2022-03-25T13:38:20.641Z"
   },
   {
    "duration": 3,
    "start_time": "2022-03-25T13:38:30.376Z"
   },
   {
    "duration": 45,
    "start_time": "2022-03-25T13:38:30.439Z"
   },
   {
    "duration": 15,
    "start_time": "2022-03-25T13:38:30.486Z"
   },
   {
    "duration": 7,
    "start_time": "2022-03-25T13:38:30.531Z"
   },
   {
    "duration": 24,
    "start_time": "2022-03-25T13:38:30.557Z"
   },
   {
    "duration": 12,
    "start_time": "2022-03-25T13:38:30.622Z"
   },
   {
    "duration": 911,
    "start_time": "2022-03-25T13:38:30.692Z"
   },
   {
    "duration": 33,
    "start_time": "2022-03-25T13:38:31.606Z"
   },
   {
    "duration": 67,
    "start_time": "2022-03-25T13:38:31.641Z"
   },
   {
    "duration": 43,
    "start_time": "2022-03-25T13:38:31.710Z"
   },
   {
    "duration": 867,
    "start_time": "2022-03-25T13:38:31.755Z"
   },
   {
    "duration": 35,
    "start_time": "2022-03-25T13:38:32.624Z"
   },
   {
    "duration": 55,
    "start_time": "2022-03-25T13:38:32.661Z"
   },
   {
    "duration": 1542,
    "start_time": "2022-03-25T13:38:32.718Z"
   },
   {
    "duration": 39,
    "start_time": "2022-03-25T13:38:34.262Z"
   },
   {
    "duration": 38,
    "start_time": "2022-03-25T13:38:34.304Z"
   },
   {
    "duration": 60,
    "start_time": "2022-03-25T13:38:34.344Z"
   },
   {
    "duration": 174,
    "start_time": "2022-03-25T13:38:34.406Z"
   },
   {
    "duration": 56,
    "start_time": "2022-03-25T13:38:34.582Z"
   },
   {
    "duration": 63,
    "start_time": "2022-03-25T13:38:34.640Z"
   },
   {
    "duration": 66,
    "start_time": "2022-03-25T13:38:34.705Z"
   },
   {
    "duration": 7,
    "start_time": "2022-03-25T13:38:34.773Z"
   },
   {
    "duration": 94,
    "start_time": "2022-03-25T13:38:34.781Z"
   },
   {
    "duration": 153,
    "start_time": "2022-03-25T13:38:34.877Z"
   },
   {
    "duration": 19,
    "start_time": "2022-03-25T13:38:35.032Z"
   },
   {
    "duration": 11,
    "start_time": "2022-03-25T13:38:35.054Z"
   },
   {
    "duration": 61,
    "start_time": "2022-03-25T13:38:35.067Z"
   },
   {
    "duration": 37,
    "start_time": "2022-03-25T13:38:35.130Z"
   },
   {
    "duration": 56,
    "start_time": "2022-03-25T13:38:35.169Z"
   },
   {
    "duration": 29,
    "start_time": "2022-03-25T13:38:35.227Z"
   },
   {
    "duration": 74,
    "start_time": "2022-03-25T13:38:35.258Z"
   },
   {
    "duration": 58,
    "start_time": "2022-03-25T13:38:35.334Z"
   },
   {
    "duration": 68,
    "start_time": "2022-03-25T13:38:35.394Z"
   },
   {
    "duration": 78,
    "start_time": "2022-03-25T13:38:35.467Z"
   },
   {
    "duration": 3,
    "start_time": "2022-03-25T13:38:35.547Z"
   },
   {
    "duration": 57,
    "start_time": "2022-03-25T13:38:35.552Z"
   },
   {
    "duration": 37,
    "start_time": "2022-03-25T13:38:35.611Z"
   },
   {
    "duration": 91,
    "start_time": "2022-03-25T13:38:35.650Z"
   },
   {
    "duration": 11,
    "start_time": "2022-03-25T13:38:35.743Z"
   },
   {
    "duration": 15,
    "start_time": "2022-03-25T13:38:35.755Z"
   },
   {
    "duration": 54,
    "start_time": "2022-03-25T13:38:35.772Z"
   },
   {
    "duration": 4,
    "start_time": "2022-03-25T13:38:35.827Z"
   },
   {
    "duration": 51,
    "start_time": "2022-03-25T13:38:35.833Z"
   },
   {
    "duration": 938,
    "start_time": "2022-03-25T13:38:35.886Z"
   },
   {
    "duration": 0,
    "start_time": "2022-03-25T13:38:36.827Z"
   },
   {
    "duration": 12,
    "start_time": "2022-03-25T13:39:49.164Z"
   },
   {
    "duration": 15,
    "start_time": "2022-03-25T13:39:59.139Z"
   },
   {
    "duration": 14,
    "start_time": "2022-03-25T13:40:15.817Z"
   },
   {
    "duration": 19,
    "start_time": "2022-03-25T13:40:25.311Z"
   },
   {
    "duration": 34,
    "start_time": "2022-03-25T13:41:11.773Z"
   },
   {
    "duration": 21,
    "start_time": "2022-03-25T13:41:16.503Z"
   },
   {
    "duration": 3,
    "start_time": "2022-03-25T13:41:46.912Z"
   },
   {
    "duration": 36,
    "start_time": "2022-03-25T13:41:46.967Z"
   },
   {
    "duration": 14,
    "start_time": "2022-03-25T13:41:47.005Z"
   },
   {
    "duration": 6,
    "start_time": "2022-03-25T13:41:47.066Z"
   },
   {
    "duration": 20,
    "start_time": "2022-03-25T13:41:47.089Z"
   },
   {
    "duration": 17,
    "start_time": "2022-03-25T13:41:47.162Z"
   },
   {
    "duration": 1835,
    "start_time": "2022-03-25T13:41:47.214Z"
   },
   {
    "duration": 34,
    "start_time": "2022-03-25T13:41:49.051Z"
   },
   {
    "duration": 58,
    "start_time": "2022-03-25T13:41:49.086Z"
   },
   {
    "duration": 59,
    "start_time": "2022-03-25T13:41:49.146Z"
   },
   {
    "duration": 51,
    "start_time": "2022-03-25T13:41:53.597Z"
   },
   {
    "duration": 0,
    "start_time": "2022-03-25T13:41:53.650Z"
   },
   {
    "duration": 0,
    "start_time": "2022-03-25T13:41:53.652Z"
   },
   {
    "duration": 0,
    "start_time": "2022-03-25T13:41:53.654Z"
   },
   {
    "duration": 0,
    "start_time": "2022-03-25T13:41:53.655Z"
   },
   {
    "duration": 8,
    "start_time": "2022-03-25T13:41:55.685Z"
   },
   {
    "duration": 7,
    "start_time": "2022-03-25T13:41:59.445Z"
   },
   {
    "duration": 819,
    "start_time": "2022-03-25T13:42:06.216Z"
   },
   {
    "duration": 37,
    "start_time": "2022-03-25T13:42:07.037Z"
   },
   {
    "duration": 16,
    "start_time": "2022-03-25T13:42:07.077Z"
   },
   {
    "duration": 25,
    "start_time": "2022-03-25T13:42:07.095Z"
   },
   {
    "duration": 52,
    "start_time": "2022-03-25T13:42:07.123Z"
   },
   {
    "duration": 34,
    "start_time": "2022-03-25T13:42:07.176Z"
   },
   {
    "duration": 210,
    "start_time": "2022-03-25T13:42:07.211Z"
   },
   {
    "duration": 33,
    "start_time": "2022-03-25T13:42:07.423Z"
   },
   {
    "duration": 69,
    "start_time": "2022-03-25T13:42:07.458Z"
   },
   {
    "duration": 44,
    "start_time": "2022-03-25T13:42:07.529Z"
   },
   {
    "duration": 126,
    "start_time": "2022-03-25T13:42:07.575Z"
   },
   {
    "duration": 35,
    "start_time": "2022-03-25T13:42:07.703Z"
   },
   {
    "duration": 33,
    "start_time": "2022-03-25T13:42:07.739Z"
   },
   {
    "duration": 194,
    "start_time": "2022-03-25T13:42:07.774Z"
   },
   {
    "duration": 44,
    "start_time": "2022-03-25T13:42:07.970Z"
   },
   {
    "duration": 43,
    "start_time": "2022-03-25T13:42:08.016Z"
   },
   {
    "duration": 41,
    "start_time": "2022-03-25T13:42:08.061Z"
   },
   {
    "duration": 57,
    "start_time": "2022-03-25T13:42:09.096Z"
   },
   {
    "duration": 56,
    "start_time": "2022-03-25T13:42:09.551Z"
   },
   {
    "duration": 57,
    "start_time": "2022-03-25T13:42:10.315Z"
   },
   {
    "duration": 67,
    "start_time": "2022-03-25T13:42:10.382Z"
   },
   {
    "duration": 7,
    "start_time": "2022-03-25T13:42:10.451Z"
   },
   {
    "duration": 89,
    "start_time": "2022-03-25T13:42:10.477Z"
   },
   {
    "duration": 136,
    "start_time": "2022-03-25T13:42:10.569Z"
   },
   {
    "duration": 17,
    "start_time": "2022-03-25T13:42:10.707Z"
   },
   {
    "duration": 13,
    "start_time": "2022-03-25T13:42:10.727Z"
   },
   {
    "duration": 35,
    "start_time": "2022-03-25T13:42:11.214Z"
   },
   {
    "duration": 37,
    "start_time": "2022-03-25T13:42:11.539Z"
   },
   {
    "duration": 35,
    "start_time": "2022-03-25T13:42:11.861Z"
   },
   {
    "duration": 4,
    "start_time": "2022-03-25T13:42:12.282Z"
   },
   {
    "duration": 43,
    "start_time": "2022-03-25T13:42:13.181Z"
   },
   {
    "duration": 47,
    "start_time": "2022-03-25T13:42:13.525Z"
   },
   {
    "duration": 45,
    "start_time": "2022-03-25T13:42:13.945Z"
   },
   {
    "duration": 63,
    "start_time": "2022-03-25T13:42:14.598Z"
   },
   {
    "duration": 3,
    "start_time": "2022-03-25T13:42:15.118Z"
   },
   {
    "duration": 51,
    "start_time": "2022-03-25T13:42:15.672Z"
   },
   {
    "duration": 16,
    "start_time": "2022-03-25T13:42:15.999Z"
   },
   {
    "duration": 94,
    "start_time": "2022-03-25T13:42:16.349Z"
   },
   {
    "duration": 11,
    "start_time": "2022-03-25T13:42:16.678Z"
   },
   {
    "duration": 4,
    "start_time": "2022-03-25T13:42:19.128Z"
   },
   {
    "duration": 39,
    "start_time": "2022-03-25T13:42:19.856Z"
   },
   {
    "duration": 5,
    "start_time": "2022-03-25T13:42:21.309Z"
   },
   {
    "duration": 48,
    "start_time": "2022-03-25T13:42:24.607Z"
   },
   {
    "duration": 26,
    "start_time": "2022-03-25T13:42:28.552Z"
   },
   {
    "duration": 13,
    "start_time": "2022-03-25T13:42:39.996Z"
   },
   {
    "duration": 25,
    "start_time": "2022-03-25T13:42:51.473Z"
   },
   {
    "duration": 18,
    "start_time": "2022-03-25T13:43:05.595Z"
   },
   {
    "duration": 17,
    "start_time": "2022-03-25T13:43:20.729Z"
   },
   {
    "duration": 43,
    "start_time": "2022-03-25T13:43:45.314Z"
   },
   {
    "duration": 3,
    "start_time": "2022-03-25T13:43:51.041Z"
   },
   {
    "duration": 35,
    "start_time": "2022-03-25T13:43:51.107Z"
   },
   {
    "duration": 13,
    "start_time": "2022-03-25T13:43:51.144Z"
   },
   {
    "duration": 7,
    "start_time": "2022-03-25T13:43:51.198Z"
   },
   {
    "duration": 20,
    "start_time": "2022-03-25T13:43:51.222Z"
   },
   {
    "duration": 11,
    "start_time": "2022-03-25T13:43:51.288Z"
   },
   {
    "duration": 181,
    "start_time": "2022-03-25T13:43:51.347Z"
   },
   {
    "duration": 47,
    "start_time": "2022-03-25T13:43:51.530Z"
   },
   {
    "duration": 57,
    "start_time": "2022-03-25T13:43:51.580Z"
   },
   {
    "duration": 40,
    "start_time": "2022-03-25T13:43:51.639Z"
   },
   {
    "duration": 134,
    "start_time": "2022-03-25T13:43:51.681Z"
   },
   {
    "duration": 36,
    "start_time": "2022-03-25T13:43:51.817Z"
   },
   {
    "duration": 54,
    "start_time": "2022-03-25T13:43:51.855Z"
   },
   {
    "duration": 159,
    "start_time": "2022-03-25T13:43:51.912Z"
   },
   {
    "duration": 42,
    "start_time": "2022-03-25T13:43:52.073Z"
   },
   {
    "duration": 41,
    "start_time": "2022-03-25T13:43:52.117Z"
   },
   {
    "duration": 42,
    "start_time": "2022-03-25T13:43:52.160Z"
   },
   {
    "duration": 54,
    "start_time": "2022-03-25T13:43:52.236Z"
   },
   {
    "duration": 59,
    "start_time": "2022-03-25T13:43:52.292Z"
   },
   {
    "duration": 69,
    "start_time": "2022-03-25T13:43:52.353Z"
   },
   {
    "duration": 60,
    "start_time": "2022-03-25T13:43:52.424Z"
   },
   {
    "duration": 19,
    "start_time": "2022-03-25T13:43:52.486Z"
   },
   {
    "duration": 96,
    "start_time": "2022-03-25T13:43:52.507Z"
   },
   {
    "duration": 125,
    "start_time": "2022-03-25T13:43:52.604Z"
   },
   {
    "duration": 15,
    "start_time": "2022-03-25T13:43:52.730Z"
   },
   {
    "duration": 5,
    "start_time": "2022-03-25T13:43:52.747Z"
   },
   {
    "duration": 56,
    "start_time": "2022-03-25T13:43:52.754Z"
   },
   {
    "duration": 30,
    "start_time": "2022-03-25T13:43:53.333Z"
   },
   {
    "duration": 30,
    "start_time": "2022-03-25T13:43:53.629Z"
   },
   {
    "duration": 3,
    "start_time": "2022-03-25T13:43:53.830Z"
   },
   {
    "duration": 40,
    "start_time": "2022-03-25T13:43:54.018Z"
   },
   {
    "duration": 41,
    "start_time": "2022-03-25T13:43:54.213Z"
   },
   {
    "duration": 41,
    "start_time": "2022-03-25T13:43:54.385Z"
   },
   {
    "duration": 55,
    "start_time": "2022-03-25T13:43:54.584Z"
   },
   {
    "duration": 3,
    "start_time": "2022-03-25T13:43:54.769Z"
   },
   {
    "duration": 41,
    "start_time": "2022-03-25T13:43:55.199Z"
   },
   {
    "duration": 26,
    "start_time": "2022-03-25T13:43:55.242Z"
   },
   {
    "duration": 79,
    "start_time": "2022-03-25T13:43:55.375Z"
   },
   {
    "duration": 9,
    "start_time": "2022-03-25T13:43:55.575Z"
   },
   {
    "duration": 4,
    "start_time": "2022-03-25T13:43:56.166Z"
   },
   {
    "duration": 36,
    "start_time": "2022-03-25T13:43:56.519Z"
   },
   {
    "duration": 5,
    "start_time": "2022-03-25T13:43:57.251Z"
   },
   {
    "duration": 50,
    "start_time": "2022-03-25T13:43:59.585Z"
   },
   {
    "duration": 27,
    "start_time": "2022-03-25T13:44:00.752Z"
   },
   {
    "duration": 5,
    "start_time": "2022-03-25T13:44:02.212Z"
   },
   {
    "duration": 19,
    "start_time": "2022-03-25T13:44:15.766Z"
   },
   {
    "duration": 27,
    "start_time": "2022-03-25T13:46:46.160Z"
   },
   {
    "duration": 3,
    "start_time": "2022-03-25T13:48:27.607Z"
   },
   {
    "duration": 36,
    "start_time": "2022-03-25T13:48:27.666Z"
   },
   {
    "duration": 13,
    "start_time": "2022-03-25T13:48:27.704Z"
   },
   {
    "duration": 6,
    "start_time": "2022-03-25T13:48:27.760Z"
   },
   {
    "duration": 19,
    "start_time": "2022-03-25T13:48:27.788Z"
   },
   {
    "duration": 29,
    "start_time": "2022-03-25T13:48:27.858Z"
   },
   {
    "duration": 194,
    "start_time": "2022-03-25T13:48:27.909Z"
   },
   {
    "duration": 35,
    "start_time": "2022-03-25T13:48:28.106Z"
   },
   {
    "duration": 65,
    "start_time": "2022-03-25T13:48:28.143Z"
   },
   {
    "duration": 40,
    "start_time": "2022-03-25T13:48:28.210Z"
   },
   {
    "duration": 133,
    "start_time": "2022-03-25T13:48:28.252Z"
   },
   {
    "duration": 43,
    "start_time": "2022-03-25T13:48:28.387Z"
   },
   {
    "duration": 36,
    "start_time": "2022-03-25T13:48:28.432Z"
   },
   {
    "duration": 233,
    "start_time": "2022-03-25T13:48:28.471Z"
   },
   {
    "duration": 33,
    "start_time": "2022-03-25T13:48:28.706Z"
   },
   {
    "duration": 61,
    "start_time": "2022-03-25T13:48:28.741Z"
   },
   {
    "duration": 30,
    "start_time": "2022-03-25T13:48:28.804Z"
   },
   {
    "duration": 68,
    "start_time": "2022-03-25T13:48:28.836Z"
   },
   {
    "duration": 50,
    "start_time": "2022-03-25T13:48:28.906Z"
   },
   {
    "duration": 70,
    "start_time": "2022-03-25T13:48:28.958Z"
   },
   {
    "duration": 74,
    "start_time": "2022-03-25T13:48:29.030Z"
   },
   {
    "duration": 6,
    "start_time": "2022-03-25T13:48:29.106Z"
   },
   {
    "duration": 95,
    "start_time": "2022-03-25T13:48:29.114Z"
   },
   {
    "duration": 116,
    "start_time": "2022-03-25T13:48:29.211Z"
   },
   {
    "duration": 17,
    "start_time": "2022-03-25T13:48:29.328Z"
   },
   {
    "duration": 4,
    "start_time": "2022-03-25T13:48:30.124Z"
   },
   {
    "duration": 31,
    "start_time": "2022-03-25T13:48:30.893Z"
   },
   {
    "duration": 32,
    "start_time": "2022-03-25T13:48:31.144Z"
   },
   {
    "duration": 33,
    "start_time": "2022-03-25T13:48:31.391Z"
   },
   {
    "duration": 4,
    "start_time": "2022-03-25T13:48:31.551Z"
   },
   {
    "duration": 42,
    "start_time": "2022-03-25T13:48:31.838Z"
   },
   {
    "duration": 42,
    "start_time": "2022-03-25T13:48:32.137Z"
   },
   {
    "duration": 41,
    "start_time": "2022-03-25T13:48:32.394Z"
   },
   {
    "duration": 57,
    "start_time": "2022-03-25T13:48:32.656Z"
   },
   {
    "duration": 3,
    "start_time": "2022-03-25T13:48:33.262Z"
   },
   {
    "duration": 48,
    "start_time": "2022-03-25T13:48:34.358Z"
   },
   {
    "duration": 16,
    "start_time": "2022-03-25T13:48:35.149Z"
   },
   {
    "duration": 87,
    "start_time": "2022-03-25T13:48:35.760Z"
   },
   {
    "duration": 12,
    "start_time": "2022-03-25T13:48:36.727Z"
   },
   {
    "duration": 4,
    "start_time": "2022-03-25T13:48:38.333Z"
   },
   {
    "duration": 36,
    "start_time": "2022-03-25T13:48:39.210Z"
   },
   {
    "duration": 4,
    "start_time": "2022-03-25T13:48:40.007Z"
   },
   {
    "duration": 47,
    "start_time": "2022-03-25T13:48:41.949Z"
   },
   {
    "duration": 29,
    "start_time": "2022-03-25T13:48:45.360Z"
   },
   {
    "duration": 28,
    "start_time": "2022-03-25T13:50:16.478Z"
   },
   {
    "duration": 6,
    "start_time": "2022-03-25T13:50:31.771Z"
   },
   {
    "duration": 40,
    "start_time": "2022-03-25T13:51:48.064Z"
   },
   {
    "duration": 34,
    "start_time": "2022-03-25T13:52:23.613Z"
   },
   {
    "duration": 52,
    "start_time": "2022-03-25T13:52:34.790Z"
   },
   {
    "duration": 199,
    "start_time": "2022-03-25T13:53:24.735Z"
   },
   {
    "duration": 45,
    "start_time": "2022-03-25T13:53:35.521Z"
   },
   {
    "duration": 34,
    "start_time": "2022-03-25T13:59:31.527Z"
   },
   {
    "duration": 25,
    "start_time": "2022-03-25T13:59:36.448Z"
   },
   {
    "duration": 5,
    "start_time": "2022-03-25T13:59:42.330Z"
   },
   {
    "duration": 19,
    "start_time": "2022-03-25T13:59:43.052Z"
   },
   {
    "duration": 19,
    "start_time": "2022-03-25T14:00:47.172Z"
   },
   {
    "duration": 128,
    "start_time": "2022-03-25T14:00:57.295Z"
   },
   {
    "duration": 9,
    "start_time": "2022-03-25T14:05:25.667Z"
   },
   {
    "duration": 24,
    "start_time": "2022-03-25T14:06:21.328Z"
   },
   {
    "duration": 30,
    "start_time": "2022-03-25T14:06:46.946Z"
   },
   {
    "duration": 17,
    "start_time": "2022-03-25T14:07:02.119Z"
   },
   {
    "duration": 18,
    "start_time": "2022-03-25T14:07:38.560Z"
   },
   {
    "duration": 16,
    "start_time": "2022-03-25T14:07:53.563Z"
   },
   {
    "duration": 4,
    "start_time": "2022-03-25T14:08:01.211Z"
   },
   {
    "duration": 10,
    "start_time": "2022-03-25T14:08:15.514Z"
   },
   {
    "duration": 161,
    "start_time": "2022-03-25T14:08:22.341Z"
   },
   {
    "duration": 16,
    "start_time": "2022-03-25T14:08:28.064Z"
   },
   {
    "duration": 5,
    "start_time": "2022-03-25T14:08:48.808Z"
   },
   {
    "duration": 16,
    "start_time": "2022-03-25T14:08:49.463Z"
   },
   {
    "duration": 4,
    "start_time": "2022-03-25T14:10:34.153Z"
   },
   {
    "duration": 6,
    "start_time": "2022-03-25T14:10:43.102Z"
   },
   {
    "duration": 11,
    "start_time": "2022-03-25T14:11:50.428Z"
   },
   {
    "duration": 11,
    "start_time": "2022-03-25T14:12:14.526Z"
   },
   {
    "duration": 175,
    "start_time": "2022-03-25T14:13:05.077Z"
   },
   {
    "duration": 6,
    "start_time": "2022-03-25T14:13:28.367Z"
   },
   {
    "duration": 8,
    "start_time": "2022-03-25T14:16:37.360Z"
   },
   {
    "duration": 10,
    "start_time": "2022-03-25T14:16:44.977Z"
   },
   {
    "duration": 17,
    "start_time": "2022-03-25T14:18:35.245Z"
   },
   {
    "duration": 131,
    "start_time": "2022-03-25T14:31:21.704Z"
   },
   {
    "duration": 29,
    "start_time": "2022-03-25T14:31:22.788Z"
   },
   {
    "duration": 5,
    "start_time": "2022-03-25T14:31:39.218Z"
   },
   {
    "duration": 17,
    "start_time": "2022-03-25T14:31:49.703Z"
   },
   {
    "duration": 15,
    "start_time": "2022-03-25T14:32:02.240Z"
   },
   {
    "duration": 48,
    "start_time": "2022-03-25T14:32:32.821Z"
   },
   {
    "duration": 30,
    "start_time": "2022-03-25T14:32:48.465Z"
   },
   {
    "duration": 41,
    "start_time": "2022-03-25T14:34:41.306Z"
   },
   {
    "duration": 45,
    "start_time": "2022-03-25T14:37:18.644Z"
   },
   {
    "duration": 48,
    "start_time": "2022-03-25T14:43:44.571Z"
   },
   {
    "duration": 1097,
    "start_time": "2022-03-26T03:24:48.141Z"
   },
   {
    "duration": 4,
    "start_time": "2022-03-26T03:25:33.453Z"
   },
   {
    "duration": 42,
    "start_time": "2022-03-26T03:25:34.340Z"
   },
   {
    "duration": 21,
    "start_time": "2022-03-26T03:25:35.324Z"
   },
   {
    "duration": 8,
    "start_time": "2022-03-26T03:25:42.972Z"
   },
   {
    "duration": 32,
    "start_time": "2022-03-26T03:25:45.034Z"
   },
   {
    "duration": 16,
    "start_time": "2022-03-26T03:26:18.620Z"
   },
   {
    "duration": 16,
    "start_time": "2022-03-26T03:26:33.237Z"
   },
   {
    "duration": 15,
    "start_time": "2022-03-26T03:26:38.396Z"
   },
   {
    "duration": 208,
    "start_time": "2022-03-26T03:26:40.507Z"
   },
   {
    "duration": 44,
    "start_time": "2022-03-26T03:26:53.371Z"
   },
   {
    "duration": 58,
    "start_time": "2022-03-26T03:26:58.116Z"
   },
   {
    "duration": 49,
    "start_time": "2022-03-26T03:27:10.324Z"
   },
   {
    "duration": 49,
    "start_time": "2022-03-26T03:28:01.579Z"
   },
   {
    "duration": 126,
    "start_time": "2022-03-26T03:28:08.075Z"
   },
   {
    "duration": 44,
    "start_time": "2022-03-26T03:28:16.100Z"
   },
   {
    "duration": 43,
    "start_time": "2022-03-26T03:28:26.436Z"
   },
   {
    "duration": 169,
    "start_time": "2022-03-26T03:28:44.292Z"
   },
   {
    "duration": 44,
    "start_time": "2022-03-26T03:29:08.603Z"
   },
   {
    "duration": 50,
    "start_time": "2022-03-26T03:29:18.716Z"
   },
   {
    "duration": 32,
    "start_time": "2022-03-26T03:29:34.404Z"
   },
   {
    "duration": 72,
    "start_time": "2022-03-26T03:35:08.957Z"
   },
   {
    "duration": 68,
    "start_time": "2022-03-26T03:37:03.053Z"
   },
   {
    "duration": 65,
    "start_time": "2022-03-26T03:38:49.074Z"
   },
   {
    "duration": 90,
    "start_time": "2022-03-26T03:41:53.459Z"
   },
   {
    "duration": 3,
    "start_time": "2022-03-26T03:42:37.246Z"
   },
   {
    "duration": 110,
    "start_time": "2022-03-26T03:44:08.204Z"
   },
   {
    "duration": 118,
    "start_time": "2022-03-26T03:53:48.528Z"
   },
   {
    "duration": 141,
    "start_time": "2022-03-26T03:54:33.396Z"
   },
   {
    "duration": 40,
    "start_time": "2022-03-26T03:57:28.832Z"
   },
   {
    "duration": 116,
    "start_time": "2022-03-26T03:59:37.464Z"
   },
   {
    "duration": 111,
    "start_time": "2022-03-26T04:01:28.845Z"
   },
   {
    "duration": 48,
    "start_time": "2022-03-26T04:01:51.768Z"
   },
   {
    "duration": 105,
    "start_time": "2022-03-26T04:02:02.246Z"
   },
   {
    "duration": 53,
    "start_time": "2022-03-26T04:02:26.640Z"
   },
   {
    "duration": 111,
    "start_time": "2022-03-26T04:05:50.989Z"
   },
   {
    "duration": 158,
    "start_time": "2022-03-26T04:06:20.288Z"
   },
   {
    "duration": 14,
    "start_time": "2022-03-26T04:06:27.391Z"
   },
   {
    "duration": 52,
    "start_time": "2022-03-26T04:06:32.463Z"
   },
   {
    "duration": 11,
    "start_time": "2022-03-26T04:06:43.040Z"
   },
   {
    "duration": 12,
    "start_time": "2022-03-26T04:06:49.711Z"
   },
   {
    "duration": 131,
    "start_time": "2022-03-26T04:07:32.232Z"
   },
   {
    "duration": 43,
    "start_time": "2022-03-26T04:09:04.983Z"
   },
   {
    "duration": 116,
    "start_time": "2022-03-26T04:17:31.209Z"
   },
   {
    "duration": 14,
    "start_time": "2022-03-26T04:17:34.841Z"
   },
   {
    "duration": 16,
    "start_time": "2022-03-26T04:18:03.136Z"
   },
   {
    "duration": 15,
    "start_time": "2022-03-26T04:18:10.182Z"
   },
   {
    "duration": 164,
    "start_time": "2022-03-26T04:18:48.743Z"
   },
   {
    "duration": 15,
    "start_time": "2022-03-26T04:22:29.814Z"
   },
   {
    "duration": 19,
    "start_time": "2022-03-26T04:22:57.383Z"
   },
   {
    "duration": 15,
    "start_time": "2022-03-26T04:23:07.439Z"
   },
   {
    "duration": 153,
    "start_time": "2022-03-26T04:24:33.496Z"
   },
   {
    "duration": 26,
    "start_time": "2022-03-26T04:24:52.016Z"
   },
   {
    "duration": 5,
    "start_time": "2022-03-26T04:27:24.080Z"
   },
   {
    "duration": 8,
    "start_time": "2022-03-26T04:27:32.815Z"
   },
   {
    "duration": 47,
    "start_time": "2022-03-26T04:28:34.744Z"
   },
   {
    "duration": 12,
    "start_time": "2022-03-26T04:29:26.455Z"
   },
   {
    "duration": 4,
    "start_time": "2022-03-26T04:29:37.361Z"
   },
   {
    "duration": 38,
    "start_time": "2022-03-26T04:29:39.625Z"
   },
   {
    "duration": 48,
    "start_time": "2022-03-26T04:29:40.143Z"
   },
   {
    "duration": 44,
    "start_time": "2022-03-26T04:29:41.505Z"
   },
   {
    "duration": 6,
    "start_time": "2022-03-26T04:29:55.688Z"
   },
   {
    "duration": 60,
    "start_time": "2022-03-26T04:29:56.160Z"
   },
   {
    "duration": 61,
    "start_time": "2022-03-26T04:29:56.721Z"
   },
   {
    "duration": 61,
    "start_time": "2022-03-26T04:29:57.280Z"
   },
   {
    "duration": 4,
    "start_time": "2022-03-26T04:34:43.129Z"
   },
   {
    "duration": 14,
    "start_time": "2022-03-26T04:34:43.528Z"
   },
   {
    "duration": 86,
    "start_time": "2022-03-26T04:34:52.935Z"
   },
   {
    "duration": 5,
    "start_time": "2022-03-26T04:34:56.231Z"
   },
   {
    "duration": 70,
    "start_time": "2022-03-26T04:34:57.456Z"
   },
   {
    "duration": 52,
    "start_time": "2022-03-26T04:36:24.152Z"
   },
   {
    "duration": 13,
    "start_time": "2022-03-26T04:36:25.176Z"
   },
   {
    "duration": 11,
    "start_time": "2022-03-26T04:37:02.807Z"
   },
   {
    "duration": 75,
    "start_time": "2022-03-26T04:37:03.408Z"
   },
   {
    "duration": 1869,
    "start_time": "2022-03-26T04:37:25.392Z"
   },
   {
    "duration": 5,
    "start_time": "2022-03-26T04:37:33.805Z"
   },
   {
    "duration": 38,
    "start_time": "2022-03-26T04:37:33.864Z"
   },
   {
    "duration": 20,
    "start_time": "2022-03-26T04:37:33.906Z"
   },
   {
    "duration": 7,
    "start_time": "2022-03-26T04:37:33.966Z"
   },
   {
    "duration": 15,
    "start_time": "2022-03-26T04:37:33.995Z"
   },
   {
    "duration": 15,
    "start_time": "2022-03-26T04:37:34.073Z"
   },
   {
    "duration": 212,
    "start_time": "2022-03-26T04:37:34.131Z"
   },
   {
    "duration": 48,
    "start_time": "2022-03-26T04:37:34.345Z"
   },
   {
    "duration": 51,
    "start_time": "2022-03-26T04:37:34.395Z"
   },
   {
    "duration": 60,
    "start_time": "2022-03-26T04:37:34.448Z"
   },
   {
    "duration": 144,
    "start_time": "2022-03-26T04:37:34.510Z"
   },
   {
    "duration": 54,
    "start_time": "2022-03-26T04:37:34.656Z"
   },
   {
    "duration": 63,
    "start_time": "2022-03-26T04:37:34.712Z"
   },
   {
    "duration": 181,
    "start_time": "2022-03-26T04:37:34.778Z"
   },
   {
    "duration": 43,
    "start_time": "2022-03-26T04:37:34.961Z"
   },
   {
    "duration": 64,
    "start_time": "2022-03-26T04:37:35.011Z"
   },
   {
    "duration": 29,
    "start_time": "2022-03-26T04:37:35.077Z"
   },
   {
    "duration": 67,
    "start_time": "2022-03-26T04:37:35.142Z"
   },
   {
    "duration": 69,
    "start_time": "2022-03-26T04:37:35.252Z"
   },
   {
    "duration": 81,
    "start_time": "2022-03-26T04:37:35.324Z"
   },
   {
    "duration": 92,
    "start_time": "2022-03-26T04:37:35.451Z"
   },
   {
    "duration": 3,
    "start_time": "2022-03-26T04:37:35.546Z"
   },
   {
    "duration": 130,
    "start_time": "2022-03-26T04:37:35.551Z"
   },
   {
    "duration": 174,
    "start_time": "2022-03-26T04:37:36.793Z"
   },
   {
    "duration": 29,
    "start_time": "2022-03-26T04:37:37.607Z"
   },
   {
    "duration": 5,
    "start_time": "2022-03-26T04:37:38.151Z"
   },
   {
    "duration": 51,
    "start_time": "2022-03-26T04:37:39.007Z"
   },
   {
    "duration": 49,
    "start_time": "2022-03-26T04:37:39.216Z"
   },
   {
    "duration": 48,
    "start_time": "2022-03-26T04:37:39.560Z"
   },
   {
    "duration": 6,
    "start_time": "2022-03-26T04:37:39.760Z"
   },
   {
    "duration": 62,
    "start_time": "2022-03-26T04:37:39.952Z"
   },
   {
    "duration": 63,
    "start_time": "2022-03-26T04:37:40.128Z"
   },
   {
    "duration": 64,
    "start_time": "2022-03-26T04:37:40.353Z"
   },
   {
    "duration": 87,
    "start_time": "2022-03-26T04:37:41.928Z"
   },
   {
    "duration": 5,
    "start_time": "2022-03-26T04:37:43.761Z"
   },
   {
    "duration": 69,
    "start_time": "2022-03-26T04:37:44.328Z"
   },
   {
    "duration": 16,
    "start_time": "2022-03-26T04:37:46.848Z"
   },
   {
    "duration": 8,
    "start_time": "2022-03-26T04:37:51.360Z"
   },
   {
    "duration": 57,
    "start_time": "2022-03-26T04:37:54.104Z"
   },
   {
    "duration": 1817,
    "start_time": "2022-03-26T04:39:38.129Z"
   },
   {
    "duration": 4,
    "start_time": "2022-03-26T04:39:43.176Z"
   },
   {
    "duration": 35,
    "start_time": "2022-03-26T04:39:43.519Z"
   },
   {
    "duration": 18,
    "start_time": "2022-03-26T04:39:43.696Z"
   },
   {
    "duration": 8,
    "start_time": "2022-03-26T04:39:44.055Z"
   },
   {
    "duration": 16,
    "start_time": "2022-03-26T04:39:44.239Z"
   },
   {
    "duration": 15,
    "start_time": "2022-03-26T04:39:44.575Z"
   },
   {
    "duration": 212,
    "start_time": "2022-03-26T04:39:44.903Z"
   },
   {
    "duration": 46,
    "start_time": "2022-03-26T04:39:45.239Z"
   },
   {
    "duration": 50,
    "start_time": "2022-03-26T04:39:45.591Z"
   },
   {
    "duration": 45,
    "start_time": "2022-03-26T04:39:46.104Z"
   },
   {
    "duration": 125,
    "start_time": "2022-03-26T04:39:46.456Z"
   },
   {
    "duration": 44,
    "start_time": "2022-03-26T04:39:46.784Z"
   },
   {
    "duration": 42,
    "start_time": "2022-03-26T04:39:47.136Z"
   },
   {
    "duration": 181,
    "start_time": "2022-03-26T04:39:47.656Z"
   },
   {
    "duration": 43,
    "start_time": "2022-03-26T04:39:48.008Z"
   },
   {
    "duration": 50,
    "start_time": "2022-03-26T04:39:48.351Z"
   },
   {
    "duration": 30,
    "start_time": "2022-03-26T04:39:48.912Z"
   },
   {
    "duration": 70,
    "start_time": "2022-03-26T04:39:50.289Z"
   },
   {
    "duration": 64,
    "start_time": "2022-03-26T04:39:51.017Z"
   },
   {
    "duration": 63,
    "start_time": "2022-03-26T04:39:52.183Z"
   },
   {
    "duration": 88,
    "start_time": "2022-03-26T04:39:53.848Z"
   },
   {
    "duration": 4,
    "start_time": "2022-03-26T04:39:55.688Z"
   },
   {
    "duration": 111,
    "start_time": "2022-03-26T04:39:57.185Z"
   },
   {
    "duration": 175,
    "start_time": "2022-03-26T04:39:57.592Z"
   },
   {
    "duration": 24,
    "start_time": "2022-03-26T04:39:58.072Z"
   },
   {
    "duration": 5,
    "start_time": "2022-03-26T04:39:58.400Z"
   },
   {
    "duration": 48,
    "start_time": "2022-03-26T04:39:59.000Z"
   },
   {
    "duration": 45,
    "start_time": "2022-03-26T04:39:59.176Z"
   },
   {
    "duration": 46,
    "start_time": "2022-03-26T04:39:59.344Z"
   },
   {
    "duration": 6,
    "start_time": "2022-03-26T04:39:59.511Z"
   },
   {
    "duration": 61,
    "start_time": "2022-03-26T04:39:59.664Z"
   },
   {
    "duration": 62,
    "start_time": "2022-03-26T04:39:59.832Z"
   },
   {
    "duration": 62,
    "start_time": "2022-03-26T04:40:00.000Z"
   },
   {
    "duration": 86,
    "start_time": "2022-03-26T04:40:00.497Z"
   },
   {
    "duration": 5,
    "start_time": "2022-03-26T04:40:01.608Z"
   },
   {
    "duration": 68,
    "start_time": "2022-03-26T04:40:01.960Z"
   },
   {
    "duration": 17,
    "start_time": "2022-03-26T04:40:03.064Z"
   },
   {
    "duration": 1912,
    "start_time": "2022-03-26T04:40:32.257Z"
   },
   {
    "duration": 0,
    "start_time": "2022-03-26T04:40:34.171Z"
   },
   {
    "duration": 0,
    "start_time": "2022-03-26T04:40:34.173Z"
   },
   {
    "duration": 4,
    "start_time": "2022-03-26T04:40:54.446Z"
   },
   {
    "duration": 35,
    "start_time": "2022-03-26T04:40:54.509Z"
   },
   {
    "duration": 17,
    "start_time": "2022-03-26T04:40:54.547Z"
   },
   {
    "duration": 8,
    "start_time": "2022-03-26T04:40:54.607Z"
   },
   {
    "duration": 17,
    "start_time": "2022-03-26T04:40:54.670Z"
   },
   {
    "duration": 16,
    "start_time": "2022-03-26T04:40:54.733Z"
   },
   {
    "duration": 227,
    "start_time": "2022-03-26T04:40:54.787Z"
   },
   {
    "duration": 57,
    "start_time": "2022-03-26T04:40:55.017Z"
   },
   {
    "duration": 51,
    "start_time": "2022-03-26T04:40:55.076Z"
   },
   {
    "duration": 72,
    "start_time": "2022-03-26T04:40:55.130Z"
   },
   {
    "duration": 125,
    "start_time": "2022-03-26T04:40:55.204Z"
   },
   {
    "duration": 55,
    "start_time": "2022-03-26T04:40:55.332Z"
   },
   {
    "duration": 42,
    "start_time": "2022-03-26T04:40:55.389Z"
   },
   {
    "duration": 189,
    "start_time": "2022-03-26T04:40:55.433Z"
   },
   {
    "duration": 51,
    "start_time": "2022-03-26T04:40:55.625Z"
   },
   {
    "duration": 49,
    "start_time": "2022-03-26T04:40:55.678Z"
   },
   {
    "duration": 41,
    "start_time": "2022-03-26T04:40:55.729Z"
   },
   {
    "duration": 67,
    "start_time": "2022-03-26T04:40:55.773Z"
   },
   {
    "duration": 67,
    "start_time": "2022-03-26T04:40:55.867Z"
   },
   {
    "duration": 62,
    "start_time": "2022-03-26T04:40:55.966Z"
   },
   {
    "duration": 91,
    "start_time": "2022-03-26T04:40:56.067Z"
   },
   {
    "duration": 8,
    "start_time": "2022-03-26T04:40:56.160Z"
   },
   {
    "duration": 114,
    "start_time": "2022-03-26T04:40:56.199Z"
   },
   {
    "duration": 187,
    "start_time": "2022-03-26T04:40:56.315Z"
   },
   {
    "duration": 23,
    "start_time": "2022-03-26T04:40:56.505Z"
   },
   {
    "duration": 4,
    "start_time": "2022-03-26T04:40:56.530Z"
   },
   {
    "duration": 75,
    "start_time": "2022-03-26T04:40:56.537Z"
   },
   {
    "duration": 46,
    "start_time": "2022-03-26T04:40:57.095Z"
   },
   {
    "duration": 49,
    "start_time": "2022-03-26T04:40:57.343Z"
   },
   {
    "duration": 6,
    "start_time": "2022-03-26T04:40:57.536Z"
   },
   {
    "duration": 61,
    "start_time": "2022-03-26T04:40:57.721Z"
   },
   {
    "duration": 63,
    "start_time": "2022-03-26T04:40:57.911Z"
   },
   {
    "duration": 63,
    "start_time": "2022-03-26T04:40:58.088Z"
   },
   {
    "duration": 94,
    "start_time": "2022-03-26T04:40:58.456Z"
   },
   {
    "duration": 5,
    "start_time": "2022-03-26T04:41:00.543Z"
   },
   {
    "duration": 67,
    "start_time": "2022-03-26T04:41:01.016Z"
   },
   {
    "duration": 19,
    "start_time": "2022-03-26T04:41:05.079Z"
   },
   {
    "duration": 10,
    "start_time": "2022-03-26T04:41:07.520Z"
   },
   {
    "duration": 56,
    "start_time": "2022-03-26T04:41:08.208Z"
   },
   {
    "duration": 5,
    "start_time": "2022-03-26T05:05:01.985Z"
   },
   {
    "duration": 32,
    "start_time": "2022-03-26T05:05:02.304Z"
   },
   {
    "duration": 20,
    "start_time": "2022-03-26T05:05:02.482Z"
   },
   {
    "duration": 9,
    "start_time": "2022-03-26T05:05:02.817Z"
   },
   {
    "duration": 17,
    "start_time": "2022-03-26T05:05:02.971Z"
   },
   {
    "duration": 16,
    "start_time": "2022-03-26T05:05:03.282Z"
   },
   {
    "duration": 202,
    "start_time": "2022-03-26T05:05:03.584Z"
   },
   {
    "duration": 43,
    "start_time": "2022-03-26T05:05:03.994Z"
   },
   {
    "duration": 49,
    "start_time": "2022-03-26T05:05:04.338Z"
   },
   {
    "duration": 45,
    "start_time": "2022-03-26T05:05:04.826Z"
   },
   {
    "duration": 124,
    "start_time": "2022-03-26T05:05:05.136Z"
   },
   {
    "duration": 44,
    "start_time": "2022-03-26T05:05:05.506Z"
   },
   {
    "duration": 43,
    "start_time": "2022-03-26T05:05:06.114Z"
   },
   {
    "duration": 164,
    "start_time": "2022-03-26T05:05:07.393Z"
   },
   {
    "duration": 41,
    "start_time": "2022-03-26T05:05:07.953Z"
   },
   {
    "duration": 50,
    "start_time": "2022-03-26T05:05:08.346Z"
   },
   {
    "duration": 30,
    "start_time": "2022-03-26T05:05:09.200Z"
   },
   {
    "duration": 82,
    "start_time": "2022-03-26T05:05:09.901Z"
   },
   {
    "duration": 67,
    "start_time": "2022-03-26T05:05:10.002Z"
   },
   {
    "duration": 61,
    "start_time": "2022-03-26T05:05:10.099Z"
   },
   {
    "duration": 91,
    "start_time": "2022-03-26T05:05:10.198Z"
   },
   {
    "duration": 8,
    "start_time": "2022-03-26T05:05:10.293Z"
   },
   {
    "duration": 136,
    "start_time": "2022-03-26T05:05:10.348Z"
   },
   {
    "duration": 186,
    "start_time": "2022-03-26T05:05:10.487Z"
   },
   {
    "duration": 24,
    "start_time": "2022-03-26T05:05:10.676Z"
   },
   {
    "duration": 14,
    "start_time": "2022-03-26T05:05:10.703Z"
   },
   {
    "duration": 71,
    "start_time": "2022-03-26T05:05:10.719Z"
   },
   {
    "duration": 52,
    "start_time": "2022-03-26T05:05:10.792Z"
   },
   {
    "duration": 66,
    "start_time": "2022-03-26T05:05:10.847Z"
   },
   {
    "duration": 20,
    "start_time": "2022-03-26T05:05:10.916Z"
   },
   {
    "duration": 68,
    "start_time": "2022-03-26T05:05:10.938Z"
   },
   {
    "duration": 62,
    "start_time": "2022-03-26T05:05:11.466Z"
   },
   {
    "duration": 62,
    "start_time": "2022-03-26T05:05:11.713Z"
   },
   {
    "duration": 86,
    "start_time": "2022-03-26T05:05:12.091Z"
   },
   {
    "duration": 5,
    "start_time": "2022-03-26T05:05:12.649Z"
   },
   {
    "duration": 67,
    "start_time": "2022-03-26T05:05:12.842Z"
   },
   {
    "duration": 16,
    "start_time": "2022-03-26T05:05:13.321Z"
   },
   {
    "duration": 9,
    "start_time": "2022-03-26T05:05:13.680Z"
   },
   {
    "duration": 57,
    "start_time": "2022-03-26T05:05:13.850Z"
   },
   {
    "duration": 111,
    "start_time": "2022-03-26T05:08:18.708Z"
   },
   {
    "duration": 69,
    "start_time": "2022-03-26T05:08:27.505Z"
   },
   {
    "duration": 68,
    "start_time": "2022-03-26T05:09:12.490Z"
   },
   {
    "duration": 33,
    "start_time": "2022-03-26T05:14:35.084Z"
   },
   {
    "duration": 6,
    "start_time": "2022-03-26T05:16:04.731Z"
   },
   {
    "duration": 9,
    "start_time": "2022-03-26T05:16:11.395Z"
   },
   {
    "duration": 12,
    "start_time": "2022-03-26T05:16:28.683Z"
   },
   {
    "duration": 25,
    "start_time": "2022-03-26T05:22:32.484Z"
   },
   {
    "duration": 18,
    "start_time": "2022-03-26T05:22:43.371Z"
   },
   {
    "duration": 29,
    "start_time": "2022-03-26T05:22:46.004Z"
   },
   {
    "duration": 16,
    "start_time": "2022-03-26T05:23:27.187Z"
   },
   {
    "duration": 33,
    "start_time": "2022-03-26T05:23:27.891Z"
   },
   {
    "duration": 26,
    "start_time": "2022-03-26T05:23:45.099Z"
   },
   {
    "duration": 23,
    "start_time": "2022-03-26T05:23:52.123Z"
   },
   {
    "duration": 15,
    "start_time": "2022-03-26T05:23:54.218Z"
   },
   {
    "duration": 35,
    "start_time": "2022-03-26T05:23:54.996Z"
   },
   {
    "duration": 35,
    "start_time": "2022-03-26T05:24:10.277Z"
   },
   {
    "duration": 17,
    "start_time": "2022-03-26T05:24:15.210Z"
   },
   {
    "duration": 25,
    "start_time": "2022-03-26T05:24:15.604Z"
   },
   {
    "duration": 23,
    "start_time": "2022-03-26T05:24:48.140Z"
   },
   {
    "duration": 15,
    "start_time": "2022-03-26T05:24:50.027Z"
   },
   {
    "duration": 29,
    "start_time": "2022-03-26T05:24:50.387Z"
   },
   {
    "duration": 30,
    "start_time": "2022-03-26T05:24:53.980Z"
   },
   {
    "duration": 16,
    "start_time": "2022-03-26T05:25:14.092Z"
   },
   {
    "duration": 16,
    "start_time": "2022-03-26T05:25:14.531Z"
   },
   {
    "duration": 483,
    "start_time": "2022-03-26T05:25:20.876Z"
   },
   {
    "duration": 16,
    "start_time": "2022-03-26T05:25:51.803Z"
   },
   {
    "duration": 28,
    "start_time": "2022-03-26T05:25:52.435Z"
   },
   {
    "duration": 19,
    "start_time": "2022-03-26T05:26:01.564Z"
   },
   {
    "duration": 20,
    "start_time": "2022-03-26T05:28:57.228Z"
   },
   {
    "duration": 22,
    "start_time": "2022-03-26T05:30:00.467Z"
   },
   {
    "duration": 28,
    "start_time": "2022-03-26T05:30:00.940Z"
   },
   {
    "duration": 23,
    "start_time": "2022-03-26T05:30:03.749Z"
   },
   {
    "duration": 34,
    "start_time": "2022-03-26T05:30:22.373Z"
   },
   {
    "duration": 6,
    "start_time": "2022-03-26T05:34:51.300Z"
   },
   {
    "duration": 14,
    "start_time": "2022-03-26T05:35:00.780Z"
   },
   {
    "duration": 42,
    "start_time": "2022-03-26T05:35:28.539Z"
   },
   {
    "duration": 40,
    "start_time": "2022-03-26T05:37:04.077Z"
   },
   {
    "duration": 24,
    "start_time": "2022-03-26T05:37:38.477Z"
   },
   {
    "duration": 12,
    "start_time": "2022-03-26T05:42:37.308Z"
   },
   {
    "duration": 12,
    "start_time": "2022-03-26T05:44:49.814Z"
   },
   {
    "duration": 50,
    "start_time": "2022-03-26T05:44:57.060Z"
   },
   {
    "duration": 14,
    "start_time": "2022-03-26T05:44:58.292Z"
   },
   {
    "duration": 13,
    "start_time": "2022-03-26T05:46:11.116Z"
   },
   {
    "duration": 16,
    "start_time": "2022-03-26T05:46:17.627Z"
   },
   {
    "duration": 15,
    "start_time": "2022-03-26T05:47:39.607Z"
   },
   {
    "duration": 12,
    "start_time": "2022-03-26T05:48:11.116Z"
   },
   {
    "duration": 1026,
    "start_time": "2022-03-26T05:49:53.389Z"
   },
   {
    "duration": 18,
    "start_time": "2022-03-26T05:49:59.357Z"
   },
   {
    "duration": 15,
    "start_time": "2022-03-26T05:50:07.901Z"
   },
   {
    "duration": 128,
    "start_time": "2022-03-26T05:51:06.476Z"
   },
   {
    "duration": 32,
    "start_time": "2022-03-26T05:51:13.628Z"
   },
   {
    "duration": 13,
    "start_time": "2022-03-26T05:51:27.508Z"
   },
   {
    "duration": 32,
    "start_time": "2022-03-26T05:53:04.727Z"
   },
   {
    "duration": 38,
    "start_time": "2022-03-26T05:54:21.630Z"
   },
   {
    "duration": 38,
    "start_time": "2022-03-26T05:54:30.757Z"
   },
   {
    "duration": 32,
    "start_time": "2022-03-26T05:55:03.022Z"
   },
   {
    "duration": 38,
    "start_time": "2022-03-26T05:56:12.943Z"
   },
   {
    "duration": 37,
    "start_time": "2022-03-26T05:56:23.782Z"
   },
   {
    "duration": 41,
    "start_time": "2022-03-26T05:57:10.933Z"
   },
   {
    "duration": 40,
    "start_time": "2022-03-26T05:57:51.406Z"
   },
   {
    "duration": 38,
    "start_time": "2022-03-26T05:57:58.543Z"
   },
   {
    "duration": 40,
    "start_time": "2022-03-26T05:58:17.470Z"
   },
   {
    "duration": 38,
    "start_time": "2022-03-26T05:58:24.750Z"
   },
   {
    "duration": 31,
    "start_time": "2022-03-26T05:58:26.942Z"
   },
   {
    "duration": 46,
    "start_time": "2022-03-26T06:00:33.462Z"
   },
   {
    "duration": 35,
    "start_time": "2022-03-26T06:00:45.198Z"
   },
   {
    "duration": 41,
    "start_time": "2022-03-26T06:01:34.255Z"
   },
   {
    "duration": 33,
    "start_time": "2022-03-26T06:01:57.717Z"
   },
   {
    "duration": 33,
    "start_time": "2022-03-26T06:02:09.813Z"
   },
   {
    "duration": 14,
    "start_time": "2022-03-26T06:02:30.197Z"
   },
   {
    "duration": 30,
    "start_time": "2022-03-26T06:03:45.214Z"
   },
   {
    "duration": 140,
    "start_time": "2022-03-26T06:05:21.055Z"
   },
   {
    "duration": 12,
    "start_time": "2022-03-26T06:05:24.822Z"
   },
   {
    "duration": 12,
    "start_time": "2022-03-26T06:07:34.550Z"
   },
   {
    "duration": 15,
    "start_time": "2022-03-26T06:08:37.621Z"
   },
   {
    "duration": 12,
    "start_time": "2022-03-26T06:08:59.917Z"
   },
   {
    "duration": 14,
    "start_time": "2022-03-26T06:10:08.614Z"
   },
   {
    "duration": 6,
    "start_time": "2022-03-26T06:18:38.999Z"
   },
   {
    "duration": 238,
    "start_time": "2022-03-26T06:18:44.471Z"
   },
   {
    "duration": 492,
    "start_time": "2022-03-26T06:19:02.286Z"
   },
   {
    "duration": 451,
    "start_time": "2022-03-26T06:19:12.375Z"
   },
   {
    "duration": 271,
    "start_time": "2022-03-26T06:21:02.630Z"
   },
   {
    "duration": 304,
    "start_time": "2022-03-26T06:22:17.047Z"
   },
   {
    "duration": 485,
    "start_time": "2022-03-26T06:22:34.407Z"
   },
   {
    "duration": 504,
    "start_time": "2022-03-26T06:22:40.086Z"
   },
   {
    "duration": 511,
    "start_time": "2022-03-26T06:22:45.775Z"
   },
   {
    "duration": 281,
    "start_time": "2022-03-26T06:24:16.341Z"
   },
   {
    "duration": 229,
    "start_time": "2022-03-26T06:25:43.143Z"
   },
   {
    "duration": 437,
    "start_time": "2022-03-26T06:25:46.414Z"
   },
   {
    "duration": 2488,
    "start_time": "2022-03-26T06:28:47.551Z"
   },
   {
    "duration": 353,
    "start_time": "2022-03-26T06:28:52.735Z"
   },
   {
    "duration": 438,
    "start_time": "2022-03-26T06:33:14.415Z"
   },
   {
    "duration": 45,
    "start_time": "2022-03-26T06:33:33.673Z"
   },
   {
    "duration": 33,
    "start_time": "2022-03-26T06:34:08.288Z"
   },
   {
    "duration": 16,
    "start_time": "2022-03-26T06:34:11.488Z"
   },
   {
    "duration": 326,
    "start_time": "2022-03-26T06:34:15.321Z"
   },
   {
    "duration": 39,
    "start_time": "2022-03-26T06:38:23.495Z"
   },
   {
    "duration": 33,
    "start_time": "2022-03-26T06:38:36.111Z"
   },
   {
    "duration": 16,
    "start_time": "2022-03-26T06:42:43.664Z"
   },
   {
    "duration": 14,
    "start_time": "2022-03-26T06:43:06.761Z"
   },
   {
    "duration": 19,
    "start_time": "2022-03-26T06:43:29.680Z"
   },
   {
    "duration": 371,
    "start_time": "2022-03-26T06:43:56.951Z"
   },
   {
    "duration": 34,
    "start_time": "2022-03-26T06:45:51.103Z"
   },
   {
    "duration": 19,
    "start_time": "2022-03-26T06:49:06.593Z"
   },
   {
    "duration": 366,
    "start_time": "2022-03-26T06:49:10.073Z"
   },
   {
    "duration": 37,
    "start_time": "2022-03-26T06:49:13.372Z"
   },
   {
    "duration": 15,
    "start_time": "2022-03-26T06:49:43.938Z"
   },
   {
    "duration": 343,
    "start_time": "2022-03-26T06:49:46.496Z"
   },
   {
    "duration": 40,
    "start_time": "2022-03-26T06:49:49.047Z"
   },
   {
    "duration": 14,
    "start_time": "2022-03-26T06:50:14.121Z"
   },
   {
    "duration": 313,
    "start_time": "2022-03-26T06:50:31.576Z"
   },
   {
    "duration": 1031,
    "start_time": "2022-03-26T06:54:25.729Z"
   },
   {
    "duration": 125,
    "start_time": "2022-03-26T07:04:28.594Z"
   },
   {
    "duration": 335,
    "start_time": "2022-03-26T07:04:35.497Z"
   },
   {
    "duration": 217,
    "start_time": "2022-03-26T07:04:43.496Z"
   },
   {
    "duration": 239,
    "start_time": "2022-03-26T07:04:53.762Z"
   },
   {
    "duration": 252,
    "start_time": "2022-03-26T07:05:01.720Z"
   },
   {
    "duration": 251,
    "start_time": "2022-03-26T07:05:14.049Z"
   },
   {
    "duration": 285,
    "start_time": "2022-03-26T07:05:31.162Z"
   },
   {
    "duration": 316,
    "start_time": "2022-03-26T07:06:14.785Z"
   },
   {
    "duration": 35,
    "start_time": "2022-03-26T07:07:31.586Z"
   },
   {
    "duration": 213,
    "start_time": "2022-03-26T07:08:44.569Z"
   },
   {
    "duration": 220,
    "start_time": "2022-03-26T07:08:48.850Z"
   },
   {
    "duration": 222,
    "start_time": "2022-03-26T07:08:54.970Z"
   },
   {
    "duration": 243,
    "start_time": "2022-03-26T07:10:46.830Z"
   },
   {
    "duration": 226,
    "start_time": "2022-03-26T07:11:00.859Z"
   },
   {
    "duration": 276,
    "start_time": "2022-03-26T07:11:24.633Z"
   },
   {
    "duration": 242,
    "start_time": "2022-03-26T07:13:32.538Z"
   },
   {
    "duration": 371,
    "start_time": "2022-03-26T07:13:47.730Z"
   },
   {
    "duration": 257,
    "start_time": "2022-03-26T07:13:54.049Z"
   },
   {
    "duration": 231,
    "start_time": "2022-03-26T07:14:04.899Z"
   },
   {
    "duration": 1088,
    "start_time": "2022-03-26T07:25:52.668Z"
   },
   {
    "duration": 934,
    "start_time": "2022-03-26T07:26:12.069Z"
   },
   {
    "duration": 439,
    "start_time": "2022-03-26T07:26:50.259Z"
   },
   {
    "duration": 287,
    "start_time": "2022-03-26T07:27:12.554Z"
   },
   {
    "duration": 286,
    "start_time": "2022-03-26T07:27:27.187Z"
   },
   {
    "duration": 237,
    "start_time": "2022-03-26T07:27:35.501Z"
   },
   {
    "duration": 307,
    "start_time": "2022-03-26T07:27:53.764Z"
   },
   {
    "duration": 296,
    "start_time": "2022-03-26T07:28:09.976Z"
   },
   {
    "duration": 245,
    "start_time": "2022-03-26T07:28:17.459Z"
   },
   {
    "duration": 296,
    "start_time": "2022-03-26T07:28:25.059Z"
   },
   {
    "duration": 222,
    "start_time": "2022-03-26T07:28:29.139Z"
   },
   {
    "duration": 17,
    "start_time": "2022-03-26T07:28:41.131Z"
   },
   {
    "duration": 246,
    "start_time": "2022-03-26T07:28:46.979Z"
   },
   {
    "duration": 208,
    "start_time": "2022-03-26T07:28:52.107Z"
   },
   {
    "duration": 291,
    "start_time": "2022-03-26T07:28:54.891Z"
   },
   {
    "duration": 120,
    "start_time": "2022-03-26T07:29:04.612Z"
   },
   {
    "duration": 275,
    "start_time": "2022-03-26T07:29:11.492Z"
   },
   {
    "duration": 254,
    "start_time": "2022-03-26T07:29:14.243Z"
   },
   {
    "duration": 227,
    "start_time": "2022-03-26T07:29:26.251Z"
   },
   {
    "duration": 448,
    "start_time": "2022-03-26T07:29:29.315Z"
   },
   {
    "duration": 259,
    "start_time": "2022-03-26T07:32:26.100Z"
   },
   {
    "duration": 288,
    "start_time": "2022-03-26T07:32:37.732Z"
   },
   {
    "duration": 238,
    "start_time": "2022-03-26T07:32:45.962Z"
   },
   {
    "duration": 262,
    "start_time": "2022-03-26T07:35:38.276Z"
   },
   {
    "duration": 233,
    "start_time": "2022-03-26T07:36:02.115Z"
   },
   {
    "duration": 220,
    "start_time": "2022-03-26T07:36:58.868Z"
   },
   {
    "duration": 229,
    "start_time": "2022-03-26T07:37:18.677Z"
   },
   {
    "duration": 216,
    "start_time": "2022-03-26T07:37:36.835Z"
   },
   {
    "duration": 254,
    "start_time": "2022-03-26T07:38:58.116Z"
   },
   {
    "duration": 369,
    "start_time": "2022-03-26T07:39:02.138Z"
   },
   {
    "duration": 283,
    "start_time": "2022-03-26T07:39:48.877Z"
   },
   {
    "duration": 360,
    "start_time": "2022-03-26T07:39:57.603Z"
   },
   {
    "duration": 271,
    "start_time": "2022-03-26T07:40:02.972Z"
   },
   {
    "duration": 525,
    "start_time": "2022-03-26T07:40:58.852Z"
   },
   {
    "duration": 303,
    "start_time": "2022-03-26T07:41:04.468Z"
   },
   {
    "duration": 491,
    "start_time": "2022-03-26T07:41:20.396Z"
   },
   {
    "duration": 231,
    "start_time": "2022-03-26T07:41:38.939Z"
   },
   {
    "duration": 297,
    "start_time": "2022-03-26T07:42:02.813Z"
   },
   {
    "duration": 253,
    "start_time": "2022-03-26T07:42:25.035Z"
   },
   {
    "duration": 318,
    "start_time": "2022-03-26T07:44:43.789Z"
   },
   {
    "duration": 232,
    "start_time": "2022-03-26T07:46:07.308Z"
   },
   {
    "duration": 271,
    "start_time": "2022-03-26T07:46:41.524Z"
   },
   {
    "duration": 314,
    "start_time": "2022-03-26T07:46:43.860Z"
   },
   {
    "duration": 298,
    "start_time": "2022-03-26T07:47:04.437Z"
   },
   {
    "duration": 242,
    "start_time": "2022-03-26T07:47:07.332Z"
   },
   {
    "duration": 237,
    "start_time": "2022-03-26T07:47:55.157Z"
   },
   {
    "duration": 240,
    "start_time": "2022-03-26T07:48:01.156Z"
   },
   {
    "duration": 238,
    "start_time": "2022-03-26T07:48:06.132Z"
   },
   {
    "duration": 245,
    "start_time": "2022-03-26T07:48:08.725Z"
   },
   {
    "duration": 415,
    "start_time": "2022-03-26T07:48:20.181Z"
   },
   {
    "duration": 238,
    "start_time": "2022-03-26T07:48:57.365Z"
   },
   {
    "duration": 238,
    "start_time": "2022-03-26T07:49:04.532Z"
   },
   {
    "duration": 455,
    "start_time": "2022-03-26T07:49:38.012Z"
   },
   {
    "duration": 251,
    "start_time": "2022-03-26T07:49:43.069Z"
   },
   {
    "duration": 14,
    "start_time": "2022-03-26T07:49:50.404Z"
   },
   {
    "duration": 239,
    "start_time": "2022-03-26T07:49:54.044Z"
   },
   {
    "duration": 258,
    "start_time": "2022-03-26T07:50:09.244Z"
   },
   {
    "duration": 253,
    "start_time": "2022-03-26T07:50:54.749Z"
   },
   {
    "duration": 261,
    "start_time": "2022-03-26T07:51:25.556Z"
   },
   {
    "duration": 251,
    "start_time": "2022-03-26T07:51:28.956Z"
   },
   {
    "duration": 241,
    "start_time": "2022-03-26T07:51:31.068Z"
   },
   {
    "duration": 288,
    "start_time": "2022-03-26T07:52:14.988Z"
   },
   {
    "duration": 237,
    "start_time": "2022-03-26T07:52:18.980Z"
   },
   {
    "duration": 410,
    "start_time": "2022-03-26T07:52:22.397Z"
   },
   {
    "duration": 337,
    "start_time": "2022-03-26T07:52:28.700Z"
   },
   {
    "duration": 363,
    "start_time": "2022-03-26T07:52:32.477Z"
   },
   {
    "duration": 391,
    "start_time": "2022-03-26T07:52:38.548Z"
   },
   {
    "duration": 444,
    "start_time": "2022-03-26T07:52:42.300Z"
   },
   {
    "duration": 383,
    "start_time": "2022-03-26T07:52:52.366Z"
   },
   {
    "duration": 273,
    "start_time": "2022-03-26T07:52:55.181Z"
   },
   {
    "duration": 391,
    "start_time": "2022-03-26T07:52:58.637Z"
   },
   {
    "duration": 279,
    "start_time": "2022-03-26T07:53:01.957Z"
   },
   {
    "duration": 255,
    "start_time": "2022-03-26T07:53:05.053Z"
   },
   {
    "duration": 240,
    "start_time": "2022-03-26T07:53:17.533Z"
   },
   {
    "duration": 275,
    "start_time": "2022-03-26T07:53:20.700Z"
   },
   {
    "duration": 12,
    "start_time": "2022-03-26T08:04:09.589Z"
   },
   {
    "duration": 13,
    "start_time": "2022-03-26T08:05:57.997Z"
   },
   {
    "duration": 14,
    "start_time": "2022-03-26T08:06:17.837Z"
   },
   {
    "duration": 1100,
    "start_time": "2022-03-26T08:06:31.027Z"
   },
   {
    "duration": 254,
    "start_time": "2022-03-26T08:06:37.852Z"
   },
   {
    "duration": 241,
    "start_time": "2022-03-26T08:06:40.293Z"
   },
   {
    "duration": 267,
    "start_time": "2022-03-26T08:06:41.884Z"
   },
   {
    "duration": 247,
    "start_time": "2022-03-26T08:13:48.029Z"
   },
   {
    "duration": 207,
    "start_time": "2022-03-26T08:13:49.686Z"
   },
   {
    "duration": 3,
    "start_time": "2022-03-26T08:13:50.594Z"
   },
   {
    "duration": 207,
    "start_time": "2022-03-26T08:13:56.710Z"
   },
   {
    "duration": 229,
    "start_time": "2022-03-26T08:14:18.014Z"
   },
   {
    "duration": 232,
    "start_time": "2022-03-26T08:14:23.598Z"
   },
   {
    "duration": 234,
    "start_time": "2022-03-26T08:14:36.758Z"
   },
   {
    "duration": 279,
    "start_time": "2022-03-26T08:14:49.415Z"
   },
   {
    "duration": 190,
    "start_time": "2022-03-26T08:15:04.461Z"
   },
   {
    "duration": 182,
    "start_time": "2022-03-26T08:15:44.798Z"
   },
   {
    "duration": 199,
    "start_time": "2022-03-26T08:15:50.421Z"
   },
   {
    "duration": 187,
    "start_time": "2022-03-26T08:16:06.109Z"
   },
   {
    "duration": 210,
    "start_time": "2022-03-26T08:16:39.757Z"
   },
   {
    "duration": 215,
    "start_time": "2022-03-26T08:17:27.942Z"
   },
   {
    "duration": 244,
    "start_time": "2022-03-26T08:18:03.028Z"
   },
   {
    "duration": 543,
    "start_time": "2022-03-26T08:18:11.478Z"
   },
   {
    "duration": 249,
    "start_time": "2022-03-26T08:20:10.295Z"
   },
   {
    "duration": 160,
    "start_time": "2022-03-26T08:20:35.085Z"
   },
   {
    "duration": 284,
    "start_time": "2022-03-26T08:20:40.462Z"
   },
   {
    "duration": 238,
    "start_time": "2022-03-26T08:21:13.166Z"
   },
   {
    "duration": 235,
    "start_time": "2022-03-26T08:21:30.351Z"
   },
   {
    "duration": 275,
    "start_time": "2022-03-26T08:21:42.502Z"
   },
   {
    "duration": 8,
    "start_time": "2022-03-26T08:27:36.958Z"
   },
   {
    "duration": 8,
    "start_time": "2022-03-26T08:28:02.773Z"
   },
   {
    "duration": 9,
    "start_time": "2022-03-26T08:31:10.597Z"
   },
   {
    "duration": 234,
    "start_time": "2022-03-26T08:33:31.583Z"
   },
   {
    "duration": 249,
    "start_time": "2022-03-26T08:34:22.468Z"
   },
   {
    "duration": 239,
    "start_time": "2022-03-26T08:34:50.336Z"
   },
   {
    "duration": 284,
    "start_time": "2022-03-26T08:34:53.103Z"
   },
   {
    "duration": 228,
    "start_time": "2022-03-26T08:34:57.278Z"
   },
   {
    "duration": 253,
    "start_time": "2022-03-26T08:35:00.159Z"
   },
   {
    "duration": 251,
    "start_time": "2022-03-26T08:35:08.183Z"
   },
   {
    "duration": 297,
    "start_time": "2022-03-26T08:35:11.174Z"
   },
   {
    "duration": 386,
    "start_time": "2022-03-26T08:35:30.952Z"
   },
   {
    "duration": 441,
    "start_time": "2022-03-26T08:35:34.879Z"
   },
   {
    "duration": 554,
    "start_time": "2022-03-26T08:35:38.871Z"
   },
   {
    "duration": 362,
    "start_time": "2022-03-26T08:35:42.271Z"
   },
   {
    "duration": 288,
    "start_time": "2022-03-26T08:35:45.662Z"
   },
   {
    "duration": 245,
    "start_time": "2022-03-26T08:35:49.767Z"
   },
   {
    "duration": 222,
    "start_time": "2022-03-26T08:35:52.335Z"
   },
   {
    "duration": 229,
    "start_time": "2022-03-26T08:36:03.712Z"
   },
   {
    "duration": 234,
    "start_time": "2022-03-26T08:36:06.311Z"
   },
   {
    "duration": 246,
    "start_time": "2022-03-26T08:36:37.496Z"
   },
   {
    "duration": 253,
    "start_time": "2022-03-26T08:36:47.767Z"
   },
   {
    "duration": 310,
    "start_time": "2022-03-26T08:36:54.903Z"
   },
   {
    "duration": 300,
    "start_time": "2022-03-26T08:36:58.407Z"
   },
   {
    "duration": 278,
    "start_time": "2022-03-26T08:37:01.759Z"
   },
   {
    "duration": 281,
    "start_time": "2022-03-26T08:37:04.353Z"
   },
   {
    "duration": 343,
    "start_time": "2022-03-26T08:37:07.056Z"
   },
   {
    "duration": 244,
    "start_time": "2022-03-26T08:37:10.143Z"
   },
   {
    "duration": 670,
    "start_time": "2022-03-26T08:37:14.630Z"
   },
   {
    "duration": 254,
    "start_time": "2022-03-26T08:37:18.983Z"
   },
   {
    "duration": 243,
    "start_time": "2022-03-26T08:37:22.006Z"
   },
   {
    "duration": 235,
    "start_time": "2022-03-26T08:37:27.527Z"
   },
   {
    "duration": 256,
    "start_time": "2022-03-26T08:37:30.895Z"
   },
   {
    "duration": 254,
    "start_time": "2022-03-26T08:37:34.992Z"
   },
   {
    "duration": 307,
    "start_time": "2022-03-26T08:37:39.384Z"
   },
   {
    "duration": 452,
    "start_time": "2022-03-26T08:37:45.961Z"
   },
   {
    "duration": 342,
    "start_time": "2022-03-26T08:37:49.816Z"
   },
   {
    "duration": 376,
    "start_time": "2022-03-26T08:37:53.102Z"
   },
   {
    "duration": 306,
    "start_time": "2022-03-26T08:37:55.727Z"
   },
   {
    "duration": 305,
    "start_time": "2022-03-26T08:37:58.382Z"
   },
   {
    "duration": 296,
    "start_time": "2022-03-26T08:38:01.247Z"
   },
   {
    "duration": 461,
    "start_time": "2022-03-26T08:38:04.215Z"
   },
   {
    "duration": 247,
    "start_time": "2022-03-26T08:38:07.391Z"
   },
   {
    "duration": 215,
    "start_time": "2022-03-26T08:38:10.599Z"
   },
   {
    "duration": 213,
    "start_time": "2022-03-26T08:38:13.913Z"
   },
   {
    "duration": 239,
    "start_time": "2022-03-26T08:38:17.463Z"
   },
   {
    "duration": 266,
    "start_time": "2022-03-26T08:38:19.911Z"
   },
   {
    "duration": 245,
    "start_time": "2022-03-26T08:38:28.207Z"
   },
   {
    "duration": 246,
    "start_time": "2022-03-26T08:38:31.695Z"
   },
   {
    "duration": 10,
    "start_time": "2022-03-26T08:40:31.575Z"
   },
   {
    "duration": 358,
    "start_time": "2022-03-26T08:43:30.168Z"
   },
   {
    "duration": 305,
    "start_time": "2022-03-26T08:43:34.608Z"
   },
   {
    "duration": 234,
    "start_time": "2022-03-26T08:44:06.383Z"
   },
   {
    "duration": 249,
    "start_time": "2022-03-26T08:44:16.135Z"
   },
   {
    "duration": 241,
    "start_time": "2022-03-26T08:44:28.855Z"
   },
   {
    "duration": 252,
    "start_time": "2022-03-26T08:44:37.256Z"
   },
   {
    "duration": 253,
    "start_time": "2022-03-26T08:44:44.592Z"
   },
   {
    "duration": 253,
    "start_time": "2022-03-26T08:45:04.703Z"
   },
   {
    "duration": 451,
    "start_time": "2022-03-26T08:45:13.832Z"
   },
   {
    "duration": 298,
    "start_time": "2022-03-26T08:45:20.112Z"
   },
   {
    "duration": 528,
    "start_time": "2022-03-26T08:45:29.343Z"
   },
   {
    "duration": 358,
    "start_time": "2022-03-26T08:45:41.248Z"
   },
   {
    "duration": 271,
    "start_time": "2022-03-26T08:46:01.968Z"
   },
   {
    "duration": 275,
    "start_time": "2022-03-26T08:46:08.408Z"
   },
   {
    "duration": 314,
    "start_time": "2022-03-26T08:46:16.889Z"
   },
   {
    "duration": 314,
    "start_time": "2022-03-26T08:46:19.679Z"
   },
   {
    "duration": 8,
    "start_time": "2022-03-26T08:48:17.455Z"
   },
   {
    "duration": 60,
    "start_time": "2022-03-26T09:07:32.121Z"
   },
   {
    "duration": 37,
    "start_time": "2022-03-26T09:09:21.770Z"
   },
   {
    "duration": 38,
    "start_time": "2022-03-26T09:10:35.034Z"
   },
   {
    "duration": 6,
    "start_time": "2022-03-26T09:11:48.322Z"
   },
   {
    "duration": 20,
    "start_time": "2022-03-26T09:12:42.250Z"
   },
   {
    "duration": 20,
    "start_time": "2022-03-26T09:12:58.634Z"
   },
   {
    "duration": 5,
    "start_time": "2022-03-26T09:13:10.138Z"
   },
   {
    "duration": 42,
    "start_time": "2022-03-26T09:15:07.193Z"
   },
   {
    "duration": 7,
    "start_time": "2022-03-26T09:15:27.186Z"
   },
   {
    "duration": 11,
    "start_time": "2022-03-26T09:16:20.058Z"
   },
   {
    "duration": 2039,
    "start_time": "2022-03-26T09:18:37.873Z"
   },
   {
    "duration": 55,
    "start_time": "2022-03-26T09:18:50.091Z"
   },
   {
    "duration": 1979,
    "start_time": "2022-03-26T09:18:54.050Z"
   },
   {
    "duration": 8,
    "start_time": "2022-03-26T09:19:00.650Z"
   },
   {
    "duration": 2858,
    "start_time": "2022-03-26T09:19:43.754Z"
   },
   {
    "duration": 15,
    "start_time": "2022-03-26T09:20:07.594Z"
   },
   {
    "duration": 28,
    "start_time": "2022-03-26T09:20:38.987Z"
   },
   {
    "duration": 29,
    "start_time": "2022-03-26T09:22:22.707Z"
   },
   {
    "duration": 58,
    "start_time": "2022-03-26T09:22:30.490Z"
   },
   {
    "duration": 7,
    "start_time": "2022-03-26T09:22:31.585Z"
   },
   {
    "duration": 47,
    "start_time": "2022-03-26T09:22:32.979Z"
   },
   {
    "duration": 56,
    "start_time": "2022-03-26T09:23:45.139Z"
   },
   {
    "duration": 6,
    "start_time": "2022-03-26T09:24:00.963Z"
   },
   {
    "duration": 5,
    "start_time": "2022-03-26T09:26:35.404Z"
   },
   {
    "duration": 52,
    "start_time": "2022-03-26T09:27:29.379Z"
   },
   {
    "duration": 39,
    "start_time": "2022-03-26T09:27:30.131Z"
   },
   {
    "duration": 163,
    "start_time": "2022-03-26T09:40:16.595Z"
   },
   {
    "duration": 1949,
    "start_time": "2022-03-26T09:40:20.259Z"
   },
   {
    "duration": 2180,
    "start_time": "2022-03-26T09:40:59.971Z"
   },
   {
    "duration": 36,
    "start_time": "2022-03-26T09:41:10.995Z"
   },
   {
    "duration": 7,
    "start_time": "2022-03-26T09:41:12.963Z"
   },
   {
    "duration": 6,
    "start_time": "2022-03-26T09:41:24.003Z"
   },
   {
    "duration": 39,
    "start_time": "2022-03-26T09:52:22.794Z"
   },
   {
    "duration": 15,
    "start_time": "2022-03-26T09:55:27.789Z"
   },
   {
    "duration": 22,
    "start_time": "2022-03-26T09:55:37.621Z"
   },
   {
    "duration": 39,
    "start_time": "2022-03-26T09:55:53.147Z"
   },
   {
    "duration": 37,
    "start_time": "2022-03-26T09:55:53.780Z"
   },
   {
    "duration": 24,
    "start_time": "2022-03-26T09:56:43.661Z"
   },
   {
    "duration": 9,
    "start_time": "2022-03-26T09:58:54.997Z"
   },
   {
    "duration": 30,
    "start_time": "2022-03-26T09:59:05.677Z"
   },
   {
    "duration": 39,
    "start_time": "2022-03-26T09:59:11.885Z"
   },
   {
    "duration": 43,
    "start_time": "2022-03-26T09:59:12.277Z"
   },
   {
    "duration": 11,
    "start_time": "2022-03-26T10:00:05.629Z"
   },
   {
    "duration": 41,
    "start_time": "2022-03-26T10:00:11.173Z"
   },
   {
    "duration": 14,
    "start_time": "2022-03-26T10:03:26.069Z"
   },
   {
    "duration": 85,
    "start_time": "2022-03-26T10:04:04.860Z"
   },
   {
    "duration": 9,
    "start_time": "2022-03-26T10:07:11.470Z"
   },
   {
    "duration": 46,
    "start_time": "2022-03-26T10:07:22.206Z"
   },
   {
    "duration": 44,
    "start_time": "2022-03-26T10:07:34.647Z"
   },
   {
    "duration": 12,
    "start_time": "2022-03-26T10:07:58.526Z"
   },
   {
    "duration": 547,
    "start_time": "2022-03-26T10:08:10.718Z"
   },
   {
    "duration": 7,
    "start_time": "2022-03-26T10:08:20.046Z"
   },
   {
    "duration": 7,
    "start_time": "2022-03-26T10:08:25.541Z"
   },
   {
    "duration": 6,
    "start_time": "2022-03-26T10:08:30.342Z"
   },
   {
    "duration": 7,
    "start_time": "2022-03-26T10:08:33.509Z"
   },
   {
    "duration": 7,
    "start_time": "2022-03-26T10:08:36.574Z"
   },
   {
    "duration": 7,
    "start_time": "2022-03-26T10:08:42.471Z"
   },
   {
    "duration": 7,
    "start_time": "2022-03-26T10:09:03.014Z"
   },
   {
    "duration": 6,
    "start_time": "2022-03-26T10:09:05.718Z"
   },
   {
    "duration": 7,
    "start_time": "2022-03-26T10:09:10.198Z"
   },
   {
    "duration": 7,
    "start_time": "2022-03-26T10:09:13.118Z"
   },
   {
    "duration": 7,
    "start_time": "2022-03-26T10:09:15.941Z"
   },
   {
    "duration": 7,
    "start_time": "2022-03-26T10:09:29.824Z"
   },
   {
    "duration": 37,
    "start_time": "2022-03-26T10:10:26.622Z"
   },
   {
    "duration": 1891,
    "start_time": "2022-03-26T10:18:29.535Z"
   },
   {
    "duration": 53,
    "start_time": "2022-03-26T10:18:52.797Z"
   },
   {
    "duration": 40,
    "start_time": "2022-03-26T10:18:52.991Z"
   },
   {
    "duration": 1821,
    "start_time": "2022-03-26T10:18:53.190Z"
   },
   {
    "duration": 0,
    "start_time": "2022-03-26T10:18:55.014Z"
   },
   {
    "duration": 0,
    "start_time": "2022-03-26T10:18:55.016Z"
   },
   {
    "duration": 43,
    "start_time": "2022-03-26T10:19:14.941Z"
   },
   {
    "duration": 44,
    "start_time": "2022-03-26T10:19:16.317Z"
   },
   {
    "duration": 7,
    "start_time": "2022-03-26T10:19:18.159Z"
   },
   {
    "duration": 15,
    "start_time": "2022-03-26T10:20:42.958Z"
   },
   {
    "duration": 12,
    "start_time": "2022-03-26T10:22:24.857Z"
   },
   {
    "duration": 11,
    "start_time": "2022-03-26T10:24:49.216Z"
   },
   {
    "duration": 10,
    "start_time": "2022-03-26T10:24:59.359Z"
   },
   {
    "duration": 10,
    "start_time": "2022-03-26T10:25:02.559Z"
   },
   {
    "duration": 142,
    "start_time": "2022-03-26T10:27:29.351Z"
   },
   {
    "duration": 56,
    "start_time": "2022-03-26T10:27:58.974Z"
   },
   {
    "duration": 39,
    "start_time": "2022-03-26T10:27:59.194Z"
   },
   {
    "duration": 46,
    "start_time": "2022-03-26T10:27:59.386Z"
   },
   {
    "duration": 45,
    "start_time": "2022-03-26T10:27:59.545Z"
   },
   {
    "duration": 160,
    "start_time": "2022-03-26T10:27:59.710Z"
   },
   {
    "duration": 8,
    "start_time": "2022-03-26T10:28:19.407Z"
   },
   {
    "duration": 11,
    "start_time": "2022-03-26T10:28:25.318Z"
   },
   {
    "duration": 14,
    "start_time": "2022-03-26T10:28:27.878Z"
   },
   {
    "duration": 171,
    "start_time": "2022-03-26T10:28:44.030Z"
   },
   {
    "duration": 46,
    "start_time": "2022-03-26T10:29:09.484Z"
   },
   {
    "duration": 13,
    "start_time": "2022-03-26T10:29:35.869Z"
   },
   {
    "duration": 167,
    "start_time": "2022-03-26T10:30:02.765Z"
   },
   {
    "duration": 12,
    "start_time": "2022-03-26T10:30:47.486Z"
   },
   {
    "duration": 13,
    "start_time": "2022-03-26T10:30:59.972Z"
   },
   {
    "duration": 14,
    "start_time": "2022-03-26T10:32:03.981Z"
   },
   {
    "duration": 14,
    "start_time": "2022-03-26T10:32:09.693Z"
   },
   {
    "duration": 17,
    "start_time": "2022-03-26T10:36:13.409Z"
   },
   {
    "duration": 13,
    "start_time": "2022-03-26T10:37:18.374Z"
   },
   {
    "duration": 14,
    "start_time": "2022-03-26T10:37:22.876Z"
   },
   {
    "duration": 47,
    "start_time": "2022-03-26T10:48:11.700Z"
   },
   {
    "duration": 16,
    "start_time": "2022-03-26T10:48:52.919Z"
   },
   {
    "duration": 60,
    "start_time": "2022-03-26T10:55:48.743Z"
   },
   {
    "duration": 77,
    "start_time": "2022-03-26T10:56:56.734Z"
   },
   {
    "duration": 56,
    "start_time": "2022-03-26T10:56:57.030Z"
   },
   {
    "duration": 95,
    "start_time": "2022-03-26T10:57:33.864Z"
   },
   {
    "duration": 2122,
    "start_time": "2022-03-26T10:58:11.807Z"
   },
   {
    "duration": 19,
    "start_time": "2022-03-26T10:58:26.486Z"
   },
   {
    "duration": 60,
    "start_time": "2022-03-26T10:58:55.743Z"
   },
   {
    "duration": 15,
    "start_time": "2022-03-26T11:01:15.768Z"
   },
   {
    "duration": 15,
    "start_time": "2022-03-26T11:01:25.983Z"
   },
   {
    "duration": 16,
    "start_time": "2022-03-26T11:01:32.295Z"
   },
   {
    "duration": 1187,
    "start_time": "2022-03-26T11:15:41.756Z"
   },
   {
    "duration": 38,
    "start_time": "2022-03-26T11:15:42.947Z"
   },
   {
    "duration": 20,
    "start_time": "2022-03-26T11:15:42.988Z"
   },
   {
    "duration": 13,
    "start_time": "2022-03-26T11:15:43.011Z"
   },
   {
    "duration": 44,
    "start_time": "2022-03-26T11:15:43.026Z"
   },
   {
    "duration": 32,
    "start_time": "2022-03-26T11:15:43.072Z"
   },
   {
    "duration": 240,
    "start_time": "2022-03-26T11:15:43.107Z"
   },
   {
    "duration": 55,
    "start_time": "2022-03-26T11:15:43.350Z"
   },
   {
    "duration": 54,
    "start_time": "2022-03-26T11:15:43.407Z"
   },
   {
    "duration": 53,
    "start_time": "2022-03-26T11:15:43.483Z"
   },
   {
    "duration": 184,
    "start_time": "2022-03-26T11:15:43.538Z"
   },
   {
    "duration": 79,
    "start_time": "2022-03-26T11:15:43.725Z"
   },
   {
    "duration": 58,
    "start_time": "2022-03-26T11:15:43.807Z"
   },
   {
    "duration": 203,
    "start_time": "2022-03-26T11:15:43.883Z"
   },
   {
    "duration": 45,
    "start_time": "2022-03-26T11:15:44.089Z"
   },
   {
    "duration": 73,
    "start_time": "2022-03-26T11:15:44.137Z"
   },
   {
    "duration": 30,
    "start_time": "2022-03-26T11:15:45.261Z"
   },
   {
    "duration": 74,
    "start_time": "2022-03-26T11:15:46.373Z"
   },
   {
    "duration": 73,
    "start_time": "2022-03-26T11:15:46.821Z"
   },
   {
    "duration": 72,
    "start_time": "2022-03-26T11:15:47.301Z"
   },
   {
    "duration": 100,
    "start_time": "2022-03-26T11:15:47.750Z"
   },
   {
    "duration": 10,
    "start_time": "2022-03-26T11:15:47.916Z"
   },
   {
    "duration": 130,
    "start_time": "2022-03-26T11:15:48.390Z"
   },
   {
    "duration": 201,
    "start_time": "2022-03-26T11:15:48.724Z"
   },
   {
    "duration": 27,
    "start_time": "2022-03-26T11:15:49.021Z"
   },
   {
    "duration": 6,
    "start_time": "2022-03-26T11:15:49.388Z"
   },
   {
    "duration": 48,
    "start_time": "2022-03-26T11:15:49.725Z"
   },
   {
    "duration": 50,
    "start_time": "2022-03-26T11:15:49.902Z"
   },
   {
    "duration": 54,
    "start_time": "2022-03-26T11:15:50.069Z"
   },
   {
    "duration": 6,
    "start_time": "2022-03-26T11:15:50.246Z"
   },
   {
    "duration": 65,
    "start_time": "2022-03-26T11:15:50.462Z"
   },
   {
    "duration": 64,
    "start_time": "2022-03-26T11:15:50.661Z"
   },
   {
    "duration": 76,
    "start_time": "2022-03-26T11:15:50.901Z"
   },
   {
    "duration": 91,
    "start_time": "2022-03-26T11:15:51.526Z"
   },
   {
    "duration": 5,
    "start_time": "2022-03-26T11:15:52.645Z"
   },
   {
    "duration": 69,
    "start_time": "2022-03-26T11:15:52.957Z"
   },
   {
    "duration": 16,
    "start_time": "2022-03-26T11:15:53.854Z"
   },
   {
    "duration": 9,
    "start_time": "2022-03-26T11:15:54.692Z"
   },
   {
    "duration": 83,
    "start_time": "2022-03-26T11:15:55.486Z"
   },
   {
    "duration": 16,
    "start_time": "2022-03-26T11:15:59.693Z"
   },
   {
    "duration": 4,
    "start_time": "2022-03-26T11:19:39.515Z"
   },
   {
    "duration": 29,
    "start_time": "2022-03-26T11:19:39.571Z"
   },
   {
    "duration": 37,
    "start_time": "2022-03-26T11:19:39.606Z"
   },
   {
    "duration": 8,
    "start_time": "2022-03-26T11:19:39.664Z"
   },
   {
    "duration": 21,
    "start_time": "2022-03-26T11:19:39.698Z"
   },
   {
    "duration": 16,
    "start_time": "2022-03-26T11:19:39.781Z"
   },
   {
    "duration": 233,
    "start_time": "2022-03-26T11:19:39.843Z"
   },
   {
    "duration": 49,
    "start_time": "2022-03-26T11:19:40.079Z"
   },
   {
    "duration": 73,
    "start_time": "2022-03-26T11:19:40.130Z"
   },
   {
    "duration": 48,
    "start_time": "2022-03-26T11:19:40.206Z"
   },
   {
    "duration": 160,
    "start_time": "2022-03-26T11:19:40.256Z"
   },
   {
    "duration": 47,
    "start_time": "2022-03-26T11:19:40.418Z"
   },
   {
    "duration": 45,
    "start_time": "2022-03-26T11:19:40.483Z"
   },
   {
    "duration": 208,
    "start_time": "2022-03-26T11:19:40.530Z"
   },
   {
    "duration": 62,
    "start_time": "2022-03-26T11:19:40.741Z"
   },
   {
    "duration": 52,
    "start_time": "2022-03-26T11:19:40.806Z"
   },
   {
    "duration": 45,
    "start_time": "2022-03-26T11:19:40.860Z"
   },
   {
    "duration": 93,
    "start_time": "2022-03-26T11:19:40.907Z"
   },
   {
    "duration": 85,
    "start_time": "2022-03-26T11:19:41.002Z"
   },
   {
    "duration": 66,
    "start_time": "2022-03-26T11:19:41.090Z"
   },
   {
    "duration": 126,
    "start_time": "2022-03-26T11:19:41.159Z"
   },
   {
    "duration": 7,
    "start_time": "2022-03-26T11:19:41.288Z"
   },
   {
    "duration": 141,
    "start_time": "2022-03-26T11:19:41.297Z"
   },
   {
    "duration": 197,
    "start_time": "2022-03-26T11:19:41.441Z"
   },
   {
    "duration": 21,
    "start_time": "2022-03-26T11:19:41.640Z"
   },
   {
    "duration": 5,
    "start_time": "2022-03-26T11:19:41.683Z"
   },
   {
    "duration": 60,
    "start_time": "2022-03-26T11:19:41.690Z"
   },
   {
    "duration": 72,
    "start_time": "2022-03-26T11:19:41.752Z"
   },
   {
    "duration": 71,
    "start_time": "2022-03-26T11:19:41.826Z"
   },
   {
    "duration": 5,
    "start_time": "2022-03-26T11:19:41.899Z"
   },
   {
    "duration": 86,
    "start_time": "2022-03-26T11:19:41.907Z"
   },
   {
    "duration": 65,
    "start_time": "2022-03-26T11:19:41.996Z"
   },
   {
    "duration": 82,
    "start_time": "2022-03-26T11:19:42.064Z"
   },
   {
    "duration": 119,
    "start_time": "2022-03-26T11:19:42.149Z"
   },
   {
    "duration": 14,
    "start_time": "2022-03-26T11:19:42.270Z"
   },
   {
    "duration": 68,
    "start_time": "2022-03-26T11:19:42.288Z"
   },
   {
    "duration": 37,
    "start_time": "2022-03-26T11:19:42.358Z"
   },
   {
    "duration": 8,
    "start_time": "2022-03-26T11:19:42.397Z"
   },
   {
    "duration": 78,
    "start_time": "2022-03-26T11:19:42.407Z"
   },
   {
    "duration": 69,
    "start_time": "2022-03-26T11:19:43.111Z"
   },
   {
    "duration": 33,
    "start_time": "2022-03-26T11:19:43.765Z"
   },
   {
    "duration": 14,
    "start_time": "2022-03-26T11:19:44.133Z"
   },
   {
    "duration": 34,
    "start_time": "2022-03-26T11:19:44.509Z"
   },
   {
    "duration": 14,
    "start_time": "2022-03-26T11:19:44.886Z"
   },
   {
    "duration": 34,
    "start_time": "2022-03-26T11:19:45.381Z"
   },
   {
    "duration": 13,
    "start_time": "2022-03-26T11:19:45.749Z"
   },
   {
    "duration": 953,
    "start_time": "2022-03-26T11:19:46.125Z"
   },
   {
    "duration": 368,
    "start_time": "2022-03-26T11:19:47.084Z"
   },
   {
    "duration": 277,
    "start_time": "2022-03-26T11:19:47.455Z"
   },
   {
    "duration": 9,
    "start_time": "2022-03-26T11:19:47.735Z"
   },
   {
    "duration": 257,
    "start_time": "2022-03-26T11:19:48.044Z"
   },
   {
    "duration": 295,
    "start_time": "2022-03-26T11:19:48.303Z"
   },
   {
    "duration": 9,
    "start_time": "2022-03-26T11:19:48.673Z"
   },
   {
    "duration": 284,
    "start_time": "2022-03-26T11:19:49.469Z"
   },
   {
    "duration": 335,
    "start_time": "2022-03-26T11:19:49.756Z"
   },
   {
    "duration": 10,
    "start_time": "2022-03-26T11:19:50.096Z"
   },
   {
    "duration": 60,
    "start_time": "2022-03-26T11:19:51.733Z"
   },
   {
    "duration": 67,
    "start_time": "2022-03-26T11:19:51.902Z"
   },
   {
    "duration": 656,
    "start_time": "2022-03-26T11:19:52.229Z"
   },
   {
    "duration": 62,
    "start_time": "2022-03-26T11:19:53.918Z"
   },
   {
    "duration": 15,
    "start_time": "2022-03-26T11:19:56.645Z"
   },
   {
    "duration": 10,
    "start_time": "2022-03-26T11:20:01.629Z"
   },
   {
    "duration": 8,
    "start_time": "2022-03-26T11:20:10.662Z"
   },
   {
    "duration": 10,
    "start_time": "2022-03-26T11:20:35.110Z"
   },
   {
    "duration": 14,
    "start_time": "2022-03-26T11:21:01.751Z"
   },
   {
    "duration": 15,
    "start_time": "2022-03-26T11:21:08.607Z"
   },
   {
    "duration": 17,
    "start_time": "2022-03-26T11:44:09.122Z"
   },
   {
    "duration": 62,
    "start_time": "2022-03-26T11:44:17.965Z"
   },
   {
    "duration": 15,
    "start_time": "2022-03-26T11:44:20.212Z"
   },
   {
    "duration": 14,
    "start_time": "2022-03-26T11:44:30.404Z"
   },
   {
    "duration": 17,
    "start_time": "2022-03-26T11:44:45.268Z"
   },
   {
    "duration": 16,
    "start_time": "2022-03-26T11:45:10.897Z"
   },
   {
    "duration": 4,
    "start_time": "2022-03-26T11:45:20.432Z"
   },
   {
    "duration": 29,
    "start_time": "2022-03-26T11:45:20.499Z"
   },
   {
    "duration": 16,
    "start_time": "2022-03-26T11:45:20.534Z"
   },
   {
    "duration": 8,
    "start_time": "2022-03-26T11:45:20.593Z"
   },
   {
    "duration": 17,
    "start_time": "2022-03-26T11:45:20.627Z"
   },
   {
    "duration": 16,
    "start_time": "2022-03-26T11:45:20.709Z"
   },
   {
    "duration": 231,
    "start_time": "2022-03-26T11:45:20.781Z"
   },
   {
    "duration": 83,
    "start_time": "2022-03-26T11:45:21.015Z"
   },
   {
    "duration": 53,
    "start_time": "2022-03-26T11:45:21.100Z"
   },
   {
    "duration": 63,
    "start_time": "2022-03-26T11:45:21.156Z"
   },
   {
    "duration": 150,
    "start_time": "2022-03-26T11:45:21.221Z"
   },
   {
    "duration": 57,
    "start_time": "2022-03-26T11:45:21.373Z"
   },
   {
    "duration": 66,
    "start_time": "2022-03-26T11:45:21.433Z"
   },
   {
    "duration": 192,
    "start_time": "2022-03-26T11:45:21.502Z"
   },
   {
    "duration": 41,
    "start_time": "2022-03-26T11:45:21.697Z"
   },
   {
    "duration": 73,
    "start_time": "2022-03-26T11:45:21.741Z"
   },
   {
    "duration": 32,
    "start_time": "2022-03-26T11:45:21.816Z"
   },
   {
    "duration": 92,
    "start_time": "2022-03-26T11:45:21.851Z"
   },
   {
    "duration": 99,
    "start_time": "2022-03-26T11:45:21.945Z"
   },
   {
    "duration": 85,
    "start_time": "2022-03-26T11:45:22.048Z"
   },
   {
    "duration": 121,
    "start_time": "2022-03-26T11:45:22.135Z"
   },
   {
    "duration": 8,
    "start_time": "2022-03-26T11:45:22.259Z"
   },
   {
    "duration": 136,
    "start_time": "2022-03-26T11:45:22.285Z"
   },
   {
    "duration": 211,
    "start_time": "2022-03-26T11:45:22.423Z"
   },
   {
    "duration": 26,
    "start_time": "2022-03-26T11:45:22.637Z"
   },
   {
    "duration": 5,
    "start_time": "2022-03-26T11:45:22.684Z"
   },
   {
    "duration": 59,
    "start_time": "2022-03-26T11:45:22.691Z"
   },
   {
    "duration": 62,
    "start_time": "2022-03-26T11:45:22.753Z"
   },
   {
    "duration": 67,
    "start_time": "2022-03-26T11:45:22.817Z"
   },
   {
    "duration": 9,
    "start_time": "2022-03-26T11:45:22.889Z"
   },
   {
    "duration": 84,
    "start_time": "2022-03-26T11:45:22.900Z"
   },
   {
    "duration": 73,
    "start_time": "2022-03-26T11:45:22.986Z"
   },
   {
    "duration": 101,
    "start_time": "2022-03-26T11:45:23.061Z"
   },
   {
    "duration": 98,
    "start_time": "2022-03-26T11:45:23.164Z"
   },
   {
    "duration": 5,
    "start_time": "2022-03-26T11:45:23.265Z"
   },
   {
    "duration": 79,
    "start_time": "2022-03-26T11:45:23.284Z"
   },
   {
    "duration": 21,
    "start_time": "2022-03-26T11:45:23.366Z"
   },
   {
    "duration": 9,
    "start_time": "2022-03-26T11:45:23.390Z"
   },
   {
    "duration": 84,
    "start_time": "2022-03-26T11:45:23.401Z"
   },
   {
    "duration": 75,
    "start_time": "2022-03-26T11:45:23.488Z"
   },
   {
    "duration": 52,
    "start_time": "2022-03-26T11:45:23.566Z"
   },
   {
    "duration": 44,
    "start_time": "2022-03-26T11:45:23.621Z"
   },
   {
    "duration": 60,
    "start_time": "2022-03-26T11:45:23.667Z"
   },
   {
    "duration": 40,
    "start_time": "2022-03-26T11:45:23.732Z"
   },
   {
    "duration": 40,
    "start_time": "2022-03-26T11:45:24.956Z"
   },
   {
    "duration": 17,
    "start_time": "2022-03-26T11:45:25.316Z"
   },
   {
    "duration": 972,
    "start_time": "2022-03-26T11:45:25.865Z"
   },
   {
    "duration": 301,
    "start_time": "2022-03-26T11:45:26.839Z"
   },
   {
    "duration": 380,
    "start_time": "2022-03-26T11:45:27.142Z"
   },
   {
    "duration": 11,
    "start_time": "2022-03-26T11:45:27.527Z"
   },
   {
    "duration": 428,
    "start_time": "2022-03-26T11:45:27.541Z"
   },
   {
    "duration": 261,
    "start_time": "2022-03-26T11:45:27.971Z"
   },
   {
    "duration": 9,
    "start_time": "2022-03-26T11:45:28.235Z"
   },
   {
    "duration": 290,
    "start_time": "2022-03-26T11:45:28.246Z"
   },
   {
    "duration": 327,
    "start_time": "2022-03-26T11:45:28.538Z"
   },
   {
    "duration": 20,
    "start_time": "2022-03-26T11:45:28.868Z"
   },
   {
    "duration": 61,
    "start_time": "2022-03-26T11:45:28.891Z"
   },
   {
    "duration": 93,
    "start_time": "2022-03-26T11:45:28.955Z"
   },
   {
    "duration": 40,
    "start_time": "2022-03-26T11:45:29.051Z"
   },
   {
    "duration": 63,
    "start_time": "2022-03-26T11:45:29.093Z"
   },
   {
    "duration": 159,
    "start_time": "2022-03-26T11:45:36.093Z"
   },
   {
    "duration": 17,
    "start_time": "2022-03-26T11:46:26.474Z"
   },
   {
    "duration": 19,
    "start_time": "2022-03-26T11:46:51.468Z"
   },
   {
    "duration": 23,
    "start_time": "2022-03-26T11:47:14.413Z"
   },
   {
    "duration": 15,
    "start_time": "2022-03-26T11:47:23.662Z"
   },
   {
    "duration": 15,
    "start_time": "2022-03-26T11:48:31.253Z"
   },
   {
    "duration": 62,
    "start_time": "2022-03-26T11:48:36.844Z"
   },
   {
    "duration": 16,
    "start_time": "2022-03-26T11:49:04.092Z"
   },
   {
    "duration": 13,
    "start_time": "2022-03-26T11:49:07.764Z"
   },
   {
    "duration": 5,
    "start_time": "2022-03-26T12:03:06.932Z"
   },
   {
    "duration": 35,
    "start_time": "2022-03-26T12:03:08.350Z"
   },
   {
    "duration": 18,
    "start_time": "2022-03-26T12:03:11.093Z"
   },
   {
    "duration": 9,
    "start_time": "2022-03-26T12:03:18.052Z"
   },
   {
    "duration": 18,
    "start_time": "2022-03-26T12:03:19.124Z"
   },
   {
    "duration": 17,
    "start_time": "2022-03-26T12:03:21.892Z"
   },
   {
    "duration": 228,
    "start_time": "2022-03-26T12:03:24.604Z"
   },
   {
    "duration": 47,
    "start_time": "2022-03-26T12:03:28.349Z"
   },
   {
    "duration": 54,
    "start_time": "2022-03-26T12:03:29.532Z"
   },
   {
    "duration": 46,
    "start_time": "2022-03-26T12:03:36.989Z"
   },
   {
    "duration": 208,
    "start_time": "2022-03-26T12:03:40.653Z"
   },
   {
    "duration": 48,
    "start_time": "2022-03-26T12:03:47.837Z"
   },
   {
    "duration": 53,
    "start_time": "2022-03-26T12:03:52.516Z"
   },
   {
    "duration": 185,
    "start_time": "2022-03-26T12:03:56.516Z"
   },
   {
    "duration": 44,
    "start_time": "2022-03-26T12:04:01.037Z"
   },
   {
    "duration": 56,
    "start_time": "2022-03-26T12:04:03.268Z"
   },
   {
    "duration": 31,
    "start_time": "2022-03-26T12:04:07.205Z"
   },
   {
    "duration": 81,
    "start_time": "2022-03-26T12:04:13.541Z"
   },
   {
    "duration": 77,
    "start_time": "2022-03-26T12:04:16.549Z"
   },
   {
    "duration": 72,
    "start_time": "2022-03-26T12:04:19.829Z"
   },
   {
    "duration": 101,
    "start_time": "2022-03-26T12:04:22.933Z"
   },
   {
    "duration": 101,
    "start_time": "2022-03-26T12:04:26.711Z"
   },
   {
    "duration": 7,
    "start_time": "2022-03-26T12:04:27.445Z"
   },
   {
    "duration": 129,
    "start_time": "2022-03-26T12:04:30.086Z"
   },
   {
    "duration": 175,
    "start_time": "2022-03-26T12:04:32.549Z"
   },
   {
    "duration": 29,
    "start_time": "2022-03-26T12:04:35.140Z"
   },
   {
    "duration": 5,
    "start_time": "2022-03-26T12:04:35.852Z"
   },
   {
    "duration": 48,
    "start_time": "2022-03-26T12:04:38.077Z"
   },
   {
    "duration": 71,
    "start_time": "2022-03-26T12:04:38.325Z"
   },
   {
    "duration": 50,
    "start_time": "2022-03-26T12:04:38.581Z"
   },
   {
    "duration": 5,
    "start_time": "2022-03-26T12:04:38.877Z"
   },
   {
    "duration": 65,
    "start_time": "2022-03-26T12:04:39.286Z"
   },
   {
    "duration": 63,
    "start_time": "2022-03-26T12:04:39.781Z"
   },
   {
    "duration": 68,
    "start_time": "2022-03-26T12:04:40.277Z"
   },
   {
    "duration": 93,
    "start_time": "2022-03-26T12:04:41.365Z"
   },
   {
    "duration": 4,
    "start_time": "2022-03-26T12:04:43.805Z"
   },
   {
    "duration": 68,
    "start_time": "2022-03-26T12:04:44.141Z"
   },
   {
    "duration": 15,
    "start_time": "2022-03-26T12:04:45.005Z"
   },
   {
    "duration": 8,
    "start_time": "2022-03-26T12:04:47.549Z"
   },
   {
    "duration": 62,
    "start_time": "2022-03-26T12:04:47.943Z"
   },
   {
    "duration": 75,
    "start_time": "2022-03-26T12:04:51.085Z"
   },
   {
    "duration": 37,
    "start_time": "2022-03-26T12:04:53.684Z"
   },
   {
    "duration": 16,
    "start_time": "2022-03-26T12:04:54.972Z"
   },
   {
    "duration": 36,
    "start_time": "2022-03-26T12:04:57.316Z"
   },
   {
    "duration": 34,
    "start_time": "2022-03-26T12:05:03.645Z"
   },
   {
    "duration": 14,
    "start_time": "2022-03-26T12:05:05.149Z"
   },
   {
    "duration": 34,
    "start_time": "2022-03-26T12:05:07.164Z"
   },
   {
    "duration": 15,
    "start_time": "2022-03-26T12:05:08.477Z"
   },
   {
    "duration": 1038,
    "start_time": "2022-03-26T12:05:11.121Z"
   },
   {
    "duration": 302,
    "start_time": "2022-03-26T12:05:12.162Z"
   },
   {
    "duration": 265,
    "start_time": "2022-03-26T12:05:12.467Z"
   },
   {
    "duration": 9,
    "start_time": "2022-03-26T12:05:12.965Z"
   },
   {
    "duration": 287,
    "start_time": "2022-03-26T12:05:13.613Z"
   },
   {
    "duration": 270,
    "start_time": "2022-03-26T12:05:13.904Z"
   },
   {
    "duration": 9,
    "start_time": "2022-03-26T12:05:14.492Z"
   },
   {
    "duration": 277,
    "start_time": "2022-03-26T12:05:15.046Z"
   },
   {
    "duration": 317,
    "start_time": "2022-03-26T12:05:15.325Z"
   },
   {
    "duration": 9,
    "start_time": "2022-03-26T12:05:15.644Z"
   },
   {
    "duration": 61,
    "start_time": "2022-03-26T12:05:16.725Z"
   },
   {
    "duration": 68,
    "start_time": "2022-03-26T12:05:16.891Z"
   },
   {
    "duration": 23,
    "start_time": "2022-03-26T12:05:17.253Z"
   },
   {
    "duration": 58,
    "start_time": "2022-03-26T12:05:17.965Z"
   },
   {
    "duration": 16,
    "start_time": "2022-03-26T12:05:18.292Z"
   },
   {
    "duration": 13,
    "start_time": "2022-03-26T12:05:18.861Z"
   },
   {
    "duration": 676,
    "start_time": "2022-04-05T20:35:25.408Z"
   },
   {
    "duration": 25,
    "start_time": "2022-04-05T20:35:26.086Z"
   },
   {
    "duration": 14,
    "start_time": "2022-04-05T20:35:26.112Z"
   },
   {
    "duration": 5,
    "start_time": "2022-04-05T20:35:26.128Z"
   },
   {
    "duration": 28,
    "start_time": "2022-04-05T20:35:26.136Z"
   },
   {
    "duration": 14,
    "start_time": "2022-04-05T20:35:26.166Z"
   },
   {
    "duration": 252,
    "start_time": "2022-04-05T20:35:26.182Z"
   },
   {
    "duration": 60,
    "start_time": "2022-04-05T20:35:26.436Z"
   },
   {
    "duration": 53,
    "start_time": "2022-04-05T20:35:26.498Z"
   },
   {
    "duration": 48,
    "start_time": "2022-04-05T20:35:26.563Z"
   },
   {
    "duration": 151,
    "start_time": "2022-04-05T20:35:26.613Z"
   },
   {
    "duration": 51,
    "start_time": "2022-04-05T20:35:26.766Z"
   },
   {
    "duration": 59,
    "start_time": "2022-04-05T20:35:26.819Z"
   },
   {
    "duration": 214,
    "start_time": "2022-04-05T20:35:26.883Z"
   },
   {
    "duration": 45,
    "start_time": "2022-04-05T20:35:27.099Z"
   },
   {
    "duration": 59,
    "start_time": "2022-04-05T20:35:27.146Z"
   },
   {
    "duration": 28,
    "start_time": "2022-04-05T20:35:27.207Z"
   },
   {
    "duration": 70,
    "start_time": "2022-04-05T20:35:27.237Z"
   },
   {
    "duration": 46,
    "start_time": "2022-04-05T20:35:27.309Z"
   },
   {
    "duration": 111,
    "start_time": "2022-04-05T20:35:27.356Z"
   },
   {
    "duration": 55,
    "start_time": "2022-04-05T20:35:27.470Z"
   },
   {
    "duration": 6,
    "start_time": "2022-04-05T20:35:27.527Z"
   },
   {
    "duration": 89,
    "start_time": "2022-04-05T20:35:27.534Z"
   },
   {
    "duration": 103,
    "start_time": "2022-04-05T20:35:27.625Z"
   },
   {
    "duration": 14,
    "start_time": "2022-04-05T20:35:27.729Z"
   },
   {
    "duration": 20,
    "start_time": "2022-04-05T20:35:27.745Z"
   },
   {
    "duration": 43,
    "start_time": "2022-04-05T20:35:27.767Z"
   },
   {
    "duration": 60,
    "start_time": "2022-04-05T20:35:27.812Z"
   },
   {
    "duration": 44,
    "start_time": "2022-04-05T20:35:27.874Z"
   },
   {
    "duration": 5,
    "start_time": "2022-04-05T20:35:27.920Z"
   },
   {
    "duration": 79,
    "start_time": "2022-04-05T20:35:27.927Z"
   },
   {
    "duration": 54,
    "start_time": "2022-04-05T20:35:28.008Z"
   },
   {
    "duration": 40,
    "start_time": "2022-04-05T20:35:28.064Z"
   },
   {
    "duration": 58,
    "start_time": "2022-04-05T20:35:28.106Z"
   },
   {
    "duration": 4,
    "start_time": "2022-04-05T20:35:28.165Z"
   },
   {
    "duration": 40,
    "start_time": "2022-04-05T20:35:28.170Z"
   },
   {
    "duration": 12,
    "start_time": "2022-04-05T20:35:28.212Z"
   },
   {
    "duration": 5,
    "start_time": "2022-04-05T20:35:28.226Z"
   },
   {
    "duration": 74,
    "start_time": "2022-04-05T20:35:28.233Z"
   },
   {
    "duration": 76,
    "start_time": "2022-04-05T20:35:28.308Z"
   },
   {
    "duration": 28,
    "start_time": "2022-04-05T20:35:28.389Z"
   },
   {
    "duration": 11,
    "start_time": "2022-04-05T20:35:28.419Z"
   },
   {
    "duration": 52,
    "start_time": "2022-04-05T20:35:28.432Z"
   },
   {
    "duration": 9,
    "start_time": "2022-04-05T20:35:28.486Z"
   },
   {
    "duration": 26,
    "start_time": "2022-04-05T20:35:28.497Z"
   },
   {
    "duration": 8,
    "start_time": "2022-04-05T20:35:28.525Z"
   },
   {
    "duration": 550,
    "start_time": "2022-04-05T20:35:28.535Z"
   },
   {
    "duration": 256,
    "start_time": "2022-04-05T20:35:29.086Z"
   },
   {
    "duration": 308,
    "start_time": "2022-04-05T20:35:29.344Z"
   },
   {
    "duration": 12,
    "start_time": "2022-04-05T20:35:29.653Z"
   },
   {
    "duration": 144,
    "start_time": "2022-04-05T20:35:29.667Z"
   },
   {
    "duration": 255,
    "start_time": "2022-04-05T20:35:29.813Z"
   },
   {
    "duration": 6,
    "start_time": "2022-04-05T20:35:30.070Z"
   },
   {
    "duration": 410,
    "start_time": "2022-04-05T20:35:30.078Z"
   },
   {
    "duration": 601,
    "start_time": "2022-04-05T20:35:30.490Z"
   },
   {
    "duration": 6,
    "start_time": "2022-04-05T20:35:31.093Z"
   },
   {
    "duration": 87,
    "start_time": "2022-04-05T20:35:31.100Z"
   },
   {
    "duration": 88,
    "start_time": "2022-04-05T20:35:31.189Z"
   },
   {
    "duration": 626,
    "start_time": "2022-04-05T20:35:31.279Z"
   },
   {
    "duration": 88,
    "start_time": "2022-04-05T20:35:31.907Z"
   },
   {
    "duration": 78,
    "start_time": "2022-04-05T20:35:31.996Z"
   },
   {
    "duration": 17,
    "start_time": "2022-04-05T20:35:32.076Z"
   },
   {
    "duration": 4,
    "start_time": "2022-04-05T20:39:13.881Z"
   },
   {
    "duration": 36,
    "start_time": "2022-04-05T20:43:21.507Z"
   },
   {
    "duration": 6,
    "start_time": "2022-04-05T20:43:56.233Z"
   },
   {
    "duration": 6,
    "start_time": "2022-04-05T20:44:01.935Z"
   },
   {
    "duration": 33,
    "start_time": "2022-04-05T20:44:12.478Z"
   },
   {
    "duration": 12,
    "start_time": "2022-04-05T20:44:20.671Z"
   },
   {
    "duration": 10,
    "start_time": "2022-04-05T20:44:24.243Z"
   },
   {
    "duration": 10,
    "start_time": "2022-04-05T20:44:28.555Z"
   },
   {
    "duration": 4,
    "start_time": "2022-04-05T20:48:25.123Z"
   },
   {
    "duration": 765,
    "start_time": "2022-04-06T06:48:04.978Z"
   },
   {
    "duration": 1751,
    "start_time": "2022-04-06T06:48:06.983Z"
   },
   {
    "duration": 14,
    "start_time": "2022-04-06T06:48:12.336Z"
   },
   {
    "duration": 7,
    "start_time": "2022-04-06T06:48:19.161Z"
   },
   {
    "duration": 18,
    "start_time": "2022-04-06T06:48:21.507Z"
   },
   {
    "duration": 12,
    "start_time": "2022-04-06T06:48:30.455Z"
   },
   {
    "duration": 187,
    "start_time": "2022-04-06T06:48:36.240Z"
   },
   {
    "duration": 32,
    "start_time": "2022-04-06T06:48:43.832Z"
   },
   {
    "duration": 39,
    "start_time": "2022-04-06T06:48:47.247Z"
   },
   {
    "duration": 42,
    "start_time": "2022-04-06T06:49:58.514Z"
   },
   {
    "duration": 82,
    "start_time": "2022-04-06T06:50:35.762Z"
   },
   {
    "duration": 145,
    "start_time": "2022-04-06T06:50:40.122Z"
   },
   {
    "duration": 71,
    "start_time": "2022-04-06T06:51:02.233Z"
   },
   {
    "duration": 104,
    "start_time": "2022-04-06T06:53:58.209Z"
   },
   {
    "duration": 32,
    "start_time": "2022-04-06T06:55:10.136Z"
   },
   {
    "duration": 31,
    "start_time": "2022-04-06T06:55:28.289Z"
   },
   {
    "duration": 16,
    "start_time": "2022-04-06T06:57:28.441Z"
   },
   {
    "duration": 21,
    "start_time": "2022-04-06T06:57:38.673Z"
   },
   {
    "duration": 31,
    "start_time": "2022-04-06T07:08:30.615Z"
   },
   {
    "duration": 2,
    "start_time": "2022-04-06T07:08:35.761Z"
   },
   {
    "duration": 144,
    "start_time": "2022-04-06T07:27:45.050Z"
   },
   {
    "duration": 30,
    "start_time": "2022-04-06T07:28:02.830Z"
   },
   {
    "duration": 36,
    "start_time": "2022-04-06T07:28:07.386Z"
   },
   {
    "duration": 37,
    "start_time": "2022-04-06T07:29:26.845Z"
   },
   {
    "duration": 29,
    "start_time": "2022-04-06T07:29:31.850Z"
   },
   {
    "duration": 52,
    "start_time": "2022-04-06T07:35:25.408Z"
   },
   {
    "duration": 54,
    "start_time": "2022-04-06T07:35:30.253Z"
   },
   {
    "duration": 47,
    "start_time": "2022-04-06T07:35:38.803Z"
   },
   {
    "duration": 61,
    "start_time": "2022-04-06T07:35:47.844Z"
   },
   {
    "duration": 9,
    "start_time": "2022-04-06T07:41:38.734Z"
   },
   {
    "duration": 44,
    "start_time": "2022-04-06T07:42:24.581Z"
   },
   {
    "duration": 37,
    "start_time": "2022-04-06T07:43:01.068Z"
   },
   {
    "duration": 4,
    "start_time": "2022-04-06T07:43:24.155Z"
   },
   {
    "duration": 28,
    "start_time": "2022-04-06T07:43:24.476Z"
   },
   {
    "duration": 12,
    "start_time": "2022-04-06T07:43:24.716Z"
   },
   {
    "duration": 5,
    "start_time": "2022-04-06T07:43:25.083Z"
   },
   {
    "duration": 11,
    "start_time": "2022-04-06T07:43:25.267Z"
   },
   {
    "duration": 11,
    "start_time": "2022-04-06T07:43:25.828Z"
   },
   {
    "duration": 160,
    "start_time": "2022-04-06T07:43:26.260Z"
   },
   {
    "duration": 31,
    "start_time": "2022-04-06T07:43:26.691Z"
   },
   {
    "duration": 35,
    "start_time": "2022-04-06T07:43:27.091Z"
   },
   {
    "duration": 36,
    "start_time": "2022-04-06T07:43:27.691Z"
   },
   {
    "duration": 3,
    "start_time": "2022-04-06T07:43:27.899Z"
   },
   {
    "duration": 103,
    "start_time": "2022-04-06T07:43:29.539Z"
   },
   {
    "duration": 32,
    "start_time": "2022-04-06T07:43:29.925Z"
   },
   {
    "duration": 33,
    "start_time": "2022-04-06T07:43:30.314Z"
   },
   {
    "duration": 3,
    "start_time": "2022-04-06T07:43:30.779Z"
   },
   {
    "duration": 136,
    "start_time": "2022-04-06T07:43:32.452Z"
   },
   {
    "duration": 28,
    "start_time": "2022-04-06T07:43:33.155Z"
   },
   {
    "duration": 37,
    "start_time": "2022-04-06T07:43:34.395Z"
   },
   {
    "duration": 22,
    "start_time": "2022-04-06T07:43:37.227Z"
   },
   {
    "duration": 8,
    "start_time": "2022-04-06T07:43:41.435Z"
   },
   {
    "duration": 27,
    "start_time": "2022-04-06T07:43:44.091Z"
   },
   {
    "duration": 10,
    "start_time": "2022-04-06T07:44:35.148Z"
   },
   {
    "duration": 28,
    "start_time": "2022-04-06T07:44:35.988Z"
   },
   {
    "duration": 53,
    "start_time": "2022-04-06T07:46:06.086Z"
   },
   {
    "duration": 22,
    "start_time": "2022-04-06T07:46:18.516Z"
   },
   {
    "duration": 37,
    "start_time": "2022-04-06T07:46:50.429Z"
   },
   {
    "duration": 35,
    "start_time": "2022-04-06T07:46:58.925Z"
   },
   {
    "duration": 36,
    "start_time": "2022-04-06T07:47:31.117Z"
   },
   {
    "duration": 39,
    "start_time": "2022-04-06T07:48:18.727Z"
   },
   {
    "duration": 4,
    "start_time": "2022-04-06T07:48:44.999Z"
   },
   {
    "duration": 45,
    "start_time": "2022-04-06T07:49:48.940Z"
   },
   {
    "duration": 2,
    "start_time": "2022-04-06T07:50:11.589Z"
   },
   {
    "duration": 39,
    "start_time": "2022-04-06T07:51:32.637Z"
   },
   {
    "duration": 421,
    "start_time": "2022-04-06T07:51:51.484Z"
   },
   {
    "duration": 37,
    "start_time": "2022-04-06T07:54:45.298Z"
   },
   {
    "duration": 466,
    "start_time": "2022-04-06T07:55:44.701Z"
   },
   {
    "duration": 37,
    "start_time": "2022-04-06T07:56:04.798Z"
   },
   {
    "duration": 35,
    "start_time": "2022-04-06T07:56:25.993Z"
   },
   {
    "duration": 2,
    "start_time": "2022-04-06T07:56:40.442Z"
   },
   {
    "duration": 61,
    "start_time": "2022-04-06T07:56:47.351Z"
   },
   {
    "duration": 70,
    "start_time": "2022-04-06T07:57:33.414Z"
   },
   {
    "duration": 29,
    "start_time": "2022-04-06T07:57:49.985Z"
   },
   {
    "duration": 17,
    "start_time": "2022-04-06T08:00:47.906Z"
   },
   {
    "duration": 59,
    "start_time": "2022-04-06T08:01:26.312Z"
   },
   {
    "duration": 2,
    "start_time": "2022-04-06T08:02:37.779Z"
   },
   {
    "duration": 52,
    "start_time": "2022-04-06T08:38:41.590Z"
   },
   {
    "duration": 60,
    "start_time": "2022-04-06T08:38:49.533Z"
   },
   {
    "duration": 19,
    "start_time": "2022-04-06T08:39:06.422Z"
   },
   {
    "duration": 86,
    "start_time": "2022-04-06T08:39:22.086Z"
   },
   {
    "duration": 15,
    "start_time": "2022-04-06T08:39:28.269Z"
   },
   {
    "duration": 16,
    "start_time": "2022-04-06T08:40:02.478Z"
   },
   {
    "duration": 14,
    "start_time": "2022-04-06T08:41:16.391Z"
   },
   {
    "duration": 11,
    "start_time": "2022-04-06T08:41:43.213Z"
   },
   {
    "duration": 13,
    "start_time": "2022-04-06T08:41:48.901Z"
   },
   {
    "duration": 51,
    "start_time": "2022-04-06T08:45:02.183Z"
   },
   {
    "duration": 33,
    "start_time": "2022-04-06T08:45:18.072Z"
   },
   {
    "duration": 16,
    "start_time": "2022-04-06T08:47:09.193Z"
   },
   {
    "duration": 19,
    "start_time": "2022-04-06T08:47:19.926Z"
   },
   {
    "duration": 14,
    "start_time": "2022-04-06T08:47:53.600Z"
   },
   {
    "duration": 30,
    "start_time": "2022-04-06T08:48:15.902Z"
   },
   {
    "duration": 13,
    "start_time": "2022-04-06T08:48:23.654Z"
   },
   {
    "duration": 17,
    "start_time": "2022-04-06T08:53:46.827Z"
   },
   {
    "duration": 18,
    "start_time": "2022-04-06T08:54:17.327Z"
   },
   {
    "duration": 32,
    "start_time": "2022-04-06T08:54:51.975Z"
   },
   {
    "duration": 8,
    "start_time": "2022-04-06T08:55:56.599Z"
   },
   {
    "duration": 22,
    "start_time": "2022-04-06T08:56:14.872Z"
   },
   {
    "duration": 22,
    "start_time": "2022-04-06T08:56:25.715Z"
   },
   {
    "duration": 34,
    "start_time": "2022-04-06T08:56:39.703Z"
   },
   {
    "duration": 28,
    "start_time": "2022-04-06T08:56:50.567Z"
   },
   {
    "duration": 18,
    "start_time": "2022-04-06T08:56:53.272Z"
   },
   {
    "duration": 10,
    "start_time": "2022-04-06T08:58:35.017Z"
   },
   {
    "duration": 64,
    "start_time": "2022-04-06T08:58:37.889Z"
   },
   {
    "duration": 63,
    "start_time": "2022-04-06T08:58:55.368Z"
   },
   {
    "duration": 9,
    "start_time": "2022-04-06T08:58:59.567Z"
   },
   {
    "duration": 18,
    "start_time": "2022-04-06T08:59:20.944Z"
   },
   {
    "duration": 29,
    "start_time": "2022-04-06T08:59:31.823Z"
   },
   {
    "duration": 22,
    "start_time": "2022-04-06T08:59:47.443Z"
   },
   {
    "duration": 31,
    "start_time": "2022-04-06T09:00:05.353Z"
   },
   {
    "duration": 5,
    "start_time": "2022-04-06T09:00:14.611Z"
   },
   {
    "duration": 22,
    "start_time": "2022-04-06T09:00:14.696Z"
   },
   {
    "duration": 13,
    "start_time": "2022-04-06T09:00:14.752Z"
   },
   {
    "duration": 6,
    "start_time": "2022-04-06T09:00:14.831Z"
   },
   {
    "duration": 11,
    "start_time": "2022-04-06T09:00:14.874Z"
   },
   {
    "duration": 11,
    "start_time": "2022-04-06T09:00:14.955Z"
   },
   {
    "duration": 166,
    "start_time": "2022-04-06T09:00:15.061Z"
   },
   {
    "duration": 32,
    "start_time": "2022-04-06T09:00:15.230Z"
   },
   {
    "duration": 38,
    "start_time": "2022-04-06T09:00:15.264Z"
   },
   {
    "duration": 38,
    "start_time": "2022-04-06T09:00:15.362Z"
   },
   {
    "duration": 3,
    "start_time": "2022-04-06T09:00:15.475Z"
   },
   {
    "duration": 95,
    "start_time": "2022-04-06T09:00:17.926Z"
   },
   {
    "duration": 43,
    "start_time": "2022-04-06T09:00:18.342Z"
   },
   {
    "duration": 31,
    "start_time": "2022-04-06T09:00:18.702Z"
   },
   {
    "duration": 3,
    "start_time": "2022-04-06T09:00:19.070Z"
   },
   {
    "duration": 154,
    "start_time": "2022-04-06T09:00:19.774Z"
   },
   {
    "duration": 29,
    "start_time": "2022-04-06T09:00:20.126Z"
   },
   {
    "duration": 36,
    "start_time": "2022-04-06T09:00:20.854Z"
   },
   {
    "duration": 22,
    "start_time": "2022-04-06T09:00:21.423Z"
   },
   {
    "duration": 9,
    "start_time": "2022-04-06T09:00:24.167Z"
   },
   {
    "duration": 120,
    "start_time": "2022-04-06T09:00:24.848Z"
   },
   {
    "duration": 3,
    "start_time": "2022-04-06T09:00:25.256Z"
   },
   {
    "duration": 37,
    "start_time": "2022-04-06T09:00:26.910Z"
   },
   {
    "duration": 3,
    "start_time": "2022-04-06T09:00:27.119Z"
   },
   {
    "duration": 33,
    "start_time": "2022-04-06T09:00:27.968Z"
   },
   {
    "duration": 3,
    "start_time": "2022-04-06T09:00:28.224Z"
   },
   {
    "duration": 33,
    "start_time": "2022-04-06T09:00:28.953Z"
   },
   {
    "duration": 1751,
    "start_time": "2022-04-06T09:00:29.560Z"
   },
   {
    "duration": 17,
    "start_time": "2022-04-06T09:00:49.904Z"
   },
   {
    "duration": 16,
    "start_time": "2022-04-06T09:01:06.225Z"
   },
   {
    "duration": 15,
    "start_time": "2022-04-06T09:07:03.450Z"
   },
   {
    "duration": 32,
    "start_time": "2022-04-06T09:07:23.778Z"
   },
   {
    "duration": 1370,
    "start_time": "2022-04-06T09:07:34.905Z"
   },
   {
    "duration": 18,
    "start_time": "2022-04-06T09:08:02.690Z"
   },
   {
    "duration": 11,
    "start_time": "2022-04-06T09:08:09.506Z"
   },
   {
    "duration": 11,
    "start_time": "2022-04-06T09:08:21.011Z"
   },
   {
    "duration": 15,
    "start_time": "2022-04-06T09:08:29.435Z"
   },
   {
    "duration": 70,
    "start_time": "2022-04-06T09:08:44.794Z"
   },
   {
    "duration": 17,
    "start_time": "2022-04-06T09:08:55.756Z"
   },
   {
    "duration": 20,
    "start_time": "2022-04-06T09:09:19.698Z"
   },
   {
    "duration": 23,
    "start_time": "2022-04-06T09:09:53.642Z"
   },
   {
    "duration": 12,
    "start_time": "2022-04-06T09:12:05.170Z"
   },
   {
    "duration": 4,
    "start_time": "2022-04-06T09:12:51.841Z"
   },
   {
    "duration": 24,
    "start_time": "2022-04-06T09:12:52.233Z"
   },
   {
    "duration": 14,
    "start_time": "2022-04-06T09:12:52.429Z"
   },
   {
    "duration": 7,
    "start_time": "2022-04-06T09:12:52.824Z"
   },
   {
    "duration": 12,
    "start_time": "2022-04-06T09:12:52.977Z"
   },
   {
    "duration": 11,
    "start_time": "2022-04-06T09:12:53.409Z"
   },
   {
    "duration": 177,
    "start_time": "2022-04-06T09:12:53.826Z"
   },
   {
    "duration": 32,
    "start_time": "2022-04-06T09:12:54.210Z"
   },
   {
    "duration": 40,
    "start_time": "2022-04-06T09:12:54.609Z"
   },
   {
    "duration": 36,
    "start_time": "2022-04-06T09:12:55.194Z"
   },
   {
    "duration": 3,
    "start_time": "2022-04-06T09:12:55.402Z"
   },
   {
    "duration": 97,
    "start_time": "2022-04-06T09:12:56.257Z"
   },
   {
    "duration": 35,
    "start_time": "2022-04-06T09:12:56.666Z"
   },
   {
    "duration": 33,
    "start_time": "2022-04-06T09:12:57.090Z"
   },
   {
    "duration": 2,
    "start_time": "2022-04-06T09:12:57.481Z"
   },
   {
    "duration": 146,
    "start_time": "2022-04-06T09:12:58.296Z"
   },
   {
    "duration": 30,
    "start_time": "2022-04-06T09:12:58.722Z"
   },
   {
    "duration": 39,
    "start_time": "2022-04-06T09:12:59.561Z"
   },
   {
    "duration": 22,
    "start_time": "2022-04-06T09:13:00.490Z"
   },
   {
    "duration": 11,
    "start_time": "2022-04-06T09:13:02.291Z"
   },
   {
    "duration": 35,
    "start_time": "2022-04-06T09:13:03.241Z"
   },
   {
    "duration": 3,
    "start_time": "2022-04-06T09:13:04.282Z"
   },
   {
    "duration": 37,
    "start_time": "2022-04-06T09:13:07.977Z"
   },
   {
    "duration": 3,
    "start_time": "2022-04-06T09:13:35.805Z"
   },
   {
    "duration": 30,
    "start_time": "2022-04-06T09:13:38.954Z"
   },
   {
    "duration": 3,
    "start_time": "2022-04-06T09:13:56.304Z"
   },
   {
    "duration": 11,
    "start_time": "2022-04-06T09:13:59.684Z"
   },
   {
    "duration": 13,
    "start_time": "2022-04-06T09:14:02.313Z"
   },
   {
    "duration": 2,
    "start_time": "2022-04-06T09:14:57.245Z"
   },
   {
    "duration": 12,
    "start_time": "2022-04-06T09:15:30.588Z"
   },
   {
    "duration": 12,
    "start_time": "2022-04-06T09:15:39.434Z"
   },
   {
    "duration": 12,
    "start_time": "2022-04-06T09:15:44.770Z"
   },
   {
    "duration": 4,
    "start_time": "2022-04-06T09:16:17.227Z"
   },
   {
    "duration": 10,
    "start_time": "2022-04-06T09:16:37.171Z"
   },
   {
    "duration": 17,
    "start_time": "2022-04-06T09:17:25.012Z"
   },
   {
    "duration": 13,
    "start_time": "2022-04-06T09:17:27.843Z"
   },
   {
    "duration": 2,
    "start_time": "2022-04-06T09:17:28.511Z"
   },
   {
    "duration": 14,
    "start_time": "2022-04-06T09:17:29.075Z"
   },
   {
    "duration": 4,
    "start_time": "2022-04-06T09:17:40.250Z"
   },
   {
    "duration": 45,
    "start_time": "2022-04-06T09:17:47.180Z"
   },
   {
    "duration": 83,
    "start_time": "2022-04-06T09:18:57.237Z"
   },
   {
    "duration": 28,
    "start_time": "2022-04-06T09:19:07.178Z"
   },
   {
    "duration": 2,
    "start_time": "2022-04-06T09:21:11.492Z"
   },
   {
    "duration": 8,
    "start_time": "2022-04-06T09:24:12.556Z"
   },
   {
    "duration": 3,
    "start_time": "2022-04-06T09:24:29.988Z"
   },
   {
    "duration": 1368,
    "start_time": "2022-04-06T09:24:32.004Z"
   },
   {
    "duration": 11,
    "start_time": "2022-04-06T09:24:45.821Z"
   },
   {
    "duration": 8,
    "start_time": "2022-04-06T09:26:33.822Z"
   },
   {
    "duration": 12,
    "start_time": "2022-04-06T09:26:39.292Z"
   },
   {
    "duration": 3,
    "start_time": "2022-04-06T09:26:39.844Z"
   },
   {
    "duration": 14,
    "start_time": "2022-04-06T09:26:40.308Z"
   },
   {
    "duration": 23,
    "start_time": "2022-04-06T09:27:11.086Z"
   },
   {
    "duration": 52,
    "start_time": "2022-04-06T09:31:16.040Z"
   },
   {
    "duration": 23,
    "start_time": "2022-04-06T09:31:25.639Z"
   },
   {
    "duration": 8,
    "start_time": "2022-04-06T09:35:32.745Z"
   },
   {
    "duration": 4,
    "start_time": "2022-04-06T09:35:35.078Z"
   },
   {
    "duration": 8,
    "start_time": "2022-04-06T09:35:35.639Z"
   },
   {
    "duration": 61,
    "start_time": "2022-04-06T09:36:30.366Z"
   },
   {
    "duration": 4,
    "start_time": "2022-04-06T09:37:24.479Z"
   },
   {
    "duration": 8,
    "start_time": "2022-04-06T09:37:25.109Z"
   },
   {
    "duration": 61,
    "start_time": "2022-04-06T09:37:25.647Z"
   },
   {
    "duration": 3,
    "start_time": "2022-04-06T09:38:02.851Z"
   },
   {
    "duration": 24,
    "start_time": "2022-04-06T09:38:02.927Z"
   },
   {
    "duration": 13,
    "start_time": "2022-04-06T09:38:02.985Z"
   },
   {
    "duration": 7,
    "start_time": "2022-04-06T09:38:03.081Z"
   },
   {
    "duration": 11,
    "start_time": "2022-04-06T09:38:03.142Z"
   },
   {
    "duration": 11,
    "start_time": "2022-04-06T09:38:03.229Z"
   },
   {
    "duration": 161,
    "start_time": "2022-04-06T09:38:03.619Z"
   },
   {
    "duration": 31,
    "start_time": "2022-04-06T09:38:03.950Z"
   },
   {
    "duration": 38,
    "start_time": "2022-04-06T09:38:04.366Z"
   },
   {
    "duration": 29,
    "start_time": "2022-04-06T09:38:04.919Z"
   },
   {
    "duration": 3,
    "start_time": "2022-04-06T09:38:05.110Z"
   },
   {
    "duration": 98,
    "start_time": "2022-04-06T09:38:05.837Z"
   },
   {
    "duration": 33,
    "start_time": "2022-04-06T09:38:06.183Z"
   },
   {
    "duration": 32,
    "start_time": "2022-04-06T09:38:06.541Z"
   },
   {
    "duration": 3,
    "start_time": "2022-04-06T09:38:06.893Z"
   },
   {
    "duration": 143,
    "start_time": "2022-04-06T09:38:07.628Z"
   },
   {
    "duration": 29,
    "start_time": "2022-04-06T09:38:07.992Z"
   },
   {
    "duration": 36,
    "start_time": "2022-04-06T09:38:08.717Z"
   },
   {
    "duration": 23,
    "start_time": "2022-04-06T09:38:09.592Z"
   },
   {
    "duration": 9,
    "start_time": "2022-04-06T09:38:10.917Z"
   },
   {
    "duration": 33,
    "start_time": "2022-04-06T09:38:11.101Z"
   },
   {
    "duration": 2,
    "start_time": "2022-04-06T09:38:11.294Z"
   },
   {
    "duration": 35,
    "start_time": "2022-04-06T09:38:12.103Z"
   },
   {
    "duration": 3,
    "start_time": "2022-04-06T09:38:12.277Z"
   },
   {
    "duration": 30,
    "start_time": "2022-04-06T09:38:12.965Z"
   },
   {
    "duration": 2,
    "start_time": "2022-04-06T09:38:13.166Z"
   },
   {
    "duration": 17,
    "start_time": "2022-04-06T09:38:13.941Z"
   },
   {
    "duration": 12,
    "start_time": "2022-04-06T09:38:14.142Z"
   },
   {
    "duration": 2,
    "start_time": "2022-04-06T09:38:14.398Z"
   },
   {
    "duration": 14,
    "start_time": "2022-04-06T09:38:15.166Z"
   },
   {
    "duration": 4,
    "start_time": "2022-04-06T09:38:16.405Z"
   },
   {
    "duration": 45,
    "start_time": "2022-04-06T09:38:17.953Z"
   },
   {
    "duration": 27,
    "start_time": "2022-04-06T09:38:21.214Z"
   },
   {
    "duration": 2,
    "start_time": "2022-04-06T09:38:24.485Z"
   },
   {
    "duration": 3,
    "start_time": "2022-04-06T09:38:25.798Z"
   },
   {
    "duration": 3,
    "start_time": "2022-04-06T09:38:27.447Z"
   },
   {
    "duration": 12,
    "start_time": "2022-04-06T09:38:28.412Z"
   },
   {
    "duration": 3,
    "start_time": "2022-04-06T09:38:29.629Z"
   },
   {
    "duration": 20,
    "start_time": "2022-04-06T09:38:32.326Z"
   },
   {
    "duration": 22,
    "start_time": "2022-04-06T09:38:33.886Z"
   },
   {
    "duration": 4,
    "start_time": "2022-04-06T09:38:47.550Z"
   },
   {
    "duration": 4,
    "start_time": "2022-04-06T09:39:04.472Z"
   },
   {
    "duration": 9,
    "start_time": "2022-04-06T09:39:05.181Z"
   },
   {
    "duration": 63,
    "start_time": "2022-04-06T09:39:06.066Z"
   },
   {
    "duration": 11,
    "start_time": "2022-04-06T09:39:26.583Z"
   },
   {
    "duration": 39,
    "start_time": "2022-04-06T09:40:07.026Z"
   },
   {
    "duration": 3,
    "start_time": "2022-04-06T09:44:15.313Z"
   },
   {
    "duration": 28,
    "start_time": "2022-04-06T09:44:16.223Z"
   },
   {
    "duration": 13,
    "start_time": "2022-04-06T09:44:16.654Z"
   },
   {
    "duration": 7,
    "start_time": "2022-04-06T09:44:18.309Z"
   },
   {
    "duration": 12,
    "start_time": "2022-04-06T09:44:18.743Z"
   },
   {
    "duration": 11,
    "start_time": "2022-04-06T09:44:19.710Z"
   },
   {
    "duration": 156,
    "start_time": "2022-04-06T09:44:20.870Z"
   },
   {
    "duration": 36,
    "start_time": "2022-04-06T09:44:22.037Z"
   },
   {
    "duration": 37,
    "start_time": "2022-04-06T09:44:23.022Z"
   },
   {
    "duration": 32,
    "start_time": "2022-04-06T09:44:26.917Z"
   },
   {
    "duration": 3,
    "start_time": "2022-04-06T09:44:32.309Z"
   },
   {
    "duration": 98,
    "start_time": "2022-04-06T09:44:46.440Z"
   },
   {
    "duration": 32,
    "start_time": "2022-04-06T09:44:47.438Z"
   },
   {
    "duration": 30,
    "start_time": "2022-04-06T09:44:49.781Z"
   },
   {
    "duration": 154,
    "start_time": "2022-04-06T09:46:33.902Z"
   },
   {
    "duration": 30,
    "start_time": "2022-04-06T09:46:37.502Z"
   },
   {
    "duration": 38,
    "start_time": "2022-04-06T09:46:41.254Z"
   },
   {
    "duration": 22,
    "start_time": "2022-04-06T09:46:45.309Z"
   },
   {
    "duration": 9,
    "start_time": "2022-04-06T09:46:55.990Z"
   },
   {
    "duration": 36,
    "start_time": "2022-04-06T09:46:57.510Z"
   },
   {
    "duration": 3,
    "start_time": "2022-04-06T09:47:10.880Z"
   },
   {
    "duration": 35,
    "start_time": "2022-04-06T09:47:12.839Z"
   },
   {
    "duration": 3,
    "start_time": "2022-04-06T09:47:13.375Z"
   },
   {
    "duration": 29,
    "start_time": "2022-04-06T09:47:14.566Z"
   },
   {
    "duration": 3,
    "start_time": "2022-04-06T09:47:15.041Z"
   },
   {
    "duration": 15,
    "start_time": "2022-04-06T09:47:16.407Z"
   },
   {
    "duration": 13,
    "start_time": "2022-04-06T09:47:16.928Z"
   },
   {
    "duration": 2,
    "start_time": "2022-04-06T09:47:17.673Z"
   },
   {
    "duration": 13,
    "start_time": "2022-04-06T09:47:19.767Z"
   },
   {
    "duration": 4,
    "start_time": "2022-04-06T09:47:20.506Z"
   },
   {
    "duration": 46,
    "start_time": "2022-04-06T09:47:25.017Z"
   },
   {
    "duration": 42,
    "start_time": "2022-04-06T09:48:04.528Z"
   },
   {
    "duration": 26,
    "start_time": "2022-04-06T09:48:33.560Z"
   },
   {
    "duration": 3,
    "start_time": "2022-04-06T09:50:11.240Z"
   },
   {
    "duration": 3,
    "start_time": "2022-04-06T09:50:55.872Z"
   },
   {
    "duration": 4,
    "start_time": "2022-04-06T09:51:56.903Z"
   },
   {
    "duration": 38,
    "start_time": "2022-04-06T09:52:09.625Z"
   },
   {
    "duration": 34,
    "start_time": "2022-04-06T09:52:35.561Z"
   },
   {
    "duration": 4,
    "start_time": "2022-04-06T09:53:40.994Z"
   },
   {
    "duration": 14,
    "start_time": "2022-04-06T09:53:57.842Z"
   },
   {
    "duration": 3,
    "start_time": "2022-04-06T09:54:00.449Z"
   },
   {
    "duration": 14,
    "start_time": "2022-04-06T09:54:00.971Z"
   },
   {
    "duration": 31,
    "start_time": "2022-04-06T09:54:22.921Z"
   },
   {
    "duration": 5,
    "start_time": "2022-04-06T09:54:23.991Z"
   },
   {
    "duration": 3,
    "start_time": "2022-04-06T09:54:37.856Z"
   },
   {
    "duration": 13,
    "start_time": "2022-04-06T09:54:38.368Z"
   },
   {
    "duration": 38,
    "start_time": "2022-04-06T09:54:47.744Z"
   },
   {
    "duration": 34,
    "start_time": "2022-04-06T10:03:44.498Z"
   },
   {
    "duration": 32,
    "start_time": "2022-04-06T10:04:00.842Z"
   },
   {
    "duration": 4,
    "start_time": "2022-04-06T10:04:10.568Z"
   },
   {
    "duration": 28,
    "start_time": "2022-04-06T10:04:10.663Z"
   },
   {
    "duration": 13,
    "start_time": "2022-04-06T10:04:10.713Z"
   },
   {
    "duration": 6,
    "start_time": "2022-04-06T10:04:10.791Z"
   },
   {
    "duration": 11,
    "start_time": "2022-04-06T10:04:10.844Z"
   },
   {
    "duration": 10,
    "start_time": "2022-04-06T10:04:10.934Z"
   },
   {
    "duration": 164,
    "start_time": "2022-04-06T10:04:11.039Z"
   },
   {
    "duration": 41,
    "start_time": "2022-04-06T10:04:11.205Z"
   },
   {
    "duration": 39,
    "start_time": "2022-04-06T10:04:11.248Z"
   },
   {
    "duration": 38,
    "start_time": "2022-04-06T10:04:11.359Z"
   },
   {
    "duration": 3,
    "start_time": "2022-04-06T10:04:11.419Z"
   },
   {
    "duration": 95,
    "start_time": "2022-04-06T10:04:12.651Z"
   },
   {
    "duration": 32,
    "start_time": "2022-04-06T10:04:13.368Z"
   },
   {
    "duration": 32,
    "start_time": "2022-04-06T10:04:13.786Z"
   },
   {
    "duration": 3,
    "start_time": "2022-04-06T10:04:14.282Z"
   },
   {
    "duration": 148,
    "start_time": "2022-04-06T10:04:15.320Z"
   },
   {
    "duration": 30,
    "start_time": "2022-04-06T10:04:15.862Z"
   },
   {
    "duration": 37,
    "start_time": "2022-04-06T10:04:16.936Z"
   },
   {
    "duration": 22,
    "start_time": "2022-04-06T10:04:18.024Z"
   },
   {
    "duration": 9,
    "start_time": "2022-04-06T10:04:20.528Z"
   },
   {
    "duration": 36,
    "start_time": "2022-04-06T10:04:21.074Z"
   },
   {
    "duration": 3,
    "start_time": "2022-04-06T10:04:21.553Z"
   },
   {
    "duration": 33,
    "start_time": "2022-04-06T10:04:22.897Z"
   },
   {
    "duration": 3,
    "start_time": "2022-04-06T10:04:23.248Z"
   },
   {
    "duration": 34,
    "start_time": "2022-04-06T10:04:24.647Z"
   },
   {
    "duration": 3,
    "start_time": "2022-04-06T10:04:25.218Z"
   },
   {
    "duration": 17,
    "start_time": "2022-04-06T10:04:26.888Z"
   },
   {
    "duration": 12,
    "start_time": "2022-04-06T10:04:27.577Z"
   },
   {
    "duration": 2,
    "start_time": "2022-04-06T10:04:27.952Z"
   },
   {
    "duration": 13,
    "start_time": "2022-04-06T10:04:28.449Z"
   },
   {
    "duration": 4,
    "start_time": "2022-04-06T10:04:30.672Z"
   },
   {
    "duration": 51,
    "start_time": "2022-04-06T10:04:32.020Z"
   },
   {
    "duration": 35,
    "start_time": "2022-04-06T10:04:39.490Z"
   },
   {
    "duration": 35,
    "start_time": "2022-04-06T10:04:47.290Z"
   },
   {
    "duration": 36,
    "start_time": "2022-04-06T10:04:54.003Z"
   },
   {
    "duration": 37,
    "start_time": "2022-04-06T10:05:04.178Z"
   },
   {
    "duration": 3,
    "start_time": "2022-04-06T10:05:47.443Z"
   },
   {
    "duration": 4,
    "start_time": "2022-04-06T10:06:05.571Z"
   },
   {
    "duration": 37,
    "start_time": "2022-04-06T10:06:09.689Z"
   },
   {
    "duration": 3,
    "start_time": "2022-04-06T10:07:19.187Z"
   },
   {
    "duration": 35,
    "start_time": "2022-04-06T10:07:19.963Z"
   },
   {
    "duration": 3,
    "start_time": "2022-04-06T10:08:11.867Z"
   },
   {
    "duration": 32,
    "start_time": "2022-04-06T10:08:24.803Z"
   },
   {
    "duration": 3,
    "start_time": "2022-04-06T10:09:05.627Z"
   },
   {
    "duration": 24,
    "start_time": "2022-04-06T10:09:05.985Z"
   },
   {
    "duration": 13,
    "start_time": "2022-04-06T10:09:06.178Z"
   },
   {
    "duration": 6,
    "start_time": "2022-04-06T10:09:06.578Z"
   },
   {
    "duration": 11,
    "start_time": "2022-04-06T10:09:06.781Z"
   },
   {
    "duration": 11,
    "start_time": "2022-04-06T10:09:07.201Z"
   },
   {
    "duration": 168,
    "start_time": "2022-04-06T10:09:07.608Z"
   },
   {
    "duration": 35,
    "start_time": "2022-04-06T10:09:08.041Z"
   },
   {
    "duration": 38,
    "start_time": "2022-04-06T10:09:08.546Z"
   },
   {
    "duration": 40,
    "start_time": "2022-04-06T10:09:09.281Z"
   },
   {
    "duration": 3,
    "start_time": "2022-04-06T10:09:09.537Z"
   },
   {
    "duration": 101,
    "start_time": "2022-04-06T10:09:10.753Z"
   },
   {
    "duration": 31,
    "start_time": "2022-04-06T10:09:11.426Z"
   },
   {
    "duration": 34,
    "start_time": "2022-04-06T10:09:13.211Z"
   },
   {
    "duration": 2,
    "start_time": "2022-04-06T10:09:13.601Z"
   },
   {
    "duration": 149,
    "start_time": "2022-04-06T10:09:14.345Z"
   },
   {
    "duration": 30,
    "start_time": "2022-04-06T10:09:14.721Z"
   },
   {
    "duration": 38,
    "start_time": "2022-04-06T10:09:15.683Z"
   },
   {
    "duration": 24,
    "start_time": "2022-04-06T10:09:16.561Z"
   },
   {
    "duration": 10,
    "start_time": "2022-04-06T10:09:18.273Z"
   },
   {
    "duration": 36,
    "start_time": "2022-04-06T10:09:18.858Z"
   },
   {
    "duration": 2,
    "start_time": "2022-04-06T10:09:19.155Z"
   },
   {
    "duration": 39,
    "start_time": "2022-04-06T10:09:20.043Z"
   },
   {
    "duration": 3,
    "start_time": "2022-04-06T10:09:20.473Z"
   },
   {
    "duration": 32,
    "start_time": "2022-04-06T10:09:21.217Z"
   },
   {
    "duration": 3,
    "start_time": "2022-04-06T10:09:21.428Z"
   },
   {
    "duration": 16,
    "start_time": "2022-04-06T10:09:22.332Z"
   },
   {
    "duration": 12,
    "start_time": "2022-04-06T10:09:22.659Z"
   },
   {
    "duration": 2,
    "start_time": "2022-04-06T10:09:22.978Z"
   },
   {
    "duration": 13,
    "start_time": "2022-04-06T10:09:23.339Z"
   },
   {
    "duration": 5,
    "start_time": "2022-04-06T10:09:25.145Z"
   },
   {
    "duration": 39,
    "start_time": "2022-04-06T10:09:27.818Z"
   },
   {
    "duration": 84,
    "start_time": "2022-04-06T10:09:48.741Z"
   },
   {
    "duration": 3,
    "start_time": "2022-04-06T10:09:50.410Z"
   },
   {
    "duration": 4,
    "start_time": "2022-04-06T10:10:14.626Z"
   },
   {
    "duration": 33,
    "start_time": "2022-04-06T10:10:19.554Z"
   },
   {
    "duration": 3,
    "start_time": "2022-04-06T10:10:35.926Z"
   },
   {
    "duration": 38,
    "start_time": "2022-04-06T10:10:37.482Z"
   },
   {
    "duration": 4,
    "start_time": "2022-04-06T10:10:43.186Z"
   },
   {
    "duration": 33,
    "start_time": "2022-04-06T10:10:44.627Z"
   },
   {
    "duration": 3,
    "start_time": "2022-04-06T10:10:59.203Z"
   },
   {
    "duration": 32,
    "start_time": "2022-04-06T10:10:59.644Z"
   },
   {
    "duration": 30,
    "start_time": "2022-04-06T10:11:26.645Z"
   },
   {
    "duration": 1345,
    "start_time": "2022-04-06T10:18:38.034Z"
   },
   {
    "duration": 35,
    "start_time": "2022-04-06T10:18:51.795Z"
   },
   {
    "duration": 37,
    "start_time": "2022-04-06T10:19:28.163Z"
   },
   {
    "duration": 33,
    "start_time": "2022-04-06T10:19:32.796Z"
   },
   {
    "duration": 34,
    "start_time": "2022-04-06T10:20:04.387Z"
   },
   {
    "duration": 3,
    "start_time": "2022-04-06T10:20:08.409Z"
   },
   {
    "duration": 23,
    "start_time": "2022-04-06T10:20:08.753Z"
   },
   {
    "duration": 13,
    "start_time": "2022-04-06T10:20:08.942Z"
   },
   {
    "duration": 7,
    "start_time": "2022-04-06T10:20:09.251Z"
   },
   {
    "duration": 11,
    "start_time": "2022-04-06T10:20:09.411Z"
   },
   {
    "duration": 13,
    "start_time": "2022-04-06T10:20:09.736Z"
   },
   {
    "duration": 158,
    "start_time": "2022-04-06T10:20:10.089Z"
   },
   {
    "duration": 32,
    "start_time": "2022-04-06T10:20:10.418Z"
   },
   {
    "duration": 38,
    "start_time": "2022-04-06T10:20:10.745Z"
   },
   {
    "duration": 34,
    "start_time": "2022-04-06T10:20:11.241Z"
   },
   {
    "duration": 3,
    "start_time": "2022-04-06T10:20:11.384Z"
   },
   {
    "duration": 97,
    "start_time": "2022-04-06T10:20:12.216Z"
   },
   {
    "duration": 33,
    "start_time": "2022-04-06T10:20:12.585Z"
   },
   {
    "duration": 33,
    "start_time": "2022-04-06T10:20:12.971Z"
   },
   {
    "duration": 3,
    "start_time": "2022-04-06T10:20:13.328Z"
   },
   {
    "duration": 144,
    "start_time": "2022-04-06T10:20:14.107Z"
   },
   {
    "duration": 29,
    "start_time": "2022-04-06T10:20:14.538Z"
   },
   {
    "duration": 37,
    "start_time": "2022-04-06T10:20:15.314Z"
   },
   {
    "duration": 21,
    "start_time": "2022-04-06T10:20:15.929Z"
   },
   {
    "duration": 9,
    "start_time": "2022-04-06T10:20:19.442Z"
   },
   {
    "duration": 35,
    "start_time": "2022-04-06T10:20:19.828Z"
   },
   {
    "duration": 2,
    "start_time": "2022-04-06T10:20:20.242Z"
   },
   {
    "duration": 36,
    "start_time": "2022-04-06T10:20:21.569Z"
   },
   {
    "duration": 2,
    "start_time": "2022-04-06T10:20:21.931Z"
   },
   {
    "duration": 31,
    "start_time": "2022-04-06T10:20:22.969Z"
   },
   {
    "duration": 3,
    "start_time": "2022-04-06T10:20:23.522Z"
   },
   {
    "duration": 19,
    "start_time": "2022-04-06T10:20:24.792Z"
   },
   {
    "duration": 14,
    "start_time": "2022-04-06T10:20:25.201Z"
   },
   {
    "duration": 2,
    "start_time": "2022-04-06T10:20:25.586Z"
   },
   {
    "duration": 14,
    "start_time": "2022-04-06T10:20:25.907Z"
   },
   {
    "duration": 4,
    "start_time": "2022-04-06T10:20:26.507Z"
   },
   {
    "duration": 41,
    "start_time": "2022-04-06T10:20:29.218Z"
   },
   {
    "duration": 25,
    "start_time": "2022-04-06T10:20:29.262Z"
   },
   {
    "duration": 29,
    "start_time": "2022-04-06T10:20:30.969Z"
   },
   {
    "duration": 4,
    "start_time": "2022-04-06T10:20:31.436Z"
   },
   {
    "duration": 4,
    "start_time": "2022-04-06T10:20:31.921Z"
   },
   {
    "duration": 35,
    "start_time": "2022-04-06T10:20:32.625Z"
   },
   {
    "duration": 4,
    "start_time": "2022-04-06T10:20:33.297Z"
   },
   {
    "duration": 38,
    "start_time": "2022-04-06T10:20:34.010Z"
   },
   {
    "duration": 4,
    "start_time": "2022-04-06T10:20:34.785Z"
   },
   {
    "duration": 36,
    "start_time": "2022-04-06T10:20:35.938Z"
   },
   {
    "duration": 5,
    "start_time": "2022-04-06T10:20:46.802Z"
   },
   {
    "duration": 1457,
    "start_time": "2022-04-06T10:20:47.434Z"
   },
   {
    "duration": 31,
    "start_time": "2022-04-06T10:20:56.954Z"
   },
   {
    "duration": 35,
    "start_time": "2022-04-06T10:21:01.307Z"
   },
   {
    "duration": 30,
    "start_time": "2022-04-06T10:21:12.709Z"
   },
   {
    "duration": 24,
    "start_time": "2022-04-06T10:21:14.810Z"
   },
   {
    "duration": 20,
    "start_time": "2022-04-06T10:27:14.459Z"
   },
   {
    "duration": 14,
    "start_time": "2022-04-06T10:29:00.891Z"
   },
   {
    "duration": 18,
    "start_time": "2022-04-06T10:29:35.309Z"
   },
   {
    "duration": 379,
    "start_time": "2022-04-06T10:30:32.130Z"
   },
   {
    "duration": 19,
    "start_time": "2022-04-06T10:30:56.278Z"
   },
   {
    "duration": 21,
    "start_time": "2022-04-06T10:31:33.076Z"
   },
   {
    "duration": 21,
    "start_time": "2022-04-06T10:31:39.891Z"
   },
   {
    "duration": 20,
    "start_time": "2022-04-06T10:31:46.484Z"
   },
   {
    "duration": 21,
    "start_time": "2022-04-06T10:31:50.591Z"
   },
   {
    "duration": 14,
    "start_time": "2022-04-06T10:32:31.212Z"
   },
   {
    "duration": 9,
    "start_time": "2022-04-06T10:32:49.422Z"
   },
   {
    "duration": 7,
    "start_time": "2022-04-06T10:33:04.155Z"
   },
   {
    "duration": 16,
    "start_time": "2022-04-06T10:33:20.978Z"
   },
   {
    "duration": 9,
    "start_time": "2022-04-06T10:33:21.491Z"
   },
   {
    "duration": 8,
    "start_time": "2022-04-06T10:37:40.307Z"
   },
   {
    "duration": 352,
    "start_time": "2022-04-06T10:38:18.619Z"
   },
   {
    "duration": 22,
    "start_time": "2022-04-06T10:38:30.375Z"
   },
   {
    "duration": 17,
    "start_time": "2022-04-06T10:38:34.612Z"
   },
   {
    "duration": 14,
    "start_time": "2022-04-06T10:40:39.283Z"
   },
   {
    "duration": 8,
    "start_time": "2022-04-06T10:40:44.763Z"
   },
   {
    "duration": 9,
    "start_time": "2022-04-06T10:40:51.006Z"
   },
   {
    "duration": 8,
    "start_time": "2022-04-06T10:53:28.755Z"
   },
   {
    "duration": 14,
    "start_time": "2022-04-06T10:53:30.523Z"
   },
   {
    "duration": 9,
    "start_time": "2022-04-06T10:53:30.917Z"
   },
   {
    "duration": 9,
    "start_time": "2022-04-06T10:54:05.587Z"
   },
   {
    "duration": 9,
    "start_time": "2022-04-06T10:54:12.693Z"
   },
   {
    "duration": 505,
    "start_time": "2022-04-06T10:57:57.478Z"
   },
   {
    "duration": 167,
    "start_time": "2022-04-06T10:58:06.826Z"
   },
   {
    "duration": 180,
    "start_time": "2022-04-06T10:59:52.708Z"
   },
   {
    "duration": 168,
    "start_time": "2022-04-06T11:00:59.399Z"
   },
   {
    "duration": 6,
    "start_time": "2022-04-06T11:01:40.091Z"
   },
   {
    "duration": 186,
    "start_time": "2022-04-06T11:02:00.957Z"
   },
   {
    "duration": 162,
    "start_time": "2022-04-06T11:02:07.148Z"
   },
   {
    "duration": 265,
    "start_time": "2022-04-06T11:02:13.926Z"
   },
   {
    "duration": 174,
    "start_time": "2022-04-06T11:02:29.837Z"
   },
   {
    "duration": 154,
    "start_time": "2022-04-06T11:02:34.029Z"
   },
   {
    "duration": 7,
    "start_time": "2022-04-06T11:02:41.227Z"
   },
   {
    "duration": 188,
    "start_time": "2022-04-06T11:02:58.257Z"
   },
   {
    "duration": 184,
    "start_time": "2022-04-06T11:03:15.950Z"
   },
   {
    "duration": 6,
    "start_time": "2022-04-06T11:03:20.635Z"
   },
   {
    "duration": 25,
    "start_time": "2022-04-06T11:03:26.949Z"
   },
   {
    "duration": 15,
    "start_time": "2022-04-06T11:08:27.830Z"
   },
   {
    "duration": 8,
    "start_time": "2022-04-06T11:08:28.372Z"
   },
   {
    "duration": 3,
    "start_time": "2022-04-06T11:09:53.171Z"
   },
   {
    "duration": 23,
    "start_time": "2022-04-06T11:09:53.763Z"
   },
   {
    "duration": 13,
    "start_time": "2022-04-06T11:09:54.195Z"
   },
   {
    "duration": 6,
    "start_time": "2022-04-06T11:09:56.283Z"
   },
   {
    "duration": 12,
    "start_time": "2022-04-06T11:09:56.668Z"
   },
   {
    "duration": 11,
    "start_time": "2022-04-06T11:09:57.155Z"
   },
   {
    "duration": 155,
    "start_time": "2022-04-06T11:09:57.597Z"
   },
   {
    "duration": 32,
    "start_time": "2022-04-06T11:09:57.980Z"
   },
   {
    "duration": 38,
    "start_time": "2022-04-06T11:09:58.347Z"
   },
   {
    "duration": 35,
    "start_time": "2022-04-06T11:09:58.965Z"
   },
   {
    "duration": 2,
    "start_time": "2022-04-06T11:09:59.188Z"
   },
   {
    "duration": 102,
    "start_time": "2022-04-06T11:10:01.814Z"
   },
   {
    "duration": 33,
    "start_time": "2022-04-06T11:10:02.683Z"
   },
   {
    "duration": 33,
    "start_time": "2022-04-06T11:10:03.356Z"
   },
   {
    "duration": 3,
    "start_time": "2022-04-06T11:10:04.355Z"
   },
   {
    "duration": 148,
    "start_time": "2022-04-06T11:10:07.876Z"
   },
   {
    "duration": 31,
    "start_time": "2022-04-06T11:10:14.827Z"
   },
   {
    "duration": 38,
    "start_time": "2022-04-06T11:10:17.749Z"
   },
   {
    "duration": 22,
    "start_time": "2022-04-06T11:10:20.548Z"
   },
   {
    "duration": 9,
    "start_time": "2022-04-06T11:11:06.852Z"
   },
   {
    "duration": 32,
    "start_time": "2022-04-06T11:11:10.588Z"
   },
   {
    "duration": 79,
    "start_time": "2022-04-06T11:11:39.961Z"
   },
   {
    "duration": 35,
    "start_time": "2022-04-06T11:11:47.949Z"
   },
   {
    "duration": 32,
    "start_time": "2022-04-06T11:12:41.773Z"
   },
   {
    "duration": 32,
    "start_time": "2022-04-06T11:13:14.915Z"
   },
   {
    "duration": 16,
    "start_time": "2022-04-06T11:14:37.592Z"
   },
   {
    "duration": 12,
    "start_time": "2022-04-06T11:14:39.478Z"
   },
   {
    "duration": 15,
    "start_time": "2022-04-06T11:14:44.269Z"
   },
   {
    "duration": 15,
    "start_time": "2022-04-06T11:14:48.797Z"
   },
   {
    "duration": 41,
    "start_time": "2022-04-06T11:15:43.069Z"
   },
   {
    "duration": 35,
    "start_time": "2022-04-06T11:15:46.757Z"
   },
   {
    "duration": 28,
    "start_time": "2022-04-06T11:16:13.310Z"
   },
   {
    "duration": 28,
    "start_time": "2022-04-06T11:16:52.068Z"
   },
   {
    "duration": 3,
    "start_time": "2022-04-06T11:17:46.077Z"
   },
   {
    "duration": 30,
    "start_time": "2022-04-06T11:17:52.769Z"
   },
   {
    "duration": 4,
    "start_time": "2022-04-06T11:18:31.445Z"
   },
   {
    "duration": 32,
    "start_time": "2022-04-06T11:18:34.606Z"
   },
   {
    "duration": 3,
    "start_time": "2022-04-06T11:19:25.788Z"
   },
   {
    "duration": 4,
    "start_time": "2022-04-06T11:19:54.749Z"
   },
   {
    "duration": 28,
    "start_time": "2022-04-06T11:19:58.670Z"
   },
   {
    "duration": 25,
    "start_time": "2022-04-06T11:21:29.092Z"
   },
   {
    "duration": 19,
    "start_time": "2022-04-06T11:21:45.036Z"
   },
   {
    "duration": 15,
    "start_time": "2022-04-06T11:21:50.779Z"
   },
   {
    "duration": 7,
    "start_time": "2022-04-06T11:21:51.221Z"
   },
   {
    "duration": 1265,
    "start_time": "2022-04-06T11:21:51.868Z"
   },
   {
    "duration": 9,
    "start_time": "2022-04-06T11:22:07.268Z"
   },
   {
    "duration": 14,
    "start_time": "2022-04-06T11:22:11.702Z"
   },
   {
    "duration": 7,
    "start_time": "2022-04-06T11:22:13.501Z"
   },
   {
    "duration": 9,
    "start_time": "2022-04-06T11:22:16.830Z"
   },
   {
    "duration": 16,
    "start_time": "2022-04-06T11:22:20.043Z"
   },
   {
    "duration": 10,
    "start_time": "2022-04-06T11:22:24.227Z"
   },
   {
    "duration": 512,
    "start_time": "2022-04-06T11:22:27.446Z"
   },
   {
    "duration": 268,
    "start_time": "2022-04-06T11:22:29.459Z"
   },
   {
    "duration": 159,
    "start_time": "2022-04-06T11:22:30.518Z"
   },
   {
    "duration": 6,
    "start_time": "2022-04-06T11:22:31.619Z"
   },
   {
    "duration": 163,
    "start_time": "2022-04-06T11:22:32.871Z"
   },
   {
    "duration": 143,
    "start_time": "2022-04-06T11:22:33.293Z"
   },
   {
    "duration": 6,
    "start_time": "2022-04-06T11:22:34.547Z"
   },
   {
    "duration": 192,
    "start_time": "2022-04-06T11:22:35.932Z"
   },
   {
    "duration": 169,
    "start_time": "2022-04-06T11:22:36.806Z"
   },
   {
    "duration": 6,
    "start_time": "2022-04-06T11:22:39.109Z"
   },
   {
    "duration": 54,
    "start_time": "2022-04-07T04:29:20.400Z"
   },
   {
    "duration": 797,
    "start_time": "2022-04-07T04:29:27.279Z"
   },
   {
    "duration": 36,
    "start_time": "2022-04-07T04:29:28.078Z"
   },
   {
    "duration": 14,
    "start_time": "2022-04-07T04:29:28.115Z"
   },
   {
    "duration": 14,
    "start_time": "2022-04-07T04:29:28.131Z"
   },
   {
    "duration": 11,
    "start_time": "2022-04-07T04:29:28.166Z"
   },
   {
    "duration": 13,
    "start_time": "2022-04-07T04:29:28.260Z"
   },
   {
    "duration": 180,
    "start_time": "2022-04-07T04:29:28.357Z"
   },
   {
    "duration": 32,
    "start_time": "2022-04-07T04:29:28.540Z"
   },
   {
    "duration": 39,
    "start_time": "2022-04-07T04:29:28.574Z"
   },
   {
    "duration": 39,
    "start_time": "2022-04-07T04:29:28.633Z"
   },
   {
    "duration": 2,
    "start_time": "2022-04-07T04:29:28.675Z"
   },
   {
    "duration": 104,
    "start_time": "2022-04-07T04:29:28.812Z"
   },
   {
    "duration": 37,
    "start_time": "2022-04-07T04:29:28.918Z"
   },
   {
    "duration": 33,
    "start_time": "2022-04-07T04:29:28.999Z"
   },
   {
    "duration": 2,
    "start_time": "2022-04-07T04:29:29.085Z"
   },
   {
    "duration": 150,
    "start_time": "2022-04-07T04:29:32.351Z"
   },
   {
    "duration": 31,
    "start_time": "2022-04-07T04:29:32.902Z"
   },
   {
    "duration": 40,
    "start_time": "2022-04-07T04:29:33.057Z"
   },
   {
    "duration": 34,
    "start_time": "2022-04-07T04:29:33.184Z"
   },
   {
    "duration": 10,
    "start_time": "2022-04-07T04:29:33.414Z"
   },
   {
    "duration": 41,
    "start_time": "2022-04-07T04:29:33.456Z"
   },
   {
    "duration": 37,
    "start_time": "2022-04-07T04:29:33.627Z"
   },
   {
    "duration": 43,
    "start_time": "2022-04-07T04:29:33.756Z"
   },
   {
    "duration": 17,
    "start_time": "2022-04-07T04:29:33.865Z"
   },
   {
    "duration": 13,
    "start_time": "2022-04-07T04:29:35.215Z"
   },
   {
    "duration": 16,
    "start_time": "2022-04-07T04:29:35.793Z"
   },
   {
    "duration": 38,
    "start_time": "2022-04-07T04:29:36.448Z"
   },
   {
    "duration": 26,
    "start_time": "2022-04-07T04:29:36.533Z"
   },
   {
    "duration": 29,
    "start_time": "2022-04-07T04:29:36.612Z"
   },
   {
    "duration": 4,
    "start_time": "2022-04-07T04:29:36.696Z"
   },
   {
    "duration": 30,
    "start_time": "2022-04-07T04:29:36.801Z"
   },
   {
    "duration": 3,
    "start_time": "2022-04-07T04:29:36.910Z"
   },
   {
    "duration": 33,
    "start_time": "2022-04-07T04:29:36.960Z"
   },
   {
    "duration": 4,
    "start_time": "2022-04-07T04:29:37.081Z"
   },
   {
    "duration": 31,
    "start_time": "2022-04-07T04:29:37.156Z"
   },
   {
    "duration": 25,
    "start_time": "2022-04-07T04:29:38.504Z"
   },
   {
    "duration": 17,
    "start_time": "2022-04-07T04:29:39.185Z"
   },
   {
    "duration": 15,
    "start_time": "2022-04-07T04:29:39.295Z"
   },
   {
    "duration": 7,
    "start_time": "2022-04-07T04:29:39.346Z"
   },
   {
    "duration": 9,
    "start_time": "2022-04-07T04:29:39.439Z"
   },
   {
    "duration": 14,
    "start_time": "2022-04-07T04:29:39.556Z"
   },
   {
    "duration": 8,
    "start_time": "2022-04-07T04:29:39.609Z"
   },
   {
    "duration": 9,
    "start_time": "2022-04-07T04:29:39.694Z"
   },
   {
    "duration": 15,
    "start_time": "2022-04-07T04:29:39.763Z"
   },
   {
    "duration": 8,
    "start_time": "2022-04-07T04:29:39.803Z"
   },
   {
    "duration": 9,
    "start_time": "2022-04-07T04:29:39.877Z"
   },
   {
    "duration": 646,
    "start_time": "2022-04-07T04:29:39.961Z"
   },
   {
    "duration": 186,
    "start_time": "2022-04-07T04:29:43.575Z"
   },
   {
    "duration": 171,
    "start_time": "2022-04-07T04:29:45.376Z"
   },
   {
    "duration": 7,
    "start_time": "2022-04-07T04:29:46.336Z"
   },
   {
    "duration": 179,
    "start_time": "2022-04-07T04:29:47.839Z"
   },
   {
    "duration": 161,
    "start_time": "2022-04-07T04:29:48.207Z"
   },
   {
    "duration": 5,
    "start_time": "2022-04-07T04:29:50.559Z"
   },
   {
    "duration": 206,
    "start_time": "2022-04-07T04:29:52.194Z"
   },
   {
    "duration": 194,
    "start_time": "2022-04-07T04:29:52.711Z"
   },
   {
    "duration": 6,
    "start_time": "2022-04-07T04:29:53.742Z"
   },
   {
    "duration": 24,
    "start_time": "2022-04-07T04:29:56.992Z"
   },
   {
    "duration": 16,
    "start_time": "2022-04-07T04:29:57.767Z"
   },
   {
    "duration": 22,
    "start_time": "2022-04-07T04:30:11.214Z"
   },
   {
    "duration": 23,
    "start_time": "2022-04-07T04:30:27.918Z"
   },
   {
    "duration": 3,
    "start_time": "2022-04-07T04:35:27.728Z"
   },
   {
    "duration": 33,
    "start_time": "2022-04-07T04:35:28.647Z"
   },
   {
    "duration": 11,
    "start_time": "2022-04-07T04:35:29.265Z"
   },
   {
    "duration": 6,
    "start_time": "2022-04-07T04:35:30.352Z"
   },
   {
    "duration": 11,
    "start_time": "2022-04-07T04:35:30.785Z"
   },
   {
    "duration": 11,
    "start_time": "2022-04-07T04:35:31.696Z"
   },
   {
    "duration": 180,
    "start_time": "2022-04-07T04:35:32.594Z"
   },
   {
    "duration": 33,
    "start_time": "2022-04-07T04:35:33.410Z"
   },
   {
    "duration": 40,
    "start_time": "2022-04-07T04:35:33.863Z"
   },
   {
    "duration": 37,
    "start_time": "2022-04-07T04:35:34.520Z"
   },
   {
    "duration": 3,
    "start_time": "2022-04-07T04:35:34.721Z"
   },
   {
    "duration": 112,
    "start_time": "2022-04-07T04:35:35.552Z"
   },
   {
    "duration": 33,
    "start_time": "2022-04-07T04:35:35.968Z"
   },
   {
    "duration": 33,
    "start_time": "2022-04-07T04:35:36.376Z"
   },
   {
    "duration": 2,
    "start_time": "2022-04-07T04:35:36.776Z"
   },
   {
    "duration": 149,
    "start_time": "2022-04-07T04:35:37.576Z"
   },
   {
    "duration": 31,
    "start_time": "2022-04-07T04:35:37.976Z"
   },
   {
    "duration": 36,
    "start_time": "2022-04-07T04:35:38.779Z"
   },
   {
    "duration": 28,
    "start_time": "2022-04-07T04:35:41.059Z"
   },
   {
    "duration": 9,
    "start_time": "2022-04-07T04:35:42.432Z"
   },
   {
    "duration": 41,
    "start_time": "2022-04-07T04:35:42.647Z"
   },
   {
    "duration": 38,
    "start_time": "2022-04-07T04:35:43.842Z"
   },
   {
    "duration": 41,
    "start_time": "2022-04-07T04:35:45.544Z"
   },
   {
    "duration": 17,
    "start_time": "2022-04-07T04:35:48.167Z"
   },
   {
    "duration": 14,
    "start_time": "2022-04-07T04:35:48.408Z"
   },
   {
    "duration": 16,
    "start_time": "2022-04-07T04:35:48.649Z"
   },
   {
    "duration": 40,
    "start_time": "2022-04-07T04:35:49.528Z"
   },
   {
    "duration": 26,
    "start_time": "2022-04-07T04:35:49.968Z"
   },
   {
    "duration": 30,
    "start_time": "2022-04-07T04:35:50.440Z"
   },
   {
    "duration": 3,
    "start_time": "2022-04-07T04:35:50.888Z"
   },
   {
    "duration": 31,
    "start_time": "2022-04-07T04:35:51.328Z"
   },
   {
    "duration": 3,
    "start_time": "2022-04-07T04:35:55.674Z"
   },
   {
    "duration": 34,
    "start_time": "2022-04-07T04:36:00.787Z"
   },
   {
    "duration": 3,
    "start_time": "2022-04-07T04:36:07.544Z"
   },
   {
    "duration": 31,
    "start_time": "2022-04-07T04:36:08.945Z"
   },
   {
    "duration": 25,
    "start_time": "2022-04-07T04:36:13.760Z"
   },
   {
    "duration": 17,
    "start_time": "2022-04-07T04:36:15.512Z"
   },
   {
    "duration": 15,
    "start_time": "2022-04-07T04:36:17.503Z"
   },
   {
    "duration": 8,
    "start_time": "2022-04-07T04:36:17.520Z"
   },
   {
    "duration": 11,
    "start_time": "2022-04-07T04:36:17.530Z"
   },
   {
    "duration": 15,
    "start_time": "2022-04-07T04:36:18.303Z"
   },
   {
    "duration": 10,
    "start_time": "2022-04-07T04:36:18.554Z"
   },
   {
    "duration": 9,
    "start_time": "2022-04-07T04:36:19.448Z"
   },
   {
    "duration": 15,
    "start_time": "2022-04-07T04:36:20.384Z"
   },
   {
    "duration": 11,
    "start_time": "2022-04-07T04:36:20.809Z"
   },
   {
    "duration": 11,
    "start_time": "2022-04-07T04:36:21.752Z"
   },
   {
    "duration": 647,
    "start_time": "2022-04-07T04:36:22.784Z"
   },
   {
    "duration": 191,
    "start_time": "2022-04-07T04:36:26.736Z"
   },
   {
    "duration": 168,
    "start_time": "2022-04-07T04:36:28.489Z"
   },
   {
    "duration": 5,
    "start_time": "2022-04-07T04:36:30.784Z"
   },
   {
    "duration": 187,
    "start_time": "2022-04-07T04:36:33.128Z"
   },
   {
    "duration": 152,
    "start_time": "2022-04-07T04:36:35.474Z"
   },
   {
    "duration": 6,
    "start_time": "2022-04-07T04:36:38.967Z"
   },
   {
    "duration": 208,
    "start_time": "2022-04-07T04:36:41.792Z"
   },
   {
    "duration": 195,
    "start_time": "2022-04-07T04:36:42.513Z"
   },
   {
    "duration": 6,
    "start_time": "2022-04-07T04:36:45.064Z"
   },
   {
    "duration": 27,
    "start_time": "2022-04-07T04:36:50.097Z"
   },
   {
    "duration": 25,
    "start_time": "2022-04-07T04:36:53.145Z"
   },
   {
    "duration": 23,
    "start_time": "2022-04-07T04:38:28.482Z"
   },
   {
    "duration": 3,
    "start_time": "2022-04-07T04:39:18.603Z"
   },
   {
    "duration": 33,
    "start_time": "2022-04-07T04:39:19.244Z"
   },
   {
    "duration": 13,
    "start_time": "2022-04-07T04:39:19.595Z"
   },
   {
    "duration": 6,
    "start_time": "2022-04-07T04:39:20.320Z"
   },
   {
    "duration": 10,
    "start_time": "2022-04-07T04:39:20.660Z"
   },
   {
    "duration": 11,
    "start_time": "2022-04-07T04:39:21.378Z"
   },
   {
    "duration": 214,
    "start_time": "2022-04-07T04:39:22.425Z"
   },
   {
    "duration": 36,
    "start_time": "2022-04-07T04:39:23.497Z"
   },
   {
    "duration": 41,
    "start_time": "2022-04-07T04:39:24.161Z"
   },
   {
    "duration": 38,
    "start_time": "2022-04-07T04:39:25.481Z"
   },
   {
    "duration": 2,
    "start_time": "2022-04-07T04:39:25.978Z"
   },
   {
    "duration": 102,
    "start_time": "2022-04-07T04:39:27.465Z"
   },
   {
    "duration": 33,
    "start_time": "2022-04-07T04:39:28.489Z"
   },
   {
    "duration": 32,
    "start_time": "2022-04-07T04:39:29.417Z"
   },
   {
    "duration": 2,
    "start_time": "2022-04-07T04:39:31.817Z"
   },
   {
    "duration": 148,
    "start_time": "2022-04-07T04:39:33.225Z"
   },
   {
    "duration": 32,
    "start_time": "2022-04-07T04:39:34.200Z"
   },
   {
    "duration": 38,
    "start_time": "2022-04-07T04:39:35.794Z"
   },
   {
    "duration": 26,
    "start_time": "2022-04-07T04:39:38.785Z"
   },
   {
    "duration": 9,
    "start_time": "2022-04-07T04:39:43.617Z"
   },
   {
    "duration": 43,
    "start_time": "2022-04-07T04:39:44.393Z"
   },
   {
    "duration": 39,
    "start_time": "2022-04-07T04:39:53.313Z"
   },
   {
    "duration": 42,
    "start_time": "2022-04-07T04:39:56.233Z"
   },
   {
    "duration": 17,
    "start_time": "2022-04-07T04:40:04.536Z"
   },
   {
    "duration": 6,
    "start_time": "2022-04-07T04:40:35.350Z"
   },
   {
    "duration": 43,
    "start_time": "2022-04-07T04:42:36.778Z"
   },
   {
    "duration": 38,
    "start_time": "2022-04-07T04:43:09.092Z"
   },
   {
    "duration": 39,
    "start_time": "2022-04-07T04:43:17.827Z"
   },
   {
    "duration": 35,
    "start_time": "2022-04-07T04:43:45.410Z"
   },
   {
    "duration": 35,
    "start_time": "2022-04-07T04:43:51.435Z"
   },
   {
    "duration": 112,
    "start_time": "2022-04-07T04:43:58.491Z"
   },
   {
    "duration": 35,
    "start_time": "2022-04-07T04:44:14.741Z"
   },
   {
    "duration": 15,
    "start_time": "2022-04-07T04:44:42.011Z"
   },
   {
    "duration": 13,
    "start_time": "2022-04-07T04:46:32.717Z"
   },
   {
    "duration": 12,
    "start_time": "2022-04-07T04:46:43.772Z"
   },
   {
    "duration": 11,
    "start_time": "2022-04-07T04:46:48.892Z"
   },
   {
    "duration": 12,
    "start_time": "2022-04-07T04:47:17.669Z"
   },
   {
    "duration": 11,
    "start_time": "2022-04-07T04:47:25.111Z"
   },
   {
    "duration": 39,
    "start_time": "2022-04-07T04:47:32.507Z"
   },
   {
    "duration": 25,
    "start_time": "2022-04-07T04:47:37.883Z"
   },
   {
    "duration": 29,
    "start_time": "2022-04-07T04:47:44.555Z"
   },
   {
    "duration": 3,
    "start_time": "2022-04-07T04:47:46.930Z"
   },
   {
    "duration": 30,
    "start_time": "2022-04-07T04:48:27.235Z"
   },
   {
    "duration": 4,
    "start_time": "2022-04-07T04:48:28.444Z"
   },
   {
    "duration": 35,
    "start_time": "2022-04-07T04:48:29.971Z"
   },
   {
    "duration": 4,
    "start_time": "2022-04-07T04:48:30.459Z"
   },
   {
    "duration": 30,
    "start_time": "2022-04-07T04:48:30.659Z"
   },
   {
    "duration": 26,
    "start_time": "2022-04-07T04:48:31.579Z"
   },
   {
    "duration": 17,
    "start_time": "2022-04-07T04:48:33.869Z"
   },
   {
    "duration": 16,
    "start_time": "2022-04-07T04:48:36.146Z"
   },
   {
    "duration": 9,
    "start_time": "2022-04-07T04:48:37.388Z"
   },
   {
    "duration": 9,
    "start_time": "2022-04-07T04:48:38.154Z"
   },
   {
    "duration": 15,
    "start_time": "2022-04-07T04:48:38.894Z"
   },
   {
    "duration": 8,
    "start_time": "2022-04-07T04:48:39.078Z"
   },
   {
    "duration": 8,
    "start_time": "2022-04-07T04:48:39.460Z"
   },
   {
    "duration": 16,
    "start_time": "2022-04-07T04:48:39.810Z"
   },
   {
    "duration": 8,
    "start_time": "2022-04-07T04:48:39.996Z"
   },
   {
    "duration": 7,
    "start_time": "2022-04-07T04:48:40.340Z"
   },
   {
    "duration": 582,
    "start_time": "2022-04-07T04:48:40.698Z"
   },
   {
    "duration": 190,
    "start_time": "2022-04-07T04:48:41.611Z"
   },
   {
    "duration": 167,
    "start_time": "2022-04-07T04:48:42.363Z"
   },
   {
    "duration": 6,
    "start_time": "2022-04-07T04:48:43.066Z"
   },
   {
    "duration": 187,
    "start_time": "2022-04-07T04:48:44.212Z"
   },
   {
    "duration": 156,
    "start_time": "2022-04-07T04:48:45.044Z"
   },
   {
    "duration": 6,
    "start_time": "2022-04-07T04:48:48.891Z"
   },
   {
    "duration": 191,
    "start_time": "2022-04-07T04:48:50.572Z"
   },
   {
    "duration": 195,
    "start_time": "2022-04-07T04:48:50.964Z"
   },
   {
    "duration": 6,
    "start_time": "2022-04-07T04:48:51.787Z"
   },
   {
    "duration": 22,
    "start_time": "2022-04-07T04:49:10.383Z"
   },
   {
    "duration": 21,
    "start_time": "2022-04-07T04:49:35.541Z"
   },
   {
    "duration": 21,
    "start_time": "2022-04-07T04:49:44.229Z"
   },
   {
    "duration": 21,
    "start_time": "2022-04-07T04:50:49.431Z"
   },
   {
    "duration": 12,
    "start_time": "2022-04-07T04:55:20.216Z"
   },
   {
    "duration": 39,
    "start_time": "2022-04-07T04:58:50.903Z"
   },
   {
    "duration": 9,
    "start_time": "2022-04-07T04:59:30.438Z"
   },
   {
    "duration": 16,
    "start_time": "2022-04-07T05:00:25.550Z"
   },
   {
    "duration": 3,
    "start_time": "2022-04-07T05:01:23.869Z"
   },
   {
    "duration": 33,
    "start_time": "2022-04-07T05:01:24.231Z"
   },
   {
    "duration": 12,
    "start_time": "2022-04-07T05:01:24.621Z"
   },
   {
    "duration": 6,
    "start_time": "2022-04-07T05:01:24.949Z"
   },
   {
    "duration": 13,
    "start_time": "2022-04-07T05:01:25.113Z"
   },
   {
    "duration": 12,
    "start_time": "2022-04-07T05:01:25.469Z"
   },
   {
    "duration": 174,
    "start_time": "2022-04-07T05:01:25.805Z"
   },
   {
    "duration": 35,
    "start_time": "2022-04-07T05:01:26.157Z"
   },
   {
    "duration": 43,
    "start_time": "2022-04-07T05:01:26.533Z"
   },
   {
    "duration": 39,
    "start_time": "2022-04-07T05:01:27.093Z"
   },
   {
    "duration": 3,
    "start_time": "2022-04-07T05:01:27.269Z"
   },
   {
    "duration": 106,
    "start_time": "2022-04-07T05:01:28.005Z"
   },
   {
    "duration": 33,
    "start_time": "2022-04-07T05:01:28.381Z"
   },
   {
    "duration": 35,
    "start_time": "2022-04-07T05:01:28.749Z"
   },
   {
    "duration": 3,
    "start_time": "2022-04-07T05:01:29.125Z"
   },
   {
    "duration": 150,
    "start_time": "2022-04-07T05:01:29.877Z"
   },
   {
    "duration": 32,
    "start_time": "2022-04-07T05:01:30.263Z"
   },
   {
    "duration": 41,
    "start_time": "2022-04-07T05:01:31.024Z"
   },
   {
    "duration": 28,
    "start_time": "2022-04-07T05:01:31.605Z"
   },
   {
    "duration": 10,
    "start_time": "2022-04-07T05:01:32.917Z"
   },
   {
    "duration": 40,
    "start_time": "2022-04-07T05:01:33.118Z"
   },
   {
    "duration": 122,
    "start_time": "2022-04-07T05:01:34.053Z"
   },
   {
    "duration": 39,
    "start_time": "2022-04-07T05:01:34.621Z"
   },
   {
    "duration": 18,
    "start_time": "2022-04-07T05:01:35.198Z"
   },
   {
    "duration": 13,
    "start_time": "2022-04-07T05:01:35.389Z"
   },
   {
    "duration": 16,
    "start_time": "2022-04-07T05:01:35.598Z"
   },
   {
    "duration": 40,
    "start_time": "2022-04-07T05:01:36.358Z"
   },
   {
    "duration": 26,
    "start_time": "2022-04-07T05:01:36.758Z"
   },
   {
    "duration": 30,
    "start_time": "2022-04-07T05:01:37.133Z"
   },
   {
    "duration": 3,
    "start_time": "2022-04-07T05:01:37.528Z"
   },
   {
    "duration": 31,
    "start_time": "2022-04-07T05:01:37.918Z"
   },
   {
    "duration": 3,
    "start_time": "2022-04-07T05:01:38.295Z"
   },
   {
    "duration": 35,
    "start_time": "2022-04-07T05:01:38.502Z"
   },
   {
    "duration": 4,
    "start_time": "2022-04-07T05:01:38.884Z"
   },
   {
    "duration": 32,
    "start_time": "2022-04-07T05:01:39.095Z"
   },
   {
    "duration": 26,
    "start_time": "2022-04-07T05:01:39.869Z"
   },
   {
    "duration": 18,
    "start_time": "2022-04-07T05:01:41.357Z"
   },
   {
    "duration": 16,
    "start_time": "2022-04-07T05:01:41.917Z"
   },
   {
    "duration": 9,
    "start_time": "2022-04-07T05:01:42.117Z"
   },
   {
    "duration": 10,
    "start_time": "2022-04-07T05:01:42.493Z"
   },
   {
    "duration": 16,
    "start_time": "2022-04-07T05:01:43.069Z"
   },
   {
    "duration": 9,
    "start_time": "2022-04-07T05:01:43.254Z"
   },
   {
    "duration": 9,
    "start_time": "2022-04-07T05:01:43.655Z"
   },
   {
    "duration": 16,
    "start_time": "2022-04-07T05:01:44.062Z"
   },
   {
    "duration": 8,
    "start_time": "2022-04-07T05:01:44.253Z"
   },
   {
    "duration": 10,
    "start_time": "2022-04-07T05:01:44.861Z"
   },
   {
    "duration": 591,
    "start_time": "2022-04-07T05:01:45.254Z"
   },
   {
    "duration": 199,
    "start_time": "2022-04-07T05:01:46.733Z"
   },
   {
    "duration": 177,
    "start_time": "2022-04-07T05:01:47.381Z"
   },
   {
    "duration": 5,
    "start_time": "2022-04-07T05:01:47.742Z"
   },
   {
    "duration": 187,
    "start_time": "2022-04-07T05:01:48.396Z"
   },
   {
    "duration": 159,
    "start_time": "2022-04-07T05:01:48.613Z"
   },
   {
    "duration": 6,
    "start_time": "2022-04-07T05:01:49.141Z"
   },
   {
    "duration": 200,
    "start_time": "2022-04-07T05:01:49.767Z"
   },
   {
    "duration": 192,
    "start_time": "2022-04-07T05:01:50.054Z"
   },
   {
    "duration": 6,
    "start_time": "2022-04-07T05:01:50.496Z"
   },
   {
    "duration": 26,
    "start_time": "2022-04-07T05:01:52.278Z"
   },
   {
    "duration": 23,
    "start_time": "2022-04-07T05:01:53.358Z"
   },
   {
    "duration": 14,
    "start_time": "2022-04-07T05:01:54.078Z"
   },
   {
    "duration": 14,
    "start_time": "2022-04-07T05:03:10.057Z"
   },
   {
    "duration": 15,
    "start_time": "2022-04-07T05:04:11.942Z"
   },
   {
    "duration": 15,
    "start_time": "2022-04-07T05:04:25.167Z"
   },
   {
    "duration": 23,
    "start_time": "2022-04-07T05:04:29.166Z"
   },
   {
    "duration": 17,
    "start_time": "2022-04-07T05:04:31.182Z"
   },
   {
    "duration": 10,
    "start_time": "2022-04-07T05:04:40.863Z"
   },
   {
    "duration": 13,
    "start_time": "2022-04-07T05:04:45.791Z"
   },
   {
    "duration": 13,
    "start_time": "2022-04-07T05:04:53.775Z"
   },
   {
    "duration": 2311,
    "start_time": "2022-04-07T05:06:44.103Z"
   },
   {
    "duration": 2338,
    "start_time": "2022-04-07T05:07:05.967Z"
   },
   {
    "duration": 22,
    "start_time": "2022-04-07T05:07:20.399Z"
   },
   {
    "duration": 2271,
    "start_time": "2022-04-07T05:07:23.512Z"
   },
   {
    "duration": 2224,
    "start_time": "2022-04-07T05:07:40.712Z"
   },
   {
    "duration": 2134,
    "start_time": "2022-04-07T05:08:10.264Z"
   },
   {
    "duration": 14,
    "start_time": "2022-04-07T05:08:27.679Z"
   },
   {
    "duration": 10,
    "start_time": "2022-04-07T05:08:44.241Z"
   },
   {
    "duration": 11,
    "start_time": "2022-04-07T05:08:47.592Z"
   },
   {
    "duration": 24,
    "start_time": "2022-04-07T05:08:50.360Z"
   },
   {
    "duration": 9,
    "start_time": "2022-04-07T05:08:52.256Z"
   },
   {
    "duration": 12,
    "start_time": "2022-04-07T05:08:54.959Z"
   },
   {
    "duration": 12,
    "start_time": "2022-04-07T05:14:14.193Z"
   },
   {
    "duration": 2700,
    "start_time": "2022-04-07T05:14:23.303Z"
   },
   {
    "duration": 14,
    "start_time": "2022-04-07T05:16:42.642Z"
   },
   {
    "duration": 11,
    "start_time": "2022-04-07T05:17:14.821Z"
   },
   {
    "duration": 23,
    "start_time": "2022-04-07T05:17:34.241Z"
   },
   {
    "duration": 11,
    "start_time": "2022-04-07T05:17:36.625Z"
   },
   {
    "duration": 23,
    "start_time": "2022-04-07T05:18:12.617Z"
   },
   {
    "duration": 14,
    "start_time": "2022-04-07T05:18:14.826Z"
   },
   {
    "duration": 22,
    "start_time": "2022-04-07T05:19:21.723Z"
   },
   {
    "duration": 10,
    "start_time": "2022-04-07T05:19:22.468Z"
   },
   {
    "duration": 560,
    "start_time": "2022-04-07T05:19:35.035Z"
   },
   {
    "duration": 560,
    "start_time": "2022-04-07T05:19:44.248Z"
   },
   {
    "duration": 10,
    "start_time": "2022-04-07T05:19:53.153Z"
   },
   {
    "duration": 23,
    "start_time": "2022-04-07T05:20:04.337Z"
   },
   {
    "duration": 14,
    "start_time": "2022-04-07T05:26:25.449Z"
   },
   {
    "duration": 21,
    "start_time": "2022-04-07T05:28:24.362Z"
   },
   {
    "duration": 4,
    "start_time": "2022-04-07T05:28:25.042Z"
   },
   {
    "duration": 13,
    "start_time": "2022-04-07T05:28:29.602Z"
   },
   {
    "duration": 4,
    "start_time": "2022-04-07T05:28:54.606Z"
   },
   {
    "duration": 13,
    "start_time": "2022-04-07T05:28:55.371Z"
   },
   {
    "duration": 28,
    "start_time": "2022-04-07T05:29:57.803Z"
   },
   {
    "duration": 6,
    "start_time": "2022-04-07T06:23:04.744Z"
   },
   {
    "duration": 3,
    "start_time": "2022-04-07T06:24:39.498Z"
   },
   {
    "duration": 12,
    "start_time": "2022-04-07T06:24:40.026Z"
   },
   {
    "duration": 6,
    "start_time": "2022-04-07T06:24:44.106Z"
   },
   {
    "duration": 6,
    "start_time": "2022-04-07T06:25:23.081Z"
   },
   {
    "duration": 5,
    "start_time": "2022-04-07T06:25:36.970Z"
   },
   {
    "duration": 7111,
    "start_time": "2022-04-07T06:31:47.308Z"
   },
   {
    "duration": 6257,
    "start_time": "2022-04-07T06:32:05.027Z"
   },
   {
    "duration": 6192,
    "start_time": "2022-04-07T06:32:42.651Z"
   },
   {
    "duration": 9,
    "start_time": "2022-04-07T06:35:23.012Z"
   },
   {
    "duration": 8,
    "start_time": "2022-04-07T06:35:45.061Z"
   },
   {
    "duration": 242,
    "start_time": "2022-04-07T06:36:06.812Z"
   },
   {
    "duration": 193,
    "start_time": "2022-04-07T06:36:11.421Z"
   },
   {
    "duration": 179,
    "start_time": "2022-04-07T06:36:14.908Z"
   },
   {
    "duration": 156,
    "start_time": "2022-04-07T06:36:18.395Z"
   },
   {
    "duration": 156,
    "start_time": "2022-04-07T06:36:23.109Z"
   },
   {
    "duration": 313,
    "start_time": "2022-04-07T06:36:26.845Z"
   },
   {
    "duration": 220,
    "start_time": "2022-04-07T06:36:29.668Z"
   },
   {
    "duration": 201,
    "start_time": "2022-04-07T06:36:33.388Z"
   },
   {
    "duration": 7,
    "start_time": "2022-04-07T06:36:57.596Z"
   },
   {
    "duration": 398,
    "start_time": "2022-04-07T06:37:00.132Z"
   },
   {
    "duration": 230,
    "start_time": "2022-04-07T06:37:04.149Z"
   },
   {
    "duration": 1615,
    "start_time": "2022-04-07T06:37:08.580Z"
   },
   {
    "duration": 197,
    "start_time": "2022-04-07T06:37:13.845Z"
   },
   {
    "duration": 160,
    "start_time": "2022-04-07T06:37:16.444Z"
   },
   {
    "duration": 2122,
    "start_time": "2022-04-07T06:37:24.604Z"
   },
   {
    "duration": 8,
    "start_time": "2022-04-07T06:37:28.653Z"
   },
   {
    "duration": 167,
    "start_time": "2022-04-07T06:37:38.357Z"
   },
   {
    "duration": 490,
    "start_time": "2022-04-07T06:37:41.918Z"
   },
   {
    "duration": 278,
    "start_time": "2022-04-07T06:37:44.838Z"
   },
   {
    "duration": 256,
    "start_time": "2022-04-07T06:37:49.670Z"
   },
   {
    "duration": 249,
    "start_time": "2022-04-07T06:37:52.501Z"
   },
   {
    "duration": 234,
    "start_time": "2022-04-07T06:37:55.709Z"
   },
   {
    "duration": 193,
    "start_time": "2022-04-07T06:38:03.836Z"
   },
   {
    "duration": 248,
    "start_time": "2022-04-07T06:38:07.196Z"
   },
   {
    "duration": 485,
    "start_time": "2022-04-07T06:38:12.477Z"
   },
   {
    "duration": 175,
    "start_time": "2022-04-07T06:38:15.840Z"
   },
   {
    "duration": 513,
    "start_time": "2022-04-07T06:38:21.844Z"
   },
   {
    "duration": 333,
    "start_time": "2022-04-07T06:38:24.428Z"
   },
   {
    "duration": 289,
    "start_time": "2022-04-07T06:38:27.436Z"
   },
   {
    "duration": 254,
    "start_time": "2022-04-07T06:38:29.972Z"
   },
   {
    "duration": 221,
    "start_time": "2022-04-07T06:38:32.014Z"
   },
   {
    "duration": 182,
    "start_time": "2022-04-07T06:38:34.509Z"
   },
   {
    "duration": 158,
    "start_time": "2022-04-07T06:38:43.301Z"
   },
   {
    "duration": 175,
    "start_time": "2022-04-07T06:38:45.924Z"
   },
   {
    "duration": 165,
    "start_time": "2022-04-07T06:38:54.263Z"
   },
   {
    "duration": 5,
    "start_time": "2022-04-07T06:39:28.301Z"
   },
   {
    "duration": 6,
    "start_time": "2022-04-07T06:39:33.899Z"
   },
   {
    "duration": 7,
    "start_time": "2022-04-07T06:39:36.615Z"
   },
   {
    "duration": 4,
    "start_time": "2022-04-07T06:42:02.078Z"
   },
   {
    "duration": 5,
    "start_time": "2022-04-07T06:42:50.222Z"
   },
   {
    "duration": 4,
    "start_time": "2022-04-07T06:43:10.829Z"
   },
   {
    "duration": 3,
    "start_time": "2022-04-07T06:43:23.278Z"
   },
   {
    "duration": 11,
    "start_time": "2022-04-07T07:00:38.711Z"
   },
   {
    "duration": 203,
    "start_time": "2022-04-07T07:00:57.054Z"
   },
   {
    "duration": 245,
    "start_time": "2022-04-07T07:01:08.686Z"
   },
   {
    "duration": 204,
    "start_time": "2022-04-07T07:01:20.694Z"
   },
   {
    "duration": 399,
    "start_time": "2022-04-07T07:20:19.950Z"
   },
   {
    "duration": 119,
    "start_time": "2022-04-07T07:32:52.518Z"
   },
   {
    "duration": 5,
    "start_time": "2022-04-07T07:46:43.933Z"
   },
   {
    "duration": 13,
    "start_time": "2022-04-07T07:47:27.148Z"
   },
   {
    "duration": 5,
    "start_time": "2022-04-07T07:47:30.326Z"
   },
   {
    "duration": 5,
    "start_time": "2022-04-07T07:47:41.764Z"
   },
   {
    "duration": 6,
    "start_time": "2022-04-07T07:48:01.540Z"
   },
   {
    "duration": 5,
    "start_time": "2022-04-07T07:48:06.020Z"
   },
   {
    "duration": 5,
    "start_time": "2022-04-07T07:48:31.797Z"
   },
   {
    "duration": 5,
    "start_time": "2022-04-07T07:48:36.932Z"
   },
   {
    "duration": 5,
    "start_time": "2022-04-07T07:48:39.318Z"
   },
   {
    "duration": 59,
    "start_time": "2022-04-07T07:50:48.064Z"
   },
   {
    "duration": 29,
    "start_time": "2022-04-07T07:52:15.552Z"
   },
   {
    "duration": 334,
    "start_time": "2022-04-07T07:52:26.141Z"
   },
   {
    "duration": 29,
    "start_time": "2022-04-07T07:52:31.197Z"
   },
   {
    "duration": 9,
    "start_time": "2022-04-07T07:52:47.159Z"
   },
   {
    "duration": 10,
    "start_time": "2022-04-07T07:53:02.148Z"
   },
   {
    "duration": 9,
    "start_time": "2022-04-07T07:53:26.095Z"
   },
   {
    "duration": 16,
    "start_time": "2022-04-07T07:53:42.436Z"
   },
   {
    "duration": 12,
    "start_time": "2022-04-07T08:02:16.196Z"
   },
   {
    "duration": 11,
    "start_time": "2022-04-07T08:02:44.301Z"
   },
   {
    "duration": 11,
    "start_time": "2022-04-07T08:02:52.070Z"
   },
   {
    "duration": 11,
    "start_time": "2022-04-07T08:02:56.755Z"
   },
   {
    "duration": 11,
    "start_time": "2022-04-07T08:03:03.958Z"
   },
   {
    "duration": 10,
    "start_time": "2022-04-07T08:03:28.261Z"
   },
   {
    "duration": 11,
    "start_time": "2022-04-07T08:03:31.845Z"
   },
   {
    "duration": 11,
    "start_time": "2022-04-07T08:35:22.134Z"
   },
   {
    "duration": 11,
    "start_time": "2022-04-07T08:39:52.799Z"
   },
   {
    "duration": 11,
    "start_time": "2022-04-07T08:39:56.334Z"
   },
   {
    "duration": 11,
    "start_time": "2022-04-07T08:39:59.503Z"
   },
   {
    "duration": 12,
    "start_time": "2022-04-07T08:40:02.536Z"
   },
   {
    "duration": 9,
    "start_time": "2022-04-07T08:45:55.384Z"
   },
   {
    "duration": 12,
    "start_time": "2022-04-07T08:47:02.071Z"
   },
   {
    "duration": 133,
    "start_time": "2022-04-07T08:49:27.288Z"
   },
   {
    "duration": 16,
    "start_time": "2022-04-07T08:49:35.021Z"
   },
   {
    "duration": 14,
    "start_time": "2022-04-07T08:49:55.238Z"
   },
   {
    "duration": 16,
    "start_time": "2022-04-07T08:50:02.116Z"
   },
   {
    "duration": 16,
    "start_time": "2022-04-07T08:51:37.636Z"
   },
   {
    "duration": 15,
    "start_time": "2022-04-07T08:52:43.790Z"
   },
   {
    "duration": 3,
    "start_time": "2022-04-07T08:53:01.252Z"
   },
   {
    "duration": 43,
    "start_time": "2022-04-07T08:53:01.683Z"
   },
   {
    "duration": 13,
    "start_time": "2022-04-07T08:53:01.869Z"
   },
   {
    "duration": 6,
    "start_time": "2022-04-07T08:53:02.579Z"
   },
   {
    "duration": 12,
    "start_time": "2022-04-07T08:53:02.626Z"
   },
   {
    "duration": 12,
    "start_time": "2022-04-07T08:53:02.709Z"
   },
   {
    "duration": 186,
    "start_time": "2022-04-07T08:53:02.800Z"
   },
   {
    "duration": 44,
    "start_time": "2022-04-07T08:53:02.988Z"
   },
   {
    "duration": 46,
    "start_time": "2022-04-07T08:53:03.033Z"
   },
   {
    "duration": 36,
    "start_time": "2022-04-07T08:53:03.125Z"
   },
   {
    "duration": 2,
    "start_time": "2022-04-07T08:53:03.188Z"
   },
   {
    "duration": 103,
    "start_time": "2022-04-07T08:53:03.343Z"
   },
   {
    "duration": 34,
    "start_time": "2022-04-07T08:53:03.448Z"
   },
   {
    "duration": 34,
    "start_time": "2022-04-07T08:53:03.534Z"
   },
   {
    "duration": 2,
    "start_time": "2022-04-07T08:53:03.612Z"
   },
   {
    "duration": 154,
    "start_time": "2022-04-07T08:53:04.293Z"
   },
   {
    "duration": 34,
    "start_time": "2022-04-07T08:53:04.787Z"
   },
   {
    "duration": 42,
    "start_time": "2022-04-07T08:53:05.515Z"
   },
   {
    "duration": 38,
    "start_time": "2022-04-07T08:53:06.087Z"
   },
   {
    "duration": 10,
    "start_time": "2022-04-07T08:53:07.419Z"
   },
   {
    "duration": 40,
    "start_time": "2022-04-07T08:53:07.636Z"
   },
   {
    "duration": 37,
    "start_time": "2022-04-07T08:53:08.636Z"
   },
   {
    "duration": 41,
    "start_time": "2022-04-07T08:53:09.406Z"
   },
   {
    "duration": 17,
    "start_time": "2022-04-07T08:53:09.544Z"
   },
   {
    "duration": 13,
    "start_time": "2022-04-07T08:53:09.595Z"
   },
   {
    "duration": 16,
    "start_time": "2022-04-07T08:53:09.649Z"
   },
   {
    "duration": 39,
    "start_time": "2022-04-07T08:53:09.793Z"
   },
   {
    "duration": 27,
    "start_time": "2022-04-07T08:53:09.898Z"
   },
   {
    "duration": 32,
    "start_time": "2022-04-07T08:53:09.996Z"
   },
   {
    "duration": 4,
    "start_time": "2022-04-07T08:53:10.091Z"
   },
   {
    "duration": 31,
    "start_time": "2022-04-07T08:53:10.174Z"
   },
   {
    "duration": 4,
    "start_time": "2022-04-07T08:53:10.281Z"
   },
   {
    "duration": 36,
    "start_time": "2022-04-07T08:53:10.336Z"
   },
   {
    "duration": 4,
    "start_time": "2022-04-07T08:53:10.433Z"
   },
   {
    "duration": 32,
    "start_time": "2022-04-07T08:53:11.208Z"
   },
   {
    "duration": 26,
    "start_time": "2022-04-07T08:53:11.840Z"
   },
   {
    "duration": 18,
    "start_time": "2022-04-07T08:53:12.063Z"
   },
   {
    "duration": 15,
    "start_time": "2022-04-07T08:53:12.202Z"
   },
   {
    "duration": 8,
    "start_time": "2022-04-07T08:53:12.248Z"
   },
   {
    "duration": 9,
    "start_time": "2022-04-07T08:53:12.347Z"
   },
   {
    "duration": 16,
    "start_time": "2022-04-07T08:53:12.458Z"
   },
   {
    "duration": 9,
    "start_time": "2022-04-07T08:53:12.505Z"
   },
   {
    "duration": 10,
    "start_time": "2022-04-07T08:53:13.366Z"
   },
   {
    "duration": 15,
    "start_time": "2022-04-07T08:53:14.197Z"
   },
   {
    "duration": 8,
    "start_time": "2022-04-07T08:53:14.708Z"
   },
   {
    "duration": 11,
    "start_time": "2022-04-07T08:53:14.807Z"
   },
   {
    "duration": 596,
    "start_time": "2022-04-07T08:53:14.891Z"
   },
   {
    "duration": 208,
    "start_time": "2022-04-07T08:53:15.490Z"
   },
   {
    "duration": 181,
    "start_time": "2022-04-07T08:53:15.699Z"
   },
   {
    "duration": 6,
    "start_time": "2022-04-07T08:53:16.461Z"
   },
   {
    "duration": 192,
    "start_time": "2022-04-07T08:53:17.531Z"
   },
   {
    "duration": 168,
    "start_time": "2022-04-07T08:53:17.789Z"
   },
   {
    "duration": 6,
    "start_time": "2022-04-07T08:53:18.460Z"
   },
   {
    "duration": 198,
    "start_time": "2022-04-07T08:53:19.294Z"
   },
   {
    "duration": 202,
    "start_time": "2022-04-07T08:53:19.725Z"
   },
   {
    "duration": 6,
    "start_time": "2022-04-07T08:53:20.788Z"
   },
   {
    "duration": 31,
    "start_time": "2022-04-07T08:53:25.036Z"
   },
   {
    "duration": 23,
    "start_time": "2022-04-07T08:53:25.652Z"
   },
   {
    "duration": 5,
    "start_time": "2022-04-07T08:53:26.884Z"
   },
   {
    "duration": 16,
    "start_time": "2022-04-07T08:53:30.092Z"
   },
   {
    "duration": 14,
    "start_time": "2022-04-07T08:53:50.311Z"
   },
   {
    "duration": 17,
    "start_time": "2022-04-07T08:55:07.181Z"
   },
   {
    "duration": 17,
    "start_time": "2022-04-07T08:56:05.192Z"
   },
   {
    "duration": 13,
    "start_time": "2022-04-07T08:57:22.172Z"
   },
   {
    "duration": 6,
    "start_time": "2022-04-07T09:06:13.990Z"
   },
   {
    "duration": 11,
    "start_time": "2022-04-07T09:06:57.444Z"
   },
   {
    "duration": 201,
    "start_time": "2022-04-07T09:06:58.005Z"
   },
   {
    "duration": 8,
    "start_time": "2022-04-07T09:08:33.629Z"
   },
   {
    "duration": 10,
    "start_time": "2022-04-07T09:08:50.365Z"
   },
   {
    "duration": 10,
    "start_time": "2022-04-07T09:08:58.532Z"
   },
   {
    "duration": 15,
    "start_time": "2022-04-07T09:09:15.632Z"
   },
   {
    "duration": 194,
    "start_time": "2022-04-07T09:09:22.645Z"
   },
   {
    "duration": 198,
    "start_time": "2022-04-07T09:09:43.998Z"
   },
   {
    "duration": 237,
    "start_time": "2022-04-07T09:10:54.796Z"
   },
   {
    "duration": 268,
    "start_time": "2022-04-07T09:12:32.184Z"
   },
   {
    "duration": 269,
    "start_time": "2022-04-07T09:12:43.256Z"
   },
   {
    "duration": 135,
    "start_time": "2022-04-07T09:12:50.617Z"
   },
   {
    "duration": 254,
    "start_time": "2022-04-07T09:12:53.964Z"
   },
   {
    "duration": 259,
    "start_time": "2022-04-07T09:13:23.632Z"
   },
   {
    "duration": 251,
    "start_time": "2022-04-07T09:13:30.791Z"
   },
   {
    "duration": 229,
    "start_time": "2022-04-07T09:13:33.893Z"
   },
   {
    "duration": 10,
    "start_time": "2022-04-07T09:15:06.588Z"
   },
   {
    "duration": 25,
    "start_time": "2022-04-07T09:23:39.732Z"
   },
   {
    "duration": 37,
    "start_time": "2022-04-07T09:25:17.656Z"
   },
   {
    "duration": 18,
    "start_time": "2022-04-07T09:28:59.815Z"
   },
   {
    "duration": 81,
    "start_time": "2022-04-07T09:29:21.455Z"
   },
   {
    "duration": 148,
    "start_time": "2022-04-07T09:30:06.260Z"
   },
   {
    "duration": 21,
    "start_time": "2022-04-07T09:30:23.550Z"
   },
   {
    "duration": 21,
    "start_time": "2022-04-07T09:30:52.966Z"
   },
   {
    "duration": 21,
    "start_time": "2022-04-07T09:31:07.781Z"
   },
   {
    "duration": 27,
    "start_time": "2022-04-07T09:32:58.881Z"
   },
   {
    "duration": 10,
    "start_time": "2022-04-07T09:33:59.727Z"
   },
   {
    "duration": 16,
    "start_time": "2022-04-07T09:34:02.632Z"
   },
   {
    "duration": 235,
    "start_time": "2022-04-07T09:34:04.128Z"
   },
   {
    "duration": 10,
    "start_time": "2022-04-07T09:34:07.748Z"
   },
   {
    "duration": 27,
    "start_time": "2022-04-07T09:34:12.429Z"
   },
   {
    "duration": 12,
    "start_time": "2022-04-07T09:35:16.845Z"
   },
   {
    "duration": 11,
    "start_time": "2022-04-07T09:35:43.710Z"
   },
   {
    "duration": 16,
    "start_time": "2022-04-07T09:37:05.639Z"
   },
   {
    "duration": 231,
    "start_time": "2022-04-07T09:38:08.782Z"
   },
   {
    "duration": 218,
    "start_time": "2022-04-07T09:38:18.669Z"
   },
   {
    "duration": 333,
    "start_time": "2022-04-07T09:38:24.401Z"
   },
   {
    "duration": 263,
    "start_time": "2022-04-07T09:38:30.454Z"
   },
   {
    "duration": 37,
    "start_time": "2022-04-07T09:39:33.244Z"
   },
   {
    "duration": 38,
    "start_time": "2022-04-07T09:40:31.015Z"
   },
   {
    "duration": 29,
    "start_time": "2022-04-07T09:42:00.890Z"
   },
   {
    "duration": 13,
    "start_time": "2022-04-07T09:42:03.510Z"
   },
   {
    "duration": 11,
    "start_time": "2022-04-07T09:42:15.477Z"
   },
   {
    "duration": 17,
    "start_time": "2022-04-07T09:42:23.542Z"
   },
   {
    "duration": 10,
    "start_time": "2022-04-07T09:45:27.607Z"
   },
   {
    "duration": 16,
    "start_time": "2022-04-07T09:45:28.996Z"
   },
   {
    "duration": 265,
    "start_time": "2022-04-07T09:45:33.566Z"
   },
   {
    "duration": 142,
    "start_time": "2022-04-07T09:48:03.913Z"
   },
   {
    "duration": 11,
    "start_time": "2022-04-07T09:48:14.958Z"
   },
   {
    "duration": 11,
    "start_time": "2022-04-07T09:48:50.726Z"
   },
   {
    "duration": 272,
    "start_time": "2022-04-07T09:49:05.320Z"
   },
   {
    "duration": 11,
    "start_time": "2022-04-07T09:49:14.008Z"
   },
   {
    "duration": 10,
    "start_time": "2022-04-07T09:49:19.245Z"
   },
   {
    "duration": 16,
    "start_time": "2022-04-07T09:51:02.839Z"
   },
   {
    "duration": 263,
    "start_time": "2022-04-07T09:51:04.024Z"
   },
   {
    "duration": 10,
    "start_time": "2022-04-07T09:51:08.351Z"
   },
   {
    "duration": 23,
    "start_time": "2022-04-07T09:51:27.665Z"
   },
   {
    "duration": 10,
    "start_time": "2022-04-07T09:53:07.489Z"
   },
   {
    "duration": 11,
    "start_time": "2022-04-07T09:53:21.543Z"
   },
   {
    "duration": 11,
    "start_time": "2022-04-07T09:54:20.345Z"
   },
   {
    "duration": 29,
    "start_time": "2022-04-07T09:55:51.854Z"
   },
   {
    "duration": 13,
    "start_time": "2022-04-07T09:56:02.510Z"
   },
   {
    "duration": 17,
    "start_time": "2022-04-07T09:56:04.840Z"
   },
   {
    "duration": 263,
    "start_time": "2022-04-07T09:56:08.591Z"
   },
   {
    "duration": 26,
    "start_time": "2022-04-07T09:56:30.571Z"
   },
   {
    "duration": 11,
    "start_time": "2022-04-07T09:56:39.030Z"
   },
   {
    "duration": 10,
    "start_time": "2022-04-07T09:56:50.431Z"
   },
   {
    "duration": 6,
    "start_time": "2022-04-07T09:57:49.861Z"
   },
   {
    "duration": 11,
    "start_time": "2022-04-07T10:00:17.935Z"
   },
   {
    "duration": 12,
    "start_time": "2022-04-07T10:00:32.239Z"
   },
   {
    "duration": 10,
    "start_time": "2022-04-07T10:00:54.064Z"
   },
   {
    "duration": 36,
    "start_time": "2022-04-07T10:02:07.863Z"
   },
   {
    "duration": 16,
    "start_time": "2022-04-07T10:02:25.521Z"
   },
   {
    "duration": 18,
    "start_time": "2022-04-07T10:02:33.073Z"
   },
   {
    "duration": 2369,
    "start_time": "2022-04-07T10:02:42.690Z"
   },
   {
    "duration": 716,
    "start_time": "2022-04-07T10:02:47.135Z"
   },
   {
    "duration": 378,
    "start_time": "2022-04-07T10:03:00.465Z"
   },
   {
    "duration": 294,
    "start_time": "2022-04-07T10:03:08.543Z"
   },
   {
    "duration": 249,
    "start_time": "2022-04-07T10:03:12.282Z"
   },
   {
    "duration": 209,
    "start_time": "2022-04-07T10:03:16.183Z"
   },
   {
    "duration": 241,
    "start_time": "2022-04-07T10:03:27.311Z"
   },
   {
    "duration": 12,
    "start_time": "2022-04-07T10:03:41.247Z"
   },
   {
    "duration": 9,
    "start_time": "2022-04-07T10:03:57.871Z"
   },
   {
    "duration": 15,
    "start_time": "2022-04-07T10:04:07.095Z"
   },
   {
    "duration": 9,
    "start_time": "2022-04-07T10:04:41.825Z"
   },
   {
    "duration": 12,
    "start_time": "2022-04-07T10:04:46.806Z"
   },
   {
    "duration": 5,
    "start_time": "2022-04-07T10:04:48.185Z"
   },
   {
    "duration": 12,
    "start_time": "2022-04-07T10:05:06.625Z"
   },
   {
    "duration": 5,
    "start_time": "2022-04-07T10:05:29.887Z"
   },
   {
    "duration": 5,
    "start_time": "2022-04-07T10:05:32.112Z"
   },
   {
    "duration": 10,
    "start_time": "2022-04-07T10:05:37.041Z"
   },
   {
    "duration": 14,
    "start_time": "2022-04-07T10:07:24.114Z"
   },
   {
    "duration": 39,
    "start_time": "2022-04-07T10:07:36.000Z"
   },
   {
    "duration": 14,
    "start_time": "2022-04-07T10:07:58.192Z"
   },
   {
    "duration": 18,
    "start_time": "2022-04-07T10:08:03.006Z"
   },
   {
    "duration": 256,
    "start_time": "2022-04-07T10:08:25.792Z"
   },
   {
    "duration": 242,
    "start_time": "2022-04-07T10:09:06.696Z"
   },
   {
    "duration": 193,
    "start_time": "2022-04-07T10:09:11.575Z"
   },
   {
    "duration": 196,
    "start_time": "2022-04-07T10:09:18.169Z"
   },
   {
    "duration": 204,
    "start_time": "2022-04-07T10:09:21.127Z"
   },
   {
    "duration": 204,
    "start_time": "2022-04-07T10:09:28.098Z"
   },
   {
    "duration": 244,
    "start_time": "2022-04-07T10:09:31.171Z"
   },
   {
    "duration": 216,
    "start_time": "2022-04-07T10:09:44.472Z"
   },
   {
    "duration": 245,
    "start_time": "2022-04-07T10:09:47.344Z"
   },
   {
    "duration": 235,
    "start_time": "2022-04-07T10:09:57.504Z"
   },
   {
    "duration": 241,
    "start_time": "2022-04-07T10:10:01.207Z"
   },
   {
    "duration": 205,
    "start_time": "2022-04-07T10:10:04.616Z"
   },
   {
    "duration": 40,
    "start_time": "2022-04-07T10:12:20.479Z"
   },
   {
    "duration": 65,
    "start_time": "2022-04-07T10:12:51.082Z"
   },
   {
    "duration": 205,
    "start_time": "2022-04-07T10:13:51.613Z"
   },
   {
    "duration": 12,
    "start_time": "2022-04-07T10:14:19.627Z"
   },
   {
    "duration": 3,
    "start_time": "2022-04-07T10:38:57.137Z"
   },
   {
    "duration": 47,
    "start_time": "2022-04-07T10:38:59.012Z"
   },
   {
    "duration": 14,
    "start_time": "2022-04-07T10:40:36.066Z"
   },
   {
    "duration": 6,
    "start_time": "2022-04-07T10:40:39.915Z"
   },
   {
    "duration": 12,
    "start_time": "2022-04-07T10:40:40.473Z"
   },
   {
    "duration": 12,
    "start_time": "2022-04-07T10:40:43.097Z"
   },
   {
    "duration": 179,
    "start_time": "2022-04-07T10:40:44.033Z"
   },
   {
    "duration": 34,
    "start_time": "2022-04-07T10:40:44.643Z"
   },
   {
    "duration": 40,
    "start_time": "2022-04-07T10:40:45.193Z"
   },
   {
    "duration": 37,
    "start_time": "2022-04-07T10:40:46.265Z"
   },
   {
    "duration": 3,
    "start_time": "2022-04-07T10:40:46.737Z"
   },
   {
    "duration": 114,
    "start_time": "2022-04-07T10:40:50.067Z"
   },
   {
    "duration": 36,
    "start_time": "2022-04-07T10:40:51.440Z"
   },
   {
    "duration": 36,
    "start_time": "2022-04-07T10:40:52.107Z"
   },
   {
    "duration": 3,
    "start_time": "2022-04-07T10:40:53.024Z"
   },
   {
    "duration": 160,
    "start_time": "2022-04-07T10:41:09.552Z"
   },
   {
    "duration": 33,
    "start_time": "2022-04-07T10:41:16.713Z"
   },
   {
    "duration": 40,
    "start_time": "2022-04-07T10:41:22.264Z"
   },
   {
    "duration": 29,
    "start_time": "2022-04-07T10:41:24.827Z"
   },
   {
    "duration": 10,
    "start_time": "2022-04-07T10:41:45.249Z"
   },
   {
    "duration": 42,
    "start_time": "2022-04-07T10:41:51.889Z"
   },
   {
    "duration": 37,
    "start_time": "2022-04-07T10:41:56.680Z"
   },
   {
    "duration": 36,
    "start_time": "2022-04-07T10:41:59.084Z"
   },
   {
    "duration": 17,
    "start_time": "2022-04-07T10:42:02.289Z"
   },
   {
    "duration": 14,
    "start_time": "2022-04-07T10:42:03.297Z"
   },
   {
    "duration": 16,
    "start_time": "2022-04-07T10:42:04.298Z"
   },
   {
    "duration": 43,
    "start_time": "2022-04-07T10:42:27.642Z"
   },
   {
    "duration": 27,
    "start_time": "2022-04-07T10:42:30.353Z"
   },
   {
    "duration": 30,
    "start_time": "2022-04-07T10:42:33.073Z"
   },
   {
    "duration": 3,
    "start_time": "2022-04-07T10:42:33.763Z"
   },
   {
    "duration": 33,
    "start_time": "2022-04-07T10:42:34.496Z"
   },
   {
    "duration": 4,
    "start_time": "2022-04-07T10:42:57.952Z"
   },
   {
    "duration": 38,
    "start_time": "2022-04-07T10:42:58.498Z"
   },
   {
    "duration": 4,
    "start_time": "2022-04-07T10:42:59.616Z"
   },
   {
    "duration": 34,
    "start_time": "2022-04-07T10:43:00.234Z"
   },
   {
    "duration": 27,
    "start_time": "2022-04-07T10:43:08.514Z"
   },
   {
    "duration": 19,
    "start_time": "2022-04-07T10:44:12.210Z"
   },
   {
    "duration": 17,
    "start_time": "2022-04-07T10:44:26.923Z"
   },
   {
    "duration": 15,
    "start_time": "2022-04-07T10:44:47.812Z"
   },
   {
    "duration": 9,
    "start_time": "2022-04-07T10:44:48.385Z"
   },
   {
    "duration": 9,
    "start_time": "2022-04-07T10:45:06.465Z"
   },
   {
    "duration": 17,
    "start_time": "2022-04-07T10:45:14.560Z"
   },
   {
    "duration": 10,
    "start_time": "2022-04-07T10:45:14.994Z"
   },
   {
    "duration": 9,
    "start_time": "2022-04-07T10:45:15.841Z"
   },
   {
    "duration": 15,
    "start_time": "2022-04-07T10:45:16.659Z"
   },
   {
    "duration": 13,
    "start_time": "2022-04-07T10:45:17.100Z"
   },
   {
    "duration": 13,
    "start_time": "2022-04-07T10:45:18.482Z"
   },
   {
    "duration": 586,
    "start_time": "2022-04-07T10:45:22.417Z"
   },
   {
    "duration": 197,
    "start_time": "2022-04-07T10:45:30.122Z"
   },
   {
    "duration": 176,
    "start_time": "2022-04-07T10:45:31.962Z"
   },
   {
    "duration": 7,
    "start_time": "2022-04-07T10:45:33.354Z"
   },
   {
    "duration": 181,
    "start_time": "2022-04-07T10:45:36.825Z"
   },
   {
    "duration": 156,
    "start_time": "2022-04-07T10:45:37.242Z"
   },
   {
    "duration": 7,
    "start_time": "2022-04-07T10:45:39.825Z"
   },
   {
    "duration": 212,
    "start_time": "2022-04-07T10:45:41.443Z"
   },
   {
    "duration": 209,
    "start_time": "2022-04-07T10:45:41.897Z"
   },
   {
    "duration": 7,
    "start_time": "2022-04-07T10:45:43.248Z"
   },
   {
    "duration": 31,
    "start_time": "2022-04-07T10:46:03.028Z"
   },
   {
    "duration": 18,
    "start_time": "2022-04-07T10:46:10.583Z"
   },
   {
    "duration": 11,
    "start_time": "2022-04-07T10:48:24.845Z"
   },
   {
    "duration": 2289,
    "start_time": "2022-04-07T10:48:50.032Z"
   },
   {
    "duration": 16,
    "start_time": "2022-04-07T10:49:01.066Z"
   },
   {
    "duration": 245,
    "start_time": "2022-04-07T10:49:36.123Z"
   },
   {
    "duration": 232,
    "start_time": "2022-04-07T10:49:43.885Z"
   },
   {
    "duration": 233,
    "start_time": "2022-04-07T10:49:47.938Z"
   },
   {
    "duration": 217,
    "start_time": "2022-04-07T10:49:52.218Z"
   },
   {
    "duration": 198,
    "start_time": "2022-04-07T10:49:57.290Z"
   },
   {
    "duration": 200,
    "start_time": "2022-04-07T10:50:03.203Z"
   },
   {
    "duration": 204,
    "start_time": "2022-04-07T10:50:06.188Z"
   },
   {
    "duration": 254,
    "start_time": "2022-04-07T10:50:09.393Z"
   },
   {
    "duration": 232,
    "start_time": "2022-04-07T10:50:26.443Z"
   },
   {
    "duration": 258,
    "start_time": "2022-04-07T10:50:36.764Z"
   },
   {
    "duration": 248,
    "start_time": "2022-04-07T10:50:40.221Z"
   },
   {
    "duration": 225,
    "start_time": "2022-04-07T10:50:43.515Z"
   },
   {
    "duration": 388,
    "start_time": "2022-04-07T10:50:50.638Z"
   },
   {
    "duration": 728,
    "start_time": "2022-04-07T10:50:55.540Z"
   },
   {
    "duration": 278,
    "start_time": "2022-04-07T10:50:58.043Z"
   },
   {
    "duration": 235,
    "start_time": "2022-04-07T10:51:02.042Z"
   },
   {
    "duration": 12,
    "start_time": "2022-04-07T10:52:13.645Z"
   },
   {
    "duration": 10,
    "start_time": "2022-04-07T10:52:57.337Z"
   },
   {
    "duration": 15,
    "start_time": "2022-04-07T10:52:59.963Z"
   },
   {
    "duration": 225,
    "start_time": "2022-04-07T10:53:00.475Z"
   },
   {
    "duration": 12,
    "start_time": "2022-04-07T10:53:03.065Z"
   },
   {
    "duration": 40,
    "start_time": "2022-04-07T10:53:43.947Z"
   },
   {
    "duration": 14,
    "start_time": "2022-04-07T10:54:03.028Z"
   },
   {
    "duration": 19,
    "start_time": "2022-04-07T10:54:09.045Z"
   },
   {
    "duration": 214,
    "start_time": "2022-04-07T10:54:19.691Z"
   },
   {
    "duration": 46,
    "start_time": "2022-04-07T10:54:41.229Z"
   },
   {
    "duration": 14,
    "start_time": "2022-04-07T10:54:51.219Z"
   },
   {
    "duration": 2197,
    "start_time": "2022-04-07T10:54:57.162Z"
   },
   {
    "duration": 12,
    "start_time": "2022-04-07T10:55:33.595Z"
   },
   {
    "duration": 1357,
    "start_time": "2022-04-11T06:13:09.218Z"
   }
  ],
  "kernelspec": {
   "display_name": "Python 3 (ipykernel)",
   "language": "python",
   "name": "python3"
  },
  "language_info": {
   "codemirror_mode": {
    "name": "ipython",
    "version": 3
   },
   "file_extension": ".py",
   "mimetype": "text/x-python",
   "name": "python",
   "nbconvert_exporter": "python",
   "pygments_lexer": "ipython3",
   "version": "3.9.5"
  },
  "toc": {
   "base_numbering": 1,
   "nav_menu": {},
   "number_sections": true,
   "sideBar": true,
   "skip_h1_title": true,
   "title_cell": "Table of Contents",
   "title_sidebar": "Contents",
   "toc_cell": false,
   "toc_position": {
    "height": "calc(100% - 180px)",
    "left": "10px",
    "top": "150px",
    "width": "269.188px"
   },
   "toc_section_display": true,
   "toc_window_display": true
  }
 },
 "nbformat": 4,
 "nbformat_minor": 2
}
